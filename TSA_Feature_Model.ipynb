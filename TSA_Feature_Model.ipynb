{
 "cells": [
  {
   "cell_type": "markdown",
   "metadata": {},
   "source": [
    "## Package Imports"
   ]
  },
  {
   "cell_type": "code",
   "execution_count": 1,
   "metadata": {
    "ExecuteTime": {
     "end_time": "2018-02-21T16:00:05.270768Z",
     "start_time": "2018-02-21T16:00:04.504375Z"
    }
   },
   "outputs": [],
   "source": [
    "import numpy as np\n",
    "import pandas as pd\n",
    "import matplotlib.pyplot as plt\n",
    "import seaborn as sns\n",
    "import pickle\n",
    "from datetime import datetime\n",
    "from collections import defaultdict\n",
    "\n",
    "from sklearn.ensemble import RandomForestClassifier\n",
    "from sklearn.linear_model import LogisticRegression\n",
    "from sklearn.naive_bayes import MultinomialNB, GaussianNB\n",
    "from sklearn.svm import SVC\n",
    "from sklearn.model_selection import KFold, train_test_split\n",
    "import sklearn.metrics as skm\n",
    "import xgboost as xgb"
   ]
  },
  {
   "cell_type": "markdown",
   "metadata": {},
   "source": [
    "## Load Clean Data"
   ]
  },
  {
   "cell_type": "code",
   "execution_count": 2,
   "metadata": {
    "ExecuteTime": {
     "end_time": "2018-02-21T16:00:05.722445Z",
     "start_time": "2018-02-21T16:00:05.278320Z"
    }
   },
   "outputs": [
    {
     "name": "stdout",
     "output_type": "stream",
     "text": [
      "145012\n"
     ]
    },
    {
     "name": "stderr",
     "output_type": "stream",
     "text": [
      "/home/perry/anaconda3/lib/python3.6/site-packages/IPython/core/interactiveshell.py:2728: DtypeWarning: Columns (0) have mixed types. Specify dtype option on import or set low_memory=False.\n",
      "  interactivity=interactivity, compiler=compiler, result=result)\n"
     ]
    },
    {
     "data": {
      "text/html": [
       "<div>\n",
       "<style scoped>\n",
       "    .dataframe tbody tr th:only-of-type {\n",
       "        vertical-align: middle;\n",
       "    }\n",
       "\n",
       "    .dataframe tbody tr th {\n",
       "        vertical-align: top;\n",
       "    }\n",
       "\n",
       "    .dataframe thead th {\n",
       "        text-align: right;\n",
       "    }\n",
       "</style>\n",
       "<table border=\"1\" class=\"dataframe\">\n",
       "  <thead>\n",
       "    <tr style=\"text-align: right;\">\n",
       "      <th></th>\n",
       "      <th>Claim_Number</th>\n",
       "      <th>Airline_Name</th>\n",
       "      <th>Claim_Type</th>\n",
       "      <th>Claim_Site</th>\n",
       "      <th>Item</th>\n",
       "      <th>Status</th>\n",
       "      <th>Date_Received</th>\n",
       "      <th>Incident_Date</th>\n",
       "      <th>Airport_Code_Group</th>\n",
       "      <th>Airport_Name_Group</th>\n",
       "      <th>Claim_Value</th>\n",
       "      <th>Close_Value</th>\n",
       "    </tr>\n",
       "  </thead>\n",
       "  <tbody>\n",
       "    <tr>\n",
       "      <th>0</th>\n",
       "      <td>0909802M</td>\n",
       "      <td>ContinentalAirlines</td>\n",
       "      <td>Property Damage</td>\n",
       "      <td>Checkpoint</td>\n",
       "      <td>Other</td>\n",
       "      <td>Approved</td>\n",
       "      <td>2002-01-04</td>\n",
       "      <td>2002-12-12</td>\n",
       "      <td>EWR</td>\n",
       "      <td>Newark International Airport</td>\n",
       "      <td>350.0</td>\n",
       "      <td>350.0</td>\n",
       "    </tr>\n",
       "    <tr>\n",
       "      <th>1</th>\n",
       "      <td>0202417M</td>\n",
       "      <td>-</td>\n",
       "      <td>Property Damage</td>\n",
       "      <td>Checked Baggage</td>\n",
       "      <td>Luggage (all types including footlockers)</td>\n",
       "      <td>Settled</td>\n",
       "      <td>2002-02-02</td>\n",
       "      <td>2004-01-16</td>\n",
       "      <td>SEA</td>\n",
       "      <td>Seattle-Tacoma International</td>\n",
       "      <td>100.0</td>\n",
       "      <td>50.0</td>\n",
       "    </tr>\n",
       "  </tbody>\n",
       "</table>\n",
       "</div>"
      ],
      "text/plain": [
       "  Claim_Number         Airline_Name       Claim_Type       Claim_Site  \\\n",
       "0     0909802M  ContinentalAirlines  Property Damage       Checkpoint   \n",
       "1     0202417M                    -  Property Damage  Checked Baggage   \n",
       "\n",
       "                                        Item    Status Date_Received  \\\n",
       "0                                      Other  Approved    2002-01-04   \n",
       "1  Luggage (all types including footlockers)   Settled    2002-02-02   \n",
       "\n",
       "  Incident_Date Airport_Code_Group            Airport_Name_Group  Claim_Value  \\\n",
       "0    2002-12-12                EWR  Newark International Airport        350.0   \n",
       "1    2004-01-16                SEA  Seattle-Tacoma International        100.0   \n",
       "\n",
       "   Close_Value  \n",
       "0        350.0  \n",
       "1         50.0  "
      ]
     },
     "execution_count": 2,
     "metadata": {},
     "output_type": "execute_result"
    }
   ],
   "source": [
    "df = pd.read_csv(\"tsa_claims_clean.csv\")\n",
    "\n",
    "print(len(df))\n",
    "df.head(2)"
   ]
  },
  {
   "cell_type": "markdown",
   "metadata": {
    "ExecuteTime": {
     "end_time": "2018-02-16T04:18:09.767772Z",
     "start_time": "2018-02-16T04:18:09.747707Z"
    }
   },
   "source": [
    "## Feature Engineering"
   ]
  },
  {
   "cell_type": "markdown",
   "metadata": {},
   "source": [
    "### Make date variables"
   ]
  },
  {
   "cell_type": "code",
   "execution_count": 3,
   "metadata": {
    "ExecuteTime": {
     "end_time": "2018-02-21T16:00:07.077315Z",
     "start_time": "2018-02-21T16:00:05.725786Z"
    },
    "scrolled": false
   },
   "outputs": [],
   "source": [
    "df[\"Date_Received\"] = pd.to_datetime(df.Date_Received,format=\"%Y-%m-%d\")\n",
    "df[\"Month_Received\"] = df.Date_Received.dt.month\n",
    "df[\"DayMonth_Received\"] = df.Date_Received.dt.day\n",
    "df[\"DayYear_Received\"] = df.Date_Received.dt.dayofyear\n",
    "\n",
    "df[\"Incident_Date\"] = pd.to_datetime(df.Incident_Date,format=\"%Y-%m-%d\")\n",
    "df[\"Incident_Month\"] = df.Incident_Date.dt.month\n",
    "df[\"Incident_DayMonth\"] = df.Incident_Date.dt.day\n",
    "df[\"Incident_DayYear\"] = df.Incident_Date.dt.dayofyear\n",
    "\n",
    "df[\"Report_Delay\"] = (df.Date_Received - df.Incident_Date).dt.days\n",
    "\n",
    "date_var = [\"Report_Delay\",\n",
    "        \"Month_Received\",\"DayYear_Received\",\"DayMonth_Received\",\n",
    "        \"Incident_Month\",\"Incident_DayYear\",\"Incident_DayMonth\"]"
   ]
  },
  {
   "cell_type": "markdown",
   "metadata": {
    "ExecuteTime": {
     "end_time": "2018-02-17T01:49:54.797612Z",
     "start_time": "2018-02-17T01:49:54.782472Z"
    }
   },
   "source": [
    "### Convert text categories to numeric"
   ]
  },
  {
   "cell_type": "markdown",
   "metadata": {},
   "source": [
    "#### Helper functions"
   ]
  },
  {
   "cell_type": "code",
   "execution_count": 4,
   "metadata": {
    "ExecuteTime": {
     "end_time": "2018-02-21T16:00:07.187962Z",
     "start_time": "2018-02-21T16:00:07.087307Z"
    },
    "scrolled": false
   },
   "outputs": [],
   "source": [
    "#Dummy vars\n",
    "#pd.get_dummies(df,prefix=[\"Type\",\"Site\",\"Airport\",\"Airline\"],columns=[\"Claim_Type\",\"Claim_Site\",\"Airport_Code_Group\",\"Airline_Code_Group\"])\n",
    "\n",
    "#Frequency rank\n",
    "#Default is max rank + 1\n",
    "def get_count_rank(var_column):\n",
    "    val_count = var_column.value_counts(dropna=False)\n",
    "    conversion_dict = defaultdict(lambda: len(val_count)+1, zip(val_count.index, range(len(val_count.values))))\n",
    "        \n",
    "    return conversion_dict\n",
    "    \n",
    "#Frequency\n",
    "#Default is zero\n",
    "def get_count(var_column):\n",
    "    val_count = var_column.value_counts(dropna=False)\n",
    "    conversion_dict = defaultdict(lambda: 0, zip(val_count.index, val_count.values))\n",
    "    \n",
    "    return conversion_dict\n",
    "\n",
    "#Apply conversion from text to numeric\n",
    "def apply_conversion(var_column, conversion_dict):\n",
    "\n",
    "    return var_column.map(lambda x: conversion_dict[x])\n",
    "\n",
    "def create_numeric(train_df, test_df, conversion_func, columns, postfix=\"_\"):\n",
    "    '''\n",
    "    Applies conversion function over the training set to train and test sets.\n",
    "    Inputs:\n",
    "        train_df: training data (input to conversion func, then applied)\n",
    "        test_df: test data (conversion applied)\n",
    "        conversion_func: returns a map assigning numeric value to each text category\n",
    "        columns: columns to apply\n",
    "        postfix: postfix to add to created columns (may overwrite, e.g. on empty string)\n",
    "        \n",
    "    '''\n",
    "    maps = {}\n",
    "    new_columns = []\n",
    "    \n",
    "    for name in columns:\n",
    "        new_name = name+postfix\n",
    "        new_columns.append(new_name)\n",
    "        \n",
    "        maps[name] = conversion_func(train_df[name])\n",
    "        \n",
    "        train_df[new_name] = apply_conversion(train_df[name], maps[name])\n",
    "        test_df[new_name] = apply_conversion(test_df[name],maps[name])\n",
    "\n",
    "    text_count_var = [x + \"_Count\" for x in string_categories]\n",
    "    \n",
    "    return train_df, test_df, new_columns\n"
   ]
  },
  {
   "cell_type": "markdown",
   "metadata": {},
   "source": [
    "#### Conversion "
   ]
  },
  {
   "cell_type": "code",
   "execution_count": 5,
   "metadata": {
    "ExecuteTime": {
     "end_time": "2018-02-21T16:00:08.007440Z",
     "start_time": "2018-02-21T16:00:07.200155Z"
    }
   },
   "outputs": [
    {
     "name": "stdout",
     "output_type": "stream",
     "text": [
      "116009 29003\n"
     ]
    },
    {
     "data": {
      "text/html": [
       "<div>\n",
       "<style scoped>\n",
       "    .dataframe tbody tr th:only-of-type {\n",
       "        vertical-align: middle;\n",
       "    }\n",
       "\n",
       "    .dataframe tbody tr th {\n",
       "        vertical-align: top;\n",
       "    }\n",
       "\n",
       "    .dataframe thead th {\n",
       "        text-align: right;\n",
       "    }\n",
       "</style>\n",
       "<table border=\"1\" class=\"dataframe\">\n",
       "  <thead>\n",
       "    <tr style=\"text-align: right;\">\n",
       "      <th></th>\n",
       "      <th>Claim_Number</th>\n",
       "      <th>Airline_Name</th>\n",
       "      <th>Claim_Type</th>\n",
       "      <th>Claim_Site</th>\n",
       "      <th>Item</th>\n",
       "      <th>Status</th>\n",
       "      <th>Date_Received</th>\n",
       "      <th>Incident_Date</th>\n",
       "      <th>Airport_Code_Group</th>\n",
       "      <th>Airport_Name_Group</th>\n",
       "      <th>...</th>\n",
       "      <th>Incident_DayYear</th>\n",
       "      <th>Report_Delay</th>\n",
       "      <th>Claim_Type_Count</th>\n",
       "      <th>Claim_Site_Count</th>\n",
       "      <th>Airport_Code_Group_Count</th>\n",
       "      <th>Airline_Name_Count</th>\n",
       "      <th>Claim_Type_Rank</th>\n",
       "      <th>Claim_Site_Rank</th>\n",
       "      <th>Airport_Code_Group_Rank</th>\n",
       "      <th>Airline_Name_Rank</th>\n",
       "    </tr>\n",
       "  </thead>\n",
       "  <tbody>\n",
       "    <tr>\n",
       "      <th>84038</th>\n",
       "      <td>2006120616757</td>\n",
       "      <td>DeltaAirLines</td>\n",
       "      <td>Passenger Property Loss</td>\n",
       "      <td>Checked Baggage</td>\n",
       "      <td>Computer - Laptop</td>\n",
       "      <td>Denied</td>\n",
       "      <td>2006-11-22</td>\n",
       "      <td>2006-09-23</td>\n",
       "      <td>ORD</td>\n",
       "      <td>Chicago O'Hare International Airport</td>\n",
       "      <td>...</td>\n",
       "      <td>266</td>\n",
       "      <td>60</td>\n",
       "      <td>65645</td>\n",
       "      <td>92115</td>\n",
       "      <td>4178</td>\n",
       "      <td>13948</td>\n",
       "      <td>0</td>\n",
       "      <td>0</td>\n",
       "      <td>4</td>\n",
       "      <td>1</td>\n",
       "    </tr>\n",
       "    <tr>\n",
       "      <th>111638</th>\n",
       "      <td>2008071146840</td>\n",
       "      <td>JetBlue</td>\n",
       "      <td>Passenger Property Loss</td>\n",
       "      <td>Checked Baggage</td>\n",
       "      <td>Cosmetics - Perfume; toilet articles; medicine...</td>\n",
       "      <td>Denied</td>\n",
       "      <td>2008-07-07</td>\n",
       "      <td>2008-05-12</td>\n",
       "      <td>JFK</td>\n",
       "      <td>John F. Kennedy International</td>\n",
       "      <td>...</td>\n",
       "      <td>133</td>\n",
       "      <td>56</td>\n",
       "      <td>65645</td>\n",
       "      <td>92115</td>\n",
       "      <td>4601</td>\n",
       "      <td>3861</td>\n",
       "      <td>0</td>\n",
       "      <td>0</td>\n",
       "      <td>2</td>\n",
       "      <td>8</td>\n",
       "    </tr>\n",
       "    <tr>\n",
       "      <th>45785</th>\n",
       "      <td>2005020275335</td>\n",
       "      <td>JetBlue</td>\n",
       "      <td>Passenger Property Loss</td>\n",
       "      <td>Checked Baggage</td>\n",
       "      <td>Jewelry - Fine</td>\n",
       "      <td>Denied</td>\n",
       "      <td>2005-01-04</td>\n",
       "      <td>2004-12-09</td>\n",
       "      <td>JFK</td>\n",
       "      <td>John F. Kennedy International</td>\n",
       "      <td>...</td>\n",
       "      <td>344</td>\n",
       "      <td>26</td>\n",
       "      <td>65645</td>\n",
       "      <td>92115</td>\n",
       "      <td>4601</td>\n",
       "      <td>3861</td>\n",
       "      <td>0</td>\n",
       "      <td>0</td>\n",
       "      <td>2</td>\n",
       "      <td>8</td>\n",
       "    </tr>\n",
       "    <tr>\n",
       "      <th>93213</th>\n",
       "      <td>2007060726521</td>\n",
       "      <td>AmericanAirlines</td>\n",
       "      <td>Passenger Property Loss</td>\n",
       "      <td>Checkpoint</td>\n",
       "      <td>Cameras - Digital</td>\n",
       "      <td>Denied</td>\n",
       "      <td>2007-06-04</td>\n",
       "      <td>2007-05-07</td>\n",
       "      <td>Other</td>\n",
       "      <td>Other</td>\n",
       "      <td>...</td>\n",
       "      <td>127</td>\n",
       "      <td>28</td>\n",
       "      <td>65645</td>\n",
       "      <td>22714</td>\n",
       "      <td>8251</td>\n",
       "      <td>13709</td>\n",
       "      <td>0</td>\n",
       "      <td>1</td>\n",
       "      <td>0</td>\n",
       "      <td>2</td>\n",
       "    </tr>\n",
       "    <tr>\n",
       "      <th>36257</th>\n",
       "      <td>2004110166050</td>\n",
       "      <td>NorthwestAirlines</td>\n",
       "      <td>Property Damage</td>\n",
       "      <td>Checked Baggage</td>\n",
       "      <td>Luggage (all types including footlockers)</td>\n",
       "      <td>Denied</td>\n",
       "      <td>2004-08-17</td>\n",
       "      <td>2004-06-19</td>\n",
       "      <td>GEG</td>\n",
       "      <td>Spokane International</td>\n",
       "      <td>...</td>\n",
       "      <td>171</td>\n",
       "      <td>59</td>\n",
       "      <td>44804</td>\n",
       "      <td>92115</td>\n",
       "      <td>519</td>\n",
       "      <td>6854</td>\n",
       "      <td>1</td>\n",
       "      <td>0</td>\n",
       "      <td>56</td>\n",
       "      <td>7</td>\n",
       "    </tr>\n",
       "  </tbody>\n",
       "</table>\n",
       "<p>5 rows × 27 columns</p>\n",
       "</div>"
      ],
      "text/plain": [
       "         Claim_Number       Airline_Name               Claim_Type  \\\n",
       "84038   2006120616757      DeltaAirLines  Passenger Property Loss   \n",
       "111638  2008071146840            JetBlue  Passenger Property Loss   \n",
       "45785   2005020275335            JetBlue  Passenger Property Loss   \n",
       "93213   2007060726521   AmericanAirlines  Passenger Property Loss   \n",
       "36257   2004110166050  NorthwestAirlines          Property Damage   \n",
       "\n",
       "             Claim_Site                                               Item  \\\n",
       "84038   Checked Baggage                                  Computer - Laptop   \n",
       "111638  Checked Baggage  Cosmetics - Perfume; toilet articles; medicine...   \n",
       "45785   Checked Baggage                                     Jewelry - Fine   \n",
       "93213        Checkpoint                                  Cameras - Digital   \n",
       "36257   Checked Baggage          Luggage (all types including footlockers)   \n",
       "\n",
       "        Status Date_Received Incident_Date Airport_Code_Group  \\\n",
       "84038   Denied    2006-11-22    2006-09-23                ORD   \n",
       "111638  Denied    2008-07-07    2008-05-12                JFK   \n",
       "45785   Denied    2005-01-04    2004-12-09                JFK   \n",
       "93213   Denied    2007-06-04    2007-05-07              Other   \n",
       "36257   Denied    2004-08-17    2004-06-19                GEG   \n",
       "\n",
       "                          Airport_Name_Group        ...          \\\n",
       "84038   Chicago O'Hare International Airport        ...           \n",
       "111638         John F. Kennedy International        ...           \n",
       "45785          John F. Kennedy International        ...           \n",
       "93213                                  Other        ...           \n",
       "36257                  Spokane International        ...           \n",
       "\n",
       "        Incident_DayYear  Report_Delay  Claim_Type_Count  Claim_Site_Count  \\\n",
       "84038                266            60             65645             92115   \n",
       "111638               133            56             65645             92115   \n",
       "45785                344            26             65645             92115   \n",
       "93213                127            28             65645             22714   \n",
       "36257                171            59             44804             92115   \n",
       "\n",
       "        Airport_Code_Group_Count  Airline_Name_Count  Claim_Type_Rank  \\\n",
       "84038                       4178               13948                0   \n",
       "111638                      4601                3861                0   \n",
       "45785                       4601                3861                0   \n",
       "93213                       8251               13709                0   \n",
       "36257                        519                6854                1   \n",
       "\n",
       "        Claim_Site_Rank  Airport_Code_Group_Rank  Airline_Name_Rank  \n",
       "84038                 0                        4                  1  \n",
       "111638                0                        2                  8  \n",
       "45785                 0                        2                  8  \n",
       "93213                 1                        0                  2  \n",
       "36257                 0                       56                  7  \n",
       "\n",
       "[5 rows x 27 columns]"
      ]
     },
     "execution_count": 5,
     "metadata": {},
     "output_type": "execute_result"
    }
   ],
   "source": [
    "df, df_holdout = train_test_split(df, test_size = .2, shuffle = True, random_state = 1)\n",
    "\n",
    "string_categories = [\"Claim_Type\",\"Claim_Site\",\"Airport_Code_Group\",\"Airline_Name\"]\n",
    "\n",
    "#Category complaint counts\n",
    "df, df_holdout, text_count_var = create_numeric(df, df_holdout, get_count, string_categories, \"_Count\")\n",
    "\n",
    "#Category complaint rank\n",
    "df, df_holdout, text_rank_var = create_numeric(df, df_holdout, get_count_rank, string_categories, \"_Rank\")\n",
    "\n",
    "\n",
    "print(len(df), len(df_holdout))\n",
    "df_holdout.head(5)"
   ]
  },
  {
   "cell_type": "code",
   "execution_count": 9,
   "metadata": {
    "ExecuteTime": {
     "end_time": "2018-02-21T16:06:58.150302Z",
     "start_time": "2018-02-21T16:06:58.106712Z"
    }
   },
   "outputs": [
    {
     "data": {
      "text/html": [
       "<div>\n",
       "<style scoped>\n",
       "    .dataframe tbody tr th:only-of-type {\n",
       "        vertical-align: middle;\n",
       "    }\n",
       "\n",
       "    .dataframe tbody tr th {\n",
       "        vertical-align: top;\n",
       "    }\n",
       "\n",
       "    .dataframe thead th {\n",
       "        text-align: right;\n",
       "    }\n",
       "</style>\n",
       "<table border=\"1\" class=\"dataframe\">\n",
       "  <thead>\n",
       "    <tr style=\"text-align: right;\">\n",
       "      <th></th>\n",
       "      <th>Claim_Site</th>\n",
       "      <th>Claim_Site_Count</th>\n",
       "    </tr>\n",
       "  </thead>\n",
       "  <tbody>\n",
       "    <tr>\n",
       "      <th>131458</th>\n",
       "      <td>Checked Baggage</td>\n",
       "      <td>92115</td>\n",
       "    </tr>\n",
       "    <tr>\n",
       "      <th>66384</th>\n",
       "      <td>Checkpoint</td>\n",
       "      <td>22714</td>\n",
       "    </tr>\n",
       "    <tr>\n",
       "      <th>12536</th>\n",
       "      <td>Other</td>\n",
       "      <td>754</td>\n",
       "    </tr>\n",
       "    <tr>\n",
       "      <th>141008</th>\n",
       "      <td>-</td>\n",
       "      <td>207</td>\n",
       "    </tr>\n",
       "    <tr>\n",
       "      <th>140627</th>\n",
       "      <td>Motor Vehicle</td>\n",
       "      <td>217</td>\n",
       "    </tr>\n",
       "    <tr>\n",
       "      <th>128366</th>\n",
       "      <td>Bus Station</td>\n",
       "      <td>2</td>\n",
       "    </tr>\n",
       "  </tbody>\n",
       "</table>\n",
       "</div>"
      ],
      "text/plain": [
       "             Claim_Site  Claim_Site_Count\n",
       "131458  Checked Baggage             92115\n",
       "66384        Checkpoint             22714\n",
       "12536             Other               754\n",
       "141008                -               207\n",
       "140627    Motor Vehicle               217\n",
       "128366      Bus Station                 2"
      ]
     },
     "execution_count": 9,
     "metadata": {},
     "output_type": "execute_result"
    }
   ],
   "source": [
    "df[[\"Claim_Site\",\"Claim_Site_Count\"]].drop_duplicates()"
   ]
  },
  {
   "cell_type": "markdown",
   "metadata": {},
   "source": [
    "## Feature Eval"
   ]
  },
  {
   "cell_type": "markdown",
   "metadata": {},
   "source": [
    "### Helper fuctions"
   ]
  },
  {
   "cell_type": "code",
   "execution_count": 8,
   "metadata": {
    "ExecuteTime": {
     "end_time": "2018-02-21T01:27:54.462630Z",
     "start_time": "2018-02-21T01:27:54.338962Z"
    }
   },
   "outputs": [],
   "source": [
    "def print_scores(scores_array, ylabel_strings):\n",
    "    ''' Prints a table with headings for output of sklearn.metrics.precision_recall_fscore_support\n",
    "        Inputs: scores_array -> np.array of scores from skm.\n",
    "                ylabel_strings -> the target labels\n",
    "    '''\n",
    "    #Each row is a score in the output, transpose to get features across rows\n",
    "    array = np.transpose(scores_array) \n",
    "    macro_avg = np.average(array,axis=0)\n",
    "    labels = sorted(ylabel_strings)\n",
    "    \n",
    "    max_len = str(np.max([len(s) for s in ylabel_strings]))\n",
    "        \n",
    "    print((\"\\n{:>\"+max_len+\"} {:>10s} {:>10s} {:>10s} {:>10s}\").format(\"\",\"Precision\",\"Recall\",\"F1\",\"Support\"))\n",
    "    \n",
    "    for i in range(len(labels)):\n",
    "        print((\"{:>\"+max_len+\"} {:>10.5f} {:>10.5f} {:>10.5f} {:>10.0f}\")\n",
    "              .format(labels[i],array[i][0],array[i][1],array[i][2],array[i][3]))\n",
    "    \n",
    "    print((\"{:>\"+max_len+\"} {:>10.5f} {:>10.5f} {:>10.5f} {:>10.0f}\")\n",
    "          .format(\"Avg/Tot\",macro_avg[0],macro_avg[1],macro_avg[2],macro_avg[3]))\n",
    "    \n",
    "#print_scores(np.average(scores,axis=0), Y.unique())\n",
    "\n",
    "def validation_loop(model,X,Y,k=5,rand_state=1):\n",
    "    ''' Runs k-fold validation loop for input model, X, Y. Prints classification accuracy \n",
    "             and the following per-label metrics: precision, recall, f1, support.\n",
    "        Inputs: \n",
    "                ylabel_strings -> the target labels\n",
    "    '''\n",
    "    test_accs, test_scores = [], []\n",
    "    train_accs, train_scores = [], []\n",
    "    \n",
    "    i=1\n",
    "\n",
    "    for train_ind, test_ind in KFold(k,shuffle=True,random_state=rand_state).split(X,Y):\n",
    "        print(\"Starting {} of {} folds\".format(i,k))\n",
    "\n",
    "        model.fit(X[train_ind],Y[train_ind])\n",
    "        \n",
    "        #Test metrics\n",
    "        pred = model.predict(X[test_ind])\n",
    "        acc = skm.accuracy_score(Y[test_ind],pred)\n",
    "        test_accs.append(acc)\n",
    "        score = skm.precision_recall_fscore_support(Y[test_ind],pred)\n",
    "        test_scores.append(score)\n",
    "        #print(acc)\n",
    "        #print(skm.classification_report(Y[test_ind],pred))\n",
    "        \n",
    "        #Train metrics\n",
    "        pred = model.predict(X[train_ind])\n",
    "        acc = skm.accuracy_score(Y[train_ind],pred)\n",
    "        train_accs.append(acc)\n",
    "        score = skm.precision_recall_fscore_support(Y[train_ind],pred)\n",
    "        train_scores.append(score)\n",
    "        \n",
    "        i+=1\n",
    "    \n",
    "    print(\"\\nAvg. Train Metrics\")\n",
    "    print (\"Accuracy: {:.5f}\".format(np.average(train_accs)))\n",
    "    print_scores(np.average(train_scores,axis=0),np.unique(Y))\n",
    "    \n",
    "    print(\"\\nAvg. Validation Metrics\")\n",
    "    print (\"Accuracy: {:.5f}\".format(np.average(test_accs)))\n",
    "    print_scores(np.average(test_scores,axis=0),np.unique(Y))\n",
    "    \n",
    "    "
   ]
  },
  {
   "cell_type": "markdown",
   "metadata": {
    "ExecuteTime": {
     "end_time": "2018-02-16T04:18:27.099785Z",
     "start_time": "2018-02-16T04:18:27.088723Z"
    }
   },
   "source": [
    "### Baseline"
   ]
  },
  {
   "cell_type": "markdown",
   "metadata": {},
   "source": [
    "Baseline accuracy: \n",
    "Random Forest: ~50.5% (5 fold cross-test)\n",
    "Logistic: 46.7%\n",
    "Naive Bayes: 46.7% (Multinomial), 31.3% (Gaussian)\n",
    "\n",
    "\n",
    "Random Forest is slightly better than naively guessing the most common class \"Denied\" (46.7%). It manages to pick up signal on the minority classes (Approved / Settled) so this is much more useful than the naive guess model.\n",
    "\n",
    "Logistic & Multinomial Naive Bayes are simply guessing the most common class.\n",
    "Gaussian Naive Bayes guesses \"Accepted\" for most cases, leading to poor accuracy."
   ]
  },
  {
   "cell_type": "code",
   "execution_count": 9,
   "metadata": {
    "ExecuteTime": {
     "end_time": "2018-02-21T01:27:59.555569Z",
     "start_time": "2018-02-21T01:27:59.532137Z"
    }
   },
   "outputs": [
    {
     "data": {
      "text/plain": [
       "Denied      [54144, 0.467]\n",
       "Approved     [35966, 0.31]\n",
       "Settled     [25899, 0.223]\n",
       "Name: Status, dtype: object"
      ]
     },
     "execution_count": 9,
     "metadata": {},
     "output_type": "execute_result"
    }
   ],
   "source": [
    "df.Status.value_counts().map(lambda x:[x,round(x/len(df),3)])"
   ]
  },
  {
   "cell_type": "markdown",
   "metadata": {},
   "source": [
    "#### Random Forest "
   ]
  },
  {
   "cell_type": "code",
   "execution_count": 9,
   "metadata": {
    "ExecuteTime": {
     "end_time": "2018-02-20T22:36:58.419386Z",
     "start_time": "2018-02-20T22:36:02.943651Z"
    },
    "scrolled": false
   },
   "outputs": [
    {
     "name": "stdout",
     "output_type": "stream",
     "text": [
      "116009\n",
      "116009\n",
      "Starting 1 of 5 folds\n",
      "Starting 2 of 5 folds\n",
      "Starting 3 of 5 folds\n",
      "Starting 4 of 5 folds\n",
      "Starting 5 of 5 folds\n",
      "\n",
      "Avg. Train Metrics\n",
      "Accuracy: 0.62740\n",
      "\n",
      "          Precision     Recall         F1    Support\n",
      "Approved    0.60787    0.67729    0.64070      28773\n",
      "  Denied    0.62865    0.77442    0.69396      43315\n",
      " Settled    0.70313    0.25073    0.36965      20719\n",
      " Avg/Tot    0.64655    0.56748    0.56810      30936\n",
      "\n",
      "Avg. Validation Metrics\n",
      "Accuracy: 0.51539\n",
      "\n",
      "          Precision     Recall         F1    Support\n",
      "Approved    0.52102    0.57911    0.54852       7193\n",
      "  Denied    0.54454    0.67116    0.60125      10829\n",
      " Settled    0.28202    0.10124    0.14897       5180\n",
      " Avg/Tot    0.44920    0.45050    0.43291       7734\n"
     ]
    }
   ],
   "source": [
    "features = [\"Claim_Value\"]\n",
    "target = \"Status\"\n",
    "\n",
    "model_df=df[[target]+features].dropna()\n",
    "print(len(df))\n",
    "print(len(model_df))\n",
    "\n",
    "X = np.array(model_df[features])\n",
    "Y = np.array(model_df[target])\n",
    "\n",
    "model = RandomForestClassifier(n_estimators=500, min_samples_split=10, n_jobs=-1)\n",
    "\n",
    "validation_loop(model,X,Y,rand_state=1)\n"
   ]
  },
  {
   "cell_type": "markdown",
   "metadata": {},
   "source": [
    "#### Logistic Regression"
   ]
  },
  {
   "cell_type": "code",
   "execution_count": 10,
   "metadata": {
    "ExecuteTime": {
     "end_time": "2018-02-20T22:37:06.102004Z",
     "start_time": "2018-02-20T22:36:58.528771Z"
    },
    "scrolled": true
   },
   "outputs": [
    {
     "name": "stdout",
     "output_type": "stream",
     "text": [
      "Starting 1 of 5 folds\n"
     ]
    },
    {
     "name": "stderr",
     "output_type": "stream",
     "text": [
      "/home/perry/anaconda3/lib/python3.6/site-packages/sklearn/metrics/classification.py:1135: UndefinedMetricWarning: Precision and F-score are ill-defined and being set to 0.0 in labels with no predicted samples.\n",
      "  'precision', 'predicted', average, warn_for)\n"
     ]
    },
    {
     "name": "stdout",
     "output_type": "stream",
     "text": [
      "Starting 2 of 5 folds\n",
      "Starting 3 of 5 folds\n",
      "Starting 4 of 5 folds\n",
      "Starting 5 of 5 folds\n",
      "\n",
      "Avg. Train Metrics\n",
      "Accuracy: 0.46672\n",
      "\n",
      "          Precision     Recall         F1    Support\n",
      "Approved    0.00000    0.00000    0.00000      28773\n",
      "  Denied    0.46672    1.00000    0.63642      43315\n",
      " Settled    0.00000    0.00000    0.00000      20719\n",
      " Avg/Tot    0.15557    0.33333    0.21214      30936\n",
      "\n",
      "Avg. Validation Metrics\n",
      "Accuracy: 0.46672\n",
      "\n",
      "          Precision     Recall         F1    Support\n",
      "Approved    0.00000    0.00000    0.00000       7193\n",
      "  Denied    0.46672    1.00000    0.63641      10829\n",
      " Settled    0.00000    0.00000    0.00000       5180\n",
      " Avg/Tot    0.15557    0.33333    0.21214       7734\n"
     ]
    }
   ],
   "source": [
    "features = [\"Claim_Value\"]\n",
    "target = \"Status\"\n",
    "\n",
    "model_df=df[[target]+features].dropna()\n",
    "\n",
    "X = np.array(model_df[features])\n",
    "Y = np.array(model_df[target])\n",
    "\n",
    "model = LogisticRegression(C=1000)\n",
    "\n",
    "validation_loop(model,X,Y,rand_state=1)\n"
   ]
  },
  {
   "cell_type": "markdown",
   "metadata": {},
   "source": [
    "#### Naive Bayes"
   ]
  },
  {
   "cell_type": "code",
   "execution_count": 11,
   "metadata": {
    "ExecuteTime": {
     "end_time": "2018-02-20T22:37:13.227233Z",
     "start_time": "2018-02-20T22:37:06.200421Z"
    },
    "scrolled": true
   },
   "outputs": [
    {
     "name": "stdout",
     "output_type": "stream",
     "text": [
      "Multinomial--\n",
      "\n",
      "Starting 1 of 5 folds\n"
     ]
    },
    {
     "name": "stderr",
     "output_type": "stream",
     "text": [
      "/home/perry/anaconda3/lib/python3.6/site-packages/sklearn/metrics/classification.py:1135: UndefinedMetricWarning: Precision and F-score are ill-defined and being set to 0.0 in labels with no predicted samples.\n",
      "  'precision', 'predicted', average, warn_for)\n"
     ]
    },
    {
     "name": "stdout",
     "output_type": "stream",
     "text": [
      "Starting 2 of 5 folds\n",
      "Starting 3 of 5 folds\n",
      "Starting 4 of 5 folds\n",
      "Starting 5 of 5 folds\n",
      "\n",
      "Avg. Train Metrics\n",
      "Accuracy: 0.46672\n",
      "\n",
      "          Precision     Recall         F1    Support\n",
      "Approved    0.00000    0.00000    0.00000      28773\n",
      "  Denied    0.46672    1.00000    0.63642      43315\n",
      " Settled    0.00000    0.00000    0.00000      20719\n",
      " Avg/Tot    0.15557    0.33333    0.21214      30936\n",
      "\n",
      "Avg. Validation Metrics\n",
      "Accuracy: 0.46672\n",
      "\n",
      "          Precision     Recall         F1    Support\n",
      "Approved    0.00000    0.00000    0.00000       7193\n",
      "  Denied    0.46672    1.00000    0.63641      10829\n",
      " Settled    0.00000    0.00000    0.00000       5180\n",
      " Avg/Tot    0.15557    0.33333    0.21214       7734\n",
      "Gaussian--\n",
      "\n",
      "Starting 1 of 5 folds\n",
      "Starting 2 of 5 folds\n",
      "Starting 3 of 5 folds\n",
      "Starting 4 of 5 folds\n",
      "Starting 5 of 5 folds\n",
      "\n",
      "Avg. Train Metrics\n",
      "Accuracy: 0.31313\n",
      "\n",
      "          Precision     Recall         F1    Support\n",
      "Approved    0.31551    0.99694    0.47918      28773\n",
      "  Denied    0.94625    0.00090    0.00179      43315\n",
      " Settled    0.03892    0.01626    0.02294      20719\n",
      " Avg/Tot    0.43356    0.33803    0.16797      30936\n",
      "\n",
      "Avg. Validation Metrics\n",
      "Accuracy: 0.31295\n",
      "\n",
      "          Precision     Recall         F1    Support\n",
      "Approved    0.31560    0.99707    0.47927       7193\n",
      "  Denied    0.97500    0.00076    0.00152      10829\n",
      " Settled    0.03715    0.01553    0.02190       5180\n",
      " Avg/Tot    0.44258    0.33779    0.16756       7734\n"
     ]
    }
   ],
   "source": [
    "features = [\"Claim_Value\"]\n",
    "target = \"Status\"\n",
    "\n",
    "model_df=df[[target]+features].dropna()\n",
    "\n",
    "X = np.array(model_df[features])\n",
    "Y = np.array(model_df[target])\n",
    "\n",
    "print(\"Multinomial--\\n\")\n",
    "model = MultinomialNB()\n",
    "\n",
    "validation_loop(model,X,Y,rand_state=1)\n",
    "\n",
    "model = GaussianNB()\n",
    "\n",
    "print(\"Gaussian--\\n\")\n",
    "validation_loop(model,X,Y,rand_state=1)\n"
   ]
  },
  {
   "cell_type": "markdown",
   "metadata": {
    "ExecuteTime": {
     "end_time": "2018-02-16T23:25:22.566726Z",
     "start_time": "2018-02-16T23:25:22.554956Z"
    }
   },
   "source": [
    "### Date Features Only"
   ]
  },
  {
   "cell_type": "markdown",
   "metadata": {},
   "source": [
    "#### Random Forest "
   ]
  },
  {
   "cell_type": "code",
   "execution_count": 32,
   "metadata": {
    "ExecuteTime": {
     "end_time": "2018-02-20T07:10:25.846154Z",
     "start_time": "2018-02-20T07:01:58.891279Z"
    },
    "scrolled": true
   },
   "outputs": [
    {
     "name": "stdout",
     "output_type": "stream",
     "text": [
      "116009\n",
      "116009\n",
      "Starting 1 of 5 folds\n",
      "Starting 2 of 5 folds\n",
      "Starting 3 of 5 folds\n",
      "Starting 4 of 5 folds\n",
      "Starting 5 of 5 folds\n",
      "\n",
      "Avg. Train Metrics\n",
      "Accuracy: 0.80301\n",
      "\n",
      "          Precision     Recall         F1    Support\n",
      "Approved    0.80310    0.80722    0.80515      28773\n",
      "  Denied    0.77992    0.91125    0.84048      43315\n",
      " Settled    0.89086    0.57088    0.69584      20719\n",
      " Avg/Tot    0.82462    0.76312    0.78049      30936\n",
      "\n",
      "Avg. Validation Metrics\n",
      "Accuracy: 0.53027\n",
      "\n",
      "          Precision     Recall         F1    Support\n",
      "Approved    0.53323    0.55716    0.54493       7193\n",
      "  Denied    0.56219    0.69334    0.62091      10829\n",
      " Settled    0.33769    0.15195    0.20958       5180\n",
      " Avg/Tot    0.47770    0.46748    0.45847       7734\n"
     ]
    }
   ],
   "source": [
    "features = [\"Claim_Value\"]+date_var\n",
    "target = \"Status\"\n",
    "\n",
    "model_df=df[[target]+features].dropna()\n",
    "print(len(df))\n",
    "print(len(model_df))\n",
    "\n",
    "X = np.array(model_df[features])\n",
    "Y = np.array(model_df[target])\n",
    "\n",
    "model = RandomForestClassifier(n_estimators = 500, min_samples_split=10, n_jobs=-1)\n",
    "\n",
    "validation_loop(model,X,Y,rand_state=1)\n",
    "\n",
    "model.fit(X,Y)\n",
    "list(zip(model_df.columns[1:],model.feature_importances_))"
   ]
  },
  {
   "cell_type": "markdown",
   "metadata": {},
   "source": [
    "#### Logistic Regression"
   ]
  },
  {
   "cell_type": "code",
   "execution_count": 29,
   "metadata": {
    "ExecuteTime": {
     "end_time": "2018-02-20T06:43:58.047465Z",
     "start_time": "2018-02-20T06:43:34.194225Z"
    },
    "scrolled": true
   },
   "outputs": [
    {
     "name": "stdout",
     "output_type": "stream",
     "text": [
      "116009\n",
      "116009\n",
      "Starting 1 of 5 folds\n"
     ]
    },
    {
     "name": "stderr",
     "output_type": "stream",
     "text": [
      "/home/perry/anaconda3/lib/python3.6/site-packages/sklearn/metrics/classification.py:1135: UndefinedMetricWarning: Precision and F-score are ill-defined and being set to 0.0 in labels with no predicted samples.\n",
      "  'precision', 'predicted', average, warn_for)\n"
     ]
    },
    {
     "name": "stdout",
     "output_type": "stream",
     "text": [
      "Starting 2 of 5 folds\n",
      "Starting 3 of 5 folds\n",
      "Starting 4 of 5 folds\n",
      "Starting 5 of 5 folds\n",
      "\n",
      "Avg. Train Metrics\n",
      "Accuracy: 0.46750\n",
      "\n",
      "          Precision     Recall         F1    Support\n",
      "Approved    0.12431    0.00550    0.01053      28773\n",
      "  Denied    0.46709    0.99802    0.63635      43315\n",
      " Settled    0.08571    0.00003    0.00006      20719\n",
      " Avg/Tot    0.22571    0.33452    0.21565      30936\n",
      "\n",
      "Avg. Validation Metrics\n",
      "Accuracy: 0.46771\n",
      "\n",
      "          Precision     Recall         F1    Support\n",
      "Approved    0.12775    0.00611    0.01165       7193\n",
      "  Denied    0.46719    0.99801    0.63644      10829\n",
      " Settled    0.00000    0.00000    0.00000       5180\n",
      " Avg/Tot    0.19831    0.33471    0.21603       7734\n"
     ]
    }
   ],
   "source": [
    "features = [\"Claim_Value\"]+date_var\n",
    "target = \"Status\"\n",
    "\n",
    "model_df=df[[target]+features].dropna()\n",
    "print(len(df))\n",
    "print(len(model_df))\n",
    "\n",
    "X = np.array(model_df[features])\n",
    "Y = np.array(model_df[target])\n",
    "\n",
    "model = LogisticRegression(C=100)\n",
    "\n",
    "validation_loop(model,X,Y,rand_state=1)\n"
   ]
  },
  {
   "cell_type": "markdown",
   "metadata": {},
   "source": [
    "### Categorical Features Only"
   ]
  },
  {
   "cell_type": "code",
   "execution_count": 40,
   "metadata": {
    "ExecuteTime": {
     "end_time": "2018-02-20T07:24:44.839909Z",
     "start_time": "2018-02-20T07:24:44.431956Z"
    }
   },
   "outputs": [
    {
     "data": {
      "text/html": [
       "<div>\n",
       "<style scoped>\n",
       "    .dataframe tbody tr th:only-of-type {\n",
       "        vertical-align: middle;\n",
       "    }\n",
       "\n",
       "    .dataframe tbody tr th {\n",
       "        vertical-align: top;\n",
       "    }\n",
       "\n",
       "    .dataframe thead th {\n",
       "        text-align: right;\n",
       "    }\n",
       "</style>\n",
       "<table border=\"1\" class=\"dataframe\">\n",
       "  <thead>\n",
       "    <tr style=\"text-align: right;\">\n",
       "      <th></th>\n",
       "      <th>Claim_Number</th>\n",
       "      <th>Item</th>\n",
       "      <th>Status</th>\n",
       "      <th>Date_Received</th>\n",
       "      <th>Incident_Date</th>\n",
       "      <th>Airport_Name_Group</th>\n",
       "      <th>Claim_Value</th>\n",
       "      <th>Close_Value</th>\n",
       "      <th>Month_Received</th>\n",
       "      <th>DayMonth_Received</th>\n",
       "      <th>...</th>\n",
       "      <th>Airline_VirginExpress</th>\n",
       "      <th>Airline_VisionAirlines</th>\n",
       "      <th>Airline_VolarisAirlines</th>\n",
       "      <th>Airline_Webjet</th>\n",
       "      <th>Airline_WesternPacificAirlinesIncWestpac</th>\n",
       "      <th>Airline_WestjetAirlinesLtd</th>\n",
       "      <th>Airline_WigginsAirways</th>\n",
       "      <th>Airline_XLAirways</th>\n",
       "      <th>Airline_XtraAirways</th>\n",
       "      <th>Airline_vivaAerobus</th>\n",
       "    </tr>\n",
       "  </thead>\n",
       "  <tbody>\n",
       "    <tr>\n",
       "      <th>131458</th>\n",
       "      <td>2010082075174</td>\n",
       "      <td>Cosmetics &amp; Grooming</td>\n",
       "      <td>Approved</td>\n",
       "      <td>2010-08-16</td>\n",
       "      <td>2010-07-26</td>\n",
       "      <td>John Wayne</td>\n",
       "      <td>35.00</td>\n",
       "      <td>NaN</td>\n",
       "      <td>8</td>\n",
       "      <td>16</td>\n",
       "      <td>...</td>\n",
       "      <td>0</td>\n",
       "      <td>0</td>\n",
       "      <td>0</td>\n",
       "      <td>0</td>\n",
       "      <td>0</td>\n",
       "      <td>0</td>\n",
       "      <td>0</td>\n",
       "      <td>0</td>\n",
       "      <td>0</td>\n",
       "      <td>0</td>\n",
       "    </tr>\n",
       "    <tr>\n",
       "      <th>48831</th>\n",
       "      <td>2005031177670</td>\n",
       "      <td>Luggage (all types including footlockers)</td>\n",
       "      <td>Denied</td>\n",
       "      <td>2005-02-08</td>\n",
       "      <td>2004-09-09</td>\n",
       "      <td>Sacramento International Airport</td>\n",
       "      <td>43.09</td>\n",
       "      <td>0.00</td>\n",
       "      <td>2</td>\n",
       "      <td>8</td>\n",
       "      <td>...</td>\n",
       "      <td>0</td>\n",
       "      <td>0</td>\n",
       "      <td>0</td>\n",
       "      <td>0</td>\n",
       "      <td>0</td>\n",
       "      <td>0</td>\n",
       "      <td>0</td>\n",
       "      <td>0</td>\n",
       "      <td>0</td>\n",
       "      <td>0</td>\n",
       "    </tr>\n",
       "    <tr>\n",
       "      <th>126130</th>\n",
       "      <td>2009082462923</td>\n",
       "      <td>Clothing - Shoes; belts; accessories; etc.</td>\n",
       "      <td>Settled</td>\n",
       "      <td>2009-08-21</td>\n",
       "      <td>2009-07-28</td>\n",
       "      <td>San Diego International</td>\n",
       "      <td>1618.34</td>\n",
       "      <td>809.17</td>\n",
       "      <td>8</td>\n",
       "      <td>21</td>\n",
       "      <td>...</td>\n",
       "      <td>0</td>\n",
       "      <td>0</td>\n",
       "      <td>0</td>\n",
       "      <td>0</td>\n",
       "      <td>0</td>\n",
       "      <td>0</td>\n",
       "      <td>0</td>\n",
       "      <td>0</td>\n",
       "      <td>0</td>\n",
       "      <td>0</td>\n",
       "    </tr>\n",
       "    <tr>\n",
       "      <th>24131</th>\n",
       "      <td>0226165M</td>\n",
       "      <td>Cameras - Digital</td>\n",
       "      <td>Approved</td>\n",
       "      <td>2004-02-26</td>\n",
       "      <td>2003-12-25</td>\n",
       "      <td>General Mitchell International Airport</td>\n",
       "      <td>155.76</td>\n",
       "      <td>155.76</td>\n",
       "      <td>2</td>\n",
       "      <td>26</td>\n",
       "      <td>...</td>\n",
       "      <td>0</td>\n",
       "      <td>0</td>\n",
       "      <td>0</td>\n",
       "      <td>0</td>\n",
       "      <td>0</td>\n",
       "      <td>0</td>\n",
       "      <td>0</td>\n",
       "      <td>0</td>\n",
       "      <td>0</td>\n",
       "      <td>0</td>\n",
       "    </tr>\n",
       "    <tr>\n",
       "      <th>114314</th>\n",
       "      <td>2008091049732</td>\n",
       "      <td>Jewelry - Fine</td>\n",
       "      <td>Denied</td>\n",
       "      <td>2008-09-08</td>\n",
       "      <td>2008-07-31</td>\n",
       "      <td>Bradley International Airport</td>\n",
       "      <td>717.00</td>\n",
       "      <td>0.00</td>\n",
       "      <td>9</td>\n",
       "      <td>8</td>\n",
       "      <td>...</td>\n",
       "      <td>0</td>\n",
       "      <td>0</td>\n",
       "      <td>0</td>\n",
       "      <td>0</td>\n",
       "      <td>0</td>\n",
       "      <td>0</td>\n",
       "      <td>0</td>\n",
       "      <td>0</td>\n",
       "      <td>0</td>\n",
       "      <td>0</td>\n",
       "    </tr>\n",
       "    <tr>\n",
       "      <th>120796</th>\n",
       "      <td>2009040157077</td>\n",
       "      <td>Locks; Luggage (all types including footlockers)</td>\n",
       "      <td>Denied</td>\n",
       "      <td>2009-03-12</td>\n",
       "      <td>2009-02-22</td>\n",
       "      <td>San Diego International</td>\n",
       "      <td>750.00</td>\n",
       "      <td>0.00</td>\n",
       "      <td>3</td>\n",
       "      <td>12</td>\n",
       "      <td>...</td>\n",
       "      <td>0</td>\n",
       "      <td>0</td>\n",
       "      <td>0</td>\n",
       "      <td>0</td>\n",
       "      <td>0</td>\n",
       "      <td>0</td>\n",
       "      <td>0</td>\n",
       "      <td>0</td>\n",
       "      <td>0</td>\n",
       "      <td>0</td>\n",
       "    </tr>\n",
       "    <tr>\n",
       "      <th>134368</th>\n",
       "      <td>2011071185085</td>\n",
       "      <td>Other</td>\n",
       "      <td>Approved</td>\n",
       "      <td>2011-06-28</td>\n",
       "      <td>2011-04-08</td>\n",
       "      <td>Hartsfield-Jackson Atlanta International Airport</td>\n",
       "      <td>180.39</td>\n",
       "      <td>NaN</td>\n",
       "      <td>6</td>\n",
       "      <td>28</td>\n",
       "      <td>...</td>\n",
       "      <td>0</td>\n",
       "      <td>0</td>\n",
       "      <td>0</td>\n",
       "      <td>0</td>\n",
       "      <td>0</td>\n",
       "      <td>0</td>\n",
       "      <td>0</td>\n",
       "      <td>0</td>\n",
       "      <td>0</td>\n",
       "      <td>0</td>\n",
       "    </tr>\n",
       "    <tr>\n",
       "      <th>137529</th>\n",
       "      <td>2012052794318</td>\n",
       "      <td>Clothing</td>\n",
       "      <td>Approved</td>\n",
       "      <td>2012-05-07</td>\n",
       "      <td>2012-02-23</td>\n",
       "      <td>Chicago O'Hare International Airport</td>\n",
       "      <td>76.67</td>\n",
       "      <td>NaN</td>\n",
       "      <td>5</td>\n",
       "      <td>7</td>\n",
       "      <td>...</td>\n",
       "      <td>0</td>\n",
       "      <td>0</td>\n",
       "      <td>0</td>\n",
       "      <td>0</td>\n",
       "      <td>0</td>\n",
       "      <td>0</td>\n",
       "      <td>0</td>\n",
       "      <td>0</td>\n",
       "      <td>0</td>\n",
       "      <td>0</td>\n",
       "    </tr>\n",
       "    <tr>\n",
       "      <th>59141</th>\n",
       "      <td>2005071488868</td>\n",
       "      <td>Other</td>\n",
       "      <td>Denied</td>\n",
       "      <td>2005-07-13</td>\n",
       "      <td>2005-06-23</td>\n",
       "      <td>Honolulu International Airport</td>\n",
       "      <td>600.00</td>\n",
       "      <td>0.00</td>\n",
       "      <td>7</td>\n",
       "      <td>13</td>\n",
       "      <td>...</td>\n",
       "      <td>0</td>\n",
       "      <td>0</td>\n",
       "      <td>0</td>\n",
       "      <td>0</td>\n",
       "      <td>0</td>\n",
       "      <td>0</td>\n",
       "      <td>0</td>\n",
       "      <td>0</td>\n",
       "      <td>0</td>\n",
       "      <td>0</td>\n",
       "    </tr>\n",
       "    <tr>\n",
       "      <th>12875</th>\n",
       "      <td>0916079M</td>\n",
       "      <td>Other</td>\n",
       "      <td>Settled</td>\n",
       "      <td>2003-09-16</td>\n",
       "      <td>2003-08-23</td>\n",
       "      <td>Boston (Logan) International Airport</td>\n",
       "      <td>600.00</td>\n",
       "      <td>336.00</td>\n",
       "      <td>9</td>\n",
       "      <td>16</td>\n",
       "      <td>...</td>\n",
       "      <td>0</td>\n",
       "      <td>0</td>\n",
       "      <td>0</td>\n",
       "      <td>0</td>\n",
       "      <td>0</td>\n",
       "      <td>0</td>\n",
       "      <td>0</td>\n",
       "      <td>0</td>\n",
       "      <td>0</td>\n",
       "      <td>0</td>\n",
       "    </tr>\n",
       "    <tr>\n",
       "      <th>124893</th>\n",
       "      <td>2009072261631</td>\n",
       "      <td>Computer - Laptop</td>\n",
       "      <td>Denied</td>\n",
       "      <td>2009-07-16</td>\n",
       "      <td>2009-07-05</td>\n",
       "      <td>Austin-Bergstrom International Airport</td>\n",
       "      <td>1334.00</td>\n",
       "      <td>0.00</td>\n",
       "      <td>7</td>\n",
       "      <td>16</td>\n",
       "      <td>...</td>\n",
       "      <td>0</td>\n",
       "      <td>0</td>\n",
       "      <td>0</td>\n",
       "      <td>0</td>\n",
       "      <td>0</td>\n",
       "      <td>0</td>\n",
       "      <td>0</td>\n",
       "      <td>0</td>\n",
       "      <td>0</td>\n",
       "      <td>0</td>\n",
       "    </tr>\n",
       "    <tr>\n",
       "      <th>912</th>\n",
       "      <td>0909826M</td>\n",
       "      <td>Cameras - Digital</td>\n",
       "      <td>Settled</td>\n",
       "      <td>2003-01-13</td>\n",
       "      <td>2002-12-20</td>\n",
       "      <td>Newark International Airport</td>\n",
       "      <td>385.00</td>\n",
       "      <td>283.00</td>\n",
       "      <td>1</td>\n",
       "      <td>13</td>\n",
       "      <td>...</td>\n",
       "      <td>0</td>\n",
       "      <td>0</td>\n",
       "      <td>0</td>\n",
       "      <td>0</td>\n",
       "      <td>0</td>\n",
       "      <td>0</td>\n",
       "      <td>0</td>\n",
       "      <td>0</td>\n",
       "      <td>0</td>\n",
       "      <td>0</td>\n",
       "    </tr>\n",
       "    <tr>\n",
       "      <th>9262</th>\n",
       "      <td>0729235M</td>\n",
       "      <td>Cameras - Digital</td>\n",
       "      <td>Denied</td>\n",
       "      <td>2003-07-29</td>\n",
       "      <td>2003-07-18</td>\n",
       "      <td>Dallas-Fort Worth International Airport</td>\n",
       "      <td>650.00</td>\n",
       "      <td>0.00</td>\n",
       "      <td>7</td>\n",
       "      <td>29</td>\n",
       "      <td>...</td>\n",
       "      <td>0</td>\n",
       "      <td>0</td>\n",
       "      <td>0</td>\n",
       "      <td>0</td>\n",
       "      <td>0</td>\n",
       "      <td>0</td>\n",
       "      <td>0</td>\n",
       "      <td>0</td>\n",
       "      <td>0</td>\n",
       "      <td>0</td>\n",
       "    </tr>\n",
       "    <tr>\n",
       "      <th>50626</th>\n",
       "      <td>2005032379505</td>\n",
       "      <td>Clothing - Shoes; belts; accessories; etc.</td>\n",
       "      <td>Denied</td>\n",
       "      <td>2005-03-07</td>\n",
       "      <td>2004-12-21</td>\n",
       "      <td>Seattle-Tacoma International</td>\n",
       "      <td>167.88</td>\n",
       "      <td>0.00</td>\n",
       "      <td>3</td>\n",
       "      <td>7</td>\n",
       "      <td>...</td>\n",
       "      <td>0</td>\n",
       "      <td>0</td>\n",
       "      <td>0</td>\n",
       "      <td>0</td>\n",
       "      <td>0</td>\n",
       "      <td>0</td>\n",
       "      <td>0</td>\n",
       "      <td>0</td>\n",
       "      <td>0</td>\n",
       "      <td>0</td>\n",
       "    </tr>\n",
       "    <tr>\n",
       "      <th>44630</th>\n",
       "      <td>2005010372302</td>\n",
       "      <td>Other</td>\n",
       "      <td>Approved</td>\n",
       "      <td>2004-12-14</td>\n",
       "      <td>2004-11-03</td>\n",
       "      <td>Seattle-Tacoma International</td>\n",
       "      <td>470.87</td>\n",
       "      <td>173.60</td>\n",
       "      <td>12</td>\n",
       "      <td>14</td>\n",
       "      <td>...</td>\n",
       "      <td>0</td>\n",
       "      <td>0</td>\n",
       "      <td>0</td>\n",
       "      <td>0</td>\n",
       "      <td>0</td>\n",
       "      <td>0</td>\n",
       "      <td>0</td>\n",
       "      <td>0</td>\n",
       "      <td>0</td>\n",
       "      <td>0</td>\n",
       "    </tr>\n",
       "    <tr>\n",
       "      <th>41512</th>\n",
       "      <td>2004122169816</td>\n",
       "      <td>Other</td>\n",
       "      <td>Denied</td>\n",
       "      <td>2004-10-28</td>\n",
       "      <td>2004-10-07</td>\n",
       "      <td>John F. Kennedy International</td>\n",
       "      <td>700.00</td>\n",
       "      <td>700.00</td>\n",
       "      <td>10</td>\n",
       "      <td>28</td>\n",
       "      <td>...</td>\n",
       "      <td>0</td>\n",
       "      <td>0</td>\n",
       "      <td>0</td>\n",
       "      <td>0</td>\n",
       "      <td>0</td>\n",
       "      <td>0</td>\n",
       "      <td>0</td>\n",
       "      <td>0</td>\n",
       "      <td>0</td>\n",
       "      <td>0</td>\n",
       "    </tr>\n",
       "    <tr>\n",
       "      <th>66384</th>\n",
       "      <td>2005120797071</td>\n",
       "      <td>Other</td>\n",
       "      <td>Approved</td>\n",
       "      <td>2005-11-22</td>\n",
       "      <td>2005-10-24</td>\n",
       "      <td>Boston (Logan) International Airport</td>\n",
       "      <td>88.00</td>\n",
       "      <td>88.00</td>\n",
       "      <td>11</td>\n",
       "      <td>22</td>\n",
       "      <td>...</td>\n",
       "      <td>0</td>\n",
       "      <td>0</td>\n",
       "      <td>0</td>\n",
       "      <td>0</td>\n",
       "      <td>0</td>\n",
       "      <td>0</td>\n",
       "      <td>0</td>\n",
       "      <td>0</td>\n",
       "      <td>0</td>\n",
       "      <td>0</td>\n",
       "    </tr>\n",
       "    <tr>\n",
       "      <th>120845</th>\n",
       "      <td>2009033157063</td>\n",
       "      <td>Cameras - Digital; Cameras - Non-electronic (C...</td>\n",
       "      <td>Denied</td>\n",
       "      <td>2009-03-13</td>\n",
       "      <td>2009-03-01</td>\n",
       "      <td>Los Angeles International Airport</td>\n",
       "      <td>644.69</td>\n",
       "      <td>0.00</td>\n",
       "      <td>3</td>\n",
       "      <td>13</td>\n",
       "      <td>...</td>\n",
       "      <td>0</td>\n",
       "      <td>0</td>\n",
       "      <td>0</td>\n",
       "      <td>0</td>\n",
       "      <td>0</td>\n",
       "      <td>0</td>\n",
       "      <td>0</td>\n",
       "      <td>0</td>\n",
       "      <td>0</td>\n",
       "      <td>0</td>\n",
       "    </tr>\n",
       "    <tr>\n",
       "      <th>1609</th>\n",
       "      <td>0206037L</td>\n",
       "      <td>Clothing - Shoes; belts; accessories; etc.</td>\n",
       "      <td>Settled</td>\n",
       "      <td>2003-02-06</td>\n",
       "      <td>2003-01-01</td>\n",
       "      <td>William P. Hobby</td>\n",
       "      <td>515.00</td>\n",
       "      <td>257.50</td>\n",
       "      <td>2</td>\n",
       "      <td>6</td>\n",
       "      <td>...</td>\n",
       "      <td>0</td>\n",
       "      <td>0</td>\n",
       "      <td>0</td>\n",
       "      <td>0</td>\n",
       "      <td>0</td>\n",
       "      <td>0</td>\n",
       "      <td>0</td>\n",
       "      <td>0</td>\n",
       "      <td>0</td>\n",
       "      <td>0</td>\n",
       "    </tr>\n",
       "    <tr>\n",
       "      <th>25672</th>\n",
       "      <td>2004051752609</td>\n",
       "      <td>Cameras - Digital</td>\n",
       "      <td>Approved</td>\n",
       "      <td>2004-03-18</td>\n",
       "      <td>2004-02-21</td>\n",
       "      <td>John F. Kennedy International</td>\n",
       "      <td>350.00</td>\n",
       "      <td>350.00</td>\n",
       "      <td>3</td>\n",
       "      <td>18</td>\n",
       "      <td>...</td>\n",
       "      <td>0</td>\n",
       "      <td>0</td>\n",
       "      <td>0</td>\n",
       "      <td>0</td>\n",
       "      <td>0</td>\n",
       "      <td>0</td>\n",
       "      <td>0</td>\n",
       "      <td>0</td>\n",
       "      <td>0</td>\n",
       "      <td>0</td>\n",
       "    </tr>\n",
       "    <tr>\n",
       "      <th>99630</th>\n",
       "      <td>2007101933682</td>\n",
       "      <td>Luggage (all types including footlockers)</td>\n",
       "      <td>Denied</td>\n",
       "      <td>2007-10-15</td>\n",
       "      <td>2007-04-24</td>\n",
       "      <td>Colorado Springs Municipal</td>\n",
       "      <td>60.00</td>\n",
       "      <td>0.00</td>\n",
       "      <td>10</td>\n",
       "      <td>15</td>\n",
       "      <td>...</td>\n",
       "      <td>0</td>\n",
       "      <td>0</td>\n",
       "      <td>0</td>\n",
       "      <td>0</td>\n",
       "      <td>0</td>\n",
       "      <td>0</td>\n",
       "      <td>0</td>\n",
       "      <td>0</td>\n",
       "      <td>0</td>\n",
       "      <td>0</td>\n",
       "    </tr>\n",
       "    <tr>\n",
       "      <th>86981</th>\n",
       "      <td>2007012519456</td>\n",
       "      <td>Cell Phones</td>\n",
       "      <td>Denied</td>\n",
       "      <td>2007-01-22</td>\n",
       "      <td>2007-01-15</td>\n",
       "      <td>Chicago O'Hare International Airport</td>\n",
       "      <td>100.00</td>\n",
       "      <td>0.00</td>\n",
       "      <td>1</td>\n",
       "      <td>22</td>\n",
       "      <td>...</td>\n",
       "      <td>0</td>\n",
       "      <td>0</td>\n",
       "      <td>0</td>\n",
       "      <td>0</td>\n",
       "      <td>0</td>\n",
       "      <td>0</td>\n",
       "      <td>0</td>\n",
       "      <td>0</td>\n",
       "      <td>0</td>\n",
       "      <td>0</td>\n",
       "    </tr>\n",
       "    <tr>\n",
       "      <th>84598</th>\n",
       "      <td>2006121116897</td>\n",
       "      <td>Cosmetics - Perfume; toilet articles; medicine...</td>\n",
       "      <td>Denied</td>\n",
       "      <td>2006-12-04</td>\n",
       "      <td>2006-11-02</td>\n",
       "      <td>Ft. Lauderdale-Hollywood International</td>\n",
       "      <td>50.51</td>\n",
       "      <td>0.00</td>\n",
       "      <td>12</td>\n",
       "      <td>4</td>\n",
       "      <td>...</td>\n",
       "      <td>0</td>\n",
       "      <td>0</td>\n",
       "      <td>0</td>\n",
       "      <td>0</td>\n",
       "      <td>0</td>\n",
       "      <td>0</td>\n",
       "      <td>0</td>\n",
       "      <td>0</td>\n",
       "      <td>0</td>\n",
       "      <td>0</td>\n",
       "    </tr>\n",
       "    <tr>\n",
       "      <th>27504</th>\n",
       "      <td>2004060354438</td>\n",
       "      <td>Cameras - Digital</td>\n",
       "      <td>Denied</td>\n",
       "      <td>2004-04-21</td>\n",
       "      <td>2004-03-10</td>\n",
       "      <td>Ted Stevens Anchorage International Airport</td>\n",
       "      <td>1331.71</td>\n",
       "      <td>0.00</td>\n",
       "      <td>4</td>\n",
       "      <td>21</td>\n",
       "      <td>...</td>\n",
       "      <td>0</td>\n",
       "      <td>0</td>\n",
       "      <td>0</td>\n",
       "      <td>0</td>\n",
       "      <td>0</td>\n",
       "      <td>0</td>\n",
       "      <td>0</td>\n",
       "      <td>0</td>\n",
       "      <td>0</td>\n",
       "      <td>0</td>\n",
       "    </tr>\n",
       "    <tr>\n",
       "      <th>83106</th>\n",
       "      <td>2006110715283</td>\n",
       "      <td>Cell Phones; Eyeglasses - (including contact l...</td>\n",
       "      <td>Settled</td>\n",
       "      <td>2006-11-02</td>\n",
       "      <td>2006-10-25</td>\n",
       "      <td>Dallas-Fort Worth International Airport</td>\n",
       "      <td>411.98</td>\n",
       "      <td>189.37</td>\n",
       "      <td>11</td>\n",
       "      <td>2</td>\n",
       "      <td>...</td>\n",
       "      <td>0</td>\n",
       "      <td>0</td>\n",
       "      <td>0</td>\n",
       "      <td>0</td>\n",
       "      <td>0</td>\n",
       "      <td>0</td>\n",
       "      <td>0</td>\n",
       "      <td>0</td>\n",
       "      <td>0</td>\n",
       "      <td>0</td>\n",
       "    </tr>\n",
       "    <tr>\n",
       "      <th>105099</th>\n",
       "      <td>2008013138977</td>\n",
       "      <td>Locks</td>\n",
       "      <td>Denied</td>\n",
       "      <td>2008-02-08</td>\n",
       "      <td>2008-01-10</td>\n",
       "      <td>Foreign airport</td>\n",
       "      <td>7.50</td>\n",
       "      <td>0.00</td>\n",
       "      <td>2</td>\n",
       "      <td>8</td>\n",
       "      <td>...</td>\n",
       "      <td>0</td>\n",
       "      <td>0</td>\n",
       "      <td>0</td>\n",
       "      <td>0</td>\n",
       "      <td>0</td>\n",
       "      <td>0</td>\n",
       "      <td>0</td>\n",
       "      <td>0</td>\n",
       "      <td>0</td>\n",
       "      <td>0</td>\n",
       "    </tr>\n",
       "    <tr>\n",
       "      <th>144352</th>\n",
       "      <td>2014072315338</td>\n",
       "      <td>Computer &amp; Accessories</td>\n",
       "      <td>Approved</td>\n",
       "      <td>2014-07-09</td>\n",
       "      <td>2014-07-05</td>\n",
       "      <td>Richmond International</td>\n",
       "      <td>731.38</td>\n",
       "      <td>NaN</td>\n",
       "      <td>7</td>\n",
       "      <td>9</td>\n",
       "      <td>...</td>\n",
       "      <td>0</td>\n",
       "      <td>0</td>\n",
       "      <td>0</td>\n",
       "      <td>0</td>\n",
       "      <td>0</td>\n",
       "      <td>0</td>\n",
       "      <td>0</td>\n",
       "      <td>0</td>\n",
       "      <td>0</td>\n",
       "      <td>0</td>\n",
       "    </tr>\n",
       "    <tr>\n",
       "      <th>110719</th>\n",
       "      <td>2008062045965</td>\n",
       "      <td>Cosmetics - Perfume; toilet articles; medicine...</td>\n",
       "      <td>Denied</td>\n",
       "      <td>2008-06-13</td>\n",
       "      <td>2008-05-18</td>\n",
       "      <td>Chicago O'Hare International Airport</td>\n",
       "      <td>38.00</td>\n",
       "      <td>0.00</td>\n",
       "      <td>6</td>\n",
       "      <td>13</td>\n",
       "      <td>...</td>\n",
       "      <td>0</td>\n",
       "      <td>0</td>\n",
       "      <td>0</td>\n",
       "      <td>0</td>\n",
       "      <td>0</td>\n",
       "      <td>0</td>\n",
       "      <td>0</td>\n",
       "      <td>0</td>\n",
       "      <td>0</td>\n",
       "      <td>0</td>\n",
       "    </tr>\n",
       "    <tr>\n",
       "      <th>13705</th>\n",
       "      <td>1002170M</td>\n",
       "      <td>Other</td>\n",
       "      <td>Denied</td>\n",
       "      <td>2003-10-02</td>\n",
       "      <td>2003-08-26</td>\n",
       "      <td>Detroit Metropolitan Wayne County Airport</td>\n",
       "      <td>500.00</td>\n",
       "      <td>0.00</td>\n",
       "      <td>10</td>\n",
       "      <td>2</td>\n",
       "      <td>...</td>\n",
       "      <td>0</td>\n",
       "      <td>0</td>\n",
       "      <td>0</td>\n",
       "      <td>0</td>\n",
       "      <td>0</td>\n",
       "      <td>0</td>\n",
       "      <td>0</td>\n",
       "      <td>0</td>\n",
       "      <td>0</td>\n",
       "      <td>0</td>\n",
       "    </tr>\n",
       "    <tr>\n",
       "      <th>50112</th>\n",
       "      <td>2005032178949</td>\n",
       "      <td>Other</td>\n",
       "      <td>Approved</td>\n",
       "      <td>2005-03-01</td>\n",
       "      <td>2005-01-13</td>\n",
       "      <td>McCarran International</td>\n",
       "      <td>10.00</td>\n",
       "      <td>10.00</td>\n",
       "      <td>3</td>\n",
       "      <td>1</td>\n",
       "      <td>...</td>\n",
       "      <td>0</td>\n",
       "      <td>0</td>\n",
       "      <td>0</td>\n",
       "      <td>0</td>\n",
       "      <td>0</td>\n",
       "      <td>0</td>\n",
       "      <td>0</td>\n",
       "      <td>0</td>\n",
       "      <td>0</td>\n",
       "      <td>0</td>\n",
       "    </tr>\n",
       "    <tr>\n",
       "      <th>...</th>\n",
       "      <td>...</td>\n",
       "      <td>...</td>\n",
       "      <td>...</td>\n",
       "      <td>...</td>\n",
       "      <td>...</td>\n",
       "      <td>...</td>\n",
       "      <td>...</td>\n",
       "      <td>...</td>\n",
       "      <td>...</td>\n",
       "      <td>...</td>\n",
       "      <td>...</td>\n",
       "      <td>...</td>\n",
       "      <td>...</td>\n",
       "      <td>...</td>\n",
       "      <td>...</td>\n",
       "      <td>...</td>\n",
       "      <td>...</td>\n",
       "      <td>...</td>\n",
       "      <td>...</td>\n",
       "      <td>...</td>\n",
       "      <td>...</td>\n",
       "    </tr>\n",
       "    <tr>\n",
       "      <th>131503</th>\n",
       "      <td>2010080574446</td>\n",
       "      <td>-</td>\n",
       "      <td>Approved</td>\n",
       "      <td>2010-08-18</td>\n",
       "      <td>2010-07-20</td>\n",
       "      <td>Chicago O'Hare International Airport</td>\n",
       "      <td>44.00</td>\n",
       "      <td>NaN</td>\n",
       "      <td>8</td>\n",
       "      <td>18</td>\n",
       "      <td>...</td>\n",
       "      <td>0</td>\n",
       "      <td>0</td>\n",
       "      <td>0</td>\n",
       "      <td>0</td>\n",
       "      <td>0</td>\n",
       "      <td>0</td>\n",
       "      <td>0</td>\n",
       "      <td>0</td>\n",
       "      <td>0</td>\n",
       "      <td>0</td>\n",
       "    </tr>\n",
       "    <tr>\n",
       "      <th>58072</th>\n",
       "      <td>2005062987725</td>\n",
       "      <td>Musical Instruments - Other - Over $250</td>\n",
       "      <td>Approved</td>\n",
       "      <td>2005-06-24</td>\n",
       "      <td>2005-05-29</td>\n",
       "      <td>Dallas-Fort Worth International Airport</td>\n",
       "      <td>20.00</td>\n",
       "      <td>20.00</td>\n",
       "      <td>6</td>\n",
       "      <td>24</td>\n",
       "      <td>...</td>\n",
       "      <td>0</td>\n",
       "      <td>0</td>\n",
       "      <td>0</td>\n",
       "      <td>0</td>\n",
       "      <td>0</td>\n",
       "      <td>0</td>\n",
       "      <td>0</td>\n",
       "      <td>0</td>\n",
       "      <td>0</td>\n",
       "      <td>0</td>\n",
       "    </tr>\n",
       "    <tr>\n",
       "      <th>95496</th>\n",
       "      <td>2007072328915</td>\n",
       "      <td>Watches - Expensive more than $100</td>\n",
       "      <td>Denied</td>\n",
       "      <td>2007-07-23</td>\n",
       "      <td>2007-07-19</td>\n",
       "      <td>Newark International Airport</td>\n",
       "      <td>1150.00</td>\n",
       "      <td>0.00</td>\n",
       "      <td>7</td>\n",
       "      <td>23</td>\n",
       "      <td>...</td>\n",
       "      <td>0</td>\n",
       "      <td>0</td>\n",
       "      <td>0</td>\n",
       "      <td>0</td>\n",
       "      <td>0</td>\n",
       "      <td>0</td>\n",
       "      <td>0</td>\n",
       "      <td>0</td>\n",
       "      <td>0</td>\n",
       "      <td>0</td>\n",
       "    </tr>\n",
       "    <tr>\n",
       "      <th>61756</th>\n",
       "      <td>2005090191989</td>\n",
       "      <td>Other</td>\n",
       "      <td>Settled</td>\n",
       "      <td>2005-08-26</td>\n",
       "      <td>2005-07-23</td>\n",
       "      <td>Houston - George Bush Intercontinental Airport</td>\n",
       "      <td>116.00</td>\n",
       "      <td>58.00</td>\n",
       "      <td>8</td>\n",
       "      <td>26</td>\n",
       "      <td>...</td>\n",
       "      <td>0</td>\n",
       "      <td>0</td>\n",
       "      <td>0</td>\n",
       "      <td>0</td>\n",
       "      <td>0</td>\n",
       "      <td>0</td>\n",
       "      <td>0</td>\n",
       "      <td>0</td>\n",
       "      <td>0</td>\n",
       "      <td>0</td>\n",
       "    </tr>\n",
       "    <tr>\n",
       "      <th>128896</th>\n",
       "      <td>2009120265964</td>\n",
       "      <td>Luggage (all types including footlockers)</td>\n",
       "      <td>Denied</td>\n",
       "      <td>2009-11-25</td>\n",
       "      <td>2009-11-07</td>\n",
       "      <td>Other</td>\n",
       "      <td>31.28</td>\n",
       "      <td>0.00</td>\n",
       "      <td>11</td>\n",
       "      <td>25</td>\n",
       "      <td>...</td>\n",
       "      <td>0</td>\n",
       "      <td>0</td>\n",
       "      <td>0</td>\n",
       "      <td>0</td>\n",
       "      <td>0</td>\n",
       "      <td>0</td>\n",
       "      <td>0</td>\n",
       "      <td>0</td>\n",
       "      <td>0</td>\n",
       "      <td>0</td>\n",
       "    </tr>\n",
       "    <tr>\n",
       "      <th>107833</th>\n",
       "      <td>2008041742721</td>\n",
       "      <td>GPS - Global Positioning System</td>\n",
       "      <td>Denied</td>\n",
       "      <td>2008-04-08</td>\n",
       "      <td>2008-03-31</td>\n",
       "      <td>Nashville International</td>\n",
       "      <td>300.00</td>\n",
       "      <td>0.00</td>\n",
       "      <td>4</td>\n",
       "      <td>8</td>\n",
       "      <td>...</td>\n",
       "      <td>0</td>\n",
       "      <td>0</td>\n",
       "      <td>0</td>\n",
       "      <td>0</td>\n",
       "      <td>0</td>\n",
       "      <td>0</td>\n",
       "      <td>0</td>\n",
       "      <td>0</td>\n",
       "      <td>0</td>\n",
       "      <td>0</td>\n",
       "    </tr>\n",
       "    <tr>\n",
       "      <th>3606</th>\n",
       "      <td>0409060L</td>\n",
       "      <td>Clothing - Shoes; belts; accessories; etc.</td>\n",
       "      <td>Approved</td>\n",
       "      <td>2003-04-09</td>\n",
       "      <td>2003-03-19</td>\n",
       "      <td>Portland International</td>\n",
       "      <td>100.00</td>\n",
       "      <td>100.00</td>\n",
       "      <td>4</td>\n",
       "      <td>9</td>\n",
       "      <td>...</td>\n",
       "      <td>0</td>\n",
       "      <td>0</td>\n",
       "      <td>0</td>\n",
       "      <td>0</td>\n",
       "      <td>0</td>\n",
       "      <td>0</td>\n",
       "      <td>0</td>\n",
       "      <td>0</td>\n",
       "      <td>0</td>\n",
       "      <td>0</td>\n",
       "    </tr>\n",
       "    <tr>\n",
       "      <th>117565</th>\n",
       "      <td>2008121153311</td>\n",
       "      <td>Luggage (all types including footlockers)</td>\n",
       "      <td>Denied</td>\n",
       "      <td>2008-12-08</td>\n",
       "      <td>2008-09-25</td>\n",
       "      <td>Charleston International</td>\n",
       "      <td>233.00</td>\n",
       "      <td>0.00</td>\n",
       "      <td>12</td>\n",
       "      <td>8</td>\n",
       "      <td>...</td>\n",
       "      <td>0</td>\n",
       "      <td>0</td>\n",
       "      <td>0</td>\n",
       "      <td>0</td>\n",
       "      <td>0</td>\n",
       "      <td>0</td>\n",
       "      <td>0</td>\n",
       "      <td>0</td>\n",
       "      <td>0</td>\n",
       "      <td>0</td>\n",
       "    </tr>\n",
       "    <tr>\n",
       "      <th>37183</th>\n",
       "      <td>2004090862408</td>\n",
       "      <td>Cameras - Digital</td>\n",
       "      <td>Approved</td>\n",
       "      <td>2004-08-31</td>\n",
       "      <td>2004-02-28</td>\n",
       "      <td>General Mitchell International Airport</td>\n",
       "      <td>124.61</td>\n",
       "      <td>121.10</td>\n",
       "      <td>8</td>\n",
       "      <td>31</td>\n",
       "      <td>...</td>\n",
       "      <td>0</td>\n",
       "      <td>0</td>\n",
       "      <td>0</td>\n",
       "      <td>0</td>\n",
       "      <td>0</td>\n",
       "      <td>0</td>\n",
       "      <td>0</td>\n",
       "      <td>0</td>\n",
       "      <td>0</td>\n",
       "      <td>0</td>\n",
       "    </tr>\n",
       "    <tr>\n",
       "      <th>99335</th>\n",
       "      <td>2007101233349</td>\n",
       "      <td>Dental Equipment and Instruments; Eyeglasses -...</td>\n",
       "      <td>Denied</td>\n",
       "      <td>2007-10-09</td>\n",
       "      <td>2007-08-13</td>\n",
       "      <td>Reno/Tahoe International</td>\n",
       "      <td>648.00</td>\n",
       "      <td>0.00</td>\n",
       "      <td>10</td>\n",
       "      <td>9</td>\n",
       "      <td>...</td>\n",
       "      <td>0</td>\n",
       "      <td>0</td>\n",
       "      <td>0</td>\n",
       "      <td>0</td>\n",
       "      <td>0</td>\n",
       "      <td>0</td>\n",
       "      <td>0</td>\n",
       "      <td>0</td>\n",
       "      <td>0</td>\n",
       "      <td>0</td>\n",
       "    </tr>\n",
       "    <tr>\n",
       "      <th>120809</th>\n",
       "      <td>2009032656951</td>\n",
       "      <td>Locks</td>\n",
       "      <td>Denied</td>\n",
       "      <td>2009-03-12</td>\n",
       "      <td>2009-02-28</td>\n",
       "      <td>Chicago O'Hare International Airport</td>\n",
       "      <td>20.00</td>\n",
       "      <td>0.00</td>\n",
       "      <td>3</td>\n",
       "      <td>12</td>\n",
       "      <td>...</td>\n",
       "      <td>0</td>\n",
       "      <td>0</td>\n",
       "      <td>0</td>\n",
       "      <td>0</td>\n",
       "      <td>0</td>\n",
       "      <td>0</td>\n",
       "      <td>0</td>\n",
       "      <td>0</td>\n",
       "      <td>0</td>\n",
       "      <td>0</td>\n",
       "    </tr>\n",
       "    <tr>\n",
       "      <th>104589</th>\n",
       "      <td>2008020639165</td>\n",
       "      <td>Boxes - Jewelry; Cigarette; Music; etc.; Jewel...</td>\n",
       "      <td>Denied</td>\n",
       "      <td>2008-01-29</td>\n",
       "      <td>2008-12-14</td>\n",
       "      <td>Other</td>\n",
       "      <td>800.00</td>\n",
       "      <td>0.00</td>\n",
       "      <td>1</td>\n",
       "      <td>29</td>\n",
       "      <td>...</td>\n",
       "      <td>0</td>\n",
       "      <td>0</td>\n",
       "      <td>0</td>\n",
       "      <td>0</td>\n",
       "      <td>0</td>\n",
       "      <td>0</td>\n",
       "      <td>0</td>\n",
       "      <td>0</td>\n",
       "      <td>0</td>\n",
       "      <td>0</td>\n",
       "    </tr>\n",
       "    <tr>\n",
       "      <th>33878</th>\n",
       "      <td>2004090362118</td>\n",
       "      <td>Luggage (all types including footlockers)</td>\n",
       "      <td>Settled</td>\n",
       "      <td>2004-07-13</td>\n",
       "      <td>2004-04-29</td>\n",
       "      <td>Minneapolis/ St.Paul International Airport</td>\n",
       "      <td>137.79</td>\n",
       "      <td>50.00</td>\n",
       "      <td>7</td>\n",
       "      <td>13</td>\n",
       "      <td>...</td>\n",
       "      <td>0</td>\n",
       "      <td>0</td>\n",
       "      <td>0</td>\n",
       "      <td>0</td>\n",
       "      <td>0</td>\n",
       "      <td>0</td>\n",
       "      <td>0</td>\n",
       "      <td>0</td>\n",
       "      <td>0</td>\n",
       "      <td>0</td>\n",
       "    </tr>\n",
       "    <tr>\n",
       "      <th>26103</th>\n",
       "      <td>2004051351831</td>\n",
       "      <td>Computer - Laptop</td>\n",
       "      <td>Settled</td>\n",
       "      <td>2004-03-24</td>\n",
       "      <td>2003-10-13</td>\n",
       "      <td>Metropolitan Oakland International</td>\n",
       "      <td>2868.63</td>\n",
       "      <td>2338.67</td>\n",
       "      <td>3</td>\n",
       "      <td>24</td>\n",
       "      <td>...</td>\n",
       "      <td>0</td>\n",
       "      <td>0</td>\n",
       "      <td>0</td>\n",
       "      <td>0</td>\n",
       "      <td>0</td>\n",
       "      <td>0</td>\n",
       "      <td>0</td>\n",
       "      <td>0</td>\n",
       "      <td>0</td>\n",
       "      <td>0</td>\n",
       "    </tr>\n",
       "    <tr>\n",
       "      <th>31959</th>\n",
       "      <td>2004070658513</td>\n",
       "      <td>Luggage (all types including footlockers)</td>\n",
       "      <td>Settled</td>\n",
       "      <td>2004-06-16</td>\n",
       "      <td>2004-02-19</td>\n",
       "      <td>Ronald Reagan Washington National Airport</td>\n",
       "      <td>139.99</td>\n",
       "      <td>50.00</td>\n",
       "      <td>6</td>\n",
       "      <td>16</td>\n",
       "      <td>...</td>\n",
       "      <td>0</td>\n",
       "      <td>0</td>\n",
       "      <td>0</td>\n",
       "      <td>0</td>\n",
       "      <td>0</td>\n",
       "      <td>0</td>\n",
       "      <td>0</td>\n",
       "      <td>0</td>\n",
       "      <td>0</td>\n",
       "      <td>0</td>\n",
       "    </tr>\n",
       "    <tr>\n",
       "      <th>92740</th>\n",
       "      <td>2007060126047</td>\n",
       "      <td>Computer - Laptop; MP3 Players-(iPods; etc)</td>\n",
       "      <td>Denied</td>\n",
       "      <td>2007-05-24</td>\n",
       "      <td>2007-04-26</td>\n",
       "      <td>McCarran International</td>\n",
       "      <td>1389.59</td>\n",
       "      <td>0.00</td>\n",
       "      <td>5</td>\n",
       "      <td>24</td>\n",
       "      <td>...</td>\n",
       "      <td>0</td>\n",
       "      <td>0</td>\n",
       "      <td>0</td>\n",
       "      <td>0</td>\n",
       "      <td>0</td>\n",
       "      <td>0</td>\n",
       "      <td>0</td>\n",
       "      <td>0</td>\n",
       "      <td>0</td>\n",
       "      <td>0</td>\n",
       "    </tr>\n",
       "    <tr>\n",
       "      <th>103068</th>\n",
       "      <td>2008010737423</td>\n",
       "      <td>Clothing - Shoes; belts; accessories; etc.</td>\n",
       "      <td>Approved</td>\n",
       "      <td>2007-12-31</td>\n",
       "      <td>2007-12-25</td>\n",
       "      <td>Metropolitan Oakland International</td>\n",
       "      <td>25.00</td>\n",
       "      <td>25.00</td>\n",
       "      <td>12</td>\n",
       "      <td>31</td>\n",
       "      <td>...</td>\n",
       "      <td>0</td>\n",
       "      <td>0</td>\n",
       "      <td>0</td>\n",
       "      <td>0</td>\n",
       "      <td>0</td>\n",
       "      <td>0</td>\n",
       "      <td>0</td>\n",
       "      <td>0</td>\n",
       "      <td>0</td>\n",
       "      <td>0</td>\n",
       "    </tr>\n",
       "    <tr>\n",
       "      <th>19946</th>\n",
       "      <td>0107368M</td>\n",
       "      <td>Luggage (all types including footlockers)</td>\n",
       "      <td>Settled</td>\n",
       "      <td>2004-01-07</td>\n",
       "      <td>2003-11-25</td>\n",
       "      <td>Cincinnati/Northern Kentucky International</td>\n",
       "      <td>200.00</td>\n",
       "      <td>50.00</td>\n",
       "      <td>1</td>\n",
       "      <td>7</td>\n",
       "      <td>...</td>\n",
       "      <td>0</td>\n",
       "      <td>0</td>\n",
       "      <td>0</td>\n",
       "      <td>0</td>\n",
       "      <td>0</td>\n",
       "      <td>0</td>\n",
       "      <td>0</td>\n",
       "      <td>0</td>\n",
       "      <td>0</td>\n",
       "      <td>0</td>\n",
       "    </tr>\n",
       "    <tr>\n",
       "      <th>139516</th>\n",
       "      <td>2013010899617</td>\n",
       "      <td>Other</td>\n",
       "      <td>Approved</td>\n",
       "      <td>2012-11-20</td>\n",
       "      <td>2012-04-25</td>\n",
       "      <td>Ronald Reagan Washington National Airport</td>\n",
       "      <td>83.74</td>\n",
       "      <td>NaN</td>\n",
       "      <td>11</td>\n",
       "      <td>20</td>\n",
       "      <td>...</td>\n",
       "      <td>0</td>\n",
       "      <td>0</td>\n",
       "      <td>0</td>\n",
       "      <td>0</td>\n",
       "      <td>0</td>\n",
       "      <td>0</td>\n",
       "      <td>0</td>\n",
       "      <td>0</td>\n",
       "      <td>0</td>\n",
       "      <td>0</td>\n",
       "    </tr>\n",
       "    <tr>\n",
       "      <th>51668</th>\n",
       "      <td>2005033180822</td>\n",
       "      <td>Cameras - Digital</td>\n",
       "      <td>Denied</td>\n",
       "      <td>2005-03-23</td>\n",
       "      <td>2005-03-10</td>\n",
       "      <td>Ft. Lauderdale-Hollywood International</td>\n",
       "      <td>260.97</td>\n",
       "      <td>260.97</td>\n",
       "      <td>3</td>\n",
       "      <td>23</td>\n",
       "      <td>...</td>\n",
       "      <td>0</td>\n",
       "      <td>0</td>\n",
       "      <td>0</td>\n",
       "      <td>0</td>\n",
       "      <td>0</td>\n",
       "      <td>0</td>\n",
       "      <td>0</td>\n",
       "      <td>0</td>\n",
       "      <td>0</td>\n",
       "      <td>0</td>\n",
       "    </tr>\n",
       "    <tr>\n",
       "      <th>21758</th>\n",
       "      <td>0202341M</td>\n",
       "      <td>Jewelry - Fine</td>\n",
       "      <td>Settled</td>\n",
       "      <td>2004-02-02</td>\n",
       "      <td>2004-01-13</td>\n",
       "      <td>Charlotte/Douglas International Airport</td>\n",
       "      <td>167.00</td>\n",
       "      <td>83.50</td>\n",
       "      <td>2</td>\n",
       "      <td>2</td>\n",
       "      <td>...</td>\n",
       "      <td>0</td>\n",
       "      <td>0</td>\n",
       "      <td>0</td>\n",
       "      <td>0</td>\n",
       "      <td>0</td>\n",
       "      <td>0</td>\n",
       "      <td>0</td>\n",
       "      <td>0</td>\n",
       "      <td>0</td>\n",
       "      <td>0</td>\n",
       "    </tr>\n",
       "    <tr>\n",
       "      <th>31228</th>\n",
       "      <td>2004062857676</td>\n",
       "      <td>Cameras - Digital</td>\n",
       "      <td>Denied</td>\n",
       "      <td>2004-06-04</td>\n",
       "      <td>2004-01-16</td>\n",
       "      <td>Ft. Lauderdale-Hollywood International</td>\n",
       "      <td>2252.85</td>\n",
       "      <td>2252.85</td>\n",
       "      <td>6</td>\n",
       "      <td>4</td>\n",
       "      <td>...</td>\n",
       "      <td>0</td>\n",
       "      <td>0</td>\n",
       "      <td>0</td>\n",
       "      <td>0</td>\n",
       "      <td>0</td>\n",
       "      <td>0</td>\n",
       "      <td>0</td>\n",
       "      <td>0</td>\n",
       "      <td>0</td>\n",
       "      <td>0</td>\n",
       "    </tr>\n",
       "    <tr>\n",
       "      <th>138823</th>\n",
       "      <td>2012102397971</td>\n",
       "      <td>Baggage/Cases/Purses</td>\n",
       "      <td>Approved</td>\n",
       "      <td>2012-09-12</td>\n",
       "      <td>2012-07-04</td>\n",
       "      <td>John F. Kennedy International</td>\n",
       "      <td>53.50</td>\n",
       "      <td>NaN</td>\n",
       "      <td>9</td>\n",
       "      <td>12</td>\n",
       "      <td>...</td>\n",
       "      <td>0</td>\n",
       "      <td>0</td>\n",
       "      <td>0</td>\n",
       "      <td>0</td>\n",
       "      <td>0</td>\n",
       "      <td>0</td>\n",
       "      <td>0</td>\n",
       "      <td>0</td>\n",
       "      <td>0</td>\n",
       "      <td>0</td>\n",
       "    </tr>\n",
       "    <tr>\n",
       "      <th>21440</th>\n",
       "      <td>0130206M</td>\n",
       "      <td>Other</td>\n",
       "      <td>Denied</td>\n",
       "      <td>2004-01-30</td>\n",
       "      <td>2004-01-03</td>\n",
       "      <td>Portland International</td>\n",
       "      <td>27.10</td>\n",
       "      <td>0.00</td>\n",
       "      <td>1</td>\n",
       "      <td>30</td>\n",
       "      <td>...</td>\n",
       "      <td>0</td>\n",
       "      <td>0</td>\n",
       "      <td>0</td>\n",
       "      <td>0</td>\n",
       "      <td>0</td>\n",
       "      <td>0</td>\n",
       "      <td>0</td>\n",
       "      <td>0</td>\n",
       "      <td>0</td>\n",
       "      <td>0</td>\n",
       "    </tr>\n",
       "    <tr>\n",
       "      <th>117583</th>\n",
       "      <td>2008121753464</td>\n",
       "      <td>GPS - Global Positioning System</td>\n",
       "      <td>Denied</td>\n",
       "      <td>2008-12-09</td>\n",
       "      <td>2008-11-28</td>\n",
       "      <td>Other</td>\n",
       "      <td>362.08</td>\n",
       "      <td>0.00</td>\n",
       "      <td>12</td>\n",
       "      <td>9</td>\n",
       "      <td>...</td>\n",
       "      <td>0</td>\n",
       "      <td>0</td>\n",
       "      <td>0</td>\n",
       "      <td>0</td>\n",
       "      <td>0</td>\n",
       "      <td>0</td>\n",
       "      <td>0</td>\n",
       "      <td>0</td>\n",
       "      <td>0</td>\n",
       "      <td>0</td>\n",
       "    </tr>\n",
       "    <tr>\n",
       "      <th>73349</th>\n",
       "      <td>2006041704669</td>\n",
       "      <td>Clothing - Shoes; belts; accessories; etc.</td>\n",
       "      <td>Denied</td>\n",
       "      <td>2006-04-06</td>\n",
       "      <td>2006-03-18</td>\n",
       "      <td>William P. Hobby</td>\n",
       "      <td>90.75</td>\n",
       "      <td>0.00</td>\n",
       "      <td>4</td>\n",
       "      <td>6</td>\n",
       "      <td>...</td>\n",
       "      <td>0</td>\n",
       "      <td>0</td>\n",
       "      <td>0</td>\n",
       "      <td>0</td>\n",
       "      <td>0</td>\n",
       "      <td>0</td>\n",
       "      <td>0</td>\n",
       "      <td>0</td>\n",
       "      <td>0</td>\n",
       "      <td>0</td>\n",
       "    </tr>\n",
       "    <tr>\n",
       "      <th>109259</th>\n",
       "      <td>2008051444251</td>\n",
       "      <td>Cell Phones</td>\n",
       "      <td>Denied</td>\n",
       "      <td>2008-05-09</td>\n",
       "      <td>2008-04-06</td>\n",
       "      <td>Orlando International Airport</td>\n",
       "      <td>249.00</td>\n",
       "      <td>0.00</td>\n",
       "      <td>5</td>\n",
       "      <td>9</td>\n",
       "      <td>...</td>\n",
       "      <td>0</td>\n",
       "      <td>0</td>\n",
       "      <td>0</td>\n",
       "      <td>0</td>\n",
       "      <td>0</td>\n",
       "      <td>0</td>\n",
       "      <td>0</td>\n",
       "      <td>0</td>\n",
       "      <td>0</td>\n",
       "      <td>0</td>\n",
       "    </tr>\n",
       "    <tr>\n",
       "      <th>50057</th>\n",
       "      <td>2005032279333</td>\n",
       "      <td>Computer - Laptop</td>\n",
       "      <td>Denied</td>\n",
       "      <td>2005-03-01</td>\n",
       "      <td>2005-02-07</td>\n",
       "      <td>Detroit Metropolitan Wayne County Airport</td>\n",
       "      <td>1500.00</td>\n",
       "      <td>0.00</td>\n",
       "      <td>3</td>\n",
       "      <td>1</td>\n",
       "      <td>...</td>\n",
       "      <td>0</td>\n",
       "      <td>0</td>\n",
       "      <td>0</td>\n",
       "      <td>0</td>\n",
       "      <td>0</td>\n",
       "      <td>0</td>\n",
       "      <td>0</td>\n",
       "      <td>0</td>\n",
       "      <td>0</td>\n",
       "      <td>0</td>\n",
       "    </tr>\n",
       "    <tr>\n",
       "      <th>5192</th>\n",
       "      <td>0527075L</td>\n",
       "      <td>Locks</td>\n",
       "      <td>Denied</td>\n",
       "      <td>2003-05-27</td>\n",
       "      <td>2003-05-04</td>\n",
       "      <td>Cincinnati/Northern Kentucky International</td>\n",
       "      <td>139.09</td>\n",
       "      <td>0.00</td>\n",
       "      <td>5</td>\n",
       "      <td>27</td>\n",
       "      <td>...</td>\n",
       "      <td>0</td>\n",
       "      <td>0</td>\n",
       "      <td>0</td>\n",
       "      <td>0</td>\n",
       "      <td>0</td>\n",
       "      <td>0</td>\n",
       "      <td>0</td>\n",
       "      <td>0</td>\n",
       "      <td>0</td>\n",
       "      <td>0</td>\n",
       "    </tr>\n",
       "    <tr>\n",
       "      <th>128037</th>\n",
       "      <td>2009102764815</td>\n",
       "      <td>Other</td>\n",
       "      <td>Approved</td>\n",
       "      <td>2009-10-27</td>\n",
       "      <td>2009-10-27</td>\n",
       "      <td>Dallas-Fort Worth International Airport</td>\n",
       "      <td>44.94</td>\n",
       "      <td>44.94</td>\n",
       "      <td>10</td>\n",
       "      <td>27</td>\n",
       "      <td>...</td>\n",
       "      <td>0</td>\n",
       "      <td>0</td>\n",
       "      <td>0</td>\n",
       "      <td>0</td>\n",
       "      <td>0</td>\n",
       "      <td>0</td>\n",
       "      <td>0</td>\n",
       "      <td>0</td>\n",
       "      <td>0</td>\n",
       "      <td>0</td>\n",
       "    </tr>\n",
       "  </tbody>\n",
       "</table>\n",
       "<p>116009 rows × 344 columns</p>\n",
       "</div>"
      ],
      "text/plain": [
       "         Claim_Number                                               Item  \\\n",
       "131458  2010082075174                               Cosmetics & Grooming   \n",
       "48831   2005031177670          Luggage (all types including footlockers)   \n",
       "126130  2009082462923         Clothing - Shoes; belts; accessories; etc.   \n",
       "24131        0226165M                                  Cameras - Digital   \n",
       "114314  2008091049732                                     Jewelry - Fine   \n",
       "120796  2009040157077   Locks; Luggage (all types including footlockers)   \n",
       "134368  2011071185085                                              Other   \n",
       "137529  2012052794318                                           Clothing   \n",
       "59141   2005071488868                                              Other   \n",
       "12875        0916079M                                              Other   \n",
       "124893  2009072261631                                  Computer - Laptop   \n",
       "912          0909826M                                  Cameras - Digital   \n",
       "9262         0729235M                                  Cameras - Digital   \n",
       "50626   2005032379505         Clothing - Shoes; belts; accessories; etc.   \n",
       "44630   2005010372302                                              Other   \n",
       "41512   2004122169816                                              Other   \n",
       "66384   2005120797071                                              Other   \n",
       "120845  2009033157063  Cameras - Digital; Cameras - Non-electronic (C...   \n",
       "1609         0206037L         Clothing - Shoes; belts; accessories; etc.   \n",
       "25672   2004051752609                                  Cameras - Digital   \n",
       "99630   2007101933682          Luggage (all types including footlockers)   \n",
       "86981   2007012519456                                        Cell Phones   \n",
       "84598   2006121116897  Cosmetics - Perfume; toilet articles; medicine...   \n",
       "27504   2004060354438                                  Cameras - Digital   \n",
       "83106   2006110715283  Cell Phones; Eyeglasses - (including contact l...   \n",
       "105099  2008013138977                                              Locks   \n",
       "144352  2014072315338                             Computer & Accessories   \n",
       "110719  2008062045965  Cosmetics - Perfume; toilet articles; medicine...   \n",
       "13705        1002170M                                              Other   \n",
       "50112   2005032178949                                              Other   \n",
       "...               ...                                                ...   \n",
       "131503  2010080574446                                                  -   \n",
       "58072   2005062987725            Musical Instruments - Other - Over $250   \n",
       "95496   2007072328915                 Watches - Expensive more than $100   \n",
       "61756   2005090191989                                              Other   \n",
       "128896  2009120265964          Luggage (all types including footlockers)   \n",
       "107833  2008041742721                    GPS - Global Positioning System   \n",
       "3606         0409060L         Clothing - Shoes; belts; accessories; etc.   \n",
       "117565  2008121153311          Luggage (all types including footlockers)   \n",
       "37183   2004090862408                                  Cameras - Digital   \n",
       "99335   2007101233349  Dental Equipment and Instruments; Eyeglasses -...   \n",
       "120809  2009032656951                                              Locks   \n",
       "104589  2008020639165  Boxes - Jewelry; Cigarette; Music; etc.; Jewel...   \n",
       "33878   2004090362118          Luggage (all types including footlockers)   \n",
       "26103   2004051351831                                  Computer - Laptop   \n",
       "31959   2004070658513          Luggage (all types including footlockers)   \n",
       "92740   2007060126047        Computer - Laptop; MP3 Players-(iPods; etc)   \n",
       "103068  2008010737423         Clothing - Shoes; belts; accessories; etc.   \n",
       "19946        0107368M          Luggage (all types including footlockers)   \n",
       "139516  2013010899617                                              Other   \n",
       "51668   2005033180822                                  Cameras - Digital   \n",
       "21758        0202341M                                     Jewelry - Fine   \n",
       "31228   2004062857676                                  Cameras - Digital   \n",
       "138823  2012102397971                               Baggage/Cases/Purses   \n",
       "21440        0130206M                                              Other   \n",
       "117583  2008121753464                    GPS - Global Positioning System   \n",
       "73349   2006041704669         Clothing - Shoes; belts; accessories; etc.   \n",
       "109259  2008051444251                                        Cell Phones   \n",
       "50057   2005032279333                                  Computer - Laptop   \n",
       "5192         0527075L                                              Locks   \n",
       "128037  2009102764815                                              Other   \n",
       "\n",
       "          Status Date_Received Incident_Date  \\\n",
       "131458  Approved    2010-08-16    2010-07-26   \n",
       "48831     Denied    2005-02-08    2004-09-09   \n",
       "126130   Settled    2009-08-21    2009-07-28   \n",
       "24131   Approved    2004-02-26    2003-12-25   \n",
       "114314    Denied    2008-09-08    2008-07-31   \n",
       "120796    Denied    2009-03-12    2009-02-22   \n",
       "134368  Approved    2011-06-28    2011-04-08   \n",
       "137529  Approved    2012-05-07    2012-02-23   \n",
       "59141     Denied    2005-07-13    2005-06-23   \n",
       "12875    Settled    2003-09-16    2003-08-23   \n",
       "124893    Denied    2009-07-16    2009-07-05   \n",
       "912      Settled    2003-01-13    2002-12-20   \n",
       "9262      Denied    2003-07-29    2003-07-18   \n",
       "50626     Denied    2005-03-07    2004-12-21   \n",
       "44630   Approved    2004-12-14    2004-11-03   \n",
       "41512     Denied    2004-10-28    2004-10-07   \n",
       "66384   Approved    2005-11-22    2005-10-24   \n",
       "120845    Denied    2009-03-13    2009-03-01   \n",
       "1609     Settled    2003-02-06    2003-01-01   \n",
       "25672   Approved    2004-03-18    2004-02-21   \n",
       "99630     Denied    2007-10-15    2007-04-24   \n",
       "86981     Denied    2007-01-22    2007-01-15   \n",
       "84598     Denied    2006-12-04    2006-11-02   \n",
       "27504     Denied    2004-04-21    2004-03-10   \n",
       "83106    Settled    2006-11-02    2006-10-25   \n",
       "105099    Denied    2008-02-08    2008-01-10   \n",
       "144352  Approved    2014-07-09    2014-07-05   \n",
       "110719    Denied    2008-06-13    2008-05-18   \n",
       "13705     Denied    2003-10-02    2003-08-26   \n",
       "50112   Approved    2005-03-01    2005-01-13   \n",
       "...          ...           ...           ...   \n",
       "131503  Approved    2010-08-18    2010-07-20   \n",
       "58072   Approved    2005-06-24    2005-05-29   \n",
       "95496     Denied    2007-07-23    2007-07-19   \n",
       "61756    Settled    2005-08-26    2005-07-23   \n",
       "128896    Denied    2009-11-25    2009-11-07   \n",
       "107833    Denied    2008-04-08    2008-03-31   \n",
       "3606    Approved    2003-04-09    2003-03-19   \n",
       "117565    Denied    2008-12-08    2008-09-25   \n",
       "37183   Approved    2004-08-31    2004-02-28   \n",
       "99335     Denied    2007-10-09    2007-08-13   \n",
       "120809    Denied    2009-03-12    2009-02-28   \n",
       "104589    Denied    2008-01-29    2008-12-14   \n",
       "33878    Settled    2004-07-13    2004-04-29   \n",
       "26103    Settled    2004-03-24    2003-10-13   \n",
       "31959    Settled    2004-06-16    2004-02-19   \n",
       "92740     Denied    2007-05-24    2007-04-26   \n",
       "103068  Approved    2007-12-31    2007-12-25   \n",
       "19946    Settled    2004-01-07    2003-11-25   \n",
       "139516  Approved    2012-11-20    2012-04-25   \n",
       "51668     Denied    2005-03-23    2005-03-10   \n",
       "21758    Settled    2004-02-02    2004-01-13   \n",
       "31228     Denied    2004-06-04    2004-01-16   \n",
       "138823  Approved    2012-09-12    2012-07-04   \n",
       "21440     Denied    2004-01-30    2004-01-03   \n",
       "117583    Denied    2008-12-09    2008-11-28   \n",
       "73349     Denied    2006-04-06    2006-03-18   \n",
       "109259    Denied    2008-05-09    2008-04-06   \n",
       "50057     Denied    2005-03-01    2005-02-07   \n",
       "5192      Denied    2003-05-27    2003-05-04   \n",
       "128037  Approved    2009-10-27    2009-10-27   \n",
       "\n",
       "                                      Airport_Name_Group  Claim_Value  \\\n",
       "131458                                        John Wayne        35.00   \n",
       "48831                   Sacramento International Airport        43.09   \n",
       "126130                           San Diego International      1618.34   \n",
       "24131             General Mitchell International Airport       155.76   \n",
       "114314                     Bradley International Airport       717.00   \n",
       "120796                           San Diego International       750.00   \n",
       "134368  Hartsfield-Jackson Atlanta International Airport       180.39   \n",
       "137529              Chicago O'Hare International Airport        76.67   \n",
       "59141                     Honolulu International Airport       600.00   \n",
       "12875               Boston (Logan) International Airport       600.00   \n",
       "124893            Austin-Bergstrom International Airport      1334.00   \n",
       "912                         Newark International Airport       385.00   \n",
       "9262             Dallas-Fort Worth International Airport       650.00   \n",
       "50626                       Seattle-Tacoma International       167.88   \n",
       "44630                       Seattle-Tacoma International       470.87   \n",
       "41512                      John F. Kennedy International       700.00   \n",
       "66384               Boston (Logan) International Airport        88.00   \n",
       "120845                 Los Angeles International Airport       644.69   \n",
       "1609                                    William P. Hobby       515.00   \n",
       "25672                      John F. Kennedy International       350.00   \n",
       "99630                         Colorado Springs Municipal        60.00   \n",
       "86981               Chicago O'Hare International Airport       100.00   \n",
       "84598             Ft. Lauderdale-Hollywood International        50.51   \n",
       "27504        Ted Stevens Anchorage International Airport      1331.71   \n",
       "83106            Dallas-Fort Worth International Airport       411.98   \n",
       "105099                                   Foreign airport         7.50   \n",
       "144352                            Richmond International       731.38   \n",
       "110719              Chicago O'Hare International Airport        38.00   \n",
       "13705          Detroit Metropolitan Wayne County Airport       500.00   \n",
       "50112                             McCarran International        10.00   \n",
       "...                                                  ...          ...   \n",
       "131503              Chicago O'Hare International Airport        44.00   \n",
       "58072            Dallas-Fort Worth International Airport        20.00   \n",
       "95496                       Newark International Airport      1150.00   \n",
       "61756     Houston - George Bush Intercontinental Airport       116.00   \n",
       "128896                                             Other        31.28   \n",
       "107833                           Nashville International       300.00   \n",
       "3606                              Portland International       100.00   \n",
       "117565                          Charleston International       233.00   \n",
       "37183             General Mitchell International Airport       124.61   \n",
       "99335                           Reno/Tahoe International       648.00   \n",
       "120809              Chicago O'Hare International Airport        20.00   \n",
       "104589                                             Other       800.00   \n",
       "33878         Minneapolis/ St.Paul International Airport       137.79   \n",
       "26103                 Metropolitan Oakland International      2868.63   \n",
       "31959          Ronald Reagan Washington National Airport       139.99   \n",
       "92740                             McCarran International      1389.59   \n",
       "103068                Metropolitan Oakland International        25.00   \n",
       "19946         Cincinnati/Northern Kentucky International       200.00   \n",
       "139516         Ronald Reagan Washington National Airport        83.74   \n",
       "51668             Ft. Lauderdale-Hollywood International       260.97   \n",
       "21758            Charlotte/Douglas International Airport       167.00   \n",
       "31228             Ft. Lauderdale-Hollywood International      2252.85   \n",
       "138823                     John F. Kennedy International        53.50   \n",
       "21440                             Portland International        27.10   \n",
       "117583                                             Other       362.08   \n",
       "73349                                   William P. Hobby        90.75   \n",
       "109259                     Orlando International Airport       249.00   \n",
       "50057          Detroit Metropolitan Wayne County Airport      1500.00   \n",
       "5192          Cincinnati/Northern Kentucky International       139.09   \n",
       "128037           Dallas-Fort Worth International Airport        44.94   \n",
       "\n",
       "        Close_Value  Month_Received  DayMonth_Received         ...           \\\n",
       "131458          NaN               8                 16         ...            \n",
       "48831          0.00               2                  8         ...            \n",
       "126130       809.17               8                 21         ...            \n",
       "24131        155.76               2                 26         ...            \n",
       "114314         0.00               9                  8         ...            \n",
       "120796         0.00               3                 12         ...            \n",
       "134368          NaN               6                 28         ...            \n",
       "137529          NaN               5                  7         ...            \n",
       "59141          0.00               7                 13         ...            \n",
       "12875        336.00               9                 16         ...            \n",
       "124893         0.00               7                 16         ...            \n",
       "912          283.00               1                 13         ...            \n",
       "9262           0.00               7                 29         ...            \n",
       "50626          0.00               3                  7         ...            \n",
       "44630        173.60              12                 14         ...            \n",
       "41512        700.00              10                 28         ...            \n",
       "66384         88.00              11                 22         ...            \n",
       "120845         0.00               3                 13         ...            \n",
       "1609         257.50               2                  6         ...            \n",
       "25672        350.00               3                 18         ...            \n",
       "99630          0.00              10                 15         ...            \n",
       "86981          0.00               1                 22         ...            \n",
       "84598          0.00              12                  4         ...            \n",
       "27504          0.00               4                 21         ...            \n",
       "83106        189.37              11                  2         ...            \n",
       "105099         0.00               2                  8         ...            \n",
       "144352          NaN               7                  9         ...            \n",
       "110719         0.00               6                 13         ...            \n",
       "13705          0.00              10                  2         ...            \n",
       "50112         10.00               3                  1         ...            \n",
       "...             ...             ...                ...         ...            \n",
       "131503          NaN               8                 18         ...            \n",
       "58072         20.00               6                 24         ...            \n",
       "95496          0.00               7                 23         ...            \n",
       "61756         58.00               8                 26         ...            \n",
       "128896         0.00              11                 25         ...            \n",
       "107833         0.00               4                  8         ...            \n",
       "3606         100.00               4                  9         ...            \n",
       "117565         0.00              12                  8         ...            \n",
       "37183        121.10               8                 31         ...            \n",
       "99335          0.00              10                  9         ...            \n",
       "120809         0.00               3                 12         ...            \n",
       "104589         0.00               1                 29         ...            \n",
       "33878         50.00               7                 13         ...            \n",
       "26103       2338.67               3                 24         ...            \n",
       "31959         50.00               6                 16         ...            \n",
       "92740          0.00               5                 24         ...            \n",
       "103068        25.00              12                 31         ...            \n",
       "19946         50.00               1                  7         ...            \n",
       "139516          NaN              11                 20         ...            \n",
       "51668        260.97               3                 23         ...            \n",
       "21758         83.50               2                  2         ...            \n",
       "31228       2252.85               6                  4         ...            \n",
       "138823          NaN               9                 12         ...            \n",
       "21440          0.00               1                 30         ...            \n",
       "117583         0.00              12                  9         ...            \n",
       "73349          0.00               4                  6         ...            \n",
       "109259         0.00               5                  9         ...            \n",
       "50057          0.00               3                  1         ...            \n",
       "5192           0.00               5                 27         ...            \n",
       "128037        44.94              10                 27         ...            \n",
       "\n",
       "        Airline_VirginExpress  Airline_VisionAirlines  \\\n",
       "131458                      0                       0   \n",
       "48831                       0                       0   \n",
       "126130                      0                       0   \n",
       "24131                       0                       0   \n",
       "114314                      0                       0   \n",
       "120796                      0                       0   \n",
       "134368                      0                       0   \n",
       "137529                      0                       0   \n",
       "59141                       0                       0   \n",
       "12875                       0                       0   \n",
       "124893                      0                       0   \n",
       "912                         0                       0   \n",
       "9262                        0                       0   \n",
       "50626                       0                       0   \n",
       "44630                       0                       0   \n",
       "41512                       0                       0   \n",
       "66384                       0                       0   \n",
       "120845                      0                       0   \n",
       "1609                        0                       0   \n",
       "25672                       0                       0   \n",
       "99630                       0                       0   \n",
       "86981                       0                       0   \n",
       "84598                       0                       0   \n",
       "27504                       0                       0   \n",
       "83106                       0                       0   \n",
       "105099                      0                       0   \n",
       "144352                      0                       0   \n",
       "110719                      0                       0   \n",
       "13705                       0                       0   \n",
       "50112                       0                       0   \n",
       "...                       ...                     ...   \n",
       "131503                      0                       0   \n",
       "58072                       0                       0   \n",
       "95496                       0                       0   \n",
       "61756                       0                       0   \n",
       "128896                      0                       0   \n",
       "107833                      0                       0   \n",
       "3606                        0                       0   \n",
       "117565                      0                       0   \n",
       "37183                       0                       0   \n",
       "99335                       0                       0   \n",
       "120809                      0                       0   \n",
       "104589                      0                       0   \n",
       "33878                       0                       0   \n",
       "26103                       0                       0   \n",
       "31959                       0                       0   \n",
       "92740                       0                       0   \n",
       "103068                      0                       0   \n",
       "19946                       0                       0   \n",
       "139516                      0                       0   \n",
       "51668                       0                       0   \n",
       "21758                       0                       0   \n",
       "31228                       0                       0   \n",
       "138823                      0                       0   \n",
       "21440                       0                       0   \n",
       "117583                      0                       0   \n",
       "73349                       0                       0   \n",
       "109259                      0                       0   \n",
       "50057                       0                       0   \n",
       "5192                        0                       0   \n",
       "128037                      0                       0   \n",
       "\n",
       "        Airline_VolarisAirlines  Airline_Webjet  \\\n",
       "131458                        0               0   \n",
       "48831                         0               0   \n",
       "126130                        0               0   \n",
       "24131                         0               0   \n",
       "114314                        0               0   \n",
       "120796                        0               0   \n",
       "134368                        0               0   \n",
       "137529                        0               0   \n",
       "59141                         0               0   \n",
       "12875                         0               0   \n",
       "124893                        0               0   \n",
       "912                           0               0   \n",
       "9262                          0               0   \n",
       "50626                         0               0   \n",
       "44630                         0               0   \n",
       "41512                         0               0   \n",
       "66384                         0               0   \n",
       "120845                        0               0   \n",
       "1609                          0               0   \n",
       "25672                         0               0   \n",
       "99630                         0               0   \n",
       "86981                         0               0   \n",
       "84598                         0               0   \n",
       "27504                         0               0   \n",
       "83106                         0               0   \n",
       "105099                        0               0   \n",
       "144352                        0               0   \n",
       "110719                        0               0   \n",
       "13705                         0               0   \n",
       "50112                         0               0   \n",
       "...                         ...             ...   \n",
       "131503                        0               0   \n",
       "58072                         0               0   \n",
       "95496                         0               0   \n",
       "61756                         0               0   \n",
       "128896                        0               0   \n",
       "107833                        0               0   \n",
       "3606                          0               0   \n",
       "117565                        0               0   \n",
       "37183                         0               0   \n",
       "99335                         0               0   \n",
       "120809                        0               0   \n",
       "104589                        0               0   \n",
       "33878                         0               0   \n",
       "26103                         0               0   \n",
       "31959                         0               0   \n",
       "92740                         0               0   \n",
       "103068                        0               0   \n",
       "19946                         0               0   \n",
       "139516                        0               0   \n",
       "51668                         0               0   \n",
       "21758                         0               0   \n",
       "31228                         0               0   \n",
       "138823                        0               0   \n",
       "21440                         0               0   \n",
       "117583                        0               0   \n",
       "73349                         0               0   \n",
       "109259                        0               0   \n",
       "50057                         0               0   \n",
       "5192                          0               0   \n",
       "128037                        0               0   \n",
       "\n",
       "        Airline_WesternPacificAirlinesIncWestpac  Airline_WestjetAirlinesLtd  \\\n",
       "131458                                         0                           0   \n",
       "48831                                          0                           0   \n",
       "126130                                         0                           0   \n",
       "24131                                          0                           0   \n",
       "114314                                         0                           0   \n",
       "120796                                         0                           0   \n",
       "134368                                         0                           0   \n",
       "137529                                         0                           0   \n",
       "59141                                          0                           0   \n",
       "12875                                          0                           0   \n",
       "124893                                         0                           0   \n",
       "912                                            0                           0   \n",
       "9262                                           0                           0   \n",
       "50626                                          0                           0   \n",
       "44630                                          0                           0   \n",
       "41512                                          0                           0   \n",
       "66384                                          0                           0   \n",
       "120845                                         0                           0   \n",
       "1609                                           0                           0   \n",
       "25672                                          0                           0   \n",
       "99630                                          0                           0   \n",
       "86981                                          0                           0   \n",
       "84598                                          0                           0   \n",
       "27504                                          0                           0   \n",
       "83106                                          0                           0   \n",
       "105099                                         0                           0   \n",
       "144352                                         0                           0   \n",
       "110719                                         0                           0   \n",
       "13705                                          0                           0   \n",
       "50112                                          0                           0   \n",
       "...                                          ...                         ...   \n",
       "131503                                         0                           0   \n",
       "58072                                          0                           0   \n",
       "95496                                          0                           0   \n",
       "61756                                          0                           0   \n",
       "128896                                         0                           0   \n",
       "107833                                         0                           0   \n",
       "3606                                           0                           0   \n",
       "117565                                         0                           0   \n",
       "37183                                          0                           0   \n",
       "99335                                          0                           0   \n",
       "120809                                         0                           0   \n",
       "104589                                         0                           0   \n",
       "33878                                          0                           0   \n",
       "26103                                          0                           0   \n",
       "31959                                          0                           0   \n",
       "92740                                          0                           0   \n",
       "103068                                         0                           0   \n",
       "19946                                          0                           0   \n",
       "139516                                         0                           0   \n",
       "51668                                          0                           0   \n",
       "21758                                          0                           0   \n",
       "31228                                          0                           0   \n",
       "138823                                         0                           0   \n",
       "21440                                          0                           0   \n",
       "117583                                         0                           0   \n",
       "73349                                          0                           0   \n",
       "109259                                         0                           0   \n",
       "50057                                          0                           0   \n",
       "5192                                           0                           0   \n",
       "128037                                         0                           0   \n",
       "\n",
       "        Airline_WigginsAirways  Airline_XLAirways  Airline_XtraAirways  \\\n",
       "131458                       0                  0                    0   \n",
       "48831                        0                  0                    0   \n",
       "126130                       0                  0                    0   \n",
       "24131                        0                  0                    0   \n",
       "114314                       0                  0                    0   \n",
       "120796                       0                  0                    0   \n",
       "134368                       0                  0                    0   \n",
       "137529                       0                  0                    0   \n",
       "59141                        0                  0                    0   \n",
       "12875                        0                  0                    0   \n",
       "124893                       0                  0                    0   \n",
       "912                          0                  0                    0   \n",
       "9262                         0                  0                    0   \n",
       "50626                        0                  0                    0   \n",
       "44630                        0                  0                    0   \n",
       "41512                        0                  0                    0   \n",
       "66384                        0                  0                    0   \n",
       "120845                       0                  0                    0   \n",
       "1609                         0                  0                    0   \n",
       "25672                        0                  0                    0   \n",
       "99630                        0                  0                    0   \n",
       "86981                        0                  0                    0   \n",
       "84598                        0                  0                    0   \n",
       "27504                        0                  0                    0   \n",
       "83106                        0                  0                    0   \n",
       "105099                       0                  0                    0   \n",
       "144352                       0                  0                    0   \n",
       "110719                       0                  0                    0   \n",
       "13705                        0                  0                    0   \n",
       "50112                        0                  0                    0   \n",
       "...                        ...                ...                  ...   \n",
       "131503                       0                  0                    0   \n",
       "58072                        0                  0                    0   \n",
       "95496                        0                  0                    0   \n",
       "61756                        0                  0                    0   \n",
       "128896                       0                  0                    0   \n",
       "107833                       0                  0                    0   \n",
       "3606                         0                  0                    0   \n",
       "117565                       0                  0                    0   \n",
       "37183                        0                  0                    0   \n",
       "99335                        0                  0                    0   \n",
       "120809                       0                  0                    0   \n",
       "104589                       0                  0                    0   \n",
       "33878                        0                  0                    0   \n",
       "26103                        0                  0                    0   \n",
       "31959                        0                  0                    0   \n",
       "92740                        0                  0                    0   \n",
       "103068                       0                  0                    0   \n",
       "19946                        0                  0                    0   \n",
       "139516                       0                  0                    0   \n",
       "51668                        0                  0                    0   \n",
       "21758                        0                  0                    0   \n",
       "31228                        0                  0                    0   \n",
       "138823                       0                  0                    0   \n",
       "21440                        0                  0                    0   \n",
       "117583                       0                  0                    0   \n",
       "73349                        0                  0                    0   \n",
       "109259                       0                  0                    0   \n",
       "50057                        0                  0                    0   \n",
       "5192                         0                  0                    0   \n",
       "128037                       0                  0                    0   \n",
       "\n",
       "        Airline_vivaAerobus  \n",
       "131458                    0  \n",
       "48831                     0  \n",
       "126130                    0  \n",
       "24131                     0  \n",
       "114314                    0  \n",
       "120796                    0  \n",
       "134368                    0  \n",
       "137529                    0  \n",
       "59141                     0  \n",
       "12875                     0  \n",
       "124893                    0  \n",
       "912                       0  \n",
       "9262                      0  \n",
       "50626                     0  \n",
       "44630                     0  \n",
       "41512                     0  \n",
       "66384                     0  \n",
       "120845                    0  \n",
       "1609                      0  \n",
       "25672                     0  \n",
       "99630                     0  \n",
       "86981                     0  \n",
       "84598                     0  \n",
       "27504                     0  \n",
       "83106                     0  \n",
       "105099                    0  \n",
       "144352                    0  \n",
       "110719                    0  \n",
       "13705                     0  \n",
       "50112                     0  \n",
       "...                     ...  \n",
       "131503                    0  \n",
       "58072                     0  \n",
       "95496                     0  \n",
       "61756                     0  \n",
       "128896                    0  \n",
       "107833                    0  \n",
       "3606                      0  \n",
       "117565                    0  \n",
       "37183                     0  \n",
       "99335                     0  \n",
       "120809                    0  \n",
       "104589                    0  \n",
       "33878                     0  \n",
       "26103                     0  \n",
       "31959                     0  \n",
       "92740                     0  \n",
       "103068                    0  \n",
       "19946                     0  \n",
       "139516                    0  \n",
       "51668                     0  \n",
       "21758                     0  \n",
       "31228                     0  \n",
       "138823                    0  \n",
       "21440                     0  \n",
       "117583                    0  \n",
       "73349                     0  \n",
       "109259                    0  \n",
       "50057                     0  \n",
       "5192                      0  \n",
       "128037                    0  \n",
       "\n",
       "[116009 rows x 344 columns]"
      ]
     },
     "execution_count": 40,
     "metadata": {},
     "output_type": "execute_result"
    }
   ],
   "source": [
    "model_df = pd.get_dummies(df,prefix=[\"Type\",\"Site\",\"Airport\",\"Airline\"],columns=[\"Claim_Type\",\"Claim_Site\",\"Airport_Code_Group\",\"Airline_Name\"])\n",
    "model_df"
   ]
  },
  {
   "cell_type": "markdown",
   "metadata": {},
   "source": [
    "#### Dummy Vars (RF)"
   ]
  },
  {
   "cell_type": "code",
   "execution_count": 48,
   "metadata": {
    "ExecuteTime": {
     "end_time": "2018-02-20T08:02:39.251454Z",
     "start_time": "2018-02-20T07:30:51.062339Z"
    }
   },
   "outputs": [
    {
     "name": "stdout",
     "output_type": "stream",
     "text": [
      "116009\n",
      "116009\n",
      "Starting 1 of 5 folds\n",
      "Starting 2 of 5 folds\n",
      "Starting 3 of 5 folds\n",
      "Starting 4 of 5 folds\n",
      "Starting 5 of 5 folds\n",
      "\n",
      "Avg. Train Metrics\n",
      "Accuracy: 0.77514\n",
      "\n",
      "          Precision     Recall         F1    Support\n",
      "Approved    0.77333    0.79362    0.78334      28773\n",
      "  Denied    0.77236    0.86746    0.81715      43315\n",
      " Settled    0.78808    0.55649    0.65234      20719\n",
      " Avg/Tot    0.77792    0.73919    0.75094      30936\n",
      "\n",
      "Avg. Validation Metrics\n",
      "Accuracy: 0.53664\n",
      "\n",
      "          Precision     Recall         F1    Support\n",
      "Approved    0.54110    0.56160    0.55115       7193\n",
      "  Denied    0.58285    0.66964    0.62323      10829\n",
      " Settled    0.35221    0.22393    0.27372       5180\n",
      " Avg/Tot    0.49205    0.48506    0.48270       7734\n"
     ]
    },
    {
     "data": {
      "text/plain": [
       "[('Claim_Value', 0.56499800023981106),\n",
       " ('Type_-', 0.0053973543154224347),\n",
       " ('Type_Bus Terminal', 9.1820409239043591e-06),\n",
       " ('Type_Complaint', 1.1709718483042978e-05),\n",
       " ('Type_Employee Loss (MPCECA)', 0.0010121833127357508),\n",
       " ('Type_Motor Vehicle', 0.00059969940176703206),\n",
       " ('Type_Passenger Property Loss', 0.015047860439684256),\n",
       " ('Type_Passenger Theft', 0.00099714854549721598),\n",
       " ('Type_Personal Injury', 0.0013866843992652673),\n",
       " ('Type_Property Damage', 0.013650088400602896),\n",
       " ('Site_-', 0.00077185915125844063),\n",
       " ('Site_Bus Station', 1.8710449950119036e-05),\n",
       " ('Site_Checked Baggage', 0.014468192572688835),\n",
       " ('Site_Checkpoint', 0.01492466009687823),\n",
       " ('Site_Motor Vehicle', 0.00085266880214057131),\n",
       " ('Site_Other', 0.0016138748137870778),\n",
       " ('Airport_-', 0.0048345994397376909),\n",
       " ('Airport_ABQ', 0.0024887441044025146),\n",
       " ('Airport_ALB', 0.0025382776861847685),\n",
       " ('Airport_ANC', 0.0022129048628708623),\n",
       " ('Airport_ATL', 0.0037547585874768458),\n",
       " ('Airport_AUS', 0.002283508254552368),\n",
       " ('Airport_BDL', 0.0025318133457447188),\n",
       " ('Airport_BHM', 0.0013067068847011391),\n",
       " ('Airport_BNA', 0.0025538565994759309),\n",
       " ('Airport_BOI', 0.0015850170435371858),\n",
       " ('Airport_BOS', 0.0040691528478378784),\n",
       " ('Airport_BTV', 0.0011486082576118322),\n",
       " ('Airport_BUF', 0.0023362463498502566),\n",
       " ('Airport_BUR', 0.0017669752740616588),\n",
       " ('Airport_BWI', 0.0032691707955609483),\n",
       " ('Airport_CAK', 0.0010416529342315347),\n",
       " ('Airport_CHS', 0.0010559642965446132),\n",
       " ('Airport_CLE', 0.0025868025370218693),\n",
       " ('Airport_CLT', 0.0027847468384438567),\n",
       " ('Airport_CMH', 0.0021450852422029692),\n",
       " ('Airport_COS', 0.0020131986503805718),\n",
       " ('Airport_CVG', 0.002164337165665857),\n",
       " ('Airport_DAL', 0.0014895688567621817),\n",
       " ('Airport_DAY', 0.001380737837453612),\n",
       " ('Airport_DCA', 0.0030696616010004972),\n",
       " ('Airport_DEN', 0.0038295577766532989),\n",
       " ('Airport_DFW', 0.0037452993078720778),\n",
       " ('Airport_DSM', 0.0013114348148673234),\n",
       " ('Airport_DTW', 0.0031118518079631952),\n",
       " ('Airport_ELP', 0.0019908658250674567),\n",
       " ('Airport_EWR', 0.0038071125660621599),\n",
       " ('Airport_F', 0.0059712084662066605),\n",
       " ('Airport_FLL', 0.0043859140709176358),\n",
       " ('Airport_FNT', 0.00098345512669937522),\n",
       " ('Airport_GEG', 0.002198558787159445),\n",
       " ('Airport_GRR', 0.0011604199984010185),\n",
       " ('Airport_GSO', 0.0012389988670527476),\n",
       " ('Airport_GSP', 0.0017092925726557081),\n",
       " ('Airport_HNL', 0.0030296277022996672),\n",
       " ('Airport_HOU', 0.0022948914338895973),\n",
       " ('Airport_IAD', 0.0032145060961456342),\n",
       " ('Airport_IAH', 0.0031943574412020832),\n",
       " ('Airport_ICT', 0.0012066284123544786),\n",
       " ('Airport_IND', 0.0030318309344817005),\n",
       " ('Airport_ISP', 0.001078206808572766),\n",
       " ('Airport_JAX', 0.0023712656560242098),\n",
       " ('Airport_JFK', 0.0035054536468560604),\n",
       " ('Airport_KOA', 0.0013597205216087783),\n",
       " ('Airport_LAS', 0.0037916960253570587),\n",
       " ('Airport_LAX', 0.0047072975965428681),\n",
       " ('Airport_LGA', 0.0037952419575808041),\n",
       " ('Airport_LGB', 0.0015817570847823721),\n",
       " ('Airport_LIH', 0.0012954232747633299),\n",
       " ('Airport_LIT', 0.0014764044896595449),\n",
       " ('Airport_MCO', 0.0046405839115244256),\n",
       " ('Airport_MDW', 0.0023630929883775216),\n",
       " ('Airport_MEM', 0.0021365900172211978),\n",
       " ('Airport_MHT', 0.0019746280679712445),\n",
       " ('Airport_MIA', 0.0036944502932820854),\n",
       " ('Airport_MKE', 0.002228178390715489),\n",
       " ('Airport_MSN', 0.0014322751007161418),\n",
       " ('Airport_MSP', 0.0032248308257231302),\n",
       " ('Airport_MSY', 0.0031525861493418451),\n",
       " ('Airport_MYR', 0.0011411748731532025),\n",
       " ('Airport_OAK', 0.0030257610629712936),\n",
       " ('Airport_OGG', 0.0018968232984298491),\n",
       " ('Airport_OKC', 0.0018035367042483971),\n",
       " ('Airport_OMA', 0.0023486017614410813),\n",
       " ('Airport_ONT', 0.0022861385012569757),\n",
       " ('Airport_ORD', 0.0043033465793419151),\n",
       " ('Airport_ORF', 0.002211065430569965),\n",
       " ('Airport_Other', 0.0055520337380090641),\n",
       " ('Airport_PBI', 0.0031183650555656845),\n",
       " ('Airport_PDX', 0.0033684962763820252),\n",
       " ('Airport_PHL', 0.0038303091427189582),\n",
       " ('Airport_PHX', 0.0045726445641417869),\n",
       " ('Airport_PIT', 0.0028827775908421439),\n",
       " ('Airport_PNS', 0.00097593074454014846),\n",
       " ('Airport_PSP', 0.0015178738638387775),\n",
       " ('Airport_PVD', 0.0020332683773219029),\n",
       " ('Airport_PWM', 0.0012063534036486018),\n",
       " ('Airport_RDU', 0.0028217096225865907),\n",
       " ('Airport_RIC', 0.0018349831525857011),\n",
       " ('Airport_RNO', 0.0020767447455913553),\n",
       " ('Airport_RSW', 0.002773986168979501),\n",
       " ('Airport_SAN', 0.0040786223151465526),\n",
       " ('Airport_SAT', 0.002392646406027273),\n",
       " ('Airport_SAV', 0.0015768918280741058),\n",
       " ('Airport_SDF', 0.0019091960114102653),\n",
       " ('Airport_SEA', 0.0040809631056763331),\n",
       " ('Airport_SFB', 0.00087133310995956138),\n",
       " ('Airport_SJC', 0.0030594010200760374),\n",
       " ('Airport_SJU', 0.0022591366890134892),\n",
       " ('Airport_SLC', 0.0027041399618228756),\n",
       " ('Airport_SMF', 0.0026262897605090728),\n",
       " ('Airport_SNA', 0.0029912162446441969),\n",
       " ('Airport_SRQ', 0.0011962377463251277),\n",
       " ('Airport_STL', 0.002903183495022926),\n",
       " ('Airport_STT', 0.0012217155866013564),\n",
       " ('Airport_SYR', 0.0018467841719071712),\n",
       " ('Airport_TPA', 0.0039894831541370697),\n",
       " ('Airport_TUL', 0.0018503157369465276),\n",
       " ('Airport_TUS', 0.0022197062403652205),\n",
       " ('Airline_-', 0.0091174179276256335),\n",
       " ('Airline_ATAAerocondor', 0.00089785103961980209),\n",
       " ('Airline_AerLingus', 0.0004263006356377505),\n",
       " ('Airline_AeroCalifornia', 2.9853971282153315e-05),\n",
       " ('Airline_AeroFlot', 0.00031055144627990035),\n",
       " ('Airline_AeroGal', 4.3398542921230963e-06),\n",
       " ('Airline_AeroLloyd', 1.4222147717657359e-05),\n",
       " ('Airline_AeroMexico', 0.00048522934066759678),\n",
       " ('Airline_AerolineasArgentinas', 6.4522087992359821e-05),\n",
       " ('Airline_Aerolitoral', 9.9568595085612639e-06),\n",
       " ('Airline_Aeromar', 6.4112088911380374e-06),\n",
       " ('Airline_AerosvitAirlines', 6.291557960725687e-06),\n",
       " ('Airline_AerosweetAirlines', 7.351520537884826e-06),\n",
       " ('Airline_Air2000LtdGreatBritain', 1.5212334245680417e-05),\n",
       " ('Airline_AirAtlanticLtd', 2.4831131230620202e-05),\n",
       " ('Airline_AirBelgiumInternationalSA', 8.7904832993509457e-06),\n",
       " ('Airline_AirBerlin', 9.033034817285777e-05),\n",
       " ('Airline_AirBotina', 3.3834078066301584e-06),\n",
       " ('Airline_AirCanada', 0.001986561685323704),\n",
       " ('Airline_AirChina', 0.00017564033496449456),\n",
       " ('Airline_AirEuropa', 5.4282979708649872e-05),\n",
       " ('Airline_AirFrance', 0.0012796837983505428),\n",
       " ('Airline_AirIndia', 0.00021302839867902147),\n",
       " ('Airline_AirInterEurope', 2.2050357066210625e-05),\n",
       " ('Airline_AirJamaica', 0.0004577915389911522),\n",
       " ('Airline_AirLabrador', 4.6135200352415644e-06),\n",
       " ('Airline_AirMalta', 2.6914363503109629e-06),\n",
       " ('Airline_AirNewZealand', 0.00019011146231285252),\n",
       " ('Airline_AirNippon', 1.0570469335911337e-05),\n",
       " ('Airline_AirPacific', 8.9349492171248527e-05),\n",
       " ('Airline_AirPhillipines', 1.3428100466285792e-05),\n",
       " ('Airline_AirPortugal', 4.5089231454828957e-05),\n",
       " ('Airline_AirTahitiNui', 1.2921815493177214e-05),\n",
       " ('Airline_AirTranAirlines', 0.0030940269789051793),\n",
       " ('Airline_AirUkraineInternational', 2.482670391902272e-05),\n",
       " ('Airline_AlaskaAirlines', 0.0030739403589126152),\n",
       " ('Airline_Alitalia', 0.00049290876078354501),\n",
       " ('Airline_AllNipponAirways', 0.00011155182037140426),\n",
       " ('Airline_AlleghenyAirlinesInc', 1.6694133674274432e-05),\n",
       " ('Airline_AllegiantAir', 0.0010716108637036752),\n",
       " ('Airline_AlohaAirlines', 0.0010525681717919943),\n",
       " ('Airline_AlohaIslandairInc', 2.3664032806016105e-05),\n",
       " ('Airline_AmericaTransAir', 0.0011333104919997933),\n",
       " ('Airline_AmericaWest', 0.0027633240552287414),\n",
       " ('Airline_AmericanAirlines', 0.0061773693996475783),\n",
       " ('Airline_AmericanCentral', 0.00013072983662861131),\n",
       " ('Airline_ArikAirlines', 3.0785512922112482e-05),\n",
       " ('Airline_ArikaIsrealiAirlines', 5.9137616555132176e-06),\n",
       " ('Airline_AsianaAirlines', 0.00019745252618698863),\n",
       " ('Airline_AustrianAirlines', 0.00022307581371673349),\n",
       " ('Airline_Aviaco', 1.1410403442946552e-05),\n",
       " ('Airline_Avianca', 0.00020100217493097605),\n",
       " ('Airline_BahamaAirlines', 5.9524918464549398e-05),\n",
       " ('Airline_BritAir', 0.00013730462008564829),\n",
       " ('Airline_BritanniaAirwaysLtd', 1.8813363086823039e-05),\n",
       " ('Airline_BritishAirways', 0.0021948858484148442),\n",
       " ('Airline_BritishMidlandAirwaysLtd', 4.9172754403752436e-05),\n",
       " ('Airline_BritishWestIndiesAirlines', 5.5385596868442711e-05),\n",
       " ('Airline_CameroonAirlines', 3.782243533178772e-05),\n",
       " ('Airline_CanJet', 3.6358924865207544e-06),\n",
       " ('Airline_CanadianAirlines', 6.1053585655100791e-05),\n",
       " ('Airline_CapeAir', 0.00023483964986216569),\n",
       " ('Airline_CarnivalAirlines', 4.25016679009931e-06),\n",
       " ('Airline_CarribeanAirlines', 0.00023964334301987205),\n",
       " ('Airline_CathayPacific-CX', 0.00034090357151916656),\n",
       " ('Airline_CaymanAirlines', 0.00010269913409511666),\n",
       " ('Airline_ChampionAirlines', 0.00011375658373016426),\n",
       " ('Airline_ChinaAirlines', 0.00026348598533324657),\n",
       " ('Airline_ChinaEasternAirlines', 6.3254422358559098e-05),\n",
       " ('Airline_ChinaSouthernAirlines', 1.8422035439216931e-05),\n",
       " ('Airline_CivilAviation-Non-CommercialCarrier', 4.5365053906439957e-05),\n",
       " ('Airline_ComairInc', 0.00014445628032005851),\n",
       " ('Airline_CommercialAirways', 2.0899892725723356e-05),\n",
       " ('Airline_CondorAir', 2.3770773679120316e-05),\n",
       " ('Airline_ContinentalAirlines', 0.0040064513854986133),\n",
       " ('Airline_CopaAirlines', 0.00017604322202500851),\n",
       " ('Airline_CroatiaAirlines', 4.3662069393229908e-05),\n",
       " ('Airline_Cubana', 3.3853792847982384e-06),\n",
       " ('Airline_CzechAirlines', 5.4494626544533043e-05),\n",
       " ('Airline_CzechoslavakAirlines', 2.8641779194165762e-05),\n",
       " ('Airline_DeltaAirLines', 0.0064188021082785957),\n",
       " ('Airline_DirectAir', 0.00019882466438061577),\n",
       " ('Airline_ELALIsraeliAirlines', 0.00042969813463268196),\n",
       " ('Airline_ERAaviationAir', 7.4131152625679846e-06),\n",
       " ('Airline_EVAairlines', 0.00027260749473550898),\n",
       " ('Airline_EgyptAir', 8.6083826947369558e-05),\n",
       " ('Airline_Emirates', 0.00035463427449832245),\n",
       " ('Airline_EstoniaAir', 1.0341315197937363e-05),\n",
       " ('Airline_EthopianAirlines', 4.216562298894182e-05),\n",
       " ('Airline_EtihadAirways', 4.8838221923737629e-05),\n",
       " ('Airline_Eurowings', 3.5021222116864161e-06),\n",
       " ('Airline_Finnair', 8.6974239807193259e-06),\n",
       " ('Airline_FrontierAirlines', 0.0022335802672167901),\n",
       " ('Airline_GlobeSpanAirlines', 2.2124644882403976e-06),\n",
       " ('Airline_Go', 0.00014822010481267857),\n",
       " ('Airline_GreatLakesAirline', 0.00017638094455534723),\n",
       " ('Airline_GreyhoundAir', 4.7804475999410278e-06),\n",
       " ('Airline_GrupoTACA', 1.3482221519615047e-05),\n",
       " ('Airline_GuyanaAirwaysCorporation', 1.6423242327932441e-05),\n",
       " ('Airline_HainanAirlines', 2.2360194447274775e-05),\n",
       " ('Airline_HarmonyAirlines', 4.4456955328314797e-06),\n",
       " ('Airline_HawaiianAirlines', 0.0015855305511212128),\n",
       " ('Airline_HootersAir(PACE)', 9.2239843880705748e-05),\n",
       " ('Airline_HorizonAir', 0.0010528644542763498),\n",
       " ('Airline_IberiaAirlines', 0.00035621231352082097),\n",
       " ('Airline_IcelandAir', 0.00028816764349638615),\n",
       " ('Airline_IndependenceAir', 0.00072422464511106037),\n",
       " ('Airline_IndianAirlines', 4.2642388181827702e-05),\n",
       " ('Airline_IranAir', 1.9802962141643769e-06),\n",
       " ('Airline_IslandAir', 0.00023588634079060248),\n",
       " ('Airline_IslandAirlinesNantucket', 2.8946076010400299e-05),\n",
       " ('Airline_JALwaysAirlines', 6.8318462379424739e-05),\n",
       " ('Airline_JAT', 1.6107592599602112e-06),\n",
       " ('Airline_JapanAirlines', 0.00032184235545377305),\n",
       " ('Airline_JetAirways', 7.8977716741834476e-05),\n",
       " ('Airline_JetBlue', 0.003312245245790461),\n",
       " ('Airline_JetTrainAirlines', 7.6501513732831237e-05),\n",
       " ('Airline_KLMRoyalDutchAirlines', 0.00083847370292972881),\n",
       " ('Airline_KoreanAirlines', 0.00044569872522155584),\n",
       " ('Airline_KuwaitAirlines', 1.9547660916499091e-05),\n",
       " ('Airline_KuwaitAirways', 4.3595856171595126e-05),\n",
       " ('Airline_LOTPolishAirlines', 9.8065554132341484e-05),\n",
       " ('Airline_LanAirlines', 0.0002690986053162785),\n",
       " ('Airline_Lufthansa', 0.0017039030700584099),\n",
       " ('Airline_MalaysianAirlineSystem', 0.00016735734730374759),\n",
       " ('Airline_MalevHungarianAirlines', 8.8715375138370326e-06),\n",
       " ('Airline_Martinair', 2.6486845808851953e-06),\n",
       " ('Airline_MesaAirlines', 8.5180749242199107e-05),\n",
       " ('Airline_Mexicana', 0.00049100840599660171),\n",
       " ('Airline_MiddleEastAirlines', 2.3203544787993503e-05),\n",
       " ('Airline_MidwayAirlines', 0.00010387013432304229),\n",
       " ('Airline_MidwestExpressAirlines', 0.0011482032337810125),\n",
       " ('Airline_MonarchAirlinesLtd', 3.473749471325333e-05),\n",
       " ('Airline_MontairAviationInc', 4.9230380935406774e-06),\n",
       " ('Airline_MountainWest', 5.7750751759724947e-05),\n",
       " ('Airline_NorthAmericanAirlines', 7.8882058628961178e-05),\n",
       " ('Airline_NorthwestAirlines', 0.004047091307793689),\n",
       " ('Airline_OMNIAirExpress-(OY)', 0.00022899651465522583),\n",
       " ('Airline_OlympicAirways', 0.00016341232042728465),\n",
       " ('Airline_PaceAirlines', 4.0785950306999308e-05),\n",
       " ('Airline_PacificSouthwestAirlinesInc', 1.2151981340711123e-05),\n",
       " ('Airline_PakistanInternationalAirlinesCor', 5.1668170518951763e-05),\n",
       " ('Airline_PanAmericanAirwaysCorp.', 7.7899694820161416e-05),\n",
       " ('Airline_PhilippineAirlines', 0.00010770072219967344),\n",
       " ('Airline_PiedmontAirlinesInc', 8.8463425236628851e-06),\n",
       " ('Airline_PolishAirlines', 8.4504313871684234e-05),\n",
       " ('Airline_PorterAirlines', 6.3805164892434522e-05),\n",
       " ('Airline_QantasAirlines', 4.5046354369971832e-05),\n",
       " ('Airline_QantusAirways', 0.00058767977216307179),\n",
       " ('Airline_Qatarairlines', 7.7315595094060564e-05),\n",
       " ('Airline_RenoAir', 2.9265164752896095e-06),\n",
       " ('Airline_RoyalDutchAirlines', 7.2279071450282001e-05),\n",
       " ('Airline_RoyalJordanianAirline', 7.4017902000524598e-05),\n",
       " ('Airline_RoyalWingsAirlines', 1.0986405116270321e-06),\n",
       " ('Airline_RyanAir', 0.00012682154532272044),\n",
       " ('Airline_SantaBarbaraAirlines', 1.4301804060467526e-05),\n",
       " ('Airline_Sata', 1.9999452014392692e-05),\n",
       " ('Airline_SaudiArabianAirlines', 3.7033531868941443e-05),\n",
       " ('Airline_ScandinavianAirlinesSystems', 0.00037669440391488592),\n",
       " ('Airline_SeaborneAirlines', 8.7341008845920652e-06),\n",
       " ('Airline_Silverjet', 1.6533559060434877e-05),\n",
       " ('Airline_SingaporeAirlines', 0.00039644590424168304),\n",
       " ('Airline_SkyBus', 7.686602783013058e-05),\n",
       " ('Airline_SkywestAirlinesIncUSA', 0.00037508647640346806),\n",
       " ('Airline_SonAir', 7.054416505808447e-06),\n",
       " ('Airline_SouthAfricanAirways', 0.0002511519960378566),\n",
       " ('Airline_SoutheastAirlines', 0.00025228274049662278),\n",
       " ('Airline_SouthwestAirlines', 0.0041763613052691441),\n",
       " ('Airline_SpiritAirlines', 0.0021657067549802505),\n",
       " ('Airline_SunCountryAirlinesInc', 0.00086473706375589463),\n",
       " ('Airline_SunJetInternationalAirlinesInc', 4.0753007234757148e-06),\n",
       " ('Airline_SunWingAirlines', 8.6255542399449963e-06),\n",
       " ('Airline_SunworldInternationalAirlinesInc', 2.2361768903385316e-05),\n",
       " ('Airline_SwissAir', 0.00052603017694282316),\n",
       " ('Airline_TACAairlines', 0.00012430832734688907),\n",
       " ('Airline_TAMairlines', 0.00022952144794836102),\n",
       " ('Airline_TAPPortugal', 9.6720340782573068e-05),\n",
       " ('Airline_TWA', 3.4254783795233328e-05),\n",
       " ('Airline_ThaiAirways', 0.0001017280391211768),\n",
       " ('Airline_ThomasCookAirline', 2.245602641062362e-05),\n",
       " ('Airline_TowerAir', 2.9142464373041346e-06),\n",
       " ('Airline_TranMeridianAirlines', 0.00034288040088855954),\n",
       " ('Airline_TransaeroAirlines', 3.9895894160403797e-05),\n",
       " ('Airline_Travelspan', 3.9955107529122707e-06),\n",
       " ('Airline_TurkishAirlines', 0.00037451349599278947),\n",
       " ('Airline_UAL', 0.0065925346118376176),\n",
       " ('Airline_USA3000(U5)', 0.00089116408382577483),\n",
       " ('Airline_USAir', 0.0055998643108320792),\n",
       " ('Airline_USExpress', 0.00067188894665961684),\n",
       " ('Airline_VAustralia', 8.4611668033308935e-05),\n",
       " ('Airline_ViequesAir', 3.1752146011824353e-05),\n",
       " ('Airline_VirginAmerica', 0.00098807321688564563),\n",
       " ('Airline_VirginAtlantic', 0.0013779719972911984),\n",
       " ('Airline_VirginExpress', 0.00013485196072485746),\n",
       " ('Airline_VisionAirlines', 9.6722760509629813e-05),\n",
       " ('Airline_VolarisAirlines', 7.9290751621006314e-05),\n",
       " ('Airline_Webjet', 4.4744844671139858e-06),\n",
       " ('Airline_WesternPacificAirlinesIncWestpac', 4.771642296406237e-05),\n",
       " ('Airline_WestjetAirlinesLtd', 0.00087897404066327269),\n",
       " ('Airline_WigginsAirways', 4.0347050036906429e-06),\n",
       " ('Airline_XLAirways', 2.0213735549564112e-05),\n",
       " ('Airline_XtraAirways', 2.8045633421833912e-05),\n",
       " ('Airline_vivaAerobus', 4.2839773881285768e-06)]"
      ]
     },
     "execution_count": 48,
     "metadata": {},
     "output_type": "execute_result"
    }
   ],
   "source": [
    "dummies_df = pd.get_dummies(df[[\"Claim_Type\",\"Claim_Site\",\"Airport_Code_Group\",\"Airline_Name\"]],prefix=[\"Type\",\"Site\",\"Airport\",\"Airline\"])\n",
    "\n",
    "features = [\"Claim_Value\"] + list(dummies_df.columns)\n",
    "target = \"Status\"\n",
    "\n",
    "model_df=df[[\"Status\",\"Claim_Value\"]].join(dummies_df).dropna()\n",
    "print(len(df))\n",
    "print(len(model_df))\n",
    "\n",
    "X = np.array(model_df[features])\n",
    "Y = np.array(model_df[target])\n",
    "\n",
    "model = RandomForestClassifier(n_estimators = 500, min_samples_split=10, n_jobs=-1)\n",
    "\n",
    "validation_loop(model,X,Y,rand_state=1)\n",
    "\n",
    "model.fit(X,Y)\n",
    "list(zip(model_df.columns[1:],model.feature_importances_))"
   ]
  },
  {
   "cell_type": "markdown",
   "metadata": {
    "ExecuteTime": {
     "end_time": "2018-02-20T05:21:37.931205Z",
     "start_time": "2018-02-20T05:21:37.926020Z"
    }
   },
   "source": [
    "#### Count (RF + Log Regression)"
   ]
  },
  {
   "cell_type": "code",
   "execution_count": 49,
   "metadata": {
    "ExecuteTime": {
     "end_time": "2018-02-20T08:10:32.695461Z",
     "start_time": "2018-02-20T08:02:39.554296Z"
    }
   },
   "outputs": [
    {
     "name": "stdout",
     "output_type": "stream",
     "text": [
      "116009\n",
      "116009\n",
      "Starting 1 of 5 folds\n",
      "Starting 2 of 5 folds\n",
      "Starting 3 of 5 folds\n",
      "Starting 4 of 5 folds\n",
      "Starting 5 of 5 folds\n",
      "\n",
      "Avg. Train Metrics\n",
      "Accuracy: 0.79756\n",
      "\n",
      "          Precision     Recall         F1    Support\n",
      "Approved    0.79547    0.81453    0.80488      28773\n",
      "  Denied    0.78693    0.89129    0.83586      43315\n",
      " Settled    0.83836    0.57804    0.68427      20719\n",
      " Avg/Tot    0.80692    0.76128    0.77501      30936\n",
      "\n",
      "Avg. Validation Metrics\n",
      "Accuracy: 0.54247\n",
      "\n",
      "          Precision     Recall         F1    Support\n",
      "Approved    0.54760    0.57390    0.56044       7193\n",
      "  Denied    0.58205    0.68297    0.62847      10829\n",
      " Settled    0.35942    0.20503    0.26105       5180\n",
      " Avg/Tot    0.49635    0.48730    0.48332       7734\n"
     ]
    },
    {
     "data": {
      "text/plain": [
       "[('Claim_Value', 0.57899627893763228),\n",
       " ('Claim_Type_Count', 0.03887884528896713),\n",
       " ('Claim_Site_Count', 0.032980005149294368),\n",
       " ('Airport_Code_Group_Count', 0.23453280014718467),\n",
       " ('Airline_Name_Count', 0.11461207047692139)]"
      ]
     },
     "execution_count": 49,
     "metadata": {},
     "output_type": "execute_result"
    }
   ],
   "source": [
    "features = [\"Claim_Value\"] + text_count_var \n",
    "target = \"Status\"\n",
    "\n",
    "model_df=df[[target]+features].dropna()\n",
    "print(len(df))\n",
    "print(len(model_df))\n",
    "\n",
    "X = np.array(model_df[features])\n",
    "Y = np.array(model_df[target])\n",
    "\n",
    "model = RandomForestClassifier(n_estimators = 500, min_samples_split=10, n_jobs=-1)\n",
    "\n",
    "validation_loop(model,X,Y,rand_state=1)\n",
    "\n",
    "model.fit(X,Y)\n",
    "list(zip(model_df.columns[1:],model.feature_importances_))"
   ]
  },
  {
   "cell_type": "code",
   "execution_count": 55,
   "metadata": {
    "ExecuteTime": {
     "end_time": "2018-02-20T08:45:56.823461Z",
     "start_time": "2018-02-20T08:45:42.812375Z"
    }
   },
   "outputs": [
    {
     "name": "stdout",
     "output_type": "stream",
     "text": [
      "116009\n",
      "116009\n",
      "Starting 1 of 5 folds\n"
     ]
    },
    {
     "name": "stderr",
     "output_type": "stream",
     "text": [
      "/home/perry/anaconda3/lib/python3.6/site-packages/sklearn/metrics/classification.py:1135: UndefinedMetricWarning: Precision and F-score are ill-defined and being set to 0.0 in labels with no predicted samples.\n",
      "  'precision', 'predicted', average, warn_for)\n"
     ]
    },
    {
     "name": "stdout",
     "output_type": "stream",
     "text": [
      "Starting 2 of 5 folds\n",
      "Starting 3 of 5 folds\n",
      "Starting 4 of 5 folds\n",
      "Starting 5 of 5 folds\n",
      "\n",
      "Avg. Train Metrics\n",
      "Accuracy: 0.47509\n",
      "\n",
      "          Precision     Recall         F1    Support\n",
      "Approved    0.39088    0.06265    0.08349      28773\n",
      "  Denied    0.47576    0.97304    0.63801      43315\n",
      " Settled    0.06979    0.00705    0.01281      20719\n",
      " Avg/Tot    0.31214    0.34758    0.24477      30936\n",
      "\n",
      "Avg. Validation Metrics\n",
      "Accuracy: 0.47507\n",
      "\n",
      "          Precision     Recall         F1    Support\n",
      "Approved    0.38953    0.06159    0.08299       7193\n",
      "  Denied    0.47517    0.97305    0.63763      10829\n",
      " Settled    0.07432    0.00734    0.01336       5180\n",
      " Avg/Tot    0.31300    0.34733    0.24466       7734\n",
      "Index(['Claim_Value', 'Claim_Type_Count', 'Claim_Site_Count',\n",
      "       'Airport_Code_Group_Count', 'Airline_Name_Count'],\n",
      "      dtype='object')\n",
      "[[ -1.81380975e-06  -3.57675834e-06  -8.71827051e-06  -8.65997104e-07\n",
      "    5.69407640e-06]\n",
      " [  2.63542199e-06  -7.69016569e-07   3.82046726e-07  -3.83432305e-07\n",
      "   -5.90726496e-06]\n",
      " [ -2.41242503e-06  -1.97849237e-05  -1.37977928e-06  -1.05790209e-06\n",
      "   -3.14742379e-06]]\n",
      "[  1.04560204e-11  -2.28508628e-10  -4.09836470e-10]\n"
     ]
    }
   ],
   "source": [
    "features = [\"Claim_Value\"] + text_count_var \n",
    "target = \"Status\"\n",
    "\n",
    "model_df=df[[target]+features].dropna()\n",
    "print(len(df))\n",
    "print(len(model_df))\n",
    "\n",
    "X = np.array(model_df[features])\n",
    "Y = np.array(model_df[target])\n",
    "\n",
    "model = LogisticRegression(C=100)\n",
    "\n",
    "validation_loop(model,X,Y,rand_state=1)\n",
    "\n",
    "model.fit(X,Y)\n",
    "print(model_df.columns[1:])\n",
    "print(model.coef_)\n",
    "print(model.intercept_)"
   ]
  },
  {
   "cell_type": "markdown",
   "metadata": {},
   "source": [
    "#### Rank (RF)"
   ]
  },
  {
   "cell_type": "code",
   "execution_count": 50,
   "metadata": {
    "ExecuteTime": {
     "end_time": "2018-02-20T08:18:08.108197Z",
     "start_time": "2018-02-20T08:10:33.130655Z"
    }
   },
   "outputs": [
    {
     "name": "stdout",
     "output_type": "stream",
     "text": [
      "116009\n",
      "116009\n",
      "Starting 1 of 5 folds\n",
      "Starting 2 of 5 folds\n",
      "Starting 3 of 5 folds\n",
      "Starting 4 of 5 folds\n",
      "Starting 5 of 5 folds\n",
      "\n",
      "Avg. Train Metrics\n",
      "Accuracy: 0.79775\n",
      "\n",
      "          Precision     Recall         F1    Support\n",
      "Approved    0.79495    0.81509    0.80489      28773\n",
      "  Denied    0.78770    0.89092    0.83613      43315\n",
      " Settled    0.83796    0.57890    0.68474      20719\n",
      " Avg/Tot    0.80687    0.76163    0.77526      30936\n",
      "\n",
      "Avg. Validation Metrics\n",
      "Accuracy: 0.54229\n",
      "\n",
      "          Precision     Recall         F1    Support\n",
      "Approved    0.54773    0.57440    0.56075       7193\n",
      "  Denied    0.58231    0.68220    0.62830      10829\n",
      " Settled    0.35768    0.20516    0.26070       5180\n",
      " Avg/Tot    0.49591    0.48725    0.48325       7734\n"
     ]
    },
    {
     "data": {
      "text/plain": [
       "[('Claim_Value', 0.57931198456233213),\n",
       " ('Claim_Type_Rank', 0.038769060637099034),\n",
       " ('Claim_Site_Rank', 0.032256160298941891),\n",
       " ('Airport_Code_Group_Rank', 0.2352106500135796),\n",
       " ('Airline_Name_Rank', 0.1144521444880468)]"
      ]
     },
     "execution_count": 50,
     "metadata": {},
     "output_type": "execute_result"
    }
   ],
   "source": [
    "features = [\"Claim_Value\"] + text_rank_var\n",
    "target = \"Status\"\n",
    "\n",
    "model_df=df[[target]+features].dropna()\n",
    "print(len(df))\n",
    "print(len(model_df))\n",
    "\n",
    "X = np.array(model_df[features])\n",
    "Y = np.array(model_df[target])\n",
    "\n",
    "model = RandomForestClassifier(n_estimators = 500, min_samples_split=10, n_jobs=-1)\n",
    "\n",
    "validation_loop(model,X,Y,rand_state=1)\n",
    "\n",
    "model.fit(X,Y)\n",
    "list(zip(model_df.columns[1:],model.feature_importances_))"
   ]
  },
  {
   "cell_type": "markdown",
   "metadata": {},
   "source": [
    "#### Count + Rank (RF)"
   ]
  },
  {
   "cell_type": "code",
   "execution_count": 51,
   "metadata": {
    "ExecuteTime": {
     "end_time": "2018-02-20T08:26:15.414187Z",
     "start_time": "2018-02-20T08:18:08.542287Z"
    },
    "scrolled": true
   },
   "outputs": [
    {
     "name": "stdout",
     "output_type": "stream",
     "text": [
      "116009\n",
      "116009\n",
      "Starting 1 of 5 folds\n",
      "Starting 2 of 5 folds\n",
      "Starting 3 of 5 folds\n",
      "Starting 4 of 5 folds\n",
      "Starting 5 of 5 folds\n",
      "\n",
      "Avg. Train Metrics\n",
      "Accuracy: 0.78172\n",
      "\n",
      "          Precision     Recall         F1    Support\n",
      "Approved    0.77927    0.80042    0.78970      28773\n",
      "  Denied    0.77573    0.87832    0.82385      43315\n",
      " Settled    0.80751    0.55380    0.65701      20719\n",
      " Avg/Tot    0.78750    0.74418    0.75685      30936\n",
      "\n",
      "Avg. Validation Metrics\n",
      "Accuracy: 0.54075\n",
      "\n",
      "          Precision     Recall         F1    Support\n",
      "Approved    0.54663    0.56949    0.55782       7193\n",
      "  Denied    0.58234    0.67740    0.62627      10829\n",
      " Settled    0.35838    0.21516    0.26881       5180\n",
      " Avg/Tot    0.49578    0.48735    0.48430       7734\n"
     ]
    },
    {
     "data": {
      "text/plain": [
       "[('Claim_Value', 0.57308535860763909),\n",
       " ('Claim_Type_Count', 0.019068273269621568),\n",
       " ('Claim_Site_Count', 0.014709245138788881),\n",
       " ('Airport_Code_Group_Count', 0.11996055457156614),\n",
       " ('Airline_Name_Count', 0.058548379862036738),\n",
       " ('Claim_Type_Rank', 0.01961183474382688),\n",
       " ('Claim_Site_Rank', 0.015475524120057097),\n",
       " ('Airport_Code_Group_Rank', 0.12055615935083604),\n",
       " ('Airline_Name_Rank', 0.058984670335627334)]"
      ]
     },
     "execution_count": 51,
     "metadata": {},
     "output_type": "execute_result"
    }
   ],
   "source": [
    "features = [\"Claim_Value\"] + text_count_var + text_rank_var\n",
    "target = \"Status\"\n",
    "\n",
    "model_df=df[[target]+features].dropna()\n",
    "print(len(df))\n",
    "print(len(model_df))\n",
    "\n",
    "X = np.array(model_df[features])\n",
    "Y = np.array(model_df[target])\n",
    "\n",
    "model = RandomForestClassifier(n_estimators = 500, min_samples_split=10, n_jobs=-1)\n",
    "\n",
    "validation_loop(model,X,Y,rand_state=1)\n",
    "\n",
    "model.fit(X,Y)\n",
    "list(zip(model_df.columns[1:],model.feature_importances_))"
   ]
  },
  {
   "cell_type": "markdown",
   "metadata": {},
   "source": [
    "### Date + Categorical Features"
   ]
  },
  {
   "cell_type": "markdown",
   "metadata": {},
   "source": [
    "#### Random Forest"
   ]
  },
  {
   "cell_type": "code",
   "execution_count": 12,
   "metadata": {
    "ExecuteTime": {
     "end_time": "2018-02-20T22:44:53.451289Z",
     "start_time": "2018-02-20T22:43:30.533920Z"
    }
   },
   "outputs": [
    {
     "name": "stdout",
     "output_type": "stream",
     "text": [
      "116009\n",
      "116009\n",
      "Starting 1 of 5 folds\n",
      "Starting 2 of 5 folds\n",
      "Starting 3 of 5 folds\n",
      "Starting 4 of 5 folds\n",
      "Starting 5 of 5 folds\n",
      "\n",
      "Avg. Train Metrics\n",
      "Accuracy: 0.90145\n",
      "\n",
      "          Precision     Recall         F1    Support\n",
      "Approved    0.90052    0.90050    0.90051      28773\n",
      "  Denied    0.87754    0.96811    0.92060      43315\n",
      " Settled    0.97340    0.76340    0.85570      20719\n",
      " Avg/Tot    0.91715    0.87734    0.89227      30936\n",
      "\n",
      "Avg. Validation Metrics\n",
      "Accuracy: 0.56534\n",
      "\n",
      "          Precision     Recall         F1    Support\n",
      "Approved    0.56398    0.61476    0.58827       7193\n",
      "  Denied    0.58986    0.72694    0.65126      10829\n",
      " Settled    0.40842    0.15889    0.22876       5180\n",
      " Avg/Tot    0.52075    0.50019    0.48943       7734\n"
     ]
    },
    {
     "data": {
      "text/plain": [
       "[('Claim_Value', 0.31085184848564673),\n",
       " ('Report_Delay', 0.12111376890634136),\n",
       " ('Month_Received', 0.016582964200315194),\n",
       " ('DayYear_Received', 0.08012282508471183),\n",
       " ('DayMonth_Received', 0.06299128134427572),\n",
       " ('Incident_Month', 0.01648979623348674),\n",
       " ('Incident_DayYear', 0.08025678658135556),\n",
       " ('Incident_DayMonth', 0.06310572326248895),\n",
       " ('Claim_Type_Count', 0.03435789907403577),\n",
       " ('Claim_Site_Count', 0.028464495373235994),\n",
       " ('Airport_Code_Group_Count', 0.11068199505464085),\n",
       " ('Airline_Name_Count', 0.07498061639946524)]"
      ]
     },
     "execution_count": 12,
     "metadata": {},
     "output_type": "execute_result"
    }
   ],
   "source": [
    "features = [\"Claim_Value\"]+date_var+text_count_var\n",
    "target = \"Status\"\n",
    "\n",
    "model_df=df[[target]+features].dropna()\n",
    "print(len(df))\n",
    "print(len(model_df))\n",
    "\n",
    "X = np.array(model_df[features])\n",
    "Y = np.array(model_df[target])\n",
    "\n",
    "model = RandomForestClassifier(n_estimators = 500, min_samples_split=10, n_jobs=-1)\n",
    "\n",
    "validation_loop(model,X,Y,rand_state=1)\n",
    "\n",
    "model.fit(X,Y)\n",
    "list(zip(model_df.columns[1:],model.feature_importances_))"
   ]
  },
  {
   "cell_type": "markdown",
   "metadata": {},
   "source": [
    "### Export Features CSV"
   ]
  },
  {
   "cell_type": "code",
   "execution_count": 55,
   "metadata": {
    "ExecuteTime": {
     "end_time": "2018-02-21T06:28:07.966700Z",
     "start_time": "2018-02-21T06:28:06.629919Z"
    }
   },
   "outputs": [],
   "source": [
    "features = [\"Claim_Value\"]+date_var+text_count_var\n",
    "target = \"Status\"\n",
    "csv_df=df[[target]+features].dropna()\n",
    "\n",
    "csv_df.to_csv(\"tsa_model_features.csv\",index=False)"
   ]
  },
  {
   "cell_type": "markdown",
   "metadata": {
    "ExecuteTime": {
     "end_time": "2018-02-20T08:39:43.831983Z",
     "start_time": "2018-02-20T08:39:43.826987Z"
    }
   },
   "source": [
    "## Model Eval"
   ]
  },
  {
   "cell_type": "code",
   "execution_count": 11,
   "metadata": {
    "ExecuteTime": {
     "end_time": "2018-02-20T23:46:37.305582Z",
     "start_time": "2018-02-20T23:46:37.302348Z"
    }
   },
   "outputs": [
    {
     "data": {
      "text/html": [
       "<style>\n",
       "table {float:left}\n",
       "</style>"
      ],
      "text/plain": [
       "<IPython.core.display.HTML object>"
      ]
     },
     "metadata": {},
     "output_type": "display_data"
    }
   ],
   "source": [
    "%%html\n",
    "<style>\n",
    "table {float:left}\n",
    "</style>"
   ]
  },
  {
   "cell_type": "markdown",
   "metadata": {},
   "source": [
    "|Algo (5x Val) | Accuracy | Accept F1 | Deny F1 | Settle F1 | Avg F1\n",
    "|--- | --- | --- | --- | --- | ---\n",
    "|Random Forest | 56.4 | 58.6 | 65.1 | 23.3 | 49.0\n",
    "|XGBoost | 57.6 | 60.3 | 66.1 | 21.1 | 49.2\n",
    "|Logistic Regression | 47.5 | . | . | . | . \n",
    "|Gaussian NB | 31.3 | . | . | . | . "
   ]
  },
  {
   "cell_type": "markdown",
   "metadata": {},
   "source": [
    "**Random Forest**  \n",
    "\n",
    "|Class   | Precision   |Recall    |F1        |Support  \n",
    "|--------|----------|----------|----------|----------\n",
    "|Approved|   0.56240|   0.61233|   0.58630|      7193  \n",
    "|  Denied|   0.59069|   0.72446|   0.65077|     10829  \n",
    "| Settled|   0.40515|   0.16331|   0.23278|      5180  \n",
    "| Avg/Tot|   0.51941|   0.50004|   0.48995|      7734  "
   ]
  },
  {
   "cell_type": "markdown",
   "metadata": {},
   "source": [
    "**XGBoost**  \n",
    "\n",
    "|Class   | Precision|    Recall|        F1|   Support\n",
    "|--------|----------|----------|----------|----------\n",
    "|Approved|   0.56879|   0.64239|   0.60335|      7193  \n",
    "|  Denied|   0.59696|   0.74112|   0.66127|     10829  \n",
    "| Settled|   0.43994|   0.13873|   0.21086|      5180  \n",
    "| Avg/Tot|   0.53523|   0.50742|   0.49183|      7734  "
   ]
  },
  {
   "cell_type": "markdown",
   "metadata": {},
   "source": [
    "### Random Forest"
   ]
  },
  {
   "cell_type": "code",
   "execution_count": 8,
   "metadata": {
    "ExecuteTime": {
     "end_time": "2018-02-20T23:04:48.572933Z",
     "start_time": "2018-02-20T23:02:03.507798Z"
    }
   },
   "outputs": [
    {
     "name": "stdout",
     "output_type": "stream",
     "text": [
      "116009\n",
      "116009\n",
      "Starting 1 of 5 folds\n",
      "Starting 2 of 5 folds\n",
      "Starting 3 of 5 folds\n",
      "Starting 4 of 5 folds\n",
      "Starting 5 of 5 folds\n",
      "\n",
      "Avg. Train Metrics\n",
      "Accuracy: 0.93867\n",
      "\n",
      "          Precision     Recall         F1    Support\n",
      "Approved    0.93702    0.93439    0.93570      28773\n",
      "  Denied    0.92088    0.98251    0.95070      43315\n",
      " Settled    0.98724    0.85295    0.91519      20719\n",
      " Avg/Tot    0.94838    0.92329    0.93387      30936\n",
      "\n",
      "Avg. Validation Metrics\n",
      "Accuracy: 0.56443\n",
      "\n",
      "          Precision     Recall         F1    Support\n",
      "Approved    0.56240    0.61233    0.58630       7193\n",
      "  Denied    0.59069    0.72446    0.65077      10829\n",
      " Settled    0.40515    0.16331    0.23278       5180\n",
      " Avg/Tot    0.51941    0.50004    0.48995       7734\n"
     ]
    },
    {
     "data": {
      "text/plain": [
       "[('Claim_Value', 0.298025592376617),\n",
       " ('Report_Delay', 0.12492822486478018),\n",
       " ('Month_Received', 0.017249924280268395),\n",
       " ('DayYear_Received', 0.08138587615250226),\n",
       " ('DayMonth_Received', 0.06510331919533258),\n",
       " ('Incident_Month', 0.017273763176359733),\n",
       " ('Incident_DayYear', 0.0814084247911109),\n",
       " ('Incident_DayMonth', 0.06512275702476293),\n",
       " ('Claim_Type_Count', 0.03233922274850984),\n",
       " ('Claim_Site_Count', 0.02617946731107325),\n",
       " ('Airport_Code_Group_Count', 0.11426545178410914),\n",
       " ('Airline_Name_Count', 0.07671797629457323)]"
      ]
     },
     "execution_count": 8,
     "metadata": {},
     "output_type": "execute_result"
    }
   ],
   "source": [
    "features = [\"Claim_Value\"]+date_var+text_count_var\n",
    "target = \"Status\"\n",
    "\n",
    "model_df=df[[target]+features].dropna()\n",
    "print(len(df))\n",
    "print(len(model_df))\n",
    "\n",
    "X = np.array(model_df[features])\n",
    "Y = np.array(model_df[target])\n",
    "\n",
    "model = RandomForestClassifier(n_estimators = 1000, min_samples_split=8, n_jobs=-1)\n",
    "\n",
    "validation_loop(model,X,Y,rand_state=1)\n",
    "\n",
    "model.fit(X,Y)\n",
    "list(zip(model_df.columns[1:],model.feature_importances_))"
   ]
  },
  {
   "cell_type": "code",
   "execution_count": 9,
   "metadata": {
    "ExecuteTime": {
     "end_time": "2018-02-20T23:05:24.253180Z",
     "start_time": "2018-02-20T23:04:48.688154Z"
    }
   },
   "outputs": [
    {
     "name": "stdout",
     "output_type": "stream",
     "text": [
      "29003\n",
      "Training\n",
      "0.9367462869260144\n",
      "             precision    recall  f1-score   support\n",
      "\n",
      "   Approved       0.93      0.93      0.93     35966\n",
      "     Denied       0.92      0.98      0.95     54144\n",
      "    Settled       0.99      0.85      0.91     25899\n",
      "\n",
      "avg / total       0.94      0.94      0.94    116009\n",
      "\n",
      "\n",
      "Holdout\n",
      "0.5651484329207324\n",
      "             precision    recall  f1-score   support\n",
      "\n",
      "   Approved       0.57      0.61      0.59      9055\n",
      "     Denied       0.59      0.72      0.65     13562\n",
      "    Settled       0.40      0.17      0.24      6386\n",
      "\n",
      "avg / total       0.54      0.57      0.54     29003\n",
      "\n"
     ]
    },
    {
     "data": {
      "text/plain": [
       "[('Claim_Value', 0.2977001657215341),\n",
       " ('Report_Delay', 0.12488615094597737),\n",
       " ('Month_Received', 0.01735733497994191),\n",
       " ('DayYear_Received', 0.08149810471555213),\n",
       " ('DayMonth_Received', 0.06514515431352054),\n",
       " ('Incident_Month', 0.01742991654426116),\n",
       " ('Incident_DayYear', 0.08154258718812088),\n",
       " ('Incident_DayMonth', 0.06501928590675507),\n",
       " ('Claim_Type_Count', 0.032470987304252984),\n",
       " ('Claim_Site_Count', 0.02611842542565047),\n",
       " ('Airport_Code_Group_Count', 0.11394158128189376),\n",
       " ('Airline_Name_Count', 0.07689030567254002)]"
      ]
     },
     "execution_count": 9,
     "metadata": {},
     "output_type": "execute_result"
    }
   ],
   "source": [
    "model_df_holdout = df_holdout[[target]+features].dropna()\n",
    "X_holdout = np.array(model_df_holdout[features])\n",
    "Y_holdout = np.array(model_df_holdout[target])\n",
    "print(len(model_df_holdout))\n",
    "\n",
    "model.fit(X,Y)\n",
    "\n",
    "print(\"Training\")\n",
    "pred = model.predict(X)\n",
    "print(skm.accuracy_score(Y,pred))\n",
    "print(skm.classification_report(Y, pred))\n",
    "\n",
    "print(\"\\nHoldout\")\n",
    "pred = model.predict(X_holdout)\n",
    "print(skm.accuracy_score(Y_holdout,pred))\n",
    "print(skm.classification_report(Y_holdout, pred))\n",
    "\n",
    "list(zip(model_df.columns[1:],model.feature_importances_))"
   ]
  },
  {
   "cell_type": "markdown",
   "metadata": {},
   "source": [
    "### XGBoost"
   ]
  },
  {
   "cell_type": "code",
   "execution_count": 13,
   "metadata": {
    "ExecuteTime": {
     "end_time": "2018-02-21T01:36:30.933471Z",
     "start_time": "2018-02-21T01:34:19.836413Z"
    },
    "scrolled": false
   },
   "outputs": [
    {
     "name": "stdout",
     "output_type": "stream",
     "text": [
      "116009\n",
      "116009\n",
      "Starting 1 of 5 folds\n"
     ]
    },
    {
     "name": "stderr",
     "output_type": "stream",
     "text": [
      "/home/perry/anaconda3/lib/python3.6/site-packages/sklearn/preprocessing/label.py:151: DeprecationWarning: The truth value of an empty array is ambiguous. Returning False, but in future this will result in an error. Use `array.size > 0` to check that an array is not empty.\n",
      "  if diff:\n",
      "/home/perry/anaconda3/lib/python3.6/site-packages/sklearn/preprocessing/label.py:151: DeprecationWarning: The truth value of an empty array is ambiguous. Returning False, but in future this will result in an error. Use `array.size > 0` to check that an array is not empty.\n",
      "  if diff:\n"
     ]
    },
    {
     "name": "stdout",
     "output_type": "stream",
     "text": [
      "Starting 2 of 5 folds\n"
     ]
    },
    {
     "name": "stderr",
     "output_type": "stream",
     "text": [
      "/home/perry/anaconda3/lib/python3.6/site-packages/sklearn/preprocessing/label.py:151: DeprecationWarning: The truth value of an empty array is ambiguous. Returning False, but in future this will result in an error. Use `array.size > 0` to check that an array is not empty.\n",
      "  if diff:\n",
      "/home/perry/anaconda3/lib/python3.6/site-packages/sklearn/preprocessing/label.py:151: DeprecationWarning: The truth value of an empty array is ambiguous. Returning False, but in future this will result in an error. Use `array.size > 0` to check that an array is not empty.\n",
      "  if diff:\n"
     ]
    },
    {
     "name": "stdout",
     "output_type": "stream",
     "text": [
      "Starting 3 of 5 folds\n"
     ]
    },
    {
     "name": "stderr",
     "output_type": "stream",
     "text": [
      "/home/perry/anaconda3/lib/python3.6/site-packages/sklearn/preprocessing/label.py:151: DeprecationWarning: The truth value of an empty array is ambiguous. Returning False, but in future this will result in an error. Use `array.size > 0` to check that an array is not empty.\n",
      "  if diff:\n",
      "/home/perry/anaconda3/lib/python3.6/site-packages/sklearn/preprocessing/label.py:151: DeprecationWarning: The truth value of an empty array is ambiguous. Returning False, but in future this will result in an error. Use `array.size > 0` to check that an array is not empty.\n",
      "  if diff:\n"
     ]
    },
    {
     "name": "stdout",
     "output_type": "stream",
     "text": [
      "Starting 4 of 5 folds\n"
     ]
    },
    {
     "name": "stderr",
     "output_type": "stream",
     "text": [
      "/home/perry/anaconda3/lib/python3.6/site-packages/sklearn/preprocessing/label.py:151: DeprecationWarning: The truth value of an empty array is ambiguous. Returning False, but in future this will result in an error. Use `array.size > 0` to check that an array is not empty.\n",
      "  if diff:\n",
      "/home/perry/anaconda3/lib/python3.6/site-packages/sklearn/preprocessing/label.py:151: DeprecationWarning: The truth value of an empty array is ambiguous. Returning False, but in future this will result in an error. Use `array.size > 0` to check that an array is not empty.\n",
      "  if diff:\n"
     ]
    },
    {
     "name": "stdout",
     "output_type": "stream",
     "text": [
      "Starting 5 of 5 folds\n"
     ]
    },
    {
     "name": "stderr",
     "output_type": "stream",
     "text": [
      "/home/perry/anaconda3/lib/python3.6/site-packages/sklearn/preprocessing/label.py:151: DeprecationWarning: The truth value of an empty array is ambiguous. Returning False, but in future this will result in an error. Use `array.size > 0` to check that an array is not empty.\n",
      "  if diff:\n",
      "/home/perry/anaconda3/lib/python3.6/site-packages/sklearn/preprocessing/label.py:151: DeprecationWarning: The truth value of an empty array is ambiguous. Returning False, but in future this will result in an error. Use `array.size > 0` to check that an array is not empty.\n",
      "  if diff:\n"
     ]
    },
    {
     "name": "stdout",
     "output_type": "stream",
     "text": [
      "\n",
      "Avg. Train Metrics\n",
      "Accuracy: 0.60152\n",
      "\n",
      "          Precision     Recall         F1    Support\n",
      "Approved    0.59389    0.67204    0.63055      28773\n",
      "  Denied    0.61479    0.76209    0.68056      43315\n",
      " Settled    0.53059    0.16793    0.25499      20719\n",
      " Avg/Tot    0.57975    0.53402    0.52203      30936\n",
      "\n",
      "Avg. Validation Metrics\n",
      "Accuracy: 0.57581\n",
      "\n",
      "          Precision     Recall         F1    Support\n",
      "Approved    0.56893    0.64395    0.60412       7193\n",
      "  Denied    0.59599    0.74178    0.66094      10829\n",
      " Settled    0.43938    0.13410    0.20538       5180\n",
      " Avg/Tot    0.53477    0.50661    0.49015       7734\n",
      "\n",
      "Logloss: 0.8905422 Std Dev: 0.00575205776744288\n",
      "Best number of trees [273, 267, 275, 393, 328]\n"
     ]
    }
   ],
   "source": [
    "features = [\"Claim_Value\"]+date_var+text_count_var\n",
    "target = \"Status\"\n",
    "\n",
    "model_df=df[[target]+features].dropna()\n",
    "print(len(df))\n",
    "print(len(model_df))\n",
    "\n",
    "X = model_df[features].reset_index(drop=True)\n",
    "Y = model_df[target].reset_index(drop=True)\n",
    "\n",
    "model = xgb.XGBClassifier(n_estimators = 30000,\n",
    "                          learning_rate = .2,\n",
    "                          max_depth = 4,\n",
    "                          objective = \"multi:softmax\",\n",
    "                          subsample=1,\n",
    "                          min_child_weight=1,\n",
    "                          colsample_bytree=.8,\n",
    "                          random_state = 1,\n",
    "                          n_jobs = -1\n",
    "                         )\n",
    "\n",
    "test_accs, test_scores = [], []\n",
    "train_accs, train_scores = [], []\n",
    "\n",
    "logloss = []\n",
    "ntrees = []\n",
    "\n",
    "i=1\n",
    "k=5\n",
    "rand_state = 1\n",
    "\n",
    "for train_ind, test_ind in KFold(k,shuffle=True,random_state=rand_state).split(X,Y):\n",
    "    print(\"Starting {} of {} folds\".format(i,k))\n",
    "\n",
    "    eval_set=[(X.iloc[train_ind],Y.iloc[train_ind]),(X.iloc[test_ind],Y.iloc[test_ind])] \n",
    "    fit_model = model.fit( \n",
    "                    X.iloc[train_ind], Y.iloc[train_ind], \n",
    "                    eval_set=eval_set,\n",
    "                    eval_metric='mlogloss',\n",
    "                    early_stopping_rounds=50,\n",
    "                    verbose=False\n",
    "                   )\n",
    "    \n",
    "    logloss.append(model.best_score)\n",
    "    ntrees.append(model.best_ntree_limit)\n",
    "    \n",
    "    #Test metrics\n",
    "    pred = model.predict(X.iloc[test_ind],ntree_limit=model.best_ntree_limit)\n",
    "    acc = skm.accuracy_score(Y.iloc[test_ind],pred)\n",
    "    test_accs.append(acc)\n",
    "    score = skm.precision_recall_fscore_support(Y.iloc[test_ind],pred)\n",
    "    test_scores.append(score)\n",
    "    #print(acc)\n",
    "    #print(skm.classification_report(Y[test_ind],pred))\n",
    "\n",
    "    #Train metrics\n",
    "    pred = model.predict(X.iloc[train_ind],ntree_limit=model.best_ntree_limit)\n",
    "    acc = skm.accuracy_score(Y.iloc[train_ind],pred)\n",
    "    train_accs.append(acc)\n",
    "    score = skm.precision_recall_fscore_support(Y.iloc[train_ind],pred)\n",
    "    train_scores.append(score)\n",
    "\n",
    "    i+=1\n",
    "\n",
    "print(\"\\nAvg. Train Metrics\")\n",
    "print (\"Accuracy: {:.5f}\".format(np.average(train_accs)))\n",
    "print_scores(np.average(train_scores,axis=0),np.unique(Y))\n",
    "\n",
    "print(\"\\nAvg. Validation Metrics\")\n",
    "print (\"Accuracy: {:.5f}\".format(np.average(test_accs)))\n",
    "print_scores(np.average(test_scores,axis=0),np.unique(Y))\n",
    "\n",
    "print(\"\\nLogloss:\", np.average(logloss), \"Std Dev:\", np.std(logloss))\n",
    "print(\"Best number of trees\", ntrees)"
   ]
  },
  {
   "cell_type": "code",
   "execution_count": 14,
   "metadata": {
    "ExecuteTime": {
     "end_time": "2018-02-21T01:36:54.131965Z",
     "start_time": "2018-02-21T01:36:31.090361Z"
    }
   },
   "outputs": [
    {
     "name": "stdout",
     "output_type": "stream",
     "text": [
      "29003\n",
      "Training\n"
     ]
    },
    {
     "name": "stderr",
     "output_type": "stream",
     "text": [
      "/home/perry/anaconda3/lib/python3.6/site-packages/sklearn/preprocessing/label.py:151: DeprecationWarning: The truth value of an empty array is ambiguous. Returning False, but in future this will result in an error. Use `array.size > 0` to check that an array is not empty.\n",
      "  if diff:\n"
     ]
    },
    {
     "name": "stdout",
     "output_type": "stream",
     "text": [
      "0.5976605263384738\n",
      "             precision    recall  f1-score   support\n",
      "\n",
      "   Approved       0.59      0.67      0.63     35966\n",
      "     Denied       0.61      0.76      0.68     54144\n",
      "    Settled       0.52      0.16      0.25     25899\n",
      "\n",
      "avg / total       0.58      0.60      0.57    116009\n",
      "\n",
      "\n",
      "Holdout\n"
     ]
    },
    {
     "name": "stderr",
     "output_type": "stream",
     "text": [
      "/home/perry/anaconda3/lib/python3.6/site-packages/sklearn/preprocessing/label.py:151: DeprecationWarning: The truth value of an empty array is ambiguous. Returning False, but in future this will result in an error. Use `array.size > 0` to check that an array is not empty.\n",
      "  if diff:\n"
     ]
    },
    {
     "name": "stdout",
     "output_type": "stream",
     "text": [
      "0.5759059407647484\n",
      "             precision    recall  f1-score   support\n",
      "\n",
      "   Approved       0.57      0.64      0.60      9055\n",
      "     Denied       0.60      0.74      0.66     13562\n",
      "    Settled       0.43      0.14      0.21      6386\n",
      "\n",
      "avg / total       0.55      0.58      0.54     29003\n",
      "\n"
     ]
    },
    {
     "data": {
      "text/plain": [
       "[('Claim_Value', 0.23678161),\n",
       " ('Report_Delay', 0.15370591),\n",
       " ('Month_Received', 0.013476021),\n",
       " ('DayYear_Received', 0.14704716),\n",
       " ('DayMonth_Received', 0.0660325),\n",
       " ('Incident_Month', 0.0007927071),\n",
       " ('Incident_DayYear', 0.038446292),\n",
       " ('Incident_DayMonth', 0.014823623),\n",
       " ('Claim_Type_Count', 0.054458976),\n",
       " ('Claim_Site_Count', 0.04375743),\n",
       " ('Airport_Code_Group_Count', 0.12944907),\n",
       " ('Airline_Name_Count', 0.1012287)]"
      ]
     },
     "execution_count": 14,
     "metadata": {},
     "output_type": "execute_result"
    }
   ],
   "source": [
    "# Not sure about this part\n",
    "model_df_holdout = df_holdout[[target]+features].dropna()\n",
    "X_holdout = model_df_holdout[features]\n",
    "Y_holdout = model_df_holdout[target]\n",
    "print(len(model_df_holdout))\n",
    "\n",
    "model = xgb.XGBClassifier(n_estimators = int(np.average(ntrees)),\n",
    "                          learning_rate = .2,\n",
    "                          max_depth = 4,\n",
    "                          objective = \"multi:softmax\",\n",
    "                          subsample=1,\n",
    "                          min_child_weight=1,\n",
    "                          colsample_bytree=.8,\n",
    "                          random_state = 1,\n",
    "                          n_jobs = -1\n",
    "                         )\n",
    "\n",
    "fit_model = model.fit(X, Y)\n",
    "\n",
    "print(\"Training\")\n",
    "pred = model.predict(X)\n",
    "print(skm.accuracy_score(Y,pred))\n",
    "print(skm.classification_report(Y, pred))\n",
    "\n",
    "print(\"\\nHoldout\")\n",
    "pred = model.predict(X_holdout)\n",
    "print(skm.accuracy_score(Y_holdout,pred))\n",
    "print(skm.classification_report(Y_holdout, pred))\n",
    "\n",
    "list(zip(model_df.columns[1:],fit_model.feature_importances_))"
   ]
  },
  {
   "cell_type": "code",
   "execution_count": 18,
   "metadata": {
    "ExecuteTime": {
     "end_time": "2018-02-20T22:49:16.682125Z",
     "start_time": "2018-02-20T22:49:16.113243Z"
    }
   },
   "outputs": [
    {
     "data": {
      "text/plain": [
       "<matplotlib.axes._subplots.AxesSubplot at 0x7f77ae558e10>"
      ]
     },
     "execution_count": 18,
     "metadata": {},
     "output_type": "execute_result"
    },
    {
     "data": {
      "image/png": "[encoded data removed]",
      "text/plain": [
       "<matplotlib.figure.Figure at 0x7f77b03152b0>"
      ]
     },
     "metadata": {},
     "output_type": "display_data"
    },
    {
     "data": {
      "image/png": "[encoded data removed]",
      "text/plain": [
       "<matplotlib.figure.Figure at 0x7f77ae563898>"
      ]
     },
     "metadata": {},
     "output_type": "display_data"
    }
   ],
   "source": [
    "xgb.plot_importance(fit_model)\n",
    "\n",
    "xgb.plot_importance(fit_model, importance_type=\"gain\")\n"
   ]
  },
  {
   "cell_type": "markdown",
   "metadata": {
    "heading_collapsed": true
   },
   "source": [
    "### Logistic Regression"
   ]
  },
  {
   "cell_type": "code",
   "execution_count": 14,
   "metadata": {
    "ExecuteTime": {
     "end_time": "2018-02-20T22:46:35.768895Z",
     "start_time": "2018-02-20T22:46:23.410510Z"
    },
    "hidden": true
   },
   "outputs": [
    {
     "name": "stdout",
     "output_type": "stream",
     "text": [
      "116009\n",
      "116009\n",
      "Starting 1 of 5 folds\n"
     ]
    },
    {
     "name": "stderr",
     "output_type": "stream",
     "text": [
      "/home/perry/anaconda3/lib/python3.6/site-packages/sklearn/metrics/classification.py:1135: UndefinedMetricWarning: Precision and F-score are ill-defined and being set to 0.0 in labels with no predicted samples.\n",
      "  'precision', 'predicted', average, warn_for)\n"
     ]
    },
    {
     "name": "stdout",
     "output_type": "stream",
     "text": [
      "Starting 2 of 5 folds\n",
      "Starting 3 of 5 folds\n",
      "Starting 4 of 5 folds\n",
      "Starting 5 of 5 folds\n",
      "\n",
      "Avg. Train Metrics\n",
      "Accuracy: 0.47521\n",
      "\n",
      "          Precision     Recall         F1    Support\n",
      "Approved    0.39128    0.06362    0.08439      28773\n",
      "  Denied    0.47564    0.97330    0.63799      43315\n",
      " Settled    0.06965    0.00571    0.01056      20719\n",
      " Avg/Tot    0.31219    0.34754    0.24431      30936\n",
      "\n",
      "Avg. Validation Metrics\n",
      "Accuracy: 0.47519\n",
      "\n",
      "          Precision     Recall         F1    Support\n",
      "Approved    0.38980    0.06292    0.08417       7193\n",
      "  Denied    0.47510    0.97313    0.63760      10829\n",
      " Settled    0.07409    0.00588    0.01090       5180\n",
      " Avg/Tot    0.31300    0.34731    0.24422       7734\n",
      "Index(['Claim_Value', 'Report_Delay', 'Month_Received', 'DayYear_Received',\n",
      "       'DayMonth_Received', 'Incident_Month', 'Incident_DayYear',\n",
      "       'Incident_DayMonth', 'Claim_Type_Count', 'Claim_Site_Count',\n",
      "       'Airport_Code_Group_Count', 'Airline_Name_Count'],\n",
      "      dtype='object')\n",
      "[[-1.81384783e-06 -3.10249862e-08 -1.48334366e-09 -4.70295289e-08\n",
      "  -1.56275617e-09 -1.48334366e-09 -4.70295289e-08 -1.56275617e-09\n",
      "  -3.57659852e-06 -8.71813296e-06 -8.65948275e-07  5.69384312e-06]\n",
      " [ 2.63539493e-06 -4.96831148e-09 -8.13832409e-10 -2.02212711e-08\n",
      "  -2.58575120e-09 -8.13832409e-10 -2.02212711e-08 -2.58575120e-09\n",
      "  -7.68962765e-07  3.82082509e-07 -3.83423421e-07 -5.90716280e-06]\n",
      " [-2.41242420e-06 -2.30173688e-08 -3.05688155e-09 -8.75058952e-08\n",
      "  -7.09988447e-09 -3.05688155e-09 -8.75058952e-08 -7.09988447e-09\n",
      "  -1.97848335e-05 -1.37946965e-06 -1.05789315e-06 -3.14733473e-06]]\n",
      "[ 1.04578410e-11 -2.28503992e-10 -4.09833736e-10]\n"
     ]
    }
   ],
   "source": [
    "features = [\"Claim_Value\"]+date_var+text_count_var \n",
    "target = \"Status\"\n",
    "\n",
    "model_df=df[[target]+features].dropna()\n",
    "print(len(df))\n",
    "print(len(model_df))\n",
    "\n",
    "X = np.array(model_df[features])\n",
    "Y = np.array(model_df[target])\n",
    "\n",
    "model = LogisticRegression(C=100)\n",
    "\n",
    "validation_loop(model,X,Y,rand_state=1)\n",
    "\n",
    "model.fit(X,Y)\n",
    "print(model_df.columns[1:])\n",
    "print(model.coef_)\n",
    "print(model.intercept_)"
   ]
  },
  {
   "cell_type": "markdown",
   "metadata": {
    "ExecuteTime": {
     "end_time": "2018-02-20T08:54:23.462347Z",
     "start_time": "2018-02-20T08:54:23.457752Z"
    },
    "heading_collapsed": true
   },
   "source": [
    "### Naive Bayes"
   ]
  },
  {
   "cell_type": "code",
   "execution_count": 15,
   "metadata": {
    "ExecuteTime": {
     "end_time": "2018-02-20T22:46:39.267400Z",
     "start_time": "2018-02-20T22:46:35.889084Z"
    },
    "hidden": true
   },
   "outputs": [
    {
     "name": "stdout",
     "output_type": "stream",
     "text": [
      "116009\n",
      "116009\n",
      "Starting 1 of 5 folds\n"
     ]
    },
    {
     "name": "stderr",
     "output_type": "stream",
     "text": [
      "/home/perry/anaconda3/lib/python3.6/site-packages/sklearn/metrics/classification.py:1135: UndefinedMetricWarning: Precision and F-score are ill-defined and being set to 0.0 in labels with no predicted samples.\n",
      "  'precision', 'predicted', average, warn_for)\n"
     ]
    },
    {
     "name": "stdout",
     "output_type": "stream",
     "text": [
      "Starting 2 of 5 folds\n",
      "Starting 3 of 5 folds\n",
      "Starting 4 of 5 folds\n",
      "Starting 5 of 5 folds\n",
      "\n",
      "Avg. Train Metrics\n",
      "Accuracy: 0.31318\n",
      "\n",
      "          Precision     Recall         F1    Support\n",
      "Approved    0.31556    0.99716    0.47927      28773\n",
      "  Denied    0.94610    0.00092    0.00184      43315\n",
      " Settled    0.03882    0.01616    0.02282      20719\n",
      " Avg/Tot    0.43349    0.33808    0.16798      30936\n",
      "\n",
      "Avg. Validation Metrics\n",
      "Accuracy: 0.31298\n",
      "\n",
      "          Precision     Recall         F1    Support\n",
      "Approved    0.31566    0.99732    0.47938       7193\n",
      "  Denied    0.97500    0.00078    0.00155      10829\n",
      " Settled    0.03673    0.01530    0.02160       5180\n",
      " Avg/Tot    0.44247    0.33780    0.16751       7734\n"
     ]
    }
   ],
   "source": [
    "features = [\"Claim_Value\"]+date_var+text_count_var \n",
    "target = \"Status\"\n",
    "\n",
    "model_df=df[[target]+features].dropna()\n",
    "print(len(df))\n",
    "print(len(model_df))\n",
    "\n",
    "X = np.array(model_df[features])\n",
    "Y = np.array(model_df[target])\n",
    "\n",
    "model = GaussianNB()\n",
    "\n",
    "validation_loop(model,X,Y,rand_state=1)"
   ]
  },
  {
   "cell_type": "markdown",
   "metadata": {
    "ExecuteTime": {
     "end_time": "2018-02-20T09:14:21.399545Z",
     "start_time": "2018-02-20T09:00:18.064Z"
    }
   },
   "source": [
    "## Model Tuning (XGBoost)"
   ]
  },
  {
   "cell_type": "markdown",
   "metadata": {},
   "source": [
    "### Helper Function"
   ]
  },
  {
   "cell_type": "code",
   "execution_count": 37,
   "metadata": {
    "ExecuteTime": {
     "end_time": "2018-02-21T02:59:09.813970Z",
     "start_time": "2018-02-21T02:59:09.763929Z"
    }
   },
   "outputs": [],
   "source": [
    "def xgb_val_loop(model,X,Y,k=4,rand_state=1):\n",
    "    ''' Runs k-fold validation loop for input model, X, Y. Prints classification accuracy \n",
    "             and the following per-label metrics: precision, recall, f1, support.\n",
    "        Inputs: \n",
    "                ylabel_strings -> the target labels\n",
    "    '''\n",
    "    test_accs, test_scores = [], []\n",
    "    #train_accs, train_scores = [], []\n",
    "    logloss = []\n",
    "    ntrees = []\n",
    "\n",
    "    for train_ind, test_ind in KFold(k,shuffle=True,random_state=rand_state).split(X,Y):\n",
    "        eval_set=[(X.iloc[train_ind],Y.iloc[train_ind]),(X.iloc[test_ind],Y.iloc[test_ind])] #tracking train/validation error as we go\n",
    "        fit_model = model.fit( \n",
    "                        X.iloc[train_ind], Y.iloc[train_ind], \n",
    "                        eval_set=eval_set,\n",
    "                        eval_metric='mlogloss',\n",
    "                        early_stopping_rounds=50,\n",
    "                        verbose=False\n",
    "                       )\n",
    "\n",
    "        logloss.append(model.best_score)\n",
    "        ntrees.append(model.best_ntree_limit)\n",
    "\n",
    "        #Test metrics\n",
    "        pred = model.predict(X.iloc[test_ind],ntree_limit=model.best_ntree_limit)\n",
    "        acc = skm.accuracy_score(Y.iloc[test_ind],pred)\n",
    "        test_accs.append(acc)\n",
    "        score = skm.precision_recall_fscore_support(Y.iloc[test_ind],pred)\n",
    "        test_scores.append(score)\n",
    "        #print(acc)\n",
    "        #print(skm.classification_report(Y[test_ind],pred))\n",
    "\n",
    "        #Train metrics\n",
    "        #pred = model.predict(X.iloc[train_ind],ntree_limit=model.best_ntree_limit)\n",
    "        #acc = skm.accuracy_score(Y.iloc[train_ind],pred)\n",
    "        #train_accs.append(acc)\n",
    "        #score = skm.precision_recall_fscore_support(Y.iloc[train_ind],pred)\n",
    "        #train_scores.append(score)\n",
    "    \n",
    "    return {\"logloss\":np.average(logloss),\n",
    "            \"ntrees\":np.average(ntrees),\n",
    "            \"test_acc\":np.average(test_accs),\n",
    "            \"test_scores\":np.average(test_scores,axis=0)}\n",
    "            \n"
   ]
  },
  {
   "cell_type": "markdown",
   "metadata": {},
   "source": [
    "### Grid Search"
   ]
  },
  {
   "cell_type": "code",
   "execution_count": 38,
   "metadata": {
    "ExecuteTime": {
     "end_time": "2018-02-21T05:57:34.349087Z",
     "start_time": "2018-02-21T02:59:15.244480Z"
    },
    "scrolled": true
   },
   "outputs": [
    {
     "name": "stdout",
     "output_type": "stream",
     "text": [
      "XVal on tree 1 with params:   3 | 0.6 |   1 | 0.6\n",
      "02:59:15.280998\n"
     ]
    },
    {
     "name": "stderr",
     "output_type": "stream",
     "text": [
      "/home/perry/anaconda3/lib/python3.6/site-packages/sklearn/preprocessing/label.py:151: DeprecationWarning: The truth value of an empty array is ambiguous. Returning False, but in future this will result in an error. Use `array.size > 0` to check that an array is not empty.\n",
      "  if diff:\n",
      "/home/perry/anaconda3/lib/python3.6/site-packages/sklearn/preprocessing/label.py:151: DeprecationWarning: The truth value of an empty array is ambiguous. Returning False, but in future this will result in an error. Use `array.size > 0` to check that an array is not empty.\n",
      "  if diff:\n",
      "/home/perry/anaconda3/lib/python3.6/site-packages/sklearn/preprocessing/label.py:151: DeprecationWarning: The truth value of an empty array is ambiguous. Returning False, but in future this will result in an error. Use `array.size > 0` to check that an array is not empty.\n",
      "  if diff:\n",
      "/home/perry/anaconda3/lib/python3.6/site-packages/sklearn/preprocessing/label.py:151: DeprecationWarning: The truth value of an empty array is ambiguous. Returning False, but in future this will result in an error. Use `array.size > 0` to check that an array is not empty.\n",
      "  if diff:\n"
     ]
    },
    {
     "name": "stdout",
     "output_type": "stream",
     "text": [
      "XVal on tree 2 with params:   3 | 0.6 |   1 | 0.8\n",
      "03:02:16.766111\n"
     ]
    },
    {
     "name": "stderr",
     "output_type": "stream",
     "text": [
      "/home/perry/anaconda3/lib/python3.6/site-packages/sklearn/preprocessing/label.py:151: DeprecationWarning: The truth value of an empty array is ambiguous. Returning False, but in future this will result in an error. Use `array.size > 0` to check that an array is not empty.\n",
      "  if diff:\n",
      "/home/perry/anaconda3/lib/python3.6/site-packages/sklearn/preprocessing/label.py:151: DeprecationWarning: The truth value of an empty array is ambiguous. Returning False, but in future this will result in an error. Use `array.size > 0` to check that an array is not empty.\n",
      "  if diff:\n",
      "/home/perry/anaconda3/lib/python3.6/site-packages/sklearn/preprocessing/label.py:151: DeprecationWarning: The truth value of an empty array is ambiguous. Returning False, but in future this will result in an error. Use `array.size > 0` to check that an array is not empty.\n",
      "  if diff:\n",
      "/home/perry/anaconda3/lib/python3.6/site-packages/sklearn/preprocessing/label.py:151: DeprecationWarning: The truth value of an empty array is ambiguous. Returning False, but in future this will result in an error. Use `array.size > 0` to check that an array is not empty.\n",
      "  if diff:\n"
     ]
    },
    {
     "name": "stdout",
     "output_type": "stream",
     "text": [
      "XVal on tree 3 with params:   3 | 0.6 |   1 | 1.0\n",
      "03:05:35.591360\n"
     ]
    },
    {
     "name": "stderr",
     "output_type": "stream",
     "text": [
      "/home/perry/anaconda3/lib/python3.6/site-packages/sklearn/preprocessing/label.py:151: DeprecationWarning: The truth value of an empty array is ambiguous. Returning False, but in future this will result in an error. Use `array.size > 0` to check that an array is not empty.\n",
      "  if diff:\n",
      "/home/perry/anaconda3/lib/python3.6/site-packages/sklearn/preprocessing/label.py:151: DeprecationWarning: The truth value of an empty array is ambiguous. Returning False, but in future this will result in an error. Use `array.size > 0` to check that an array is not empty.\n",
      "  if diff:\n",
      "/home/perry/anaconda3/lib/python3.6/site-packages/sklearn/preprocessing/label.py:151: DeprecationWarning: The truth value of an empty array is ambiguous. Returning False, but in future this will result in an error. Use `array.size > 0` to check that an array is not empty.\n",
      "  if diff:\n",
      "/home/perry/anaconda3/lib/python3.6/site-packages/sklearn/preprocessing/label.py:151: DeprecationWarning: The truth value of an empty array is ambiguous. Returning False, but in future this will result in an error. Use `array.size > 0` to check that an array is not empty.\n",
      "  if diff:\n"
     ]
    },
    {
     "name": "stdout",
     "output_type": "stream",
     "text": [
      "XVal on tree 4 with params:   3 | 0.6 |   3 | 0.6\n",
      "03:09:17.854103\n"
     ]
    },
    {
     "name": "stderr",
     "output_type": "stream",
     "text": [
      "/home/perry/anaconda3/lib/python3.6/site-packages/sklearn/preprocessing/label.py:151: DeprecationWarning: The truth value of an empty array is ambiguous. Returning False, but in future this will result in an error. Use `array.size > 0` to check that an array is not empty.\n",
      "  if diff:\n",
      "/home/perry/anaconda3/lib/python3.6/site-packages/sklearn/preprocessing/label.py:151: DeprecationWarning: The truth value of an empty array is ambiguous. Returning False, but in future this will result in an error. Use `array.size > 0` to check that an array is not empty.\n",
      "  if diff:\n",
      "/home/perry/anaconda3/lib/python3.6/site-packages/sklearn/preprocessing/label.py:151: DeprecationWarning: The truth value of an empty array is ambiguous. Returning False, but in future this will result in an error. Use `array.size > 0` to check that an array is not empty.\n",
      "  if diff:\n",
      "/home/perry/anaconda3/lib/python3.6/site-packages/sklearn/preprocessing/label.py:151: DeprecationWarning: The truth value of an empty array is ambiguous. Returning False, but in future this will result in an error. Use `array.size > 0` to check that an array is not empty.\n",
      "  if diff:\n"
     ]
    },
    {
     "name": "stdout",
     "output_type": "stream",
     "text": [
      "XVal on tree 5 with params:   3 | 0.6 |   3 | 0.8\n",
      "03:12:06.061554\n"
     ]
    },
    {
     "name": "stderr",
     "output_type": "stream",
     "text": [
      "/home/perry/anaconda3/lib/python3.6/site-packages/sklearn/preprocessing/label.py:151: DeprecationWarning: The truth value of an empty array is ambiguous. Returning False, but in future this will result in an error. Use `array.size > 0` to check that an array is not empty.\n",
      "  if diff:\n",
      "/home/perry/anaconda3/lib/python3.6/site-packages/sklearn/preprocessing/label.py:151: DeprecationWarning: The truth value of an empty array is ambiguous. Returning False, but in future this will result in an error. Use `array.size > 0` to check that an array is not empty.\n",
      "  if diff:\n",
      "/home/perry/anaconda3/lib/python3.6/site-packages/sklearn/preprocessing/label.py:151: DeprecationWarning: The truth value of an empty array is ambiguous. Returning False, but in future this will result in an error. Use `array.size > 0` to check that an array is not empty.\n",
      "  if diff:\n",
      "/home/perry/anaconda3/lib/python3.6/site-packages/sklearn/preprocessing/label.py:151: DeprecationWarning: The truth value of an empty array is ambiguous. Returning False, but in future this will result in an error. Use `array.size > 0` to check that an array is not empty.\n",
      "  if diff:\n"
     ]
    },
    {
     "name": "stdout",
     "output_type": "stream",
     "text": [
      "XVal on tree 6 with params:   3 | 0.6 |   3 | 1.0\n",
      "03:15:36.311561\n"
     ]
    },
    {
     "name": "stderr",
     "output_type": "stream",
     "text": [
      "/home/perry/anaconda3/lib/python3.6/site-packages/sklearn/preprocessing/label.py:151: DeprecationWarning: The truth value of an empty array is ambiguous. Returning False, but in future this will result in an error. Use `array.size > 0` to check that an array is not empty.\n",
      "  if diff:\n",
      "/home/perry/anaconda3/lib/python3.6/site-packages/sklearn/preprocessing/label.py:151: DeprecationWarning: The truth value of an empty array is ambiguous. Returning False, but in future this will result in an error. Use `array.size > 0` to check that an array is not empty.\n",
      "  if diff:\n",
      "/home/perry/anaconda3/lib/python3.6/site-packages/sklearn/preprocessing/label.py:151: DeprecationWarning: The truth value of an empty array is ambiguous. Returning False, but in future this will result in an error. Use `array.size > 0` to check that an array is not empty.\n",
      "  if diff:\n",
      "/home/perry/anaconda3/lib/python3.6/site-packages/sklearn/preprocessing/label.py:151: DeprecationWarning: The truth value of an empty array is ambiguous. Returning False, but in future this will result in an error. Use `array.size > 0` to check that an array is not empty.\n",
      "  if diff:\n"
     ]
    },
    {
     "name": "stdout",
     "output_type": "stream",
     "text": [
      "XVal on tree 7 with params:   3 | 0.6 |   5 | 0.6\n",
      "03:19:10.783425\n"
     ]
    },
    {
     "name": "stderr",
     "output_type": "stream",
     "text": [
      "/home/perry/anaconda3/lib/python3.6/site-packages/sklearn/preprocessing/label.py:151: DeprecationWarning: The truth value of an empty array is ambiguous. Returning False, but in future this will result in an error. Use `array.size > 0` to check that an array is not empty.\n",
      "  if diff:\n",
      "/home/perry/anaconda3/lib/python3.6/site-packages/sklearn/preprocessing/label.py:151: DeprecationWarning: The truth value of an empty array is ambiguous. Returning False, but in future this will result in an error. Use `array.size > 0` to check that an array is not empty.\n",
      "  if diff:\n",
      "/home/perry/anaconda3/lib/python3.6/site-packages/sklearn/preprocessing/label.py:151: DeprecationWarning: The truth value of an empty array is ambiguous. Returning False, but in future this will result in an error. Use `array.size > 0` to check that an array is not empty.\n",
      "  if diff:\n",
      "/home/perry/anaconda3/lib/python3.6/site-packages/sklearn/preprocessing/label.py:151: DeprecationWarning: The truth value of an empty array is ambiguous. Returning False, but in future this will result in an error. Use `array.size > 0` to check that an array is not empty.\n",
      "  if diff:\n"
     ]
    },
    {
     "name": "stdout",
     "output_type": "stream",
     "text": [
      "XVal on tree 8 with params:   3 | 0.6 |   5 | 0.8\n",
      "03:22:05.081672\n"
     ]
    },
    {
     "name": "stderr",
     "output_type": "stream",
     "text": [
      "/home/perry/anaconda3/lib/python3.6/site-packages/sklearn/preprocessing/label.py:151: DeprecationWarning: The truth value of an empty array is ambiguous. Returning False, but in future this will result in an error. Use `array.size > 0` to check that an array is not empty.\n",
      "  if diff:\n",
      "/home/perry/anaconda3/lib/python3.6/site-packages/sklearn/preprocessing/label.py:151: DeprecationWarning: The truth value of an empty array is ambiguous. Returning False, but in future this will result in an error. Use `array.size > 0` to check that an array is not empty.\n",
      "  if diff:\n",
      "/home/perry/anaconda3/lib/python3.6/site-packages/sklearn/preprocessing/label.py:151: DeprecationWarning: The truth value of an empty array is ambiguous. Returning False, but in future this will result in an error. Use `array.size > 0` to check that an array is not empty.\n",
      "  if diff:\n",
      "/home/perry/anaconda3/lib/python3.6/site-packages/sklearn/preprocessing/label.py:151: DeprecationWarning: The truth value of an empty array is ambiguous. Returning False, but in future this will result in an error. Use `array.size > 0` to check that an array is not empty.\n",
      "  if diff:\n"
     ]
    },
    {
     "name": "stdout",
     "output_type": "stream",
     "text": [
      "XVal on tree 9 with params:   3 | 0.6 |   5 | 1.0\n",
      "03:25:39.149469\n"
     ]
    },
    {
     "name": "stderr",
     "output_type": "stream",
     "text": [
      "/home/perry/anaconda3/lib/python3.6/site-packages/sklearn/preprocessing/label.py:151: DeprecationWarning: The truth value of an empty array is ambiguous. Returning False, but in future this will result in an error. Use `array.size > 0` to check that an array is not empty.\n",
      "  if diff:\n",
      "/home/perry/anaconda3/lib/python3.6/site-packages/sklearn/preprocessing/label.py:151: DeprecationWarning: The truth value of an empty array is ambiguous. Returning False, but in future this will result in an error. Use `array.size > 0` to check that an array is not empty.\n",
      "  if diff:\n",
      "/home/perry/anaconda3/lib/python3.6/site-packages/sklearn/preprocessing/label.py:151: DeprecationWarning: The truth value of an empty array is ambiguous. Returning False, but in future this will result in an error. Use `array.size > 0` to check that an array is not empty.\n",
      "  if diff:\n",
      "/home/perry/anaconda3/lib/python3.6/site-packages/sklearn/preprocessing/label.py:151: DeprecationWarning: The truth value of an empty array is ambiguous. Returning False, but in future this will result in an error. Use `array.size > 0` to check that an array is not empty.\n",
      "  if diff:\n"
     ]
    },
    {
     "name": "stdout",
     "output_type": "stream",
     "text": [
      "XVal on tree 10 with params:   3 | 0.8 |   1 | 0.6\n",
      "03:29:27.094664\n"
     ]
    },
    {
     "name": "stderr",
     "output_type": "stream",
     "text": [
      "/home/perry/anaconda3/lib/python3.6/site-packages/sklearn/preprocessing/label.py:151: DeprecationWarning: The truth value of an empty array is ambiguous. Returning False, but in future this will result in an error. Use `array.size > 0` to check that an array is not empty.\n",
      "  if diff:\n",
      "/home/perry/anaconda3/lib/python3.6/site-packages/sklearn/preprocessing/label.py:151: DeprecationWarning: The truth value of an empty array is ambiguous. Returning False, but in future this will result in an error. Use `array.size > 0` to check that an array is not empty.\n",
      "  if diff:\n",
      "/home/perry/anaconda3/lib/python3.6/site-packages/sklearn/preprocessing/label.py:151: DeprecationWarning: The truth value of an empty array is ambiguous. Returning False, but in future this will result in an error. Use `array.size > 0` to check that an array is not empty.\n",
      "  if diff:\n",
      "/home/perry/anaconda3/lib/python3.6/site-packages/sklearn/preprocessing/label.py:151: DeprecationWarning: The truth value of an empty array is ambiguous. Returning False, but in future this will result in an error. Use `array.size > 0` to check that an array is not empty.\n",
      "  if diff:\n"
     ]
    },
    {
     "name": "stdout",
     "output_type": "stream",
     "text": [
      "XVal on tree 11 with params:   3 | 0.8 |   1 | 0.8\n",
      "03:32:30.660997\n"
     ]
    },
    {
     "name": "stderr",
     "output_type": "stream",
     "text": [
      "/home/perry/anaconda3/lib/python3.6/site-packages/sklearn/preprocessing/label.py:151: DeprecationWarning: The truth value of an empty array is ambiguous. Returning False, but in future this will result in an error. Use `array.size > 0` to check that an array is not empty.\n",
      "  if diff:\n",
      "/home/perry/anaconda3/lib/python3.6/site-packages/sklearn/preprocessing/label.py:151: DeprecationWarning: The truth value of an empty array is ambiguous. Returning False, but in future this will result in an error. Use `array.size > 0` to check that an array is not empty.\n",
      "  if diff:\n",
      "/home/perry/anaconda3/lib/python3.6/site-packages/sklearn/preprocessing/label.py:151: DeprecationWarning: The truth value of an empty array is ambiguous. Returning False, but in future this will result in an error. Use `array.size > 0` to check that an array is not empty.\n",
      "  if diff:\n",
      "/home/perry/anaconda3/lib/python3.6/site-packages/sklearn/preprocessing/label.py:151: DeprecationWarning: The truth value of an empty array is ambiguous. Returning False, but in future this will result in an error. Use `array.size > 0` to check that an array is not empty.\n",
      "  if diff:\n"
     ]
    },
    {
     "name": "stdout",
     "output_type": "stream",
     "text": [
      "XVal on tree 12 with params:   3 | 0.8 |   1 | 1.0\n",
      "03:35:50.366397\n"
     ]
    },
    {
     "name": "stderr",
     "output_type": "stream",
     "text": [
      "/home/perry/anaconda3/lib/python3.6/site-packages/sklearn/preprocessing/label.py:151: DeprecationWarning: The truth value of an empty array is ambiguous. Returning False, but in future this will result in an error. Use `array.size > 0` to check that an array is not empty.\n",
      "  if diff:\n",
      "/home/perry/anaconda3/lib/python3.6/site-packages/sklearn/preprocessing/label.py:151: DeprecationWarning: The truth value of an empty array is ambiguous. Returning False, but in future this will result in an error. Use `array.size > 0` to check that an array is not empty.\n",
      "  if diff:\n",
      "/home/perry/anaconda3/lib/python3.6/site-packages/sklearn/preprocessing/label.py:151: DeprecationWarning: The truth value of an empty array is ambiguous. Returning False, but in future this will result in an error. Use `array.size > 0` to check that an array is not empty.\n",
      "  if diff:\n",
      "/home/perry/anaconda3/lib/python3.6/site-packages/sklearn/preprocessing/label.py:151: DeprecationWarning: The truth value of an empty array is ambiguous. Returning False, but in future this will result in an error. Use `array.size > 0` to check that an array is not empty.\n",
      "  if diff:\n"
     ]
    },
    {
     "name": "stdout",
     "output_type": "stream",
     "text": [
      "XVal on tree 13 with params:   3 | 0.8 |   3 | 0.6\n",
      "03:39:33.780594\n"
     ]
    },
    {
     "name": "stderr",
     "output_type": "stream",
     "text": [
      "/home/perry/anaconda3/lib/python3.6/site-packages/sklearn/preprocessing/label.py:151: DeprecationWarning: The truth value of an empty array is ambiguous. Returning False, but in future this will result in an error. Use `array.size > 0` to check that an array is not empty.\n",
      "  if diff:\n",
      "/home/perry/anaconda3/lib/python3.6/site-packages/sklearn/preprocessing/label.py:151: DeprecationWarning: The truth value of an empty array is ambiguous. Returning False, but in future this will result in an error. Use `array.size > 0` to check that an array is not empty.\n",
      "  if diff:\n",
      "/home/perry/anaconda3/lib/python3.6/site-packages/sklearn/preprocessing/label.py:151: DeprecationWarning: The truth value of an empty array is ambiguous. Returning False, but in future this will result in an error. Use `array.size > 0` to check that an array is not empty.\n",
      "  if diff:\n",
      "/home/perry/anaconda3/lib/python3.6/site-packages/sklearn/preprocessing/label.py:151: DeprecationWarning: The truth value of an empty array is ambiguous. Returning False, but in future this will result in an error. Use `array.size > 0` to check that an array is not empty.\n",
      "  if diff:\n"
     ]
    },
    {
     "name": "stdout",
     "output_type": "stream",
     "text": [
      "XVal on tree 14 with params:   3 | 0.8 |   3 | 0.8\n",
      "03:42:28.625464\n"
     ]
    },
    {
     "name": "stderr",
     "output_type": "stream",
     "text": [
      "/home/perry/anaconda3/lib/python3.6/site-packages/sklearn/preprocessing/label.py:151: DeprecationWarning: The truth value of an empty array is ambiguous. Returning False, but in future this will result in an error. Use `array.size > 0` to check that an array is not empty.\n",
      "  if diff:\n",
      "/home/perry/anaconda3/lib/python3.6/site-packages/sklearn/preprocessing/label.py:151: DeprecationWarning: The truth value of an empty array is ambiguous. Returning False, but in future this will result in an error. Use `array.size > 0` to check that an array is not empty.\n",
      "  if diff:\n",
      "/home/perry/anaconda3/lib/python3.6/site-packages/sklearn/preprocessing/label.py:151: DeprecationWarning: The truth value of an empty array is ambiguous. Returning False, but in future this will result in an error. Use `array.size > 0` to check that an array is not empty.\n",
      "  if diff:\n",
      "/home/perry/anaconda3/lib/python3.6/site-packages/sklearn/preprocessing/label.py:151: DeprecationWarning: The truth value of an empty array is ambiguous. Returning False, but in future this will result in an error. Use `array.size > 0` to check that an array is not empty.\n",
      "  if diff:\n"
     ]
    },
    {
     "name": "stdout",
     "output_type": "stream",
     "text": [
      "XVal on tree 15 with params:   3 | 0.8 |   3 | 1.0\n",
      "03:46:03.190417\n"
     ]
    },
    {
     "name": "stderr",
     "output_type": "stream",
     "text": [
      "/home/perry/anaconda3/lib/python3.6/site-packages/sklearn/preprocessing/label.py:151: DeprecationWarning: The truth value of an empty array is ambiguous. Returning False, but in future this will result in an error. Use `array.size > 0` to check that an array is not empty.\n",
      "  if diff:\n",
      "/home/perry/anaconda3/lib/python3.6/site-packages/sklearn/preprocessing/label.py:151: DeprecationWarning: The truth value of an empty array is ambiguous. Returning False, but in future this will result in an error. Use `array.size > 0` to check that an array is not empty.\n",
      "  if diff:\n",
      "/home/perry/anaconda3/lib/python3.6/site-packages/sklearn/preprocessing/label.py:151: DeprecationWarning: The truth value of an empty array is ambiguous. Returning False, but in future this will result in an error. Use `array.size > 0` to check that an array is not empty.\n",
      "  if diff:\n",
      "/home/perry/anaconda3/lib/python3.6/site-packages/sklearn/preprocessing/label.py:151: DeprecationWarning: The truth value of an empty array is ambiguous. Returning False, but in future this will result in an error. Use `array.size > 0` to check that an array is not empty.\n",
      "  if diff:\n"
     ]
    },
    {
     "name": "stdout",
     "output_type": "stream",
     "text": [
      "XVal on tree 16 with params:   3 | 0.8 |   5 | 0.6\n",
      "03:49:41.017114\n"
     ]
    },
    {
     "name": "stderr",
     "output_type": "stream",
     "text": [
      "/home/perry/anaconda3/lib/python3.6/site-packages/sklearn/preprocessing/label.py:151: DeprecationWarning: The truth value of an empty array is ambiguous. Returning False, but in future this will result in an error. Use `array.size > 0` to check that an array is not empty.\n",
      "  if diff:\n",
      "/home/perry/anaconda3/lib/python3.6/site-packages/sklearn/preprocessing/label.py:151: DeprecationWarning: The truth value of an empty array is ambiguous. Returning False, but in future this will result in an error. Use `array.size > 0` to check that an array is not empty.\n",
      "  if diff:\n",
      "/home/perry/anaconda3/lib/python3.6/site-packages/sklearn/preprocessing/label.py:151: DeprecationWarning: The truth value of an empty array is ambiguous. Returning False, but in future this will result in an error. Use `array.size > 0` to check that an array is not empty.\n",
      "  if diff:\n",
      "/home/perry/anaconda3/lib/python3.6/site-packages/sklearn/preprocessing/label.py:151: DeprecationWarning: The truth value of an empty array is ambiguous. Returning False, but in future this will result in an error. Use `array.size > 0` to check that an array is not empty.\n",
      "  if diff:\n"
     ]
    },
    {
     "name": "stdout",
     "output_type": "stream",
     "text": [
      "XVal on tree 17 with params:   3 | 0.8 |   5 | 0.8\n",
      "03:52:34.464202\n"
     ]
    },
    {
     "name": "stderr",
     "output_type": "stream",
     "text": [
      "/home/perry/anaconda3/lib/python3.6/site-packages/sklearn/preprocessing/label.py:151: DeprecationWarning: The truth value of an empty array is ambiguous. Returning False, but in future this will result in an error. Use `array.size > 0` to check that an array is not empty.\n",
      "  if diff:\n",
      "/home/perry/anaconda3/lib/python3.6/site-packages/sklearn/preprocessing/label.py:151: DeprecationWarning: The truth value of an empty array is ambiguous. Returning False, but in future this will result in an error. Use `array.size > 0` to check that an array is not empty.\n",
      "  if diff:\n",
      "/home/perry/anaconda3/lib/python3.6/site-packages/sklearn/preprocessing/label.py:151: DeprecationWarning: The truth value of an empty array is ambiguous. Returning False, but in future this will result in an error. Use `array.size > 0` to check that an array is not empty.\n",
      "  if diff:\n",
      "/home/perry/anaconda3/lib/python3.6/site-packages/sklearn/preprocessing/label.py:151: DeprecationWarning: The truth value of an empty array is ambiguous. Returning False, but in future this will result in an error. Use `array.size > 0` to check that an array is not empty.\n",
      "  if diff:\n"
     ]
    },
    {
     "name": "stdout",
     "output_type": "stream",
     "text": [
      "XVal on tree 18 with params:   3 | 0.8 |   5 | 1.0\n",
      "03:56:02.002064\n"
     ]
    },
    {
     "name": "stderr",
     "output_type": "stream",
     "text": [
      "/home/perry/anaconda3/lib/python3.6/site-packages/sklearn/preprocessing/label.py:151: DeprecationWarning: The truth value of an empty array is ambiguous. Returning False, but in future this will result in an error. Use `array.size > 0` to check that an array is not empty.\n",
      "  if diff:\n",
      "/home/perry/anaconda3/lib/python3.6/site-packages/sklearn/preprocessing/label.py:151: DeprecationWarning: The truth value of an empty array is ambiguous. Returning False, but in future this will result in an error. Use `array.size > 0` to check that an array is not empty.\n",
      "  if diff:\n",
      "/home/perry/anaconda3/lib/python3.6/site-packages/sklearn/preprocessing/label.py:151: DeprecationWarning: The truth value of an empty array is ambiguous. Returning False, but in future this will result in an error. Use `array.size > 0` to check that an array is not empty.\n",
      "  if diff:\n",
      "/home/perry/anaconda3/lib/python3.6/site-packages/sklearn/preprocessing/label.py:151: DeprecationWarning: The truth value of an empty array is ambiguous. Returning False, but in future this will result in an error. Use `array.size > 0` to check that an array is not empty.\n",
      "  if diff:\n"
     ]
    },
    {
     "name": "stdout",
     "output_type": "stream",
     "text": [
      "XVal on tree 19 with params:   3 | 1.0 |   1 | 0.6\n",
      "03:59:50.315832\n"
     ]
    },
    {
     "name": "stderr",
     "output_type": "stream",
     "text": [
      "/home/perry/anaconda3/lib/python3.6/site-packages/sklearn/preprocessing/label.py:151: DeprecationWarning: The truth value of an empty array is ambiguous. Returning False, but in future this will result in an error. Use `array.size > 0` to check that an array is not empty.\n",
      "  if diff:\n",
      "/home/perry/anaconda3/lib/python3.6/site-packages/sklearn/preprocessing/label.py:151: DeprecationWarning: The truth value of an empty array is ambiguous. Returning False, but in future this will result in an error. Use `array.size > 0` to check that an array is not empty.\n",
      "  if diff:\n",
      "/home/perry/anaconda3/lib/python3.6/site-packages/sklearn/preprocessing/label.py:151: DeprecationWarning: The truth value of an empty array is ambiguous. Returning False, but in future this will result in an error. Use `array.size > 0` to check that an array is not empty.\n",
      "  if diff:\n",
      "/home/perry/anaconda3/lib/python3.6/site-packages/sklearn/preprocessing/label.py:151: DeprecationWarning: The truth value of an empty array is ambiguous. Returning False, but in future this will result in an error. Use `array.size > 0` to check that an array is not empty.\n",
      "  if diff:\n"
     ]
    },
    {
     "name": "stdout",
     "output_type": "stream",
     "text": [
      "XVal on tree 20 with params:   3 | 1.0 |   1 | 0.8\n",
      "04:02:53.567831\n"
     ]
    },
    {
     "name": "stderr",
     "output_type": "stream",
     "text": [
      "/home/perry/anaconda3/lib/python3.6/site-packages/sklearn/preprocessing/label.py:151: DeprecationWarning: The truth value of an empty array is ambiguous. Returning False, but in future this will result in an error. Use `array.size > 0` to check that an array is not empty.\n",
      "  if diff:\n",
      "/home/perry/anaconda3/lib/python3.6/site-packages/sklearn/preprocessing/label.py:151: DeprecationWarning: The truth value of an empty array is ambiguous. Returning False, but in future this will result in an error. Use `array.size > 0` to check that an array is not empty.\n",
      "  if diff:\n",
      "/home/perry/anaconda3/lib/python3.6/site-packages/sklearn/preprocessing/label.py:151: DeprecationWarning: The truth value of an empty array is ambiguous. Returning False, but in future this will result in an error. Use `array.size > 0` to check that an array is not empty.\n",
      "  if diff:\n",
      "/home/perry/anaconda3/lib/python3.6/site-packages/sklearn/preprocessing/label.py:151: DeprecationWarning: The truth value of an empty array is ambiguous. Returning False, but in future this will result in an error. Use `array.size > 0` to check that an array is not empty.\n",
      "  if diff:\n"
     ]
    },
    {
     "name": "stdout",
     "output_type": "stream",
     "text": [
      "XVal on tree 21 with params:   3 | 1.0 |   1 | 1.0\n",
      "04:06:15.832451\n"
     ]
    },
    {
     "name": "stderr",
     "output_type": "stream",
     "text": [
      "/home/perry/anaconda3/lib/python3.6/site-packages/sklearn/preprocessing/label.py:151: DeprecationWarning: The truth value of an empty array is ambiguous. Returning False, but in future this will result in an error. Use `array.size > 0` to check that an array is not empty.\n",
      "  if diff:\n",
      "/home/perry/anaconda3/lib/python3.6/site-packages/sklearn/preprocessing/label.py:151: DeprecationWarning: The truth value of an empty array is ambiguous. Returning False, but in future this will result in an error. Use `array.size > 0` to check that an array is not empty.\n",
      "  if diff:\n",
      "/home/perry/anaconda3/lib/python3.6/site-packages/sklearn/preprocessing/label.py:151: DeprecationWarning: The truth value of an empty array is ambiguous. Returning False, but in future this will result in an error. Use `array.size > 0` to check that an array is not empty.\n",
      "  if diff:\n",
      "/home/perry/anaconda3/lib/python3.6/site-packages/sklearn/preprocessing/label.py:151: DeprecationWarning: The truth value of an empty array is ambiguous. Returning False, but in future this will result in an error. Use `array.size > 0` to check that an array is not empty.\n",
      "  if diff:\n"
     ]
    },
    {
     "name": "stdout",
     "output_type": "stream",
     "text": [
      "XVal on tree 22 with params:   3 | 1.0 |   3 | 0.6\n",
      "04:09:56.494498\n"
     ]
    },
    {
     "name": "stderr",
     "output_type": "stream",
     "text": [
      "/home/perry/anaconda3/lib/python3.6/site-packages/sklearn/preprocessing/label.py:151: DeprecationWarning: The truth value of an empty array is ambiguous. Returning False, but in future this will result in an error. Use `array.size > 0` to check that an array is not empty.\n",
      "  if diff:\n",
      "/home/perry/anaconda3/lib/python3.6/site-packages/sklearn/preprocessing/label.py:151: DeprecationWarning: The truth value of an empty array is ambiguous. Returning False, but in future this will result in an error. Use `array.size > 0` to check that an array is not empty.\n",
      "  if diff:\n",
      "/home/perry/anaconda3/lib/python3.6/site-packages/sklearn/preprocessing/label.py:151: DeprecationWarning: The truth value of an empty array is ambiguous. Returning False, but in future this will result in an error. Use `array.size > 0` to check that an array is not empty.\n",
      "  if diff:\n",
      "/home/perry/anaconda3/lib/python3.6/site-packages/sklearn/preprocessing/label.py:151: DeprecationWarning: The truth value of an empty array is ambiguous. Returning False, but in future this will result in an error. Use `array.size > 0` to check that an array is not empty.\n",
      "  if diff:\n"
     ]
    },
    {
     "name": "stdout",
     "output_type": "stream",
     "text": [
      "XVal on tree 23 with params:   3 | 1.0 |   3 | 0.8\n",
      "04:12:43.780511\n"
     ]
    },
    {
     "name": "stderr",
     "output_type": "stream",
     "text": [
      "/home/perry/anaconda3/lib/python3.6/site-packages/sklearn/preprocessing/label.py:151: DeprecationWarning: The truth value of an empty array is ambiguous. Returning False, but in future this will result in an error. Use `array.size > 0` to check that an array is not empty.\n",
      "  if diff:\n",
      "/home/perry/anaconda3/lib/python3.6/site-packages/sklearn/preprocessing/label.py:151: DeprecationWarning: The truth value of an empty array is ambiguous. Returning False, but in future this will result in an error. Use `array.size > 0` to check that an array is not empty.\n",
      "  if diff:\n",
      "/home/perry/anaconda3/lib/python3.6/site-packages/sklearn/preprocessing/label.py:151: DeprecationWarning: The truth value of an empty array is ambiguous. Returning False, but in future this will result in an error. Use `array.size > 0` to check that an array is not empty.\n",
      "  if diff:\n",
      "/home/perry/anaconda3/lib/python3.6/site-packages/sklearn/preprocessing/label.py:151: DeprecationWarning: The truth value of an empty array is ambiguous. Returning False, but in future this will result in an error. Use `array.size > 0` to check that an array is not empty.\n",
      "  if diff:\n"
     ]
    },
    {
     "name": "stdout",
     "output_type": "stream",
     "text": [
      "XVal on tree 24 with params:   3 | 1.0 |   3 | 1.0\n",
      "04:16:14.415716\n"
     ]
    },
    {
     "name": "stderr",
     "output_type": "stream",
     "text": [
      "/home/perry/anaconda3/lib/python3.6/site-packages/sklearn/preprocessing/label.py:151: DeprecationWarning: The truth value of an empty array is ambiguous. Returning False, but in future this will result in an error. Use `array.size > 0` to check that an array is not empty.\n",
      "  if diff:\n",
      "/home/perry/anaconda3/lib/python3.6/site-packages/sklearn/preprocessing/label.py:151: DeprecationWarning: The truth value of an empty array is ambiguous. Returning False, but in future this will result in an error. Use `array.size > 0` to check that an array is not empty.\n",
      "  if diff:\n",
      "/home/perry/anaconda3/lib/python3.6/site-packages/sklearn/preprocessing/label.py:151: DeprecationWarning: The truth value of an empty array is ambiguous. Returning False, but in future this will result in an error. Use `array.size > 0` to check that an array is not empty.\n",
      "  if diff:\n",
      "/home/perry/anaconda3/lib/python3.6/site-packages/sklearn/preprocessing/label.py:151: DeprecationWarning: The truth value of an empty array is ambiguous. Returning False, but in future this will result in an error. Use `array.size > 0` to check that an array is not empty.\n",
      "  if diff:\n"
     ]
    },
    {
     "name": "stdout",
     "output_type": "stream",
     "text": [
      "XVal on tree 25 with params:   3 | 1.0 |   5 | 0.6\n",
      "04:19:49.228227\n"
     ]
    },
    {
     "name": "stderr",
     "output_type": "stream",
     "text": [
      "/home/perry/anaconda3/lib/python3.6/site-packages/sklearn/preprocessing/label.py:151: DeprecationWarning: The truth value of an empty array is ambiguous. Returning False, but in future this will result in an error. Use `array.size > 0` to check that an array is not empty.\n",
      "  if diff:\n",
      "/home/perry/anaconda3/lib/python3.6/site-packages/sklearn/preprocessing/label.py:151: DeprecationWarning: The truth value of an empty array is ambiguous. Returning False, but in future this will result in an error. Use `array.size > 0` to check that an array is not empty.\n",
      "  if diff:\n",
      "/home/perry/anaconda3/lib/python3.6/site-packages/sklearn/preprocessing/label.py:151: DeprecationWarning: The truth value of an empty array is ambiguous. Returning False, but in future this will result in an error. Use `array.size > 0` to check that an array is not empty.\n",
      "  if diff:\n",
      "/home/perry/anaconda3/lib/python3.6/site-packages/sklearn/preprocessing/label.py:151: DeprecationWarning: The truth value of an empty array is ambiguous. Returning False, but in future this will result in an error. Use `array.size > 0` to check that an array is not empty.\n",
      "  if diff:\n"
     ]
    },
    {
     "name": "stdout",
     "output_type": "stream",
     "text": [
      "XVal on tree 26 with params:   3 | 1.0 |   5 | 0.8\n",
      "04:22:42.666803\n"
     ]
    },
    {
     "name": "stderr",
     "output_type": "stream",
     "text": [
      "/home/perry/anaconda3/lib/python3.6/site-packages/sklearn/preprocessing/label.py:151: DeprecationWarning: The truth value of an empty array is ambiguous. Returning False, but in future this will result in an error. Use `array.size > 0` to check that an array is not empty.\n",
      "  if diff:\n",
      "/home/perry/anaconda3/lib/python3.6/site-packages/sklearn/preprocessing/label.py:151: DeprecationWarning: The truth value of an empty array is ambiguous. Returning False, but in future this will result in an error. Use `array.size > 0` to check that an array is not empty.\n",
      "  if diff:\n",
      "/home/perry/anaconda3/lib/python3.6/site-packages/sklearn/preprocessing/label.py:151: DeprecationWarning: The truth value of an empty array is ambiguous. Returning False, but in future this will result in an error. Use `array.size > 0` to check that an array is not empty.\n",
      "  if diff:\n",
      "/home/perry/anaconda3/lib/python3.6/site-packages/sklearn/preprocessing/label.py:151: DeprecationWarning: The truth value of an empty array is ambiguous. Returning False, but in future this will result in an error. Use `array.size > 0` to check that an array is not empty.\n",
      "  if diff:\n"
     ]
    },
    {
     "name": "stdout",
     "output_type": "stream",
     "text": [
      "XVal on tree 27 with params:   3 | 1.0 |   5 | 1.0\n",
      "04:26:09.222540\n"
     ]
    },
    {
     "name": "stderr",
     "output_type": "stream",
     "text": [
      "/home/perry/anaconda3/lib/python3.6/site-packages/sklearn/preprocessing/label.py:151: DeprecationWarning: The truth value of an empty array is ambiguous. Returning False, but in future this will result in an error. Use `array.size > 0` to check that an array is not empty.\n",
      "  if diff:\n",
      "/home/perry/anaconda3/lib/python3.6/site-packages/sklearn/preprocessing/label.py:151: DeprecationWarning: The truth value of an empty array is ambiguous. Returning False, but in future this will result in an error. Use `array.size > 0` to check that an array is not empty.\n",
      "  if diff:\n",
      "/home/perry/anaconda3/lib/python3.6/site-packages/sklearn/preprocessing/label.py:151: DeprecationWarning: The truth value of an empty array is ambiguous. Returning False, but in future this will result in an error. Use `array.size > 0` to check that an array is not empty.\n",
      "  if diff:\n",
      "/home/perry/anaconda3/lib/python3.6/site-packages/sklearn/preprocessing/label.py:151: DeprecationWarning: The truth value of an empty array is ambiguous. Returning False, but in future this will result in an error. Use `array.size > 0` to check that an array is not empty.\n",
      "  if diff:\n"
     ]
    },
    {
     "name": "stdout",
     "output_type": "stream",
     "text": [
      "XVal on tree 28 with params:   6 | 0.6 |   1 | 0.6\n",
      "04:29:55.763712\n"
     ]
    },
    {
     "name": "stderr",
     "output_type": "stream",
     "text": [
      "/home/perry/anaconda3/lib/python3.6/site-packages/sklearn/preprocessing/label.py:151: DeprecationWarning: The truth value of an empty array is ambiguous. Returning False, but in future this will result in an error. Use `array.size > 0` to check that an array is not empty.\n",
      "  if diff:\n",
      "/home/perry/anaconda3/lib/python3.6/site-packages/sklearn/preprocessing/label.py:151: DeprecationWarning: The truth value of an empty array is ambiguous. Returning False, but in future this will result in an error. Use `array.size > 0` to check that an array is not empty.\n",
      "  if diff:\n",
      "/home/perry/anaconda3/lib/python3.6/site-packages/sklearn/preprocessing/label.py:151: DeprecationWarning: The truth value of an empty array is ambiguous. Returning False, but in future this will result in an error. Use `array.size > 0` to check that an array is not empty.\n",
      "  if diff:\n",
      "/home/perry/anaconda3/lib/python3.6/site-packages/sklearn/preprocessing/label.py:151: DeprecationWarning: The truth value of an empty array is ambiguous. Returning False, but in future this will result in an error. Use `array.size > 0` to check that an array is not empty.\n",
      "  if diff:\n"
     ]
    },
    {
     "name": "stdout",
     "output_type": "stream",
     "text": [
      "XVal on tree 29 with params:   6 | 0.6 |   1 | 0.8\n",
      "04:31:42.093537\n"
     ]
    },
    {
     "name": "stderr",
     "output_type": "stream",
     "text": [
      "/home/perry/anaconda3/lib/python3.6/site-packages/sklearn/preprocessing/label.py:151: DeprecationWarning: The truth value of an empty array is ambiguous. Returning False, but in future this will result in an error. Use `array.size > 0` to check that an array is not empty.\n",
      "  if diff:\n",
      "/home/perry/anaconda3/lib/python3.6/site-packages/sklearn/preprocessing/label.py:151: DeprecationWarning: The truth value of an empty array is ambiguous. Returning False, but in future this will result in an error. Use `array.size > 0` to check that an array is not empty.\n",
      "  if diff:\n",
      "/home/perry/anaconda3/lib/python3.6/site-packages/sklearn/preprocessing/label.py:151: DeprecationWarning: The truth value of an empty array is ambiguous. Returning False, but in future this will result in an error. Use `array.size > 0` to check that an array is not empty.\n",
      "  if diff:\n",
      "/home/perry/anaconda3/lib/python3.6/site-packages/sklearn/preprocessing/label.py:151: DeprecationWarning: The truth value of an empty array is ambiguous. Returning False, but in future this will result in an error. Use `array.size > 0` to check that an array is not empty.\n",
      "  if diff:\n"
     ]
    },
    {
     "name": "stdout",
     "output_type": "stream",
     "text": [
      "XVal on tree 30 with params:   6 | 0.6 |   1 | 1.0\n",
      "04:33:23.415107\n"
     ]
    },
    {
     "name": "stderr",
     "output_type": "stream",
     "text": [
      "/home/perry/anaconda3/lib/python3.6/site-packages/sklearn/preprocessing/label.py:151: DeprecationWarning: The truth value of an empty array is ambiguous. Returning False, but in future this will result in an error. Use `array.size > 0` to check that an array is not empty.\n",
      "  if diff:\n",
      "/home/perry/anaconda3/lib/python3.6/site-packages/sklearn/preprocessing/label.py:151: DeprecationWarning: The truth value of an empty array is ambiguous. Returning False, but in future this will result in an error. Use `array.size > 0` to check that an array is not empty.\n",
      "  if diff:\n",
      "/home/perry/anaconda3/lib/python3.6/site-packages/sklearn/preprocessing/label.py:151: DeprecationWarning: The truth value of an empty array is ambiguous. Returning False, but in future this will result in an error. Use `array.size > 0` to check that an array is not empty.\n",
      "  if diff:\n",
      "/home/perry/anaconda3/lib/python3.6/site-packages/sklearn/preprocessing/label.py:151: DeprecationWarning: The truth value of an empty array is ambiguous. Returning False, but in future this will result in an error. Use `array.size > 0` to check that an array is not empty.\n",
      "  if diff:\n"
     ]
    },
    {
     "name": "stdout",
     "output_type": "stream",
     "text": [
      "XVal on tree 31 with params:   6 | 0.6 |   3 | 0.6\n",
      "04:35:16.441339\n"
     ]
    },
    {
     "name": "stderr",
     "output_type": "stream",
     "text": [
      "/home/perry/anaconda3/lib/python3.6/site-packages/sklearn/preprocessing/label.py:151: DeprecationWarning: The truth value of an empty array is ambiguous. Returning False, but in future this will result in an error. Use `array.size > 0` to check that an array is not empty.\n",
      "  if diff:\n",
      "/home/perry/anaconda3/lib/python3.6/site-packages/sklearn/preprocessing/label.py:151: DeprecationWarning: The truth value of an empty array is ambiguous. Returning False, but in future this will result in an error. Use `array.size > 0` to check that an array is not empty.\n",
      "  if diff:\n",
      "/home/perry/anaconda3/lib/python3.6/site-packages/sklearn/preprocessing/label.py:151: DeprecationWarning: The truth value of an empty array is ambiguous. Returning False, but in future this will result in an error. Use `array.size > 0` to check that an array is not empty.\n",
      "  if diff:\n",
      "/home/perry/anaconda3/lib/python3.6/site-packages/sklearn/preprocessing/label.py:151: DeprecationWarning: The truth value of an empty array is ambiguous. Returning False, but in future this will result in an error. Use `array.size > 0` to check that an array is not empty.\n",
      "  if diff:\n"
     ]
    },
    {
     "name": "stdout",
     "output_type": "stream",
     "text": [
      "XVal on tree 32 with params:   6 | 0.6 |   3 | 0.8\n",
      "04:36:53.912503\n"
     ]
    },
    {
     "name": "stderr",
     "output_type": "stream",
     "text": [
      "/home/perry/anaconda3/lib/python3.6/site-packages/sklearn/preprocessing/label.py:151: DeprecationWarning: The truth value of an empty array is ambiguous. Returning False, but in future this will result in an error. Use `array.size > 0` to check that an array is not empty.\n",
      "  if diff:\n",
      "/home/perry/anaconda3/lib/python3.6/site-packages/sklearn/preprocessing/label.py:151: DeprecationWarning: The truth value of an empty array is ambiguous. Returning False, but in future this will result in an error. Use `array.size > 0` to check that an array is not empty.\n",
      "  if diff:\n",
      "/home/perry/anaconda3/lib/python3.6/site-packages/sklearn/preprocessing/label.py:151: DeprecationWarning: The truth value of an empty array is ambiguous. Returning False, but in future this will result in an error. Use `array.size > 0` to check that an array is not empty.\n",
      "  if diff:\n",
      "/home/perry/anaconda3/lib/python3.6/site-packages/sklearn/preprocessing/label.py:151: DeprecationWarning: The truth value of an empty array is ambiguous. Returning False, but in future this will result in an error. Use `array.size > 0` to check that an array is not empty.\n",
      "  if diff:\n"
     ]
    },
    {
     "name": "stdout",
     "output_type": "stream",
     "text": [
      "XVal on tree 33 with params:   6 | 0.6 |   3 | 1.0\n",
      "04:38:50.460654\n"
     ]
    },
    {
     "name": "stderr",
     "output_type": "stream",
     "text": [
      "/home/perry/anaconda3/lib/python3.6/site-packages/sklearn/preprocessing/label.py:151: DeprecationWarning: The truth value of an empty array is ambiguous. Returning False, but in future this will result in an error. Use `array.size > 0` to check that an array is not empty.\n",
      "  if diff:\n",
      "/home/perry/anaconda3/lib/python3.6/site-packages/sklearn/preprocessing/label.py:151: DeprecationWarning: The truth value of an empty array is ambiguous. Returning False, but in future this will result in an error. Use `array.size > 0` to check that an array is not empty.\n",
      "  if diff:\n",
      "/home/perry/anaconda3/lib/python3.6/site-packages/sklearn/preprocessing/label.py:151: DeprecationWarning: The truth value of an empty array is ambiguous. Returning False, but in future this will result in an error. Use `array.size > 0` to check that an array is not empty.\n",
      "  if diff:\n",
      "/home/perry/anaconda3/lib/python3.6/site-packages/sklearn/preprocessing/label.py:151: DeprecationWarning: The truth value of an empty array is ambiguous. Returning False, but in future this will result in an error. Use `array.size > 0` to check that an array is not empty.\n",
      "  if diff:\n"
     ]
    },
    {
     "name": "stdout",
     "output_type": "stream",
     "text": [
      "XVal on tree 34 with params:   6 | 0.6 |   5 | 0.6\n",
      "04:40:41.414261\n"
     ]
    },
    {
     "name": "stderr",
     "output_type": "stream",
     "text": [
      "/home/perry/anaconda3/lib/python3.6/site-packages/sklearn/preprocessing/label.py:151: DeprecationWarning: The truth value of an empty array is ambiguous. Returning False, but in future this will result in an error. Use `array.size > 0` to check that an array is not empty.\n",
      "  if diff:\n",
      "/home/perry/anaconda3/lib/python3.6/site-packages/sklearn/preprocessing/label.py:151: DeprecationWarning: The truth value of an empty array is ambiguous. Returning False, but in future this will result in an error. Use `array.size > 0` to check that an array is not empty.\n",
      "  if diff:\n",
      "/home/perry/anaconda3/lib/python3.6/site-packages/sklearn/preprocessing/label.py:151: DeprecationWarning: The truth value of an empty array is ambiguous. Returning False, but in future this will result in an error. Use `array.size > 0` to check that an array is not empty.\n",
      "  if diff:\n",
      "/home/perry/anaconda3/lib/python3.6/site-packages/sklearn/preprocessing/label.py:151: DeprecationWarning: The truth value of an empty array is ambiguous. Returning False, but in future this will result in an error. Use `array.size > 0` to check that an array is not empty.\n",
      "  if diff:\n"
     ]
    },
    {
     "name": "stdout",
     "output_type": "stream",
     "text": [
      "XVal on tree 35 with params:   6 | 0.6 |   5 | 0.8\n",
      "04:42:38.432265\n"
     ]
    },
    {
     "name": "stderr",
     "output_type": "stream",
     "text": [
      "/home/perry/anaconda3/lib/python3.6/site-packages/sklearn/preprocessing/label.py:151: DeprecationWarning: The truth value of an empty array is ambiguous. Returning False, but in future this will result in an error. Use `array.size > 0` to check that an array is not empty.\n",
      "  if diff:\n",
      "/home/perry/anaconda3/lib/python3.6/site-packages/sklearn/preprocessing/label.py:151: DeprecationWarning: The truth value of an empty array is ambiguous. Returning False, but in future this will result in an error. Use `array.size > 0` to check that an array is not empty.\n",
      "  if diff:\n",
      "/home/perry/anaconda3/lib/python3.6/site-packages/sklearn/preprocessing/label.py:151: DeprecationWarning: The truth value of an empty array is ambiguous. Returning False, but in future this will result in an error. Use `array.size > 0` to check that an array is not empty.\n",
      "  if diff:\n",
      "/home/perry/anaconda3/lib/python3.6/site-packages/sklearn/preprocessing/label.py:151: DeprecationWarning: The truth value of an empty array is ambiguous. Returning False, but in future this will result in an error. Use `array.size > 0` to check that an array is not empty.\n",
      "  if diff:\n"
     ]
    },
    {
     "name": "stdout",
     "output_type": "stream",
     "text": [
      "XVal on tree 36 with params:   6 | 0.6 |   5 | 1.0\n",
      "04:44:23.036044\n"
     ]
    },
    {
     "name": "stderr",
     "output_type": "stream",
     "text": [
      "/home/perry/anaconda3/lib/python3.6/site-packages/sklearn/preprocessing/label.py:151: DeprecationWarning: The truth value of an empty array is ambiguous. Returning False, but in future this will result in an error. Use `array.size > 0` to check that an array is not empty.\n",
      "  if diff:\n",
      "/home/perry/anaconda3/lib/python3.6/site-packages/sklearn/preprocessing/label.py:151: DeprecationWarning: The truth value of an empty array is ambiguous. Returning False, but in future this will result in an error. Use `array.size > 0` to check that an array is not empty.\n",
      "  if diff:\n",
      "/home/perry/anaconda3/lib/python3.6/site-packages/sklearn/preprocessing/label.py:151: DeprecationWarning: The truth value of an empty array is ambiguous. Returning False, but in future this will result in an error. Use `array.size > 0` to check that an array is not empty.\n",
      "  if diff:\n",
      "/home/perry/anaconda3/lib/python3.6/site-packages/sklearn/preprocessing/label.py:151: DeprecationWarning: The truth value of an empty array is ambiguous. Returning False, but in future this will result in an error. Use `array.size > 0` to check that an array is not empty.\n",
      "  if diff:\n"
     ]
    },
    {
     "name": "stdout",
     "output_type": "stream",
     "text": [
      "XVal on tree 37 with params:   6 | 0.8 |   1 | 0.6\n",
      "04:46:09.904654\n"
     ]
    },
    {
     "name": "stderr",
     "output_type": "stream",
     "text": [
      "/home/perry/anaconda3/lib/python3.6/site-packages/sklearn/preprocessing/label.py:151: DeprecationWarning: The truth value of an empty array is ambiguous. Returning False, but in future this will result in an error. Use `array.size > 0` to check that an array is not empty.\n",
      "  if diff:\n",
      "/home/perry/anaconda3/lib/python3.6/site-packages/sklearn/preprocessing/label.py:151: DeprecationWarning: The truth value of an empty array is ambiguous. Returning False, but in future this will result in an error. Use `array.size > 0` to check that an array is not empty.\n",
      "  if diff:\n",
      "/home/perry/anaconda3/lib/python3.6/site-packages/sklearn/preprocessing/label.py:151: DeprecationWarning: The truth value of an empty array is ambiguous. Returning False, but in future this will result in an error. Use `array.size > 0` to check that an array is not empty.\n",
      "  if diff:\n",
      "/home/perry/anaconda3/lib/python3.6/site-packages/sklearn/preprocessing/label.py:151: DeprecationWarning: The truth value of an empty array is ambiguous. Returning False, but in future this will result in an error. Use `array.size > 0` to check that an array is not empty.\n",
      "  if diff:\n"
     ]
    },
    {
     "name": "stdout",
     "output_type": "stream",
     "text": [
      "XVal on tree 38 with params:   6 | 0.8 |   1 | 0.8\n",
      "04:47:57.016185\n"
     ]
    },
    {
     "name": "stderr",
     "output_type": "stream",
     "text": [
      "/home/perry/anaconda3/lib/python3.6/site-packages/sklearn/preprocessing/label.py:151: DeprecationWarning: The truth value of an empty array is ambiguous. Returning False, but in future this will result in an error. Use `array.size > 0` to check that an array is not empty.\n",
      "  if diff:\n",
      "/home/perry/anaconda3/lib/python3.6/site-packages/sklearn/preprocessing/label.py:151: DeprecationWarning: The truth value of an empty array is ambiguous. Returning False, but in future this will result in an error. Use `array.size > 0` to check that an array is not empty.\n",
      "  if diff:\n",
      "/home/perry/anaconda3/lib/python3.6/site-packages/sklearn/preprocessing/label.py:151: DeprecationWarning: The truth value of an empty array is ambiguous. Returning False, but in future this will result in an error. Use `array.size > 0` to check that an array is not empty.\n",
      "  if diff:\n",
      "/home/perry/anaconda3/lib/python3.6/site-packages/sklearn/preprocessing/label.py:151: DeprecationWarning: The truth value of an empty array is ambiguous. Returning False, but in future this will result in an error. Use `array.size > 0` to check that an array is not empty.\n",
      "  if diff:\n"
     ]
    },
    {
     "name": "stdout",
     "output_type": "stream",
     "text": [
      "XVal on tree 39 with params:   6 | 0.8 |   1 | 1.0\n",
      "04:49:37.628198\n"
     ]
    },
    {
     "name": "stderr",
     "output_type": "stream",
     "text": [
      "/home/perry/anaconda3/lib/python3.6/site-packages/sklearn/preprocessing/label.py:151: DeprecationWarning: The truth value of an empty array is ambiguous. Returning False, but in future this will result in an error. Use `array.size > 0` to check that an array is not empty.\n",
      "  if diff:\n",
      "/home/perry/anaconda3/lib/python3.6/site-packages/sklearn/preprocessing/label.py:151: DeprecationWarning: The truth value of an empty array is ambiguous. Returning False, but in future this will result in an error. Use `array.size > 0` to check that an array is not empty.\n",
      "  if diff:\n",
      "/home/perry/anaconda3/lib/python3.6/site-packages/sklearn/preprocessing/label.py:151: DeprecationWarning: The truth value of an empty array is ambiguous. Returning False, but in future this will result in an error. Use `array.size > 0` to check that an array is not empty.\n",
      "  if diff:\n",
      "/home/perry/anaconda3/lib/python3.6/site-packages/sklearn/preprocessing/label.py:151: DeprecationWarning: The truth value of an empty array is ambiguous. Returning False, but in future this will result in an error. Use `array.size > 0` to check that an array is not empty.\n",
      "  if diff:\n"
     ]
    },
    {
     "name": "stdout",
     "output_type": "stream",
     "text": [
      "XVal on tree 40 with params:   6 | 0.8 |   3 | 0.6\n",
      "04:51:31.195302\n"
     ]
    },
    {
     "name": "stderr",
     "output_type": "stream",
     "text": [
      "/home/perry/anaconda3/lib/python3.6/site-packages/sklearn/preprocessing/label.py:151: DeprecationWarning: The truth value of an empty array is ambiguous. Returning False, but in future this will result in an error. Use `array.size > 0` to check that an array is not empty.\n",
      "  if diff:\n",
      "/home/perry/anaconda3/lib/python3.6/site-packages/sklearn/preprocessing/label.py:151: DeprecationWarning: The truth value of an empty array is ambiguous. Returning False, but in future this will result in an error. Use `array.size > 0` to check that an array is not empty.\n",
      "  if diff:\n",
      "/home/perry/anaconda3/lib/python3.6/site-packages/sklearn/preprocessing/label.py:151: DeprecationWarning: The truth value of an empty array is ambiguous. Returning False, but in future this will result in an error. Use `array.size > 0` to check that an array is not empty.\n",
      "  if diff:\n",
      "/home/perry/anaconda3/lib/python3.6/site-packages/sklearn/preprocessing/label.py:151: DeprecationWarning: The truth value of an empty array is ambiguous. Returning False, but in future this will result in an error. Use `array.size > 0` to check that an array is not empty.\n",
      "  if diff:\n"
     ]
    },
    {
     "name": "stdout",
     "output_type": "stream",
     "text": [
      "XVal on tree 41 with params:   6 | 0.8 |   3 | 0.8\n",
      "04:53:09.320041\n"
     ]
    },
    {
     "name": "stderr",
     "output_type": "stream",
     "text": [
      "/home/perry/anaconda3/lib/python3.6/site-packages/sklearn/preprocessing/label.py:151: DeprecationWarning: The truth value of an empty array is ambiguous. Returning False, but in future this will result in an error. Use `array.size > 0` to check that an array is not empty.\n",
      "  if diff:\n",
      "/home/perry/anaconda3/lib/python3.6/site-packages/sklearn/preprocessing/label.py:151: DeprecationWarning: The truth value of an empty array is ambiguous. Returning False, but in future this will result in an error. Use `array.size > 0` to check that an array is not empty.\n",
      "  if diff:\n",
      "/home/perry/anaconda3/lib/python3.6/site-packages/sklearn/preprocessing/label.py:151: DeprecationWarning: The truth value of an empty array is ambiguous. Returning False, but in future this will result in an error. Use `array.size > 0` to check that an array is not empty.\n",
      "  if diff:\n",
      "/home/perry/anaconda3/lib/python3.6/site-packages/sklearn/preprocessing/label.py:151: DeprecationWarning: The truth value of an empty array is ambiguous. Returning False, but in future this will result in an error. Use `array.size > 0` to check that an array is not empty.\n",
      "  if diff:\n"
     ]
    },
    {
     "name": "stdout",
     "output_type": "stream",
     "text": [
      "XVal on tree 42 with params:   6 | 0.8 |   3 | 1.0\n",
      "04:55:04.948045\n"
     ]
    },
    {
     "name": "stderr",
     "output_type": "stream",
     "text": [
      "/home/perry/anaconda3/lib/python3.6/site-packages/sklearn/preprocessing/label.py:151: DeprecationWarning: The truth value of an empty array is ambiguous. Returning False, but in future this will result in an error. Use `array.size > 0` to check that an array is not empty.\n",
      "  if diff:\n",
      "/home/perry/anaconda3/lib/python3.6/site-packages/sklearn/preprocessing/label.py:151: DeprecationWarning: The truth value of an empty array is ambiguous. Returning False, but in future this will result in an error. Use `array.size > 0` to check that an array is not empty.\n",
      "  if diff:\n",
      "/home/perry/anaconda3/lib/python3.6/site-packages/sklearn/preprocessing/label.py:151: DeprecationWarning: The truth value of an empty array is ambiguous. Returning False, but in future this will result in an error. Use `array.size > 0` to check that an array is not empty.\n",
      "  if diff:\n",
      "/home/perry/anaconda3/lib/python3.6/site-packages/sklearn/preprocessing/label.py:151: DeprecationWarning: The truth value of an empty array is ambiguous. Returning False, but in future this will result in an error. Use `array.size > 0` to check that an array is not empty.\n",
      "  if diff:\n"
     ]
    },
    {
     "name": "stdout",
     "output_type": "stream",
     "text": [
      "XVal on tree 43 with params:   6 | 0.8 |   5 | 0.6\n",
      "04:56:55.496084\n"
     ]
    },
    {
     "name": "stderr",
     "output_type": "stream",
     "text": [
      "/home/perry/anaconda3/lib/python3.6/site-packages/sklearn/preprocessing/label.py:151: DeprecationWarning: The truth value of an empty array is ambiguous. Returning False, but in future this will result in an error. Use `array.size > 0` to check that an array is not empty.\n",
      "  if diff:\n",
      "/home/perry/anaconda3/lib/python3.6/site-packages/sklearn/preprocessing/label.py:151: DeprecationWarning: The truth value of an empty array is ambiguous. Returning False, but in future this will result in an error. Use `array.size > 0` to check that an array is not empty.\n",
      "  if diff:\n",
      "/home/perry/anaconda3/lib/python3.6/site-packages/sklearn/preprocessing/label.py:151: DeprecationWarning: The truth value of an empty array is ambiguous. Returning False, but in future this will result in an error. Use `array.size > 0` to check that an array is not empty.\n",
      "  if diff:\n",
      "/home/perry/anaconda3/lib/python3.6/site-packages/sklearn/preprocessing/label.py:151: DeprecationWarning: The truth value of an empty array is ambiguous. Returning False, but in future this will result in an error. Use `array.size > 0` to check that an array is not empty.\n",
      "  if diff:\n"
     ]
    },
    {
     "name": "stdout",
     "output_type": "stream",
     "text": [
      "XVal on tree 44 with params:   6 | 0.8 |   5 | 0.8\n",
      "04:58:53.671973\n"
     ]
    },
    {
     "name": "stderr",
     "output_type": "stream",
     "text": [
      "/home/perry/anaconda3/lib/python3.6/site-packages/sklearn/preprocessing/label.py:151: DeprecationWarning: The truth value of an empty array is ambiguous. Returning False, but in future this will result in an error. Use `array.size > 0` to check that an array is not empty.\n",
      "  if diff:\n",
      "/home/perry/anaconda3/lib/python3.6/site-packages/sklearn/preprocessing/label.py:151: DeprecationWarning: The truth value of an empty array is ambiguous. Returning False, but in future this will result in an error. Use `array.size > 0` to check that an array is not empty.\n",
      "  if diff:\n",
      "/home/perry/anaconda3/lib/python3.6/site-packages/sklearn/preprocessing/label.py:151: DeprecationWarning: The truth value of an empty array is ambiguous. Returning False, but in future this will result in an error. Use `array.size > 0` to check that an array is not empty.\n",
      "  if diff:\n",
      "/home/perry/anaconda3/lib/python3.6/site-packages/sklearn/preprocessing/label.py:151: DeprecationWarning: The truth value of an empty array is ambiguous. Returning False, but in future this will result in an error. Use `array.size > 0` to check that an array is not empty.\n",
      "  if diff:\n"
     ]
    },
    {
     "name": "stdout",
     "output_type": "stream",
     "text": [
      "XVal on tree 45 with params:   6 | 0.8 |   5 | 1.0\n",
      "05:00:37.106283\n"
     ]
    },
    {
     "name": "stderr",
     "output_type": "stream",
     "text": [
      "/home/perry/anaconda3/lib/python3.6/site-packages/sklearn/preprocessing/label.py:151: DeprecationWarning: The truth value of an empty array is ambiguous. Returning False, but in future this will result in an error. Use `array.size > 0` to check that an array is not empty.\n",
      "  if diff:\n",
      "/home/perry/anaconda3/lib/python3.6/site-packages/sklearn/preprocessing/label.py:151: DeprecationWarning: The truth value of an empty array is ambiguous. Returning False, but in future this will result in an error. Use `array.size > 0` to check that an array is not empty.\n",
      "  if diff:\n",
      "/home/perry/anaconda3/lib/python3.6/site-packages/sklearn/preprocessing/label.py:151: DeprecationWarning: The truth value of an empty array is ambiguous. Returning False, but in future this will result in an error. Use `array.size > 0` to check that an array is not empty.\n",
      "  if diff:\n",
      "/home/perry/anaconda3/lib/python3.6/site-packages/sklearn/preprocessing/label.py:151: DeprecationWarning: The truth value of an empty array is ambiguous. Returning False, but in future this will result in an error. Use `array.size > 0` to check that an array is not empty.\n",
      "  if diff:\n"
     ]
    },
    {
     "name": "stdout",
     "output_type": "stream",
     "text": [
      "XVal on tree 46 with params:   6 | 1.0 |   1 | 0.6\n",
      "05:02:24.831306\n"
     ]
    },
    {
     "name": "stderr",
     "output_type": "stream",
     "text": [
      "/home/perry/anaconda3/lib/python3.6/site-packages/sklearn/preprocessing/label.py:151: DeprecationWarning: The truth value of an empty array is ambiguous. Returning False, but in future this will result in an error. Use `array.size > 0` to check that an array is not empty.\n",
      "  if diff:\n",
      "/home/perry/anaconda3/lib/python3.6/site-packages/sklearn/preprocessing/label.py:151: DeprecationWarning: The truth value of an empty array is ambiguous. Returning False, but in future this will result in an error. Use `array.size > 0` to check that an array is not empty.\n",
      "  if diff:\n",
      "/home/perry/anaconda3/lib/python3.6/site-packages/sklearn/preprocessing/label.py:151: DeprecationWarning: The truth value of an empty array is ambiguous. Returning False, but in future this will result in an error. Use `array.size > 0` to check that an array is not empty.\n",
      "  if diff:\n",
      "/home/perry/anaconda3/lib/python3.6/site-packages/sklearn/preprocessing/label.py:151: DeprecationWarning: The truth value of an empty array is ambiguous. Returning False, but in future this will result in an error. Use `array.size > 0` to check that an array is not empty.\n",
      "  if diff:\n"
     ]
    },
    {
     "name": "stdout",
     "output_type": "stream",
     "text": [
      "XVal on tree 47 with params:   6 | 1.0 |   1 | 0.8\n",
      "05:04:12.491784\n"
     ]
    },
    {
     "name": "stderr",
     "output_type": "stream",
     "text": [
      "/home/perry/anaconda3/lib/python3.6/site-packages/sklearn/preprocessing/label.py:151: DeprecationWarning: The truth value of an empty array is ambiguous. Returning False, but in future this will result in an error. Use `array.size > 0` to check that an array is not empty.\n",
      "  if diff:\n",
      "/home/perry/anaconda3/lib/python3.6/site-packages/sklearn/preprocessing/label.py:151: DeprecationWarning: The truth value of an empty array is ambiguous. Returning False, but in future this will result in an error. Use `array.size > 0` to check that an array is not empty.\n",
      "  if diff:\n",
      "/home/perry/anaconda3/lib/python3.6/site-packages/sklearn/preprocessing/label.py:151: DeprecationWarning: The truth value of an empty array is ambiguous. Returning False, but in future this will result in an error. Use `array.size > 0` to check that an array is not empty.\n",
      "  if diff:\n",
      "/home/perry/anaconda3/lib/python3.6/site-packages/sklearn/preprocessing/label.py:151: DeprecationWarning: The truth value of an empty array is ambiguous. Returning False, but in future this will result in an error. Use `array.size > 0` to check that an array is not empty.\n",
      "  if diff:\n"
     ]
    },
    {
     "name": "stdout",
     "output_type": "stream",
     "text": [
      "XVal on tree 48 with params:   6 | 1.0 |   1 | 1.0\n",
      "05:05:53.825572\n"
     ]
    },
    {
     "name": "stderr",
     "output_type": "stream",
     "text": [
      "/home/perry/anaconda3/lib/python3.6/site-packages/sklearn/preprocessing/label.py:151: DeprecationWarning: The truth value of an empty array is ambiguous. Returning False, but in future this will result in an error. Use `array.size > 0` to check that an array is not empty.\n",
      "  if diff:\n",
      "/home/perry/anaconda3/lib/python3.6/site-packages/sklearn/preprocessing/label.py:151: DeprecationWarning: The truth value of an empty array is ambiguous. Returning False, but in future this will result in an error. Use `array.size > 0` to check that an array is not empty.\n",
      "  if diff:\n",
      "/home/perry/anaconda3/lib/python3.6/site-packages/sklearn/preprocessing/label.py:151: DeprecationWarning: The truth value of an empty array is ambiguous. Returning False, but in future this will result in an error. Use `array.size > 0` to check that an array is not empty.\n",
      "  if diff:\n",
      "/home/perry/anaconda3/lib/python3.6/site-packages/sklearn/preprocessing/label.py:151: DeprecationWarning: The truth value of an empty array is ambiguous. Returning False, but in future this will result in an error. Use `array.size > 0` to check that an array is not empty.\n",
      "  if diff:\n"
     ]
    },
    {
     "name": "stdout",
     "output_type": "stream",
     "text": [
      "XVal on tree 49 with params:   6 | 1.0 |   3 | 0.6\n",
      "05:07:46.928281\n"
     ]
    },
    {
     "name": "stderr",
     "output_type": "stream",
     "text": [
      "/home/perry/anaconda3/lib/python3.6/site-packages/sklearn/preprocessing/label.py:151: DeprecationWarning: The truth value of an empty array is ambiguous. Returning False, but in future this will result in an error. Use `array.size > 0` to check that an array is not empty.\n",
      "  if diff:\n",
      "/home/perry/anaconda3/lib/python3.6/site-packages/sklearn/preprocessing/label.py:151: DeprecationWarning: The truth value of an empty array is ambiguous. Returning False, but in future this will result in an error. Use `array.size > 0` to check that an array is not empty.\n",
      "  if diff:\n",
      "/home/perry/anaconda3/lib/python3.6/site-packages/sklearn/preprocessing/label.py:151: DeprecationWarning: The truth value of an empty array is ambiguous. Returning False, but in future this will result in an error. Use `array.size > 0` to check that an array is not empty.\n",
      "  if diff:\n",
      "/home/perry/anaconda3/lib/python3.6/site-packages/sklearn/preprocessing/label.py:151: DeprecationWarning: The truth value of an empty array is ambiguous. Returning False, but in future this will result in an error. Use `array.size > 0` to check that an array is not empty.\n",
      "  if diff:\n"
     ]
    },
    {
     "name": "stdout",
     "output_type": "stream",
     "text": [
      "XVal on tree 50 with params:   6 | 1.0 |   3 | 0.8\n",
      "05:09:23.992600\n"
     ]
    },
    {
     "name": "stderr",
     "output_type": "stream",
     "text": [
      "/home/perry/anaconda3/lib/python3.6/site-packages/sklearn/preprocessing/label.py:151: DeprecationWarning: The truth value of an empty array is ambiguous. Returning False, but in future this will result in an error. Use `array.size > 0` to check that an array is not empty.\n",
      "  if diff:\n",
      "/home/perry/anaconda3/lib/python3.6/site-packages/sklearn/preprocessing/label.py:151: DeprecationWarning: The truth value of an empty array is ambiguous. Returning False, but in future this will result in an error. Use `array.size > 0` to check that an array is not empty.\n",
      "  if diff:\n",
      "/home/perry/anaconda3/lib/python3.6/site-packages/sklearn/preprocessing/label.py:151: DeprecationWarning: The truth value of an empty array is ambiguous. Returning False, but in future this will result in an error. Use `array.size > 0` to check that an array is not empty.\n",
      "  if diff:\n",
      "/home/perry/anaconda3/lib/python3.6/site-packages/sklearn/preprocessing/label.py:151: DeprecationWarning: The truth value of an empty array is ambiguous. Returning False, but in future this will result in an error. Use `array.size > 0` to check that an array is not empty.\n",
      "  if diff:\n"
     ]
    },
    {
     "name": "stdout",
     "output_type": "stream",
     "text": [
      "XVal on tree 51 with params:   6 | 1.0 |   3 | 1.0\n",
      "05:11:19.793553\n"
     ]
    },
    {
     "name": "stderr",
     "output_type": "stream",
     "text": [
      "/home/perry/anaconda3/lib/python3.6/site-packages/sklearn/preprocessing/label.py:151: DeprecationWarning: The truth value of an empty array is ambiguous. Returning False, but in future this will result in an error. Use `array.size > 0` to check that an array is not empty.\n",
      "  if diff:\n",
      "/home/perry/anaconda3/lib/python3.6/site-packages/sklearn/preprocessing/label.py:151: DeprecationWarning: The truth value of an empty array is ambiguous. Returning False, but in future this will result in an error. Use `array.size > 0` to check that an array is not empty.\n",
      "  if diff:\n",
      "/home/perry/anaconda3/lib/python3.6/site-packages/sklearn/preprocessing/label.py:151: DeprecationWarning: The truth value of an empty array is ambiguous. Returning False, but in future this will result in an error. Use `array.size > 0` to check that an array is not empty.\n",
      "  if diff:\n",
      "/home/perry/anaconda3/lib/python3.6/site-packages/sklearn/preprocessing/label.py:151: DeprecationWarning: The truth value of an empty array is ambiguous. Returning False, but in future this will result in an error. Use `array.size > 0` to check that an array is not empty.\n",
      "  if diff:\n"
     ]
    },
    {
     "name": "stdout",
     "output_type": "stream",
     "text": [
      "XVal on tree 52 with params:   6 | 1.0 |   5 | 0.6\n",
      "05:13:10.292285\n"
     ]
    },
    {
     "name": "stderr",
     "output_type": "stream",
     "text": [
      "/home/perry/anaconda3/lib/python3.6/site-packages/sklearn/preprocessing/label.py:151: DeprecationWarning: The truth value of an empty array is ambiguous. Returning False, but in future this will result in an error. Use `array.size > 0` to check that an array is not empty.\n",
      "  if diff:\n",
      "/home/perry/anaconda3/lib/python3.6/site-packages/sklearn/preprocessing/label.py:151: DeprecationWarning: The truth value of an empty array is ambiguous. Returning False, but in future this will result in an error. Use `array.size > 0` to check that an array is not empty.\n",
      "  if diff:\n",
      "/home/perry/anaconda3/lib/python3.6/site-packages/sklearn/preprocessing/label.py:151: DeprecationWarning: The truth value of an empty array is ambiguous. Returning False, but in future this will result in an error. Use `array.size > 0` to check that an array is not empty.\n",
      "  if diff:\n",
      "/home/perry/anaconda3/lib/python3.6/site-packages/sklearn/preprocessing/label.py:151: DeprecationWarning: The truth value of an empty array is ambiguous. Returning False, but in future this will result in an error. Use `array.size > 0` to check that an array is not empty.\n",
      "  if diff:\n"
     ]
    },
    {
     "name": "stdout",
     "output_type": "stream",
     "text": [
      "XVal on tree 53 with params:   6 | 1.0 |   5 | 0.8\n",
      "05:15:07.071129\n"
     ]
    },
    {
     "name": "stderr",
     "output_type": "stream",
     "text": [
      "/home/perry/anaconda3/lib/python3.6/site-packages/sklearn/preprocessing/label.py:151: DeprecationWarning: The truth value of an empty array is ambiguous. Returning False, but in future this will result in an error. Use `array.size > 0` to check that an array is not empty.\n",
      "  if diff:\n",
      "/home/perry/anaconda3/lib/python3.6/site-packages/sklearn/preprocessing/label.py:151: DeprecationWarning: The truth value of an empty array is ambiguous. Returning False, but in future this will result in an error. Use `array.size > 0` to check that an array is not empty.\n",
      "  if diff:\n",
      "/home/perry/anaconda3/lib/python3.6/site-packages/sklearn/preprocessing/label.py:151: DeprecationWarning: The truth value of an empty array is ambiguous. Returning False, but in future this will result in an error. Use `array.size > 0` to check that an array is not empty.\n",
      "  if diff:\n",
      "/home/perry/anaconda3/lib/python3.6/site-packages/sklearn/preprocessing/label.py:151: DeprecationWarning: The truth value of an empty array is ambiguous. Returning False, but in future this will result in an error. Use `array.size > 0` to check that an array is not empty.\n",
      "  if diff:\n"
     ]
    },
    {
     "name": "stdout",
     "output_type": "stream",
     "text": [
      "XVal on tree 54 with params:   6 | 1.0 |   5 | 1.0\n",
      "05:16:51.542385\n"
     ]
    },
    {
     "name": "stderr",
     "output_type": "stream",
     "text": [
      "/home/perry/anaconda3/lib/python3.6/site-packages/sklearn/preprocessing/label.py:151: DeprecationWarning: The truth value of an empty array is ambiguous. Returning False, but in future this will result in an error. Use `array.size > 0` to check that an array is not empty.\n",
      "  if diff:\n",
      "/home/perry/anaconda3/lib/python3.6/site-packages/sklearn/preprocessing/label.py:151: DeprecationWarning: The truth value of an empty array is ambiguous. Returning False, but in future this will result in an error. Use `array.size > 0` to check that an array is not empty.\n",
      "  if diff:\n",
      "/home/perry/anaconda3/lib/python3.6/site-packages/sklearn/preprocessing/label.py:151: DeprecationWarning: The truth value of an empty array is ambiguous. Returning False, but in future this will result in an error. Use `array.size > 0` to check that an array is not empty.\n",
      "  if diff:\n",
      "/home/perry/anaconda3/lib/python3.6/site-packages/sklearn/preprocessing/label.py:151: DeprecationWarning: The truth value of an empty array is ambiguous. Returning False, but in future this will result in an error. Use `array.size > 0` to check that an array is not empty.\n",
      "  if diff:\n"
     ]
    },
    {
     "name": "stdout",
     "output_type": "stream",
     "text": [
      "XVal on tree 55 with params:   9 | 0.6 |   1 | 0.6\n",
      "05:18:40.262497\n"
     ]
    },
    {
     "name": "stderr",
     "output_type": "stream",
     "text": [
      "/home/perry/anaconda3/lib/python3.6/site-packages/sklearn/preprocessing/label.py:151: DeprecationWarning: The truth value of an empty array is ambiguous. Returning False, but in future this will result in an error. Use `array.size > 0` to check that an array is not empty.\n",
      "  if diff:\n",
      "/home/perry/anaconda3/lib/python3.6/site-packages/sklearn/preprocessing/label.py:151: DeprecationWarning: The truth value of an empty array is ambiguous. Returning False, but in future this will result in an error. Use `array.size > 0` to check that an array is not empty.\n",
      "  if diff:\n",
      "/home/perry/anaconda3/lib/python3.6/site-packages/sklearn/preprocessing/label.py:151: DeprecationWarning: The truth value of an empty array is ambiguous. Returning False, but in future this will result in an error. Use `array.size > 0` to check that an array is not empty.\n",
      "  if diff:\n",
      "/home/perry/anaconda3/lib/python3.6/site-packages/sklearn/preprocessing/label.py:151: DeprecationWarning: The truth value of an empty array is ambiguous. Returning False, but in future this will result in an error. Use `array.size > 0` to check that an array is not empty.\n",
      "  if diff:\n"
     ]
    },
    {
     "name": "stdout",
     "output_type": "stream",
     "text": [
      "XVal on tree 56 with params:   9 | 0.6 |   1 | 0.8\n",
      "05:19:57.554238\n"
     ]
    },
    {
     "name": "stderr",
     "output_type": "stream",
     "text": [
      "/home/perry/anaconda3/lib/python3.6/site-packages/sklearn/preprocessing/label.py:151: DeprecationWarning: The truth value of an empty array is ambiguous. Returning False, but in future this will result in an error. Use `array.size > 0` to check that an array is not empty.\n",
      "  if diff:\n",
      "/home/perry/anaconda3/lib/python3.6/site-packages/sklearn/preprocessing/label.py:151: DeprecationWarning: The truth value of an empty array is ambiguous. Returning False, but in future this will result in an error. Use `array.size > 0` to check that an array is not empty.\n",
      "  if diff:\n",
      "/home/perry/anaconda3/lib/python3.6/site-packages/sklearn/preprocessing/label.py:151: DeprecationWarning: The truth value of an empty array is ambiguous. Returning False, but in future this will result in an error. Use `array.size > 0` to check that an array is not empty.\n",
      "  if diff:\n",
      "/home/perry/anaconda3/lib/python3.6/site-packages/sklearn/preprocessing/label.py:151: DeprecationWarning: The truth value of an empty array is ambiguous. Returning False, but in future this will result in an error. Use `array.size > 0` to check that an array is not empty.\n",
      "  if diff:\n"
     ]
    },
    {
     "name": "stdout",
     "output_type": "stream",
     "text": [
      "XVal on tree 57 with params:   9 | 0.6 |   1 | 1.0\n",
      "05:21:25.243665\n"
     ]
    },
    {
     "name": "stderr",
     "output_type": "stream",
     "text": [
      "/home/perry/anaconda3/lib/python3.6/site-packages/sklearn/preprocessing/label.py:151: DeprecationWarning: The truth value of an empty array is ambiguous. Returning False, but in future this will result in an error. Use `array.size > 0` to check that an array is not empty.\n",
      "  if diff:\n",
      "/home/perry/anaconda3/lib/python3.6/site-packages/sklearn/preprocessing/label.py:151: DeprecationWarning: The truth value of an empty array is ambiguous. Returning False, but in future this will result in an error. Use `array.size > 0` to check that an array is not empty.\n",
      "  if diff:\n",
      "/home/perry/anaconda3/lib/python3.6/site-packages/sklearn/preprocessing/label.py:151: DeprecationWarning: The truth value of an empty array is ambiguous. Returning False, but in future this will result in an error. Use `array.size > 0` to check that an array is not empty.\n",
      "  if diff:\n",
      "/home/perry/anaconda3/lib/python3.6/site-packages/sklearn/preprocessing/label.py:151: DeprecationWarning: The truth value of an empty array is ambiguous. Returning False, but in future this will result in an error. Use `array.size > 0` to check that an array is not empty.\n",
      "  if diff:\n"
     ]
    },
    {
     "name": "stdout",
     "output_type": "stream",
     "text": [
      "XVal on tree 58 with params:   9 | 0.6 |   3 | 0.6\n",
      "05:22:53.907907\n"
     ]
    },
    {
     "name": "stderr",
     "output_type": "stream",
     "text": [
      "/home/perry/anaconda3/lib/python3.6/site-packages/sklearn/preprocessing/label.py:151: DeprecationWarning: The truth value of an empty array is ambiguous. Returning False, but in future this will result in an error. Use `array.size > 0` to check that an array is not empty.\n",
      "  if diff:\n",
      "/home/perry/anaconda3/lib/python3.6/site-packages/sklearn/preprocessing/label.py:151: DeprecationWarning: The truth value of an empty array is ambiguous. Returning False, but in future this will result in an error. Use `array.size > 0` to check that an array is not empty.\n",
      "  if diff:\n",
      "/home/perry/anaconda3/lib/python3.6/site-packages/sklearn/preprocessing/label.py:151: DeprecationWarning: The truth value of an empty array is ambiguous. Returning False, but in future this will result in an error. Use `array.size > 0` to check that an array is not empty.\n",
      "  if diff:\n",
      "/home/perry/anaconda3/lib/python3.6/site-packages/sklearn/preprocessing/label.py:151: DeprecationWarning: The truth value of an empty array is ambiguous. Returning False, but in future this will result in an error. Use `array.size > 0` to check that an array is not empty.\n",
      "  if diff:\n"
     ]
    },
    {
     "name": "stdout",
     "output_type": "stream",
     "text": [
      "XVal on tree 59 with params:   9 | 0.6 |   3 | 0.8\n",
      "05:24:15.524658\n"
     ]
    },
    {
     "name": "stderr",
     "output_type": "stream",
     "text": [
      "/home/perry/anaconda3/lib/python3.6/site-packages/sklearn/preprocessing/label.py:151: DeprecationWarning: The truth value of an empty array is ambiguous. Returning False, but in future this will result in an error. Use `array.size > 0` to check that an array is not empty.\n",
      "  if diff:\n",
      "/home/perry/anaconda3/lib/python3.6/site-packages/sklearn/preprocessing/label.py:151: DeprecationWarning: The truth value of an empty array is ambiguous. Returning False, but in future this will result in an error. Use `array.size > 0` to check that an array is not empty.\n",
      "  if diff:\n",
      "/home/perry/anaconda3/lib/python3.6/site-packages/sklearn/preprocessing/label.py:151: DeprecationWarning: The truth value of an empty array is ambiguous. Returning False, but in future this will result in an error. Use `array.size > 0` to check that an array is not empty.\n",
      "  if diff:\n",
      "/home/perry/anaconda3/lib/python3.6/site-packages/sklearn/preprocessing/label.py:151: DeprecationWarning: The truth value of an empty array is ambiguous. Returning False, but in future this will result in an error. Use `array.size > 0` to check that an array is not empty.\n",
      "  if diff:\n"
     ]
    },
    {
     "name": "stdout",
     "output_type": "stream",
     "text": [
      "XVal on tree 60 with params:   9 | 0.6 |   3 | 1.0\n",
      "05:25:41.393614\n"
     ]
    },
    {
     "name": "stderr",
     "output_type": "stream",
     "text": [
      "/home/perry/anaconda3/lib/python3.6/site-packages/sklearn/preprocessing/label.py:151: DeprecationWarning: The truth value of an empty array is ambiguous. Returning False, but in future this will result in an error. Use `array.size > 0` to check that an array is not empty.\n",
      "  if diff:\n",
      "/home/perry/anaconda3/lib/python3.6/site-packages/sklearn/preprocessing/label.py:151: DeprecationWarning: The truth value of an empty array is ambiguous. Returning False, but in future this will result in an error. Use `array.size > 0` to check that an array is not empty.\n",
      "  if diff:\n",
      "/home/perry/anaconda3/lib/python3.6/site-packages/sklearn/preprocessing/label.py:151: DeprecationWarning: The truth value of an empty array is ambiguous. Returning False, but in future this will result in an error. Use `array.size > 0` to check that an array is not empty.\n",
      "  if diff:\n",
      "/home/perry/anaconda3/lib/python3.6/site-packages/sklearn/preprocessing/label.py:151: DeprecationWarning: The truth value of an empty array is ambiguous. Returning False, but in future this will result in an error. Use `array.size > 0` to check that an array is not empty.\n",
      "  if diff:\n"
     ]
    },
    {
     "name": "stdout",
     "output_type": "stream",
     "text": [
      "XVal on tree 61 with params:   9 | 0.6 |   5 | 0.6\n",
      "05:27:13.974625\n"
     ]
    },
    {
     "name": "stderr",
     "output_type": "stream",
     "text": [
      "/home/perry/anaconda3/lib/python3.6/site-packages/sklearn/preprocessing/label.py:151: DeprecationWarning: The truth value of an empty array is ambiguous. Returning False, but in future this will result in an error. Use `array.size > 0` to check that an array is not empty.\n",
      "  if diff:\n",
      "/home/perry/anaconda3/lib/python3.6/site-packages/sklearn/preprocessing/label.py:151: DeprecationWarning: The truth value of an empty array is ambiguous. Returning False, but in future this will result in an error. Use `array.size > 0` to check that an array is not empty.\n",
      "  if diff:\n",
      "/home/perry/anaconda3/lib/python3.6/site-packages/sklearn/preprocessing/label.py:151: DeprecationWarning: The truth value of an empty array is ambiguous. Returning False, but in future this will result in an error. Use `array.size > 0` to check that an array is not empty.\n",
      "  if diff:\n",
      "/home/perry/anaconda3/lib/python3.6/site-packages/sklearn/preprocessing/label.py:151: DeprecationWarning: The truth value of an empty array is ambiguous. Returning False, but in future this will result in an error. Use `array.size > 0` to check that an array is not empty.\n",
      "  if diff:\n"
     ]
    },
    {
     "name": "stdout",
     "output_type": "stream",
     "text": [
      "XVal on tree 62 with params:   9 | 0.6 |   5 | 0.8\n",
      "05:28:42.161898\n"
     ]
    },
    {
     "name": "stderr",
     "output_type": "stream",
     "text": [
      "/home/perry/anaconda3/lib/python3.6/site-packages/sklearn/preprocessing/label.py:151: DeprecationWarning: The truth value of an empty array is ambiguous. Returning False, but in future this will result in an error. Use `array.size > 0` to check that an array is not empty.\n",
      "  if diff:\n",
      "/home/perry/anaconda3/lib/python3.6/site-packages/sklearn/preprocessing/label.py:151: DeprecationWarning: The truth value of an empty array is ambiguous. Returning False, but in future this will result in an error. Use `array.size > 0` to check that an array is not empty.\n",
      "  if diff:\n",
      "/home/perry/anaconda3/lib/python3.6/site-packages/sklearn/preprocessing/label.py:151: DeprecationWarning: The truth value of an empty array is ambiguous. Returning False, but in future this will result in an error. Use `array.size > 0` to check that an array is not empty.\n",
      "  if diff:\n",
      "/home/perry/anaconda3/lib/python3.6/site-packages/sklearn/preprocessing/label.py:151: DeprecationWarning: The truth value of an empty array is ambiguous. Returning False, but in future this will result in an error. Use `array.size > 0` to check that an array is not empty.\n",
      "  if diff:\n"
     ]
    },
    {
     "name": "stdout",
     "output_type": "stream",
     "text": [
      "XVal on tree 63 with params:   9 | 0.6 |   5 | 1.0\n",
      "05:30:03.771169\n"
     ]
    },
    {
     "name": "stderr",
     "output_type": "stream",
     "text": [
      "/home/perry/anaconda3/lib/python3.6/site-packages/sklearn/preprocessing/label.py:151: DeprecationWarning: The truth value of an empty array is ambiguous. Returning False, but in future this will result in an error. Use `array.size > 0` to check that an array is not empty.\n",
      "  if diff:\n",
      "/home/perry/anaconda3/lib/python3.6/site-packages/sklearn/preprocessing/label.py:151: DeprecationWarning: The truth value of an empty array is ambiguous. Returning False, but in future this will result in an error. Use `array.size > 0` to check that an array is not empty.\n",
      "  if diff:\n",
      "/home/perry/anaconda3/lib/python3.6/site-packages/sklearn/preprocessing/label.py:151: DeprecationWarning: The truth value of an empty array is ambiguous. Returning False, but in future this will result in an error. Use `array.size > 0` to check that an array is not empty.\n",
      "  if diff:\n",
      "/home/perry/anaconda3/lib/python3.6/site-packages/sklearn/preprocessing/label.py:151: DeprecationWarning: The truth value of an empty array is ambiguous. Returning False, but in future this will result in an error. Use `array.size > 0` to check that an array is not empty.\n",
      "  if diff:\n"
     ]
    },
    {
     "name": "stdout",
     "output_type": "stream",
     "text": [
      "XVal on tree 64 with params:   9 | 0.8 |   1 | 0.6\n",
      "05:31:37.936294\n"
     ]
    },
    {
     "name": "stderr",
     "output_type": "stream",
     "text": [
      "/home/perry/anaconda3/lib/python3.6/site-packages/sklearn/preprocessing/label.py:151: DeprecationWarning: The truth value of an empty array is ambiguous. Returning False, but in future this will result in an error. Use `array.size > 0` to check that an array is not empty.\n",
      "  if diff:\n",
      "/home/perry/anaconda3/lib/python3.6/site-packages/sklearn/preprocessing/label.py:151: DeprecationWarning: The truth value of an empty array is ambiguous. Returning False, but in future this will result in an error. Use `array.size > 0` to check that an array is not empty.\n",
      "  if diff:\n",
      "/home/perry/anaconda3/lib/python3.6/site-packages/sklearn/preprocessing/label.py:151: DeprecationWarning: The truth value of an empty array is ambiguous. Returning False, but in future this will result in an error. Use `array.size > 0` to check that an array is not empty.\n",
      "  if diff:\n",
      "/home/perry/anaconda3/lib/python3.6/site-packages/sklearn/preprocessing/label.py:151: DeprecationWarning: The truth value of an empty array is ambiguous. Returning False, but in future this will result in an error. Use `array.size > 0` to check that an array is not empty.\n",
      "  if diff:\n"
     ]
    },
    {
     "name": "stdout",
     "output_type": "stream",
     "text": [
      "XVal on tree 65 with params:   9 | 0.8 |   1 | 0.8\n",
      "05:32:55.587749\n"
     ]
    },
    {
     "name": "stderr",
     "output_type": "stream",
     "text": [
      "/home/perry/anaconda3/lib/python3.6/site-packages/sklearn/preprocessing/label.py:151: DeprecationWarning: The truth value of an empty array is ambiguous. Returning False, but in future this will result in an error. Use `array.size > 0` to check that an array is not empty.\n",
      "  if diff:\n",
      "/home/perry/anaconda3/lib/python3.6/site-packages/sklearn/preprocessing/label.py:151: DeprecationWarning: The truth value of an empty array is ambiguous. Returning False, but in future this will result in an error. Use `array.size > 0` to check that an array is not empty.\n",
      "  if diff:\n",
      "/home/perry/anaconda3/lib/python3.6/site-packages/sklearn/preprocessing/label.py:151: DeprecationWarning: The truth value of an empty array is ambiguous. Returning False, but in future this will result in an error. Use `array.size > 0` to check that an array is not empty.\n",
      "  if diff:\n",
      "/home/perry/anaconda3/lib/python3.6/site-packages/sklearn/preprocessing/label.py:151: DeprecationWarning: The truth value of an empty array is ambiguous. Returning False, but in future this will result in an error. Use `array.size > 0` to check that an array is not empty.\n",
      "  if diff:\n"
     ]
    },
    {
     "name": "stdout",
     "output_type": "stream",
     "text": [
      "XVal on tree 66 with params:   9 | 0.8 |   1 | 1.0\n",
      "05:34:23.718167\n"
     ]
    },
    {
     "name": "stderr",
     "output_type": "stream",
     "text": [
      "/home/perry/anaconda3/lib/python3.6/site-packages/sklearn/preprocessing/label.py:151: DeprecationWarning: The truth value of an empty array is ambiguous. Returning False, but in future this will result in an error. Use `array.size > 0` to check that an array is not empty.\n",
      "  if diff:\n",
      "/home/perry/anaconda3/lib/python3.6/site-packages/sklearn/preprocessing/label.py:151: DeprecationWarning: The truth value of an empty array is ambiguous. Returning False, but in future this will result in an error. Use `array.size > 0` to check that an array is not empty.\n",
      "  if diff:\n",
      "/home/perry/anaconda3/lib/python3.6/site-packages/sklearn/preprocessing/label.py:151: DeprecationWarning: The truth value of an empty array is ambiguous. Returning False, but in future this will result in an error. Use `array.size > 0` to check that an array is not empty.\n",
      "  if diff:\n",
      "/home/perry/anaconda3/lib/python3.6/site-packages/sklearn/preprocessing/label.py:151: DeprecationWarning: The truth value of an empty array is ambiguous. Returning False, but in future this will result in an error. Use `array.size > 0` to check that an array is not empty.\n",
      "  if diff:\n"
     ]
    },
    {
     "name": "stdout",
     "output_type": "stream",
     "text": [
      "XVal on tree 67 with params:   9 | 0.8 |   3 | 0.6\n",
      "05:35:52.801571\n"
     ]
    },
    {
     "name": "stderr",
     "output_type": "stream",
     "text": [
      "/home/perry/anaconda3/lib/python3.6/site-packages/sklearn/preprocessing/label.py:151: DeprecationWarning: The truth value of an empty array is ambiguous. Returning False, but in future this will result in an error. Use `array.size > 0` to check that an array is not empty.\n",
      "  if diff:\n",
      "/home/perry/anaconda3/lib/python3.6/site-packages/sklearn/preprocessing/label.py:151: DeprecationWarning: The truth value of an empty array is ambiguous. Returning False, but in future this will result in an error. Use `array.size > 0` to check that an array is not empty.\n",
      "  if diff:\n",
      "/home/perry/anaconda3/lib/python3.6/site-packages/sklearn/preprocessing/label.py:151: DeprecationWarning: The truth value of an empty array is ambiguous. Returning False, but in future this will result in an error. Use `array.size > 0` to check that an array is not empty.\n",
      "  if diff:\n",
      "/home/perry/anaconda3/lib/python3.6/site-packages/sklearn/preprocessing/label.py:151: DeprecationWarning: The truth value of an empty array is ambiguous. Returning False, but in future this will result in an error. Use `array.size > 0` to check that an array is not empty.\n",
      "  if diff:\n"
     ]
    },
    {
     "name": "stdout",
     "output_type": "stream",
     "text": [
      "XVal on tree 68 with params:   9 | 0.8 |   3 | 0.8\n",
      "05:37:14.211469\n"
     ]
    },
    {
     "name": "stderr",
     "output_type": "stream",
     "text": [
      "/home/perry/anaconda3/lib/python3.6/site-packages/sklearn/preprocessing/label.py:151: DeprecationWarning: The truth value of an empty array is ambiguous. Returning False, but in future this will result in an error. Use `array.size > 0` to check that an array is not empty.\n",
      "  if diff:\n",
      "/home/perry/anaconda3/lib/python3.6/site-packages/sklearn/preprocessing/label.py:151: DeprecationWarning: The truth value of an empty array is ambiguous. Returning False, but in future this will result in an error. Use `array.size > 0` to check that an array is not empty.\n",
      "  if diff:\n",
      "/home/perry/anaconda3/lib/python3.6/site-packages/sklearn/preprocessing/label.py:151: DeprecationWarning: The truth value of an empty array is ambiguous. Returning False, but in future this will result in an error. Use `array.size > 0` to check that an array is not empty.\n",
      "  if diff:\n",
      "/home/perry/anaconda3/lib/python3.6/site-packages/sklearn/preprocessing/label.py:151: DeprecationWarning: The truth value of an empty array is ambiguous. Returning False, but in future this will result in an error. Use `array.size > 0` to check that an array is not empty.\n",
      "  if diff:\n"
     ]
    },
    {
     "name": "stdout",
     "output_type": "stream",
     "text": [
      "XVal on tree 69 with params:   9 | 0.8 |   3 | 1.0\n",
      "05:38:39.064328\n"
     ]
    },
    {
     "name": "stderr",
     "output_type": "stream",
     "text": [
      "/home/perry/anaconda3/lib/python3.6/site-packages/sklearn/preprocessing/label.py:151: DeprecationWarning: The truth value of an empty array is ambiguous. Returning False, but in future this will result in an error. Use `array.size > 0` to check that an array is not empty.\n",
      "  if diff:\n",
      "/home/perry/anaconda3/lib/python3.6/site-packages/sklearn/preprocessing/label.py:151: DeprecationWarning: The truth value of an empty array is ambiguous. Returning False, but in future this will result in an error. Use `array.size > 0` to check that an array is not empty.\n",
      "  if diff:\n",
      "/home/perry/anaconda3/lib/python3.6/site-packages/sklearn/preprocessing/label.py:151: DeprecationWarning: The truth value of an empty array is ambiguous. Returning False, but in future this will result in an error. Use `array.size > 0` to check that an array is not empty.\n",
      "  if diff:\n",
      "/home/perry/anaconda3/lib/python3.6/site-packages/sklearn/preprocessing/label.py:151: DeprecationWarning: The truth value of an empty array is ambiguous. Returning False, but in future this will result in an error. Use `array.size > 0` to check that an array is not empty.\n",
      "  if diff:\n"
     ]
    },
    {
     "name": "stdout",
     "output_type": "stream",
     "text": [
      "XVal on tree 70 with params:   9 | 0.8 |   5 | 0.6\n",
      "05:40:11.866851\n"
     ]
    },
    {
     "name": "stderr",
     "output_type": "stream",
     "text": [
      "/home/perry/anaconda3/lib/python3.6/site-packages/sklearn/preprocessing/label.py:151: DeprecationWarning: The truth value of an empty array is ambiguous. Returning False, but in future this will result in an error. Use `array.size > 0` to check that an array is not empty.\n",
      "  if diff:\n",
      "/home/perry/anaconda3/lib/python3.6/site-packages/sklearn/preprocessing/label.py:151: DeprecationWarning: The truth value of an empty array is ambiguous. Returning False, but in future this will result in an error. Use `array.size > 0` to check that an array is not empty.\n",
      "  if diff:\n",
      "/home/perry/anaconda3/lib/python3.6/site-packages/sklearn/preprocessing/label.py:151: DeprecationWarning: The truth value of an empty array is ambiguous. Returning False, but in future this will result in an error. Use `array.size > 0` to check that an array is not empty.\n",
      "  if diff:\n",
      "/home/perry/anaconda3/lib/python3.6/site-packages/sklearn/preprocessing/label.py:151: DeprecationWarning: The truth value of an empty array is ambiguous. Returning False, but in future this will result in an error. Use `array.size > 0` to check that an array is not empty.\n",
      "  if diff:\n"
     ]
    },
    {
     "name": "stdout",
     "output_type": "stream",
     "text": [
      "XVal on tree 71 with params:   9 | 0.8 |   5 | 0.8\n",
      "05:41:39.831021\n"
     ]
    },
    {
     "name": "stderr",
     "output_type": "stream",
     "text": [
      "/home/perry/anaconda3/lib/python3.6/site-packages/sklearn/preprocessing/label.py:151: DeprecationWarning: The truth value of an empty array is ambiguous. Returning False, but in future this will result in an error. Use `array.size > 0` to check that an array is not empty.\n",
      "  if diff:\n",
      "/home/perry/anaconda3/lib/python3.6/site-packages/sklearn/preprocessing/label.py:151: DeprecationWarning: The truth value of an empty array is ambiguous. Returning False, but in future this will result in an error. Use `array.size > 0` to check that an array is not empty.\n",
      "  if diff:\n",
      "/home/perry/anaconda3/lib/python3.6/site-packages/sklearn/preprocessing/label.py:151: DeprecationWarning: The truth value of an empty array is ambiguous. Returning False, but in future this will result in an error. Use `array.size > 0` to check that an array is not empty.\n",
      "  if diff:\n",
      "/home/perry/anaconda3/lib/python3.6/site-packages/sklearn/preprocessing/label.py:151: DeprecationWarning: The truth value of an empty array is ambiguous. Returning False, but in future this will result in an error. Use `array.size > 0` to check that an array is not empty.\n",
      "  if diff:\n"
     ]
    },
    {
     "name": "stdout",
     "output_type": "stream",
     "text": [
      "XVal on tree 72 with params:   9 | 0.8 |   5 | 1.0\n",
      "05:43:01.709795\n"
     ]
    },
    {
     "name": "stderr",
     "output_type": "stream",
     "text": [
      "/home/perry/anaconda3/lib/python3.6/site-packages/sklearn/preprocessing/label.py:151: DeprecationWarning: The truth value of an empty array is ambiguous. Returning False, but in future this will result in an error. Use `array.size > 0` to check that an array is not empty.\n",
      "  if diff:\n",
      "/home/perry/anaconda3/lib/python3.6/site-packages/sklearn/preprocessing/label.py:151: DeprecationWarning: The truth value of an empty array is ambiguous. Returning False, but in future this will result in an error. Use `array.size > 0` to check that an array is not empty.\n",
      "  if diff:\n",
      "/home/perry/anaconda3/lib/python3.6/site-packages/sklearn/preprocessing/label.py:151: DeprecationWarning: The truth value of an empty array is ambiguous. Returning False, but in future this will result in an error. Use `array.size > 0` to check that an array is not empty.\n",
      "  if diff:\n",
      "/home/perry/anaconda3/lib/python3.6/site-packages/sklearn/preprocessing/label.py:151: DeprecationWarning: The truth value of an empty array is ambiguous. Returning False, but in future this will result in an error. Use `array.size > 0` to check that an array is not empty.\n",
      "  if diff:\n"
     ]
    },
    {
     "name": "stdout",
     "output_type": "stream",
     "text": [
      "XVal on tree 73 with params:   9 | 1.0 |   1 | 0.6\n",
      "05:44:35.745583\n"
     ]
    },
    {
     "name": "stderr",
     "output_type": "stream",
     "text": [
      "/home/perry/anaconda3/lib/python3.6/site-packages/sklearn/preprocessing/label.py:151: DeprecationWarning: The truth value of an empty array is ambiguous. Returning False, but in future this will result in an error. Use `array.size > 0` to check that an array is not empty.\n",
      "  if diff:\n",
      "/home/perry/anaconda3/lib/python3.6/site-packages/sklearn/preprocessing/label.py:151: DeprecationWarning: The truth value of an empty array is ambiguous. Returning False, but in future this will result in an error. Use `array.size > 0` to check that an array is not empty.\n",
      "  if diff:\n",
      "/home/perry/anaconda3/lib/python3.6/site-packages/sklearn/preprocessing/label.py:151: DeprecationWarning: The truth value of an empty array is ambiguous. Returning False, but in future this will result in an error. Use `array.size > 0` to check that an array is not empty.\n",
      "  if diff:\n",
      "/home/perry/anaconda3/lib/python3.6/site-packages/sklearn/preprocessing/label.py:151: DeprecationWarning: The truth value of an empty array is ambiguous. Returning False, but in future this will result in an error. Use `array.size > 0` to check that an array is not empty.\n",
      "  if diff:\n"
     ]
    },
    {
     "name": "stdout",
     "output_type": "stream",
     "text": [
      "XVal on tree 74 with params:   9 | 1.0 |   1 | 0.8\n",
      "05:45:53.036153\n"
     ]
    },
    {
     "name": "stderr",
     "output_type": "stream",
     "text": [
      "/home/perry/anaconda3/lib/python3.6/site-packages/sklearn/preprocessing/label.py:151: DeprecationWarning: The truth value of an empty array is ambiguous. Returning False, but in future this will result in an error. Use `array.size > 0` to check that an array is not empty.\n",
      "  if diff:\n",
      "/home/perry/anaconda3/lib/python3.6/site-packages/sklearn/preprocessing/label.py:151: DeprecationWarning: The truth value of an empty array is ambiguous. Returning False, but in future this will result in an error. Use `array.size > 0` to check that an array is not empty.\n",
      "  if diff:\n",
      "/home/perry/anaconda3/lib/python3.6/site-packages/sklearn/preprocessing/label.py:151: DeprecationWarning: The truth value of an empty array is ambiguous. Returning False, but in future this will result in an error. Use `array.size > 0` to check that an array is not empty.\n",
      "  if diff:\n",
      "/home/perry/anaconda3/lib/python3.6/site-packages/sklearn/preprocessing/label.py:151: DeprecationWarning: The truth value of an empty array is ambiguous. Returning False, but in future this will result in an error. Use `array.size > 0` to check that an array is not empty.\n",
      "  if diff:\n"
     ]
    },
    {
     "name": "stdout",
     "output_type": "stream",
     "text": [
      "XVal on tree 75 with params:   9 | 1.0 |   1 | 1.0\n",
      "05:47:21.014356\n"
     ]
    },
    {
     "name": "stderr",
     "output_type": "stream",
     "text": [
      "/home/perry/anaconda3/lib/python3.6/site-packages/sklearn/preprocessing/label.py:151: DeprecationWarning: The truth value of an empty array is ambiguous. Returning False, but in future this will result in an error. Use `array.size > 0` to check that an array is not empty.\n",
      "  if diff:\n",
      "/home/perry/anaconda3/lib/python3.6/site-packages/sklearn/preprocessing/label.py:151: DeprecationWarning: The truth value of an empty array is ambiguous. Returning False, but in future this will result in an error. Use `array.size > 0` to check that an array is not empty.\n",
      "  if diff:\n",
      "/home/perry/anaconda3/lib/python3.6/site-packages/sklearn/preprocessing/label.py:151: DeprecationWarning: The truth value of an empty array is ambiguous. Returning False, but in future this will result in an error. Use `array.size > 0` to check that an array is not empty.\n",
      "  if diff:\n",
      "/home/perry/anaconda3/lib/python3.6/site-packages/sklearn/preprocessing/label.py:151: DeprecationWarning: The truth value of an empty array is ambiguous. Returning False, but in future this will result in an error. Use `array.size > 0` to check that an array is not empty.\n",
      "  if diff:\n"
     ]
    },
    {
     "name": "stdout",
     "output_type": "stream",
     "text": [
      "XVal on tree 76 with params:   9 | 1.0 |   3 | 0.6\n",
      "05:48:49.643388\n"
     ]
    },
    {
     "name": "stderr",
     "output_type": "stream",
     "text": [
      "/home/perry/anaconda3/lib/python3.6/site-packages/sklearn/preprocessing/label.py:151: DeprecationWarning: The truth value of an empty array is ambiguous. Returning False, but in future this will result in an error. Use `array.size > 0` to check that an array is not empty.\n",
      "  if diff:\n",
      "/home/perry/anaconda3/lib/python3.6/site-packages/sklearn/preprocessing/label.py:151: DeprecationWarning: The truth value of an empty array is ambiguous. Returning False, but in future this will result in an error. Use `array.size > 0` to check that an array is not empty.\n",
      "  if diff:\n",
      "/home/perry/anaconda3/lib/python3.6/site-packages/sklearn/preprocessing/label.py:151: DeprecationWarning: The truth value of an empty array is ambiguous. Returning False, but in future this will result in an error. Use `array.size > 0` to check that an array is not empty.\n",
      "  if diff:\n",
      "/home/perry/anaconda3/lib/python3.6/site-packages/sklearn/preprocessing/label.py:151: DeprecationWarning: The truth value of an empty array is ambiguous. Returning False, but in future this will result in an error. Use `array.size > 0` to check that an array is not empty.\n",
      "  if diff:\n"
     ]
    },
    {
     "name": "stdout",
     "output_type": "stream",
     "text": [
      "XVal on tree 77 with params:   9 | 1.0 |   3 | 0.8\n",
      "05:50:11.024627\n"
     ]
    },
    {
     "name": "stderr",
     "output_type": "stream",
     "text": [
      "/home/perry/anaconda3/lib/python3.6/site-packages/sklearn/preprocessing/label.py:151: DeprecationWarning: The truth value of an empty array is ambiguous. Returning False, but in future this will result in an error. Use `array.size > 0` to check that an array is not empty.\n",
      "  if diff:\n",
      "/home/perry/anaconda3/lib/python3.6/site-packages/sklearn/preprocessing/label.py:151: DeprecationWarning: The truth value of an empty array is ambiguous. Returning False, but in future this will result in an error. Use `array.size > 0` to check that an array is not empty.\n",
      "  if diff:\n",
      "/home/perry/anaconda3/lib/python3.6/site-packages/sklearn/preprocessing/label.py:151: DeprecationWarning: The truth value of an empty array is ambiguous. Returning False, but in future this will result in an error. Use `array.size > 0` to check that an array is not empty.\n",
      "  if diff:\n",
      "/home/perry/anaconda3/lib/python3.6/site-packages/sklearn/preprocessing/label.py:151: DeprecationWarning: The truth value of an empty array is ambiguous. Returning False, but in future this will result in an error. Use `array.size > 0` to check that an array is not empty.\n",
      "  if diff:\n"
     ]
    },
    {
     "name": "stdout",
     "output_type": "stream",
     "text": [
      "XVal on tree 78 with params:   9 | 1.0 |   3 | 1.0\n",
      "05:51:36.282620\n"
     ]
    },
    {
     "name": "stderr",
     "output_type": "stream",
     "text": [
      "/home/perry/anaconda3/lib/python3.6/site-packages/sklearn/preprocessing/label.py:151: DeprecationWarning: The truth value of an empty array is ambiguous. Returning False, but in future this will result in an error. Use `array.size > 0` to check that an array is not empty.\n",
      "  if diff:\n",
      "/home/perry/anaconda3/lib/python3.6/site-packages/sklearn/preprocessing/label.py:151: DeprecationWarning: The truth value of an empty array is ambiguous. Returning False, but in future this will result in an error. Use `array.size > 0` to check that an array is not empty.\n",
      "  if diff:\n",
      "/home/perry/anaconda3/lib/python3.6/site-packages/sklearn/preprocessing/label.py:151: DeprecationWarning: The truth value of an empty array is ambiguous. Returning False, but in future this will result in an error. Use `array.size > 0` to check that an array is not empty.\n",
      "  if diff:\n",
      "/home/perry/anaconda3/lib/python3.6/site-packages/sklearn/preprocessing/label.py:151: DeprecationWarning: The truth value of an empty array is ambiguous. Returning False, but in future this will result in an error. Use `array.size > 0` to check that an array is not empty.\n",
      "  if diff:\n"
     ]
    },
    {
     "name": "stdout",
     "output_type": "stream",
     "text": [
      "XVal on tree 79 with params:   9 | 1.0 |   5 | 0.6\n",
      "05:53:09.382423\n"
     ]
    },
    {
     "name": "stderr",
     "output_type": "stream",
     "text": [
      "/home/perry/anaconda3/lib/python3.6/site-packages/sklearn/preprocessing/label.py:151: DeprecationWarning: The truth value of an empty array is ambiguous. Returning False, but in future this will result in an error. Use `array.size > 0` to check that an array is not empty.\n",
      "  if diff:\n",
      "/home/perry/anaconda3/lib/python3.6/site-packages/sklearn/preprocessing/label.py:151: DeprecationWarning: The truth value of an empty array is ambiguous. Returning False, but in future this will result in an error. Use `array.size > 0` to check that an array is not empty.\n",
      "  if diff:\n",
      "/home/perry/anaconda3/lib/python3.6/site-packages/sklearn/preprocessing/label.py:151: DeprecationWarning: The truth value of an empty array is ambiguous. Returning False, but in future this will result in an error. Use `array.size > 0` to check that an array is not empty.\n",
      "  if diff:\n",
      "/home/perry/anaconda3/lib/python3.6/site-packages/sklearn/preprocessing/label.py:151: DeprecationWarning: The truth value of an empty array is ambiguous. Returning False, but in future this will result in an error. Use `array.size > 0` to check that an array is not empty.\n",
      "  if diff:\n"
     ]
    },
    {
     "name": "stdout",
     "output_type": "stream",
     "text": [
      "XVal on tree 80 with params:   9 | 1.0 |   5 | 0.8\n",
      "05:54:37.636340\n"
     ]
    },
    {
     "name": "stderr",
     "output_type": "stream",
     "text": [
      "/home/perry/anaconda3/lib/python3.6/site-packages/sklearn/preprocessing/label.py:151: DeprecationWarning: The truth value of an empty array is ambiguous. Returning False, but in future this will result in an error. Use `array.size > 0` to check that an array is not empty.\n",
      "  if diff:\n",
      "/home/perry/anaconda3/lib/python3.6/site-packages/sklearn/preprocessing/label.py:151: DeprecationWarning: The truth value of an empty array is ambiguous. Returning False, but in future this will result in an error. Use `array.size > 0` to check that an array is not empty.\n",
      "  if diff:\n",
      "/home/perry/anaconda3/lib/python3.6/site-packages/sklearn/preprocessing/label.py:151: DeprecationWarning: The truth value of an empty array is ambiguous. Returning False, but in future this will result in an error. Use `array.size > 0` to check that an array is not empty.\n",
      "  if diff:\n",
      "/home/perry/anaconda3/lib/python3.6/site-packages/sklearn/preprocessing/label.py:151: DeprecationWarning: The truth value of an empty array is ambiguous. Returning False, but in future this will result in an error. Use `array.size > 0` to check that an array is not empty.\n",
      "  if diff:\n"
     ]
    },
    {
     "name": "stdout",
     "output_type": "stream",
     "text": [
      "XVal on tree 81 with params:   9 | 1.0 |   5 | 1.0\n",
      "05:56:00.082601\n"
     ]
    },
    {
     "name": "stderr",
     "output_type": "stream",
     "text": [
      "/home/perry/anaconda3/lib/python3.6/site-packages/sklearn/preprocessing/label.py:151: DeprecationWarning: The truth value of an empty array is ambiguous. Returning False, but in future this will result in an error. Use `array.size > 0` to check that an array is not empty.\n",
      "  if diff:\n",
      "/home/perry/anaconda3/lib/python3.6/site-packages/sklearn/preprocessing/label.py:151: DeprecationWarning: The truth value of an empty array is ambiguous. Returning False, but in future this will result in an error. Use `array.size > 0` to check that an array is not empty.\n",
      "  if diff:\n",
      "/home/perry/anaconda3/lib/python3.6/site-packages/sklearn/preprocessing/label.py:151: DeprecationWarning: The truth value of an empty array is ambiguous. Returning False, but in future this will result in an error. Use `array.size > 0` to check that an array is not empty.\n",
      "  if diff:\n",
      "/home/perry/anaconda3/lib/python3.6/site-packages/sklearn/preprocessing/label.py:151: DeprecationWarning: The truth value of an empty array is ambiguous. Returning False, but in future this will result in an error. Use `array.size > 0` to check that an array is not empty.\n",
      "  if diff:\n"
     ]
    }
   ],
   "source": [
    "features = [\"Claim_Value\"]+date_var+text_count_var\n",
    "target = \"Status\"\n",
    "\n",
    "model_df=df[[target]+features].dropna()\n",
    "X = model_df[features].reset_index(drop=True)\n",
    "Y = model_df[target].reset_index(drop=True)\n",
    "\n",
    "max_depths = [3,6,9]\n",
    "subsamples = [.6,.8,1]\n",
    "min_child_weights = [1,3,5]\n",
    "colsample_bytrees = [.6,.8,1]\n",
    "\n",
    "i = 1\n",
    "\n",
    "result = dict()\n",
    "\n",
    "for md in max_depths:\n",
    "    for s in subsamples:\n",
    "        for mcw in min_child_weights:\n",
    "            for csbt in colsample_bytrees:\n",
    "                model =  xgb.XGBClassifier(max_depth = md,\n",
    "                                           subsamples = s,\n",
    "                                           min_child_weight=mcw,\n",
    "                                           colsample_bytree=csbt,\n",
    "                                           n_estimators=30000,\n",
    "                                           learning_rate=.1,\n",
    "                                           objective = \"multi:softmax\",\n",
    "                                           random_state = 1,\n",
    "                                           n_jobs = -1)\n",
    "                print(\"XVal on tree {} with params: {:3d} | {:3.1f} | {:3d} | {:3.1f}\"\n",
    "                      .format(i,md,s,mcw,csbt))\n",
    "                \n",
    "                print(datetime.now().time())\n",
    "                \n",
    "                result[(md,s,mcw,csbt)] = xgb_val_loop(model,X,Y,rand_state=1)\n",
    "                \n",
    "                with open(\"grid_dict.pickle\",\"wb\") as f:\n",
    "                    pickle.dump(result, f)\n",
    "                \n",
    "                i+=1\n",
    "                \n",
    "\n",
    "                "
   ]
  },
  {
   "cell_type": "code",
   "execution_count": 58,
   "metadata": {
    "ExecuteTime": {
     "end_time": "2018-02-21T06:38:30.752486Z",
     "start_time": "2018-02-21T06:38:30.652531Z"
    }
   },
   "outputs": [
    {
     "name": "stdout",
     "output_type": "stream",
     "text": [
      "(6, 0.6, 5, 0.6)\n",
      "Best Accuracy 0.5762742164458621\n",
      "Best logloss 0.8900632500000001\n",
      "Best Tree Depth 319.0\n",
      "\n",
      "          Precision     Recall         F1    Support\n",
      "Approved    0.56927    0.64301    0.60389       8992\n",
      "  Denied    0.59771    0.74094    0.66166      13536\n",
      " Settled    0.43664    0.13935    0.21123       6475\n",
      " Avg/Tot    0.53454    0.50776    0.49226       9667\n"
     ]
    }
   ],
   "source": [
    "grid_result = {}\n",
    "\n",
    "with open(\"grid_dict.pickle\",\"rb\") as f:\n",
    "    grid_result = pickle.load(f)       \n",
    "\n",
    "best_score = 0\n",
    "best_params = None\n",
    "accuracy_dict = {}\n",
    "    \n",
    "for key in grid_result.keys():\n",
    "    score = grid_result[key][\"test_acc\"]\n",
    "    if score > best_score:\n",
    "        best_score = score\n",
    "        best_params = key\n",
    "    accuracy_dict[score]=key\n",
    "\n",
    "ranked_params = [accuracy_dict[x] for x in sorted(accuracy_dict.keys())]\n",
    "    \n",
    "best_result = grid_result[best_params]\n",
    "\n",
    "print(best_params)\n",
    "print(\"Best Accuracy\",best_result[\"test_acc\"])\n",
    "print(\"Best logloss\",best_result[\"logloss\"])\n",
    "print(\"Best Tree Depth\",best_result[\"ntrees\"])\n",
    "print_scores(best_result[\"test_scores\"],np.unique(Y))\n",
    "\n"
   ]
  },
  {
   "cell_type": "code",
   "execution_count": 67,
   "metadata": {
    "ExecuteTime": {
     "end_time": "2018-02-21T06:48:43.886378Z",
     "start_time": "2018-02-21T06:48:43.883011Z"
    }
   },
   "outputs": [],
   "source": [
    "#print(top_list[-1])\n",
    "\n",
    "#print(grid_result[(6, 0.6, 5, 0.6)])\n",
    "\n",
    "#print(grid_result[(6, 1, 5, 0.6)])\n",
    "\n",
    "#print([(x) for x in zip(grid_result.keys(),grid_result.values()) if x[1][\"test_acc\"]>=0.5762742164458621])\n",
    "\n",
    "[(p,grid_result[p]) for p in ranked_params[-3:]]"
   ]
  },
  {
   "cell_type": "markdown",
   "metadata": {},
   "source": [
    "### Final Model"
   ]
  },
  {
   "cell_type": "code",
   "execution_count": 72,
   "metadata": {
    "ExecuteTime": {
     "end_time": "2018-02-21T07:06:34.270405Z",
     "start_time": "2018-02-21T07:06:22.514913Z"
    }
   },
   "outputs": [
    {
     "name": "stdout",
     "output_type": "stream",
     "text": [
      "29003\n",
      "Training\n"
     ]
    },
    {
     "name": "stderr",
     "output_type": "stream",
     "text": [
      "/home/perry/anaconda3/lib/python3.6/site-packages/sklearn/preprocessing/label.py:151: DeprecationWarning: The truth value of an empty array is ambiguous. Returning False, but in future this will result in an error. Use `array.size > 0` to check that an array is not empty.\n",
      "  if diff:\n"
     ]
    },
    {
     "name": "stdout",
     "output_type": "stream",
     "text": [
      "0.5911955106931359\n",
      "             precision    recall  f1-score   support\n",
      "\n",
      "   Approved       0.59      0.67      0.62     35966\n",
      "     Denied       0.60      0.76      0.67     54144\n",
      "    Settled       0.51      0.14      0.22     25899\n",
      "\n",
      "avg / total       0.58      0.59      0.56    116009\n",
      "\n",
      "\n",
      "Holdout\n"
     ]
    },
    {
     "name": "stderr",
     "output_type": "stream",
     "text": [
      "/home/perry/anaconda3/lib/python3.6/site-packages/sklearn/preprocessing/label.py:151: DeprecationWarning: The truth value of an empty array is ambiguous. Returning False, but in future this will result in an error. Use `array.size > 0` to check that an array is not empty.\n",
      "  if diff:\n"
     ]
    },
    {
     "name": "stdout",
     "output_type": "stream",
     "text": [
      "0.5764920870254802\n",
      "             precision    recall  f1-score   support\n",
      "\n",
      "   Approved       0.57      0.65      0.61      9055\n",
      "     Denied       0.59      0.74      0.66     13562\n",
      "    Settled       0.44      0.13      0.20      6386\n",
      "\n",
      "avg / total       0.55      0.58      0.54     29003\n",
      "\n"
     ]
    },
    {
     "data": {
      "text/plain": [
       "[('Claim_Value', 0.2096966),\n",
       " ('Report_Delay', 0.13343248),\n",
       " ('Month_Received', 0.017787032),\n",
       " ('DayYear_Received', 0.15663296),\n",
       " ('DayMonth_Received', 0.07358715),\n",
       " ('Incident_Month', 0.004878049),\n",
       " ('Incident_DayYear', 0.045449138),\n",
       " ('Incident_DayMonth', 0.02528257),\n",
       " ('Claim_Type_Count', 0.05913147),\n",
       " ('Claim_Site_Count', 0.038132064),\n",
       " ('Airport_Code_Group_Count', 0.13551457),\n",
       " ('Airline_Name_Count', 0.10047591)]"
      ]
     },
     "execution_count": 72,
     "metadata": {},
     "output_type": "execute_result"
    }
   ],
   "source": [
    "model_df_holdout = df_holdout[[target]+features].dropna()\n",
    "X_holdout = model_df_holdout[features]\n",
    "Y_holdout = model_df_holdout[target]\n",
    "print(len(model_df_holdout))\n",
    "\n",
    "#Model using params from grid search\n",
    "model =  xgb.XGBClassifier(max_depth = 6,\n",
    "                           subsamples = 1,\n",
    "                           min_child_weight=6,\n",
    "                           colsample_bytree=0.6,\n",
    "                           n_estimators=107,\n",
    "                           learning_rate=.1,\n",
    "                           objective = \"multi:softmax\",\n",
    "                           random_state = 1,\n",
    "                           n_jobs = -1)\n",
    "\n",
    "fit_model = model.fit(X, Y)\n",
    "\n",
    "print(\"Training\")\n",
    "pred = model.predict(X)\n",
    "print(skm.accuracy_score(Y,pred))\n",
    "print(skm.classification_report(Y, pred))\n",
    "\n",
    "print(\"\\nHoldout\")\n",
    "pred = model.predict(X_holdout)\n",
    "print(skm.accuracy_score(Y_holdout,pred))\n",
    "print(skm.classification_report(Y_holdout, pred))\n",
    "\n",
    "list(zip(model_df.columns[1:],fit_model.feature_importances_))"
   ]
  },
  {
   "cell_type": "code",
   "execution_count": 70,
   "metadata": {
    "ExecuteTime": {
     "end_time": "2018-02-21T06:51:12.201973Z",
     "start_time": "2018-02-21T06:51:11.511013Z"
    }
   },
   "outputs": [
    {
     "data": {
      "text/plain": [
       "<matplotlib.axes._subplots.AxesSubplot at 0x7f18afb83898>"
      ]
     },
     "execution_count": 70,
     "metadata": {},
     "output_type": "execute_result"
    },
    {
     "data": {
      "image/png": "[encoded data removed]",
      "text/plain": [
       "<matplotlib.figure.Figure at 0x7f18afd72eb8>"
      ]
     },
     "metadata": {},
     "output_type": "display_data"
    },
    {
     "data": {
      "image/png": "[encoded data removed]",
      "text/plain": [
       "<matplotlib.figure.Figure at 0x7f18afb882b0>"
      ]
     },
     "metadata": {},
     "output_type": "display_data"
    }
   ],
   "source": [
    "xgb.plot_importance(fit_model)\n",
    "\n",
    "xgb.plot_importance(fit_model, importance_type=\"gain\")\n"
   ]
  },
  {
   "cell_type": "code",
   "execution_count": null,
   "metadata": {},
   "outputs": [],
   "source": []
  }
 ],
 "metadata": {
  "kernelspec": {
   "display_name": "Python 3",
   "language": "python",
   "name": "python3"
  },
  "language_info": {
   "codemirror_mode": {
    "name": "ipython",
    "version": 3
   },
   "file_extension": ".py",
   "mimetype": "text/x-python",
   "name": "python",
   "nbconvert_exporter": "python",
   "pygments_lexer": "ipython3",
   "version": "3.6.4"
  },
  "toc": {
   "nav_menu": {},
   "number_sections": false,
   "sideBar": true,
   "skip_h1_title": true,
   "toc_cell": false,
   "toc_position": {},
   "toc_section_display": "block",
   "toc_window_display": true
  },
  "varInspector": {
   "cols": {
    "lenName": 16,
    "lenType": 16,
    "lenVar": 40
   },
   "kernels_config": {
    "python": {
     "delete_cmd_postfix": "",
     "delete_cmd_prefix": "del ",
     "library": "var_list.py",
     "varRefreshCmd": "print(var_dic_list())"
    },
    "r": {
     "delete_cmd_postfix": ") ",
     "delete_cmd_prefix": "rm(",
     "library": "var_list.r",
     "varRefreshCmd": "cat(var_dic_list()) "
    }
   },
   "types_to_exclude": [
    "module",
    "function",
    "builtin_function_or_method",
    "instance",
    "_Feature"
   ],
   "window_display": false
  }
 },
 "nbformat": 4,
 "nbformat_minor": 2
}
