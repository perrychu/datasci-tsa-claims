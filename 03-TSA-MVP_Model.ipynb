{
 "cells": [
  {
   "cell_type": "code",
   "execution_count": 30,
   "metadata": {
    "ExecuteTime": {
     "end_time": "2018-02-16T04:07:04.338738Z",
     "start_time": "2018-02-16T04:07:04.323698Z"
    }
   },
   "outputs": [],
   "source": [
    "import numpy as np\n",
    "import pandas as pd\n",
    "import matplotlib.pyplot as plt\n",
    "import seaborn as sns\n",
    "\n",
    "from sklearn.ensemble import RandomForestClassifier\n",
    "from sklearn.model_selection import KFold\n",
    "import sklearn.metrics as skm"
   ]
  },
  {
   "cell_type": "markdown",
   "metadata": {},
   "source": [
    "## Load Clean Data"
   ]
  },
  {
   "cell_type": "code",
   "execution_count": 43,
   "metadata": {
    "ExecuteTime": {
     "end_time": "2018-02-16T04:32:20.916559Z",
     "start_time": "2018-02-16T04:32:20.563320Z"
    }
   },
   "outputs": [
    {
     "name": "stderr",
     "output_type": "stream",
     "text": [
      "/home/perry/anaconda3/lib/python3.6/site-packages/IPython/core/interactiveshell.py:2728: DtypeWarning: Columns (0) have mixed types. Specify dtype option on import or set low_memory=False.\n",
      "  interactivity=interactivity, compiler=compiler, result=result)\n"
     ]
    },
    {
     "data": {
      "text/html": [
       "<div>\n",
       "<style scoped>\n",
       "    .dataframe tbody tr th:only-of-type {\n",
       "        vertical-align: middle;\n",
       "    }\n",
       "\n",
       "    .dataframe tbody tr th {\n",
       "        vertical-align: top;\n",
       "    }\n",
       "\n",
       "    .dataframe thead th {\n",
       "        text-align: right;\n",
       "    }\n",
       "</style>\n",
       "<table border=\"1\" class=\"dataframe\">\n",
       "  <thead>\n",
       "    <tr style=\"text-align: right;\">\n",
       "      <th></th>\n",
       "      <th>Claim_Number</th>\n",
       "      <th>Airline_Name</th>\n",
       "      <th>Claim_Type</th>\n",
       "      <th>Claim_Site</th>\n",
       "      <th>Item</th>\n",
       "      <th>Status</th>\n",
       "      <th>Date_Received</th>\n",
       "      <th>Incident_Date</th>\n",
       "      <th>Airport_Code_Group</th>\n",
       "      <th>Airport_Name_Group</th>\n",
       "      <th>Claim_Value</th>\n",
       "      <th>Close_Value</th>\n",
       "    </tr>\n",
       "  </thead>\n",
       "  <tbody>\n",
       "    <tr>\n",
       "      <th>0</th>\n",
       "      <td>0909802M</td>\n",
       "      <td>ContinentalAirlines</td>\n",
       "      <td>Property Damage</td>\n",
       "      <td>Checkpoint</td>\n",
       "      <td>Other</td>\n",
       "      <td>Approved</td>\n",
       "      <td>2002-01-04</td>\n",
       "      <td>2002-12-12</td>\n",
       "      <td>EWR</td>\n",
       "      <td>Newark International Airport</td>\n",
       "      <td>350.0</td>\n",
       "      <td>350.0</td>\n",
       "    </tr>\n",
       "    <tr>\n",
       "      <th>1</th>\n",
       "      <td>0202417M</td>\n",
       "      <td>NaN</td>\n",
       "      <td>Property Damage</td>\n",
       "      <td>Checked Baggage</td>\n",
       "      <td>Luggage (all types including footlockers)</td>\n",
       "      <td>Settled</td>\n",
       "      <td>2002-02-02</td>\n",
       "      <td>2004-01-16</td>\n",
       "      <td>SEA</td>\n",
       "      <td>Seattle-Tacoma International</td>\n",
       "      <td>100.0</td>\n",
       "      <td>50.0</td>\n",
       "    </tr>\n",
       "  </tbody>\n",
       "</table>\n",
       "</div>"
      ],
      "text/plain": [
       "  Claim_Number         Airline_Name       Claim_Type       Claim_Site  \\\n",
       "0     0909802M  ContinentalAirlines  Property Damage       Checkpoint   \n",
       "1     0202417M                  NaN  Property Damage  Checked Baggage   \n",
       "\n",
       "                                        Item    Status Date_Received  \\\n",
       "0                                      Other  Approved    2002-01-04   \n",
       "1  Luggage (all types including footlockers)   Settled    2002-02-02   \n",
       "\n",
       "  Incident_Date Airport_Code_Group            Airport_Name_Group  Claim_Value  \\\n",
       "0    2002-12-12                EWR  Newark International Airport        350.0   \n",
       "1    2004-01-16                SEA  Seattle-Tacoma International        100.0   \n",
       "\n",
       "   Close_Value  \n",
       "0        350.0  \n",
       "1         50.0  "
      ]
     },
     "execution_count": 43,
     "metadata": {},
     "output_type": "execute_result"
    }
   ],
   "source": [
    "df = pd.read_csv(\"tsa_claims_clean.csv\")\n",
    "\n",
    "df.head(2)"
   ]
  },
  {
   "cell_type": "markdown",
   "metadata": {
    "ExecuteTime": {
     "end_time": "2018-02-16T04:18:09.767772Z",
     "start_time": "2018-02-16T04:18:09.747707Z"
    }
   },
   "source": [
    "## MVP Feature Engineering"
   ]
  },
  {
   "cell_type": "code",
   "execution_count": 44,
   "metadata": {
    "ExecuteTime": {
     "end_time": "2018-02-16T04:32:25.126069Z",
     "start_time": "2018-02-16T04:32:24.264757Z"
    }
   },
   "outputs": [
    {
     "data": {
      "text/html": [
       "<div>\n",
       "<style scoped>\n",
       "    .dataframe tbody tr th:only-of-type {\n",
       "        vertical-align: middle;\n",
       "    }\n",
       "\n",
       "    .dataframe tbody tr th {\n",
       "        vertical-align: top;\n",
       "    }\n",
       "\n",
       "    .dataframe thead th {\n",
       "        text-align: right;\n",
       "    }\n",
       "</style>\n",
       "<table border=\"1\" class=\"dataframe\">\n",
       "  <thead>\n",
       "    <tr style=\"text-align: right;\">\n",
       "      <th></th>\n",
       "      <th>Claim_Number</th>\n",
       "      <th>Airline_Name</th>\n",
       "      <th>Claim_Type</th>\n",
       "      <th>Claim_Site</th>\n",
       "      <th>Item</th>\n",
       "      <th>Status</th>\n",
       "      <th>Date_Received</th>\n",
       "      <th>Incident_Date</th>\n",
       "      <th>Airport_Code_Group</th>\n",
       "      <th>Airport_Name_Group</th>\n",
       "      <th>Claim_Value</th>\n",
       "      <th>Close_Value</th>\n",
       "      <th>Report_Delay</th>\n",
       "    </tr>\n",
       "  </thead>\n",
       "  <tbody>\n",
       "    <tr>\n",
       "      <th>0</th>\n",
       "      <td>0909802M</td>\n",
       "      <td>ContinentalAirlines</td>\n",
       "      <td>Property Damage</td>\n",
       "      <td>Checkpoint</td>\n",
       "      <td>Other</td>\n",
       "      <td>Approved</td>\n",
       "      <td>2002-01-04</td>\n",
       "      <td>2002-12-12</td>\n",
       "      <td>EWR</td>\n",
       "      <td>Newark International Airport</td>\n",
       "      <td>350.0</td>\n",
       "      <td>350.0</td>\n",
       "      <td>-342</td>\n",
       "    </tr>\n",
       "    <tr>\n",
       "      <th>1</th>\n",
       "      <td>0202417M</td>\n",
       "      <td>NaN</td>\n",
       "      <td>Property Damage</td>\n",
       "      <td>Checked Baggage</td>\n",
       "      <td>Luggage (all types including footlockers)</td>\n",
       "      <td>Settled</td>\n",
       "      <td>2002-02-02</td>\n",
       "      <td>2004-01-16</td>\n",
       "      <td>SEA</td>\n",
       "      <td>Seattle-Tacoma International</td>\n",
       "      <td>100.0</td>\n",
       "      <td>50.0</td>\n",
       "      <td>-713</td>\n",
       "    </tr>\n",
       "  </tbody>\n",
       "</table>\n",
       "</div>"
      ],
      "text/plain": [
       "  Claim_Number         Airline_Name       Claim_Type       Claim_Site  \\\n",
       "0     0909802M  ContinentalAirlines  Property Damage       Checkpoint   \n",
       "1     0202417M                  NaN  Property Damage  Checked Baggage   \n",
       "\n",
       "                                        Item    Status Date_Received  \\\n",
       "0                                      Other  Approved    2002-01-04   \n",
       "1  Luggage (all types including footlockers)   Settled    2002-02-02   \n",
       "\n",
       "  Incident_Date Airport_Code_Group            Airport_Name_Group  Claim_Value  \\\n",
       "0    2002-12-12                EWR  Newark International Airport        350.0   \n",
       "1    2004-01-16                SEA  Seattle-Tacoma International        100.0   \n",
       "\n",
       "   Close_Value  Report_Delay  \n",
       "0        350.0          -342  \n",
       "1         50.0          -713  "
      ]
     },
     "execution_count": 44,
     "metadata": {},
     "output_type": "execute_result"
    }
   ],
   "source": [
    "df[\"Date_Received\"] = pd.to_datetime(df.Date_Received,format=\"%Y-%m-%d\")\n",
    "df[\"Incident_Date\"] = pd.to_datetime(df.Incident_Date,format=\"%Y-%m-%d\")\n",
    "\n",
    "df[\"Report_Delay\"] = (df.Date_Received - df.Incident_Date).dt.days\n",
    "\n",
    "df.head(2)"
   ]
  },
  {
   "cell_type": "markdown",
   "metadata": {
    "ExecuteTime": {
     "end_time": "2018-02-16T04:18:27.099785Z",
     "start_time": "2018-02-16T04:18:27.088723Z"
    }
   },
   "source": [
    "## MVP Baseline Model"
   ]
  },
  {
   "cell_type": "markdown",
   "metadata": {},
   "source": [
    "Baseline RF model accuracy: ~45.7% (5 fold cross-test)\n",
    "\n",
    "This is slightly worse than naively guessing the most common class \"Denied\" (46.7%). However, looking at precision and recall scores, we are picking up signal on the minority classes (Approved / Settled) so this is more *useful* than the naive model.\n",
    "\n",
    "Adding additional variables / trying more models should help!"
   ]
  },
  {
   "cell_type": "code",
   "execution_count": 42,
   "metadata": {
    "ExecuteTime": {
     "end_time": "2018-02-16T04:23:10.389992Z",
     "start_time": "2018-02-16T04:23:10.328115Z"
    }
   },
   "outputs": [
    {
     "data": {
      "text/plain": [
       "Denied      [67828, 0.467]\n",
       "Approved     [45090, 0.31]\n",
       "Settled     [32374, 0.223]\n",
       "Name: Status, dtype: object"
      ]
     },
     "execution_count": 42,
     "metadata": {},
     "output_type": "execute_result"
    }
   ],
   "source": [
    "df.Status.value_counts().map(lambda x:[x,round(x/len(df),3)])"
   ]
  },
  {
   "cell_type": "code",
   "execution_count": 35,
   "metadata": {
    "ExecuteTime": {
     "end_time": "2018-02-16T04:14:33.973347Z",
     "start_time": "2018-02-16T04:07:55.926316Z"
    }
   },
   "outputs": [
    {
     "name": "stdout",
     "output_type": "stream",
     "text": [
      "0.40151159904\n",
      "             precision    recall  f1-score   support\n",
      "\n",
      "   Approved       0.53      0.44      0.48     13217\n",
      "     Denied       0.34      0.67      0.45     10649\n",
      "    Settled       0.39      0.13      0.20     12387\n",
      "\n",
      "avg / total       0.43      0.40      0.37     36253\n",
      "\n",
      "0.487849281439\n",
      "             precision    recall  f1-score   support\n",
      "\n",
      "   Approved       0.52      0.52      0.52     11626\n",
      "     Denied       0.54      0.59      0.56     16957\n",
      "    Settled       0.27      0.22      0.24      7670\n",
      "\n",
      "avg / total       0.48      0.49      0.48     36253\n",
      "\n",
      "0.484346123079\n",
      "             precision    recall  f1-score   support\n",
      "\n",
      "   Approved       0.33      0.57      0.41      6929\n",
      "     Denied       0.72      0.52      0.60     23610\n",
      "    Settled       0.19      0.23      0.21      5714\n",
      "\n",
      "avg / total       0.56      0.48      0.50     36253\n",
      "\n",
      "0.458031059499\n",
      "             precision    recall  f1-score   support\n",
      "\n",
      "   Approved       0.51      0.44      0.47     13249\n",
      "     Denied       0.51      0.57      0.54     16490\n",
      "    Settled       0.22      0.21      0.21      6514\n",
      "\n",
      "avg / total       0.46      0.46      0.46     36253\n",
      "\n",
      "0.457934515764\n",
      "[[  4.19024734e-01   4.13249444e-01   3.75473982e-01   1.20843333e+04]\n",
      " [  4.43838758e-01   4.41998470e-01   4.41596655e-01   1.20843333e+04]\n",
      " [  4.10402762e-01   4.40332687e-01   4.08460343e-01   1.20843333e+04]\n",
      " [  4.10997589e-01   4.07006950e-01   4.07824150e-01   1.20843333e+04]]\n"
     ]
    }
   ],
   "source": [
    "mvp_df=df[[\"Status\",\"Claim_Value\",\"Report_Delay\"]].dropna()\n",
    "\n",
    "X = np.array(mvp_df[[\"Claim_Value\",\"Report_Delay\"]])\n",
    "Y = np.array(mvp_df.Status)\n",
    "\n",
    "model = RandomForestClassifier(n_estimators = 500)\n",
    "\n",
    "accuracies = []\n",
    "scores = []\n",
    "\n",
    "for train_ind, test_ind in KFold(4,shuffle=True,random_state=1).split(X,Y):\n",
    "    model.fit(X[train_ind],Y[train_ind])\n",
    "    pred = model.predict(X[test_ind])\n",
    "    \n",
    "    acc = skm.accuracy_score(Y[test_ind],pred)\n",
    "    print(acc)\n",
    "    accuracies.append(acc)\n",
    "    \n",
    "    print(skm.classification_report(Y[test_ind],pred))\n",
    "    score = skm.precision_recall_fscore_support(Y[test_ind],pred)\n",
    "    scores.append(score)\n",
    "\n",
    "print (np.average(accuracies))\n",
    "print (np.average(scores,axis=2))\n"
   ]
  }
 ],
 "metadata": {
  "kernelspec": {
   "display_name": "Python 3",
   "language": "python",
   "name": "python3"
  },
  "language_info": {
   "codemirror_mode": {
    "name": "ipython",
    "version": 3
   },
   "file_extension": ".py",
   "mimetype": "text/x-python",
   "name": "python",
   "nbconvert_exporter": "python",
   "pygments_lexer": "ipython3",
   "version": "3.6.4"
  },
  "varInspector": {
   "cols": {
    "lenName": 16,
    "lenType": 16,
    "lenVar": 40
   },
   "kernels_config": {
    "python": {
     "delete_cmd_postfix": "",
     "delete_cmd_prefix": "del ",
     "library": "var_list.py",
     "varRefreshCmd": "print(var_dic_list())"
    },
    "r": {
     "delete_cmd_postfix": ") ",
     "delete_cmd_prefix": "rm(",
     "library": "var_list.r",
     "varRefreshCmd": "cat(var_dic_list()) "
    }
   },
   "types_to_exclude": [
    "module",
    "function",
    "builtin_function_or_method",
    "instance",
    "_Feature"
   ],
   "window_display": false
  }
 },
 "nbformat": 4,
 "nbformat_minor": 2
}
