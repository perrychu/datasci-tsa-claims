{
 "cells": [
  {
   "cell_type": "markdown",
   "metadata": {
    "ExecuteTime": {
     "end_time": "2018-02-20T22:25:18.110387Z",
     "start_time": "2018-02-20T22:25:18.055814Z"
    }
   },
   "source": [
    "## Import Packages"
   ]
  },
  {
   "cell_type": "code",
   "execution_count": 3,
   "metadata": {
    "ExecuteTime": {
     "end_time": "2018-02-20T22:29:22.156856Z",
     "start_time": "2018-02-20T22:29:21.560585Z"
    }
   },
   "outputs": [],
   "source": [
    "import numpy as np\n",
    "import pandas as pd\n",
    "import matplotlib.pyplot as plt\n",
    "import seaborn as sns\n",
    "import re\n",
    "\n"
   ]
  },
  {
   "cell_type": "markdown",
   "metadata": {},
   "source": [
    "## Import Data / Check Nulls"
   ]
  },
  {
   "cell_type": "markdown",
   "metadata": {
    "heading_collapsed": true
   },
   "source": [
    "### Load CSV"
   ]
  },
  {
   "cell_type": "code",
   "execution_count": 4,
   "metadata": {
    "ExecuteTime": {
     "end_time": "2018-02-20T22:29:22.740913Z",
     "start_time": "2018-02-20T22:29:22.158493Z"
    },
    "hidden": true
   },
   "outputs": [
    {
     "name": "stdout",
     "output_type": "stream",
     "text": [
      "204267\n"
     ]
    },
    {
     "name": "stderr",
     "output_type": "stream",
     "text": [
      "/home/perry/anaconda3/lib/python3.6/site-packages/IPython/core/interactiveshell.py:2728: DtypeWarning: Columns (0,11,12) have mixed types. Specify dtype option on import or set low_memory=False.\n",
      "  interactivity=interactivity, compiler=compiler, result=result)\n"
     ]
    }
   ],
   "source": [
    "#Read Kaggle file\n",
    "df = pd.read_csv(\"tsa_claims.csv\")\n",
    "\n",
    "#Format columns nicely for dataframe index\n",
    "df.columns = [s.strip().replace(\" \",\"_\") for s in df.columns]\n",
    "\n",
    "#Rename date columns\n",
    "df[\"Date_Received_String\"] = df.Date_Received\n",
    "df[\"Incident_Date_String\"] = df.Incident_Date\n",
    "df.drop([\"Date_Received\",\"Incident_Date\"], axis=1, inplace=True)\n",
    "\n",
    "print(len(df))"
   ]
  },
  {
   "cell_type": "markdown",
   "metadata": {
    "heading_collapsed": true
   },
   "source": [
    "### Check Nulls"
   ]
  },
  {
   "cell_type": "code",
   "execution_count": 5,
   "metadata": {
    "ExecuteTime": {
     "end_time": "2018-02-20T22:29:22.924902Z",
     "start_time": "2018-02-20T22:29:22.742578Z"
    },
    "hidden": true
   },
   "outputs": [
    {
     "name": "stdout",
     "output_type": "stream",
     "text": [
      "      Rows   Cum. Rows\n",
      " 0:   94848  204267\n",
      " 1:   32404  109419\n",
      " 2:   66106   77015\n",
      " 3:    4582   10909\n",
      " 4:    1970    6327\n",
      " 5:    2253    4357\n",
      " 6:     977    2104\n",
      " 7:     321    1127\n",
      " 8:     634     806\n",
      " 9:      42     172\n",
      "10:     106     130\n",
      "11:      19      24\n",
      "12:       5       5\n"
     ]
    }
   ],
   "source": [
    "# Check distribution of nulls per row\n",
    "temp = df.isnull().sum(axis=1).value_counts().sort_index()\n",
    "print (\"      Rows   Cum. Rows\")\n",
    "for i in range(len(temp)):\n",
    "    print (\"{:2d}: {:7d} {:7d}\".format(temp.index[i], temp[i], temp[i:].sum()))"
   ]
  },
  {
   "cell_type": "code",
   "execution_count": 6,
   "metadata": {
    "ExecuteTime": {
     "end_time": "2018-02-20T22:29:23.098768Z",
     "start_time": "2018-02-20T22:29:22.926656Z"
    },
    "hidden": true,
    "scrolled": true
   },
   "outputs": [
    {
     "data": {
      "text/plain": [
       "Disposition             72908\n",
       "Close_Amount            68952\n",
       "Airline_Name            34374\n",
       "Airport_Name             8524\n",
       "Airport_Code             8524\n",
       "Claim_Type               7913\n",
       "Claim_Amount             4043\n",
       "Item                     3966\n",
       "Incident_Date_String     2183\n",
       "Claim_Site                740\n",
       "Date_Received_String      263\n",
       "Status                      5\n",
       "Claim_Number                0\n",
       "dtype: int64"
      ]
     },
     "execution_count": 6,
     "metadata": {},
     "output_type": "execute_result"
    }
   ],
   "source": [
    "# Check distribution of nulls per column\n",
    "df.isnull().sum().sort_values(ascending=False)"
   ]
  },
  {
   "cell_type": "code",
   "execution_count": 7,
   "metadata": {
    "ExecuteTime": {
     "end_time": "2018-02-20T22:29:23.442641Z",
     "start_time": "2018-02-20T22:29:23.100448Z"
    },
    "hidden": true
   },
   "outputs": [
    {
     "name": "stdout",
     "output_type": "stream",
     "text": [
      "203461\n"
     ]
    }
   ],
   "source": [
    "#Drop rows with too many nulls\n",
    "df.dropna(thresh=6, inplace=True)\n",
    "\n",
    "#Fill NA for categorical columns\n",
    "fill_columns = [\"Airline_Name\",\"Airport_Name\",\"Airport_Code\",\"Claim_Type\",\"Claim_Site\",\"Item\"]\n",
    "df[fill_columns] = df[fill_columns].fillna(\"-\")\n",
    "\n",
    "#Set NA Claim Amount to 0. Currently dropping zero values later\n",
    "df[\"Claim_Amount\"] = df.Claim_Amount.fillna(\"$0.00\")\n",
    "\n",
    "print(len(df))\n",
    "\n",
    "#Note: Need to think about how to deal with NA for other columns (or just drop)\n",
    "#  Disposition / Close amount -> OK, missing data but these are more like dependent vars\n",
    "\n",
    "#Dropping these nulls later on\n",
    "#  Incident Date / Date Received\n",
    "#  Status"
   ]
  },
  {
   "cell_type": "markdown",
   "metadata": {},
   "source": [
    "## Dependent Variables"
   ]
  },
  {
   "cell_type": "markdown",
   "metadata": {
    "heading_collapsed": true
   },
   "source": [
    "### Final Status"
   ]
  },
  {
   "cell_type": "code",
   "execution_count": 8,
   "metadata": {
    "ExecuteTime": {
     "end_time": "2018-02-20T22:29:23.771537Z",
     "start_time": "2018-02-20T22:29:23.444270Z"
    },
    "hidden": true,
    "scrolled": false
   },
   "outputs": [
    {
     "data": {
      "text/plain": [
       "Denied                                               68336\n",
       "Approved                                             34997\n",
       "Deny                                                 28237\n",
       "Settled                                              27955\n",
       "-                                                    12752\n",
       "Approve in Full                                      12364\n",
       "Canceled                                              6651\n",
       "Settle                                                5766\n",
       "Insufficient                                          4972\n",
       "Closed as a contractor claim                          1312\n",
       "In litigation                                          108\n",
       "In review                                                9\n",
       "Claim has been assigned for further investigation        1\n",
       "Pending response from claimant                           1\n",
       "Name: Status, dtype: int64"
      ]
     },
     "execution_count": 8,
     "metadata": {},
     "output_type": "execute_result"
    }
   ],
   "source": [
    "df.Status.str.split(\";\").map(lambda x: \"Null\" if type(x)==float else x[0]).value_counts()"
   ]
  },
  {
   "cell_type": "code",
   "execution_count": 9,
   "metadata": {
    "ExecuteTime": {
     "end_time": "2018-02-20T22:29:23.897044Z",
     "start_time": "2018-02-20T22:29:23.773106Z"
    },
    "hidden": true,
    "scrolled": true
   },
   "outputs": [
    {
     "name": "stdout",
     "output_type": "stream",
     "text": [
      "Denied      96573\n",
      "Approved    47361\n",
      "Settled     33721\n",
      "Name: Status, dtype: int64\n",
      "177655\n"
     ]
    }
   ],
   "source": [
    "valid_targets = ['Denied','Approved','Deny','Settled','Approve in Full', 'Settle']\n",
    "\n",
    "df = df[df.Status.isin(valid_targets)]\n",
    "df.Status.replace(\"Approve in Full\",\"Approved\",inplace=True)\n",
    "df.Status.replace(\"Deny\",\"Denied\",inplace=True)\n",
    "df.Status.replace(\"Settle\",\"Settled\",inplace=True)\n",
    "\n",
    "print(df.Status.value_counts())\n",
    "print(len(df))"
   ]
  },
  {
   "cell_type": "markdown",
   "metadata": {
    "heading_collapsed": true
   },
   "source": [
    "### Disposition"
   ]
  },
  {
   "cell_type": "code",
   "execution_count": 10,
   "metadata": {
    "ExecuteTime": {
     "end_time": "2018-02-20T22:29:23.979753Z",
     "start_time": "2018-02-20T22:29:23.898634Z"
    },
    "hidden": true
   },
   "outputs": [
    {
     "data": {
      "text/html": [
       "<div>\n",
       "<style scoped>\n",
       "    .dataframe tbody tr th:only-of-type {\n",
       "        vertical-align: middle;\n",
       "    }\n",
       "\n",
       "    .dataframe tbody tr th {\n",
       "        vertical-align: top;\n",
       "    }\n",
       "\n",
       "    .dataframe thead th {\n",
       "        text-align: right;\n",
       "    }\n",
       "</style>\n",
       "<table border=\"1\" class=\"dataframe\">\n",
       "  <thead>\n",
       "    <tr style=\"text-align: right;\">\n",
       "      <th></th>\n",
       "      <th></th>\n",
       "      <th>Claim_Number</th>\n",
       "    </tr>\n",
       "    <tr>\n",
       "      <th>Status</th>\n",
       "      <th>Disposition</th>\n",
       "      <th></th>\n",
       "    </tr>\n",
       "  </thead>\n",
       "  <tbody>\n",
       "    <tr>\n",
       "      <th rowspan=\"2\" valign=\"top\">Approved</th>\n",
       "      <th>Approve in Full</th>\n",
       "      <td>34997</td>\n",
       "    </tr>\n",
       "    <tr>\n",
       "      <th>NA</th>\n",
       "      <td>12364</td>\n",
       "    </tr>\n",
       "    <tr>\n",
       "      <th rowspan=\"2\" valign=\"top\">Denied</th>\n",
       "      <th>Deny</th>\n",
       "      <td>68296</td>\n",
       "    </tr>\n",
       "    <tr>\n",
       "      <th>NA</th>\n",
       "      <td>28277</td>\n",
       "    </tr>\n",
       "    <tr>\n",
       "      <th rowspan=\"2\" valign=\"top\">Settled</th>\n",
       "      <th>NA</th>\n",
       "      <td>5766</td>\n",
       "    </tr>\n",
       "    <tr>\n",
       "      <th>Settle</th>\n",
       "      <td>27955</td>\n",
       "    </tr>\n",
       "  </tbody>\n",
       "</table>\n",
       "</div>"
      ],
      "text/plain": [
       "                          Claim_Number\n",
       "Status   Disposition                  \n",
       "Approved Approve in Full         34997\n",
       "         NA                      12364\n",
       "Denied   Deny                    68296\n",
       "         NA                      28277\n",
       "Settled  NA                       5766\n",
       "         Settle                  27955"
      ]
     },
     "execution_count": 10,
     "metadata": {},
     "output_type": "execute_result"
    }
   ],
   "source": [
    "df[[\"Status\",\"Disposition\",\"Claim_Number\"]].fillna(\"NA\").groupby([\"Status\",\"Disposition\"]).count()"
   ]
  },
  {
   "cell_type": "markdown",
   "metadata": {},
   "source": [
    "## Independent Vars"
   ]
  },
  {
   "cell_type": "markdown",
   "metadata": {
    "ExecuteTime": {
     "end_time": "2018-02-13T06:07:34.012135Z",
     "start_time": "2018-02-13T06:07:33.992601Z"
    },
    "heading_collapsed": true
   },
   "source": [
    "### Date Received"
   ]
  },
  {
   "cell_type": "code",
   "execution_count": 11,
   "metadata": {
    "ExecuteTime": {
     "end_time": "2018-02-20T22:29:24.568435Z",
     "start_time": "2018-02-20T22:29:23.981467Z"
    },
    "hidden": true
   },
   "outputs": [
    {
     "name": "stdout",
     "output_type": "stream",
     "text": [
      "2002      782\n",
      "2003    19367\n",
      "2004    26621\n",
      "2005    22494\n",
      "2006    17662\n",
      "2007    17383\n",
      "2008    15253\n",
      "2009    11598\n",
      "2010     9729\n",
      "2011     9795\n",
      "2012     8891\n",
      "2013     6233\n",
      "2014     5118\n",
      "Name: Date_Received, dtype: int64\n",
      "170926\n"
     ]
    }
   ],
   "source": [
    "#Drop nulls\n",
    "df.dropna(subset=[\"Date_Received_String\"], inplace=True)\n",
    "\n",
    "#Format datetime\n",
    "df[\"Date_Received\"] = pd.to_datetime(df.Date_Received_String,format=\"%d-%b-%y\")\n",
    "\n",
    "#Check year range, create year and month columns\n",
    "df = df[df.Date_Received.dt.year.isin(range(2002,2014+1))]\n",
    "\n",
    "print(df.Date_Received.dt.year.value_counts().sort_index())\n",
    "print(len(df))\n",
    "\n",
    "#Debug\n",
    "#temp = df.Date_Received.str.split(\"-\").map(lambda x: x[-1])\n",
    "#df[temp.map(lambda x: type(x) == float)].sort_values([\"Date_Received\"])"
   ]
  },
  {
   "cell_type": "markdown",
   "metadata": {
    "heading_collapsed": true
   },
   "source": [
    "### Incident Date"
   ]
  },
  {
   "cell_type": "code",
   "execution_count": 12,
   "metadata": {
    "ExecuteTime": {
     "end_time": "2018-02-20T22:29:24.581333Z",
     "start_time": "2018-02-20T22:29:24.570087Z"
    },
    "hidden": true
   },
   "outputs": [],
   "source": [
    "month_dict = {\"jan\":1,\"feb\":2,\"mar\":3,\"apr\":4,\"may\":5,\"jun\":6,\"jul\":7,\"aug\":8,\"sep\":9,\"oct\":10,\"nov\":11,\"dec\":12}\n",
    "\n",
    "def format_dates(regex, date_string):\n",
    "    '''\n",
    "    Formats the date string from 2014 entries to be consistent with the rest of the doc \n",
    "    Inputs: \n",
    "        regex - compiled re with three groups corresponding to {day}/{month (abbrev.)}/{Year}\n",
    "        date_string - string to be formatted matching the regex\n",
    "    Outputs: \n",
    "        If regex match, return formatted string of form {Month}/{Day}/{Year}; else return original string\n",
    "    '''\n",
    "    m = regex.match(date_string)\n",
    "    if(m):\n",
    "        day, month, year = m.group(1,2,3)\n",
    "        return \"{}/{}/{}\".format(month_dict[month],day,\"20\"+year)\n",
    "    else:\n",
    "        return date_string\n",
    "        "
   ]
  },
  {
   "cell_type": "code",
   "execution_count": 13,
   "metadata": {
    "ExecuteTime": {
     "end_time": "2018-02-20T22:29:26.179761Z",
     "start_time": "2018-02-20T22:29:24.582702Z"
    },
    "hidden": true
   },
   "outputs": [
    {
     "name": "stdout",
     "output_type": "stream",
     "text": [
      "2002     1631\n",
      "2003    21859\n",
      "2004    26166\n",
      "2005    21209\n",
      "2006    17436\n",
      "2007    17076\n",
      "2008    14776\n",
      "2009    10080\n",
      "2010    10879\n",
      "2011     9848\n",
      "2012     8755\n",
      "2013     5999\n",
      "2014     4293\n",
      "Name: Incident_Date, dtype: int64\n",
      "170007\n"
     ]
    }
   ],
   "source": [
    "#Drop nulls\n",
    "df.dropna(subset=[\"Incident_Date_String\"], inplace=True)\n",
    "\n",
    "#Error correction for one value in Kaggle data set (looked up in original TSA data)\n",
    "df.Incident_Date_String.replace(\"6/30/10\",\"06/30/2010 16:30\",inplace=True)\n",
    "\n",
    "#String formatting for consistency\n",
    "df[\"Incident_Date_String\"] = df.Incident_Date_String.str.replace(\"-\",\"/\")\n",
    "df[\"Incident_Date_String\"] = df.Incident_Date_String.str.lower()\n",
    "\n",
    "#Splitting up time (if exists otherwise will be date) and date components\n",
    "df[\"Incident_Time\"] = df.Incident_Date_String.str.split(\" \").map(lambda x: x[-1])\n",
    "df[\"Incident_Date\"] = df.Incident_Date_String.str.split(\" \").map(lambda x: x[0])\n",
    "\n",
    "#Could not find a reasonable translation for these entries... most look like \"02##\"\n",
    "regex = re.compile(r\"/[a-z]{3}/[0-9]{4}\")\n",
    "df = df[df.Incident_Date.map(lambda x: not bool(regex.search(x)))].sort_values([\"Date_Received\"])\n",
    "\n",
    "#These are entries received in 2014. Formatting is different from other years but internally consistent.\n",
    "regex = re.compile(r\"(\\d*)/([a-z]{3})/(1[1-4])$\")\n",
    "df[\"Incident_Date\"] = df.Incident_Date.map(lambda x: format_dates(regex,x) )\n",
    "#df[df.Incident_Date.map(lambda x: bool(regex.search(x)))].sort_values([\"Date_Received\"])\n",
    "\n",
    "#Format datetime, check year range, create year and month\n",
    "df[\"Incident_Date\"] = pd.to_datetime(df.Incident_Date,format=\"%m/%d/%Y\")\n",
    "df = df[df.Incident_Date.dt.year.isin(range(2002,2014+1))]\n",
    "\n",
    "print(df.Incident_Date.dt.year.value_counts().sort_index())\n",
    "print(len(df))"
   ]
  },
  {
   "cell_type": "code",
   "execution_count": 14,
   "metadata": {
    "ExecuteTime": {
     "end_time": "2018-02-20T22:29:29.027692Z",
     "start_time": "2018-02-20T22:29:26.181397Z"
    },
    "hidden": true
   },
   "outputs": [
    {
     "name": "stdout",
     "output_type": "stream",
     "text": [
      "      Incident_Date  Date_Received\n",
      "2002              2             17\n",
      "2003             92            110\n",
      "2004            401            428\n",
      "2005            298            279\n",
      "2006            132            121\n",
      "2007            136            127\n",
      "2008            136            128\n",
      "2009             73             68\n",
      "2010             69             64\n",
      "2011             50             47 \n",
      "\n",
      "Denied      750\n",
      "Approved    351\n",
      "Settled     288\n",
      "Name: Status, dtype: int64 \n",
      "\n",
      "11 days    4823\n",
      "10 days    4791\n",
      "12 days    4506\n",
      "9 days     4448\n",
      "8 days     4334\n",
      "15 days    4299\n",
      "13 days    4252\n",
      "14 days    4152\n",
      "16 days    4112\n",
      "17 days    3975\n",
      "dtype: int64\n"
     ]
    }
   ],
   "source": [
    "#Checking cases where Date Received is before Incident date\n",
    "id_year = (df[df.Date_Received < df.Incident_Date].Incident_Date.dt.year.value_counts().sort_index())\n",
    "dr_year = (df[df.Date_Received < df.Incident_Date].Date_Received.dt.year.value_counts().sort_index())\n",
    "\n",
    "print(pd.concat([id_year,dr_year],axis=1),\"\\n\")\n",
    "\n",
    "print(df[df.Date_Received < df.Incident_Date].Status.value_counts(),\"\\n\")\n",
    "\n",
    "print((df.Date_Received - df.Incident_Date).value_counts().head(10))"
   ]
  },
  {
   "cell_type": "markdown",
   "metadata": {},
   "source": [
    "### Airport Code / Name"
   ]
  },
  {
   "cell_type": "code",
   "execution_count": 15,
   "metadata": {
    "ExecuteTime": {
     "end_time": "2018-02-20T22:29:29.169922Z",
     "start_time": "2018-02-20T22:29:29.029828Z"
    }
   },
   "outputs": [
    {
     "name": "stdout",
     "output_type": "stream",
     "text": [
      "0 0 0 170007\n"
     ]
    }
   ],
   "source": [
    "#Look for Mismatched name / code nulls\n",
    "print(len(df[(df.Airport_Name==\"NA\") & (df.Airport_Code==\"NA\")]),\n",
    "    len(df[(df.Airport_Name!=\"NA\") & (df.Airport_Code==\"NA\")]),\n",
    "    len(df[(df.Airport_Name==\"NA\") & (df.Airport_Code!=\"NA\")]),\n",
    "    len(df[(df.Airport_Name!=\"NA\") & (df.Airport_Code!=\"NA\")]))"
   ]
  },
  {
   "cell_type": "code",
   "execution_count": 16,
   "metadata": {
    "ExecuteTime": {
     "end_time": "2018-02-20T22:29:29.476618Z",
     "start_time": "2018-02-20T22:29:29.171653Z"
    }
   },
   "outputs": [
    {
     "name": "stdout",
     "output_type": "stream",
     "text": [
      "Series([], Name: Airport_Name, dtype: float64)\n"
     ]
    }
   ],
   "source": [
    "#Duplicates are from excess spaces\n",
    "df[\"Airport_Code\"] = df.Airport_Code.str.strip()\n",
    "df[\"Airport_Name\"] = df.Airport_Name.str.strip()\n",
    "\n",
    "#Check multiple Airport Names assigned to one Airport Code\n",
    "temp = df.groupby(\"Airport_Code\").Airport_Name.nunique().sort_values(ascending=False)\n",
    "print(df[df.Airport_Code.isin(temp[temp>1].index)].groupby(\"Airport_Code\").Airport_Name.unique())\n"
   ]
  },
  {
   "cell_type": "code",
   "execution_count": 17,
   "metadata": {
    "ExecuteTime": {
     "end_time": "2018-02-20T22:33:03.464196Z",
     "start_time": "2018-02-20T22:29:29.478256Z"
    },
    "scrolled": false
   },
   "outputs": [
    {
     "name": "stdout",
     "output_type": "stream",
     "text": [
      "Total: 450 airports, 170007 complaints\n",
      "Under 1000: 407 airports, 42960 complaints\n",
      "Under 900: 402 airports, 38199 complaints\n",
      "Under 800: 397 airports, 34015 complaints\n",
      "Under 700: 392 airports, 30339 complaints\n",
      "Under 600: 384 airports, 25052 complaints\n",
      "Under 500: 378 airports, 21592 complaints\n",
      "Under 400: 372 airports, 18959 complaints\n",
      "Under 300: 365 airports, 16513 complaints\n",
      "Under 200: 348 airports, 12258 complaints\n",
      "Under 100: 307 airports, 6642 complaints\n"
     ]
    },
    {
     "data": {
      "text/html": [
       "<div>\n",
       "<style scoped>\n",
       "    .dataframe tbody tr th:only-of-type {\n",
       "        vertical-align: middle;\n",
       "    }\n",
       "\n",
       "    .dataframe tbody tr th {\n",
       "        vertical-align: top;\n",
       "    }\n",
       "\n",
       "    .dataframe thead th {\n",
       "        text-align: right;\n",
       "    }\n",
       "</style>\n",
       "<table border=\"1\" class=\"dataframe\">\n",
       "  <thead>\n",
       "    <tr style=\"text-align: right;\">\n",
       "      <th></th>\n",
       "      <th>Claim_Number</th>\n",
       "      <th>Airport_Code</th>\n",
       "      <th>Airport_Name</th>\n",
       "      <th>Airline_Name</th>\n",
       "      <th>Claim_Type</th>\n",
       "      <th>Claim_Site</th>\n",
       "      <th>Item</th>\n",
       "      <th>Claim_Amount</th>\n",
       "      <th>Status</th>\n",
       "      <th>Close_Amount</th>\n",
       "      <th>Disposition</th>\n",
       "      <th>Date_Received_String</th>\n",
       "      <th>Incident_Date_String</th>\n",
       "      <th>Date_Received</th>\n",
       "      <th>Incident_Time</th>\n",
       "      <th>Incident_Date</th>\n",
       "      <th>Airport_Code_Group</th>\n",
       "      <th>Airport_Name_Group</th>\n",
       "    </tr>\n",
       "  </thead>\n",
       "  <tbody>\n",
       "    <tr>\n",
       "      <th>0</th>\n",
       "      <td>0909802M</td>\n",
       "      <td>EWR</td>\n",
       "      <td>Newark International Airport</td>\n",
       "      <td>Continental Airlines</td>\n",
       "      <td>Property Damage</td>\n",
       "      <td>Checkpoint</td>\n",
       "      <td>Other</td>\n",
       "      <td>$350.00</td>\n",
       "      <td>Approved</td>\n",
       "      <td>$350.00</td>\n",
       "      <td>Approve in Full</td>\n",
       "      <td>4-Jan-02</td>\n",
       "      <td>12/12/2002 0:00</td>\n",
       "      <td>2002-01-04</td>\n",
       "      <td>0:00</td>\n",
       "      <td>2002-12-12</td>\n",
       "      <td>EWR</td>\n",
       "      <td>Newark International Airport</td>\n",
       "    </tr>\n",
       "    <tr>\n",
       "      <th>1</th>\n",
       "      <td>0202417M</td>\n",
       "      <td>SEA</td>\n",
       "      <td>Seattle-Tacoma International</td>\n",
       "      <td>-</td>\n",
       "      <td>Property Damage</td>\n",
       "      <td>Checked Baggage</td>\n",
       "      <td>Luggage (all types including footlockers)</td>\n",
       "      <td>$100.00</td>\n",
       "      <td>Settled</td>\n",
       "      <td>$50.00</td>\n",
       "      <td>Settle</td>\n",
       "      <td>2-Feb-02</td>\n",
       "      <td>1/16/2004 0:00</td>\n",
       "      <td>2002-02-02</td>\n",
       "      <td>0:00</td>\n",
       "      <td>2004-01-16</td>\n",
       "      <td>SEA</td>\n",
       "      <td>Seattle-Tacoma International</td>\n",
       "    </tr>\n",
       "    <tr>\n",
       "      <th>2</th>\n",
       "      <td>0202445M</td>\n",
       "      <td>STL</td>\n",
       "      <td>Lambert St. Louis International</td>\n",
       "      <td>American Airlines</td>\n",
       "      <td>Property Damage</td>\n",
       "      <td>Checked Baggage</td>\n",
       "      <td>Cell Phones</td>\n",
       "      <td>$278.88</td>\n",
       "      <td>Settled</td>\n",
       "      <td>$227.92</td>\n",
       "      <td>Settle</td>\n",
       "      <td>4-Feb-02</td>\n",
       "      <td>11/26/2003 0:00</td>\n",
       "      <td>2002-02-04</td>\n",
       "      <td>0:00</td>\n",
       "      <td>2003-11-26</td>\n",
       "      <td>STL</td>\n",
       "      <td>Lambert St. Louis International</td>\n",
       "    </tr>\n",
       "    <tr>\n",
       "      <th>3</th>\n",
       "      <td>0909816M</td>\n",
       "      <td>MIA</td>\n",
       "      <td>Miami International Airport</td>\n",
       "      <td>American Airlines</td>\n",
       "      <td>Property Damage</td>\n",
       "      <td>Checkpoint</td>\n",
       "      <td>Luggage (all types including footlockers)</td>\n",
       "      <td>$50.00</td>\n",
       "      <td>Approved</td>\n",
       "      <td>$50.00</td>\n",
       "      <td>Approve in Full</td>\n",
       "      <td>7-Feb-02</td>\n",
       "      <td>1/6/2003 0:00</td>\n",
       "      <td>2002-02-07</td>\n",
       "      <td>0:00</td>\n",
       "      <td>2003-01-06</td>\n",
       "      <td>MIA</td>\n",
       "      <td>Miami International Airport</td>\n",
       "    </tr>\n",
       "    <tr>\n",
       "      <th>4</th>\n",
       "      <td>2005032379513</td>\n",
       "      <td>MCO</td>\n",
       "      <td>Orlando International Airport</td>\n",
       "      <td>Delta (Song)</td>\n",
       "      <td>Property Damage</td>\n",
       "      <td>Checkpoint</td>\n",
       "      <td>Baby - Strollers; car seats; playpen; etc.</td>\n",
       "      <td>$84.79</td>\n",
       "      <td>Approved</td>\n",
       "      <td>$84.79</td>\n",
       "      <td>Approve in Full</td>\n",
       "      <td>18-Feb-02</td>\n",
       "      <td>2/5/2005 0:00</td>\n",
       "      <td>2002-02-18</td>\n",
       "      <td>0:00</td>\n",
       "      <td>2005-02-05</td>\n",
       "      <td>MCO</td>\n",
       "      <td>Orlando International Airport</td>\n",
       "    </tr>\n",
       "  </tbody>\n",
       "</table>\n",
       "</div>"
      ],
      "text/plain": [
       "    Claim_Number Airport_Code                     Airport_Name  \\\n",
       "0       0909802M          EWR     Newark International Airport   \n",
       "1       0202417M          SEA     Seattle-Tacoma International   \n",
       "2       0202445M          STL  Lambert St. Louis International   \n",
       "3       0909816M          MIA      Miami International Airport   \n",
       "4  2005032379513          MCO    Orlando International Airport   \n",
       "\n",
       "           Airline_Name       Claim_Type       Claim_Site  \\\n",
       "0  Continental Airlines  Property Damage       Checkpoint   \n",
       "1                     -  Property Damage  Checked Baggage   \n",
       "2     American Airlines  Property Damage  Checked Baggage   \n",
       "3     American Airlines  Property Damage       Checkpoint   \n",
       "4          Delta (Song)  Property Damage       Checkpoint   \n",
       "\n",
       "                                         Item Claim_Amount    Status  \\\n",
       "0                                       Other     $350.00   Approved   \n",
       "1   Luggage (all types including footlockers)     $100.00    Settled   \n",
       "2                                 Cell Phones     $278.88    Settled   \n",
       "3   Luggage (all types including footlockers)      $50.00   Approved   \n",
       "4  Baby - Strollers; car seats; playpen; etc.      $84.79   Approved   \n",
       "\n",
       "  Close_Amount      Disposition Date_Received_String Incident_Date_String  \\\n",
       "0     $350.00   Approve in Full             4-Jan-02      12/12/2002 0:00   \n",
       "1      $50.00            Settle             2-Feb-02       1/16/2004 0:00   \n",
       "2     $227.92            Settle             4-Feb-02      11/26/2003 0:00   \n",
       "3      $50.00   Approve in Full             7-Feb-02        1/6/2003 0:00   \n",
       "4      $84.79   Approve in Full            18-Feb-02        2/5/2005 0:00   \n",
       "\n",
       "  Date_Received Incident_Time Incident_Date Airport_Code_Group  \\\n",
       "0    2002-01-04          0:00    2002-12-12                EWR   \n",
       "1    2002-02-02          0:00    2004-01-16                SEA   \n",
       "2    2002-02-04          0:00    2003-11-26                STL   \n",
       "3    2002-02-07          0:00    2003-01-06                MIA   \n",
       "4    2002-02-18          0:00    2005-02-05                MCO   \n",
       "\n",
       "                Airport_Name_Group  \n",
       "0     Newark International Airport  \n",
       "1     Seattle-Tacoma International  \n",
       "2  Lambert St. Louis International  \n",
       "3      Miami International Airport  \n",
       "4    Orlando International Airport  "
      ]
     },
     "execution_count": 17,
     "metadata": {},
     "output_type": "execute_result"
    },
    {
     "data": {
      "image/png": "[encoded data removed]",
      "text/plain": [
       "<matplotlib.figure.Figure at 0x7fa5f714e278>"
      ]
     },
     "metadata": {},
     "output_type": "display_data"
    }
   ],
   "source": [
    "#Look at tail distribution of claims by airport\n",
    "temp = df.Airport_Code.value_counts()\n",
    "print(\"Total: {} airports, {} complaints\".format(temp.count(),temp.sum()))\n",
    "for num in range(1000,1,-100):\n",
    "    print(\"Under {}: {} airports, {} complaints\".format(num, temp[temp<num].count(),temp[temp<num].sum()))\n",
    "\n",
    "#This does the same thing since Codes and Names match 1:1    \n",
    "#temp = df.Airport_Name.value_counts()\n",
    "#print(\"Total: {} airports, {} complaints\".format(temp.count(),temp.sum()))\n",
    "#for num in range(1000,1,-100):\n",
    "#    print(\"Under {}: {} airports, {} complaints\".format(num, temp[temp<num].count(),temp[temp<num].sum()))    \n",
    "  \n",
    "#plot distribution below level\n",
    "level = 200\n",
    "temp[temp<level].count(), temp[temp<level].sum()\n",
    "temp[temp<level].plot.bar()\n",
    "\n",
    "#Set airport and code to \"Other\" under level\n",
    "def set_other(row, keep_items):\n",
    "    if row.Airport_Code in keep_items:\n",
    "        row[\"Airport_Code_Group\"] = row.Airport_Code\n",
    "        row[\"Airport_Name_Group\"] = row.Airport_Name\n",
    "    else:\n",
    "        row[\"Airport_Code_Group\"] = 'Other'\n",
    "        row[\"Airport_Name_Group\"] = 'Other'\n",
    "    return row\n",
    "\n",
    "keep_set = set(temp[temp>=level].index)\n",
    "df = df.apply(lambda x: set_other(x,keep_set),axis=1)\n",
    "\n",
    "df.head(5)"
   ]
  },
  {
   "cell_type": "code",
   "execution_count": 18,
   "metadata": {
    "ExecuteTime": {
     "end_time": "2018-02-20T22:33:03.507049Z",
     "start_time": "2018-02-20T22:33:03.465823Z"
    }
   },
   "outputs": [
    {
     "name": "stdout",
     "output_type": "stream",
     "text": [
      "Total: 103 airports, 170007 complaints\n",
      "Under 1000: 59 airports, 30702 complaints\n",
      "Under 900: 54 airports, 25941 complaints\n",
      "Under 800: 49 airports, 21757 complaints\n",
      "Under 700: 44 airports, 18081 complaints\n",
      "Under 600: 36 airports, 12794 complaints\n",
      "Under 500: 30 airports, 9334 complaints\n",
      "Under 400: 24 airports, 6701 complaints\n",
      "Under 300: 17 airports, 4255 complaints\n",
      "Under 200: 0 airports, 0 complaints\n",
      "Under 100: 0 airports, 0 complaints\n"
     ]
    }
   ],
   "source": [
    "#Look at tail distribution of claims by airport\n",
    "temp = df.Airport_Code_Group.value_counts()\n",
    "print(\"Total: {} airports, {} complaints\".format(temp.count(),temp.sum()))\n",
    "for num in range(1000,1,-100):\n",
    "    print(\"Under {}: {} airports, {} complaints\".format(num, temp[temp<num].count(),temp[temp<num].sum()))"
   ]
  },
  {
   "cell_type": "markdown",
   "metadata": {
    "heading_collapsed": true
   },
   "source": [
    "### Airline Name"
   ]
  },
  {
   "cell_type": "code",
   "execution_count": 19,
   "metadata": {
    "ExecuteTime": {
     "end_time": "2018-02-20T22:33:03.698889Z",
     "start_time": "2018-02-20T22:33:03.508479Z"
    },
    "hidden": true
   },
   "outputs": [
    {
     "name": "stdout",
     "output_type": "stream",
     "text": [
      "170007\n"
     ]
    }
   ],
   "source": [
    "df[\"Airline_Name\"] = df.Airline_Name.str.strip().str.replace(\" \",\"\")\n",
    "df.Airline_Name.replace(\"AmericanEagle\",\"AmericanAirlines\",inplace=True)\n",
    "df.Airline_Name.replace(\"AmericanWest\",\"AmericaWest\",inplace=True)\n",
    "df.Airline_Name.replace(\"AirTranAirlines(donotuse)\",\"AirTranAirlines\",inplace=True)\n",
    "df.Airline_Name.replace(\"AeroflotRussianInternational\",\"AeroFlot\",inplace=True)\n",
    "df.Airline_Name.replace(\"ContinentalExpressInc\",\"ContinentalAirlines\",inplace=True)\n",
    "df.Airline_Name.replace(\"Delta(Song)\",\"DeltaAirLines\",inplace=True)\n",
    "df.Airline_Name.replace(\"FrontierAviationInc\",\"FrontierAirlines\",inplace=True)\n",
    "df.Airline_Name.replace(\"NorthwestInternationalAirwaysLtd\",\"NorthwestAirlines\",inplace=True)\n",
    "df.Airline_Name.replace(\"SkywestAirlinesAustralia\",\"SkywestAirlinesIncUSA\",inplace=True)\n",
    "\n",
    "df.Airline_Name.value_counts().head(10)\n",
    "print(len(df))"
   ]
  },
  {
   "cell_type": "markdown",
   "metadata": {
    "heading_collapsed": true
   },
   "source": [
    "### Claim Type"
   ]
  },
  {
   "cell_type": "code",
   "execution_count": 20,
   "metadata": {
    "ExecuteTime": {
     "end_time": "2018-02-20T22:33:03.729523Z",
     "start_time": "2018-02-20T22:33:03.700482Z"
    },
    "hidden": true
   },
   "outputs": [
    {
     "data": {
      "text/plain": [
       "Passenger Property Loss    98472\n",
       "Property Damage            64163\n",
       "-                           5384\n",
       "Personal Injury              884\n",
       "Passenger Theft              429\n",
       "Employee Loss (MPCECA)       427\n",
       "Motor Vehicle                238\n",
       "Complaint                      6\n",
       "Wrongful Death                 3\n",
       "Bus Terminal                   1\n",
       "Name: Claim_Type, dtype: int64"
      ]
     },
     "execution_count": 20,
     "metadata": {},
     "output_type": "execute_result"
    }
   ],
   "source": [
    "df.Claim_Type.value_counts()"
   ]
  },
  {
   "cell_type": "markdown",
   "metadata": {
    "heading_collapsed": true
   },
   "source": [
    "### Claim Site"
   ]
  },
  {
   "cell_type": "code",
   "execution_count": 21,
   "metadata": {
    "ExecuteTime": {
     "end_time": "2018-02-20T22:33:03.759787Z",
     "start_time": "2018-02-20T22:33:03.731038Z"
    },
    "hidden": true
   },
   "outputs": [
    {
     "data": {
      "text/plain": [
       "Checked Baggage    135738\n",
       "Checkpoint          32628\n",
       "Other                1037\n",
       "-                     308\n",
       "Motor Vehicle         286\n",
       "Bus Station            10\n",
       "Name: Claim_Site, dtype: int64"
      ]
     },
     "execution_count": 21,
     "metadata": {},
     "output_type": "execute_result"
    }
   ],
   "source": [
    "df.Claim_Site.value_counts()"
   ]
  },
  {
   "cell_type": "markdown",
   "metadata": {
    "heading_collapsed": true
   },
   "source": [
    "### Item"
   ]
  },
  {
   "cell_type": "code",
   "execution_count": 22,
   "metadata": {
    "ExecuteTime": {
     "end_time": "2018-02-20T22:33:05.960809Z",
     "start_time": "2018-02-20T22:33:03.761229Z"
    },
    "hidden": true
   },
   "outputs": [
    {
     "data": {
      "text/plain": [
       "Other                               32293\n",
       "Clothing                            20003\n",
       "Luggage                             17522\n",
       "Jewelry                             12923\n",
       "Cameras                             12781\n",
       "Computer                            11972\n",
       "Locks                                9724\n",
       "Cosmetics                            5941\n",
       "Baggage/Cases/Purses                 5864\n",
       "                                     5035\n",
       "Eyeglasses                           3817\n",
       "Currency                             3168\n",
       "Travel Accessories                   2884\n",
       "Cell Phones                          2376\n",
       "Personal Electronics                 2127\n",
       "Sporting Equipment                   1700\n",
       "Personal Accessories                 1500\n",
       "DVD/CD Players                       1235\n",
       "MP3 Players                           967\n",
       "Medicines                             941\n",
       "Watches                               864\n",
       "Alcoholic beverages                   772\n",
       "Food                                  711\n",
       "Bags                                  711\n",
       "Musical Instruments                   661\n",
       "Baby                                  624\n",
       "GPS                                   619\n",
       "Toys                                  605\n",
       "Medical/Science                       603\n",
       "Stereo Items                          591\n",
       "Handbags                              560\n",
       "Books                                 547\n",
       "Tools                                 534\n",
       "Home Decor                            467\n",
       "PDA                                   402\n",
       "Household Items                       398\n",
       "Dishes                                373\n",
       "Hunting                               365\n",
       "Barber Supplies                       347\n",
       "Automobile Parts                      341\n",
       "Fish/Game                             306\n",
       "Medical Equipment                     298\n",
       "Audio/Video                           288\n",
       "Audio                                 216\n",
       "Kitchen Utensils                      215\n",
       "Photographic Film                     188\n",
       "Batteries                             159\n",
       "Dental Equipment and Instruments      133\n",
       "Boxes                                 127\n",
       "Paintings and Pictures                125\n",
       "Video Recordings                      122\n",
       "Ceramics                              116\n",
       "Clocks                                113\n",
       "Professional Equipment                101\n",
       "Name: Item, dtype: int64"
      ]
     },
     "execution_count": 22,
     "metadata": {},
     "output_type": "execute_result"
    }
   ],
   "source": [
    "#Isolating broadest item categories\n",
    "#Items column is a text list of all item categories. Sub categories are inconsistent across years.\n",
    "df_item = df.Item.str.split(\"-\").map(lambda x: \"\" if type(x) == float else x[0])\n",
    "df_item = df_item.str.split(r\" \\(\").map(lambda x: x[0])\n",
    "df_item = df_item.str.split(r\" &\").map(lambda x: x[0])\n",
    "df_item = df_item.str.split(r\"; \").map(lambda x: x[0])\n",
    "df_item = df_item.str.strip()\n",
    "\n",
    "categories = df_item.value_counts()\n",
    "\n",
    "#categories[[not bool(re.compile(\";\").search(x)) for x in categories.index]][0:]\n",
    "\n",
    "categories[categories > 100]"
   ]
  },
  {
   "cell_type": "markdown",
   "metadata": {
    "heading_collapsed": true
   },
   "source": [
    "### Claim Amount"
   ]
  },
  {
   "cell_type": "code",
   "execution_count": 23,
   "metadata": {
    "ExecuteTime": {
     "end_time": "2018-02-20T22:33:06.486658Z",
     "start_time": "2018-02-20T22:33:05.962412Z"
    },
    "hidden": true
   },
   "outputs": [
    {
     "name": "stdout",
     "output_type": "stream",
     "text": [
      "count    1.700070e+05\n",
      "mean     1.766969e+07\n",
      "std      7.275922e+09\n",
      "min      0.000000e+00\n",
      "25%      2.785500e+01\n",
      "50%      1.169600e+02\n",
      "75%      3.500000e+02\n",
      "max      3.000000e+12\n",
      "Name: Claim_Value, dtype: float64\n",
      "Denied      92530\n",
      "Approved    45096\n",
      "Settled     32381\n",
      "Name: Status, dtype: int64\n",
      "170007\n"
     ]
    },
    {
     "data": {
      "text/plain": [
       "Denied      54939\n",
       "Approved    44095\n",
       "Settled     28960\n",
       "Name: Status, dtype: int64"
      ]
     },
     "execution_count": 23,
     "metadata": {},
     "output_type": "execute_result"
    },
    {
     "data": {
      "image/png": "[encoded data removed]",
      "text/plain": [
       "<matplotlib.figure.Figure at 0x7fa5b3d1c0f0>"
      ]
     },
     "metadata": {},
     "output_type": "display_data"
    }
   ],
   "source": [
    "df[\"Claim_Amount\"] = df.Claim_Amount.str.strip()\n",
    "df[\"Claim_Amount\"] = df.Claim_Amount.str.replace(\";\",\"\").str.replace(\"$\",\"\")\n",
    "df[\"Claim_Value\"] = df.Claim_Amount.astype(float)\n",
    "\n",
    "df_copy = df.copy()\n",
    "\n",
    "print(df.Claim_Value.describe())\n",
    "print(df.Status.value_counts())\n",
    "print(len(df))\n",
    "\n",
    "sns.distplot(df.Claim_Value[(df.Claim_Value>0)&(df.Claim_Value<500)])\n",
    "\n",
    "df.Status[(df.Claim_Value>0)&(df.Claim_Value<1000)].value_counts()"
   ]
  },
  {
   "cell_type": "code",
   "execution_count": 24,
   "metadata": {
    "ExecuteTime": {
     "end_time": "2018-02-20T22:33:06.976470Z",
     "start_time": "2018-02-20T22:33:06.488297Z"
    },
    "hidden": true
   },
   "outputs": [
    {
     "data": {
      "text/plain": [
       "<seaborn.axisgrid.FacetGrid at 0x7fa5f76079e8>"
      ]
     },
     "execution_count": 24,
     "metadata": {},
     "output_type": "execute_result"
    },
    {
     "data": {
      "image/png": "[encoded data removed]",
      "text/plain": [
       "<matplotlib.figure.Figure at 0x7fa5f5572b38>"
      ]
     },
     "metadata": {},
     "output_type": "display_data"
    }
   ],
   "source": [
    "bins = [round(10**x) for x in (list(np.arange(0,4.1,.4))+[10])]\n",
    "#bins = np.append(np.linspace(1,400,10),np.linspace(1000,10000,5))\n",
    "\n",
    "bottom = -1\n",
    "\n",
    "data = []\n",
    "\n",
    "for x,top in enumerate(bins):\n",
    "    counts = df.Status[(df.Claim_Value>bottom)&(df.Claim_Value<=top)].value_counts()\n",
    "    for i in range(len(counts)):\n",
    "        data.append({\"bin\":(str(x)+\":\"+str(top)),\"label\":counts.index[i],\"count\":counts[i]})\n",
    "    bottom = top\n",
    "\n",
    "counts_df = pd.DataFrame(data)\n",
    "\n",
    "sns.factorplot(x=\"bin\",y=\"count\",hue=\"label\",data=counts_df,kind=\"bar\",size=10)"
   ]
  },
  {
   "cell_type": "code",
   "execution_count": 25,
   "metadata": {
    "ExecuteTime": {
     "end_time": "2018-02-20T22:33:07.037920Z",
     "start_time": "2018-02-20T22:33:06.977977Z"
    },
    "hidden": true,
    "scrolled": true
   },
   "outputs": [
    {
     "name": "stdout",
     "output_type": "stream",
     "text": [
      "count    1.450120e+05\n",
      "mean     2.071533e+07\n",
      "std      7.878063e+09\n",
      "min      4.800000e-01\n",
      "25%      5.999750e+01\n",
      "50%      1.599900e+02\n",
      "75%      4.226500e+02\n",
      "max      3.000000e+12\n",
      "Name: Claim_Value, dtype: float64\n",
      "Denied      67706\n",
      "Approved    45021\n",
      "Settled     32285\n",
      "Name: Status, dtype: int64\n",
      "145012\n"
     ]
    }
   ],
   "source": [
    "df = df[df.Claim_Value != 0]\n",
    "\n",
    "print(df.Claim_Value.describe())\n",
    "print(df.Status.value_counts())\n",
    "print(len(df))"
   ]
  },
  {
   "cell_type": "code",
   "execution_count": 26,
   "metadata": {
    "ExecuteTime": {
     "end_time": "2018-02-20T22:33:07.064552Z",
     "start_time": "2018-02-20T22:33:07.039592Z"
    },
    "hidden": true
   },
   "outputs": [
    {
     "data": {
      "text/html": [
       "<div>\n",
       "<style scoped>\n",
       "    .dataframe tbody tr th:only-of-type {\n",
       "        vertical-align: middle;\n",
       "    }\n",
       "\n",
       "    .dataframe tbody tr th {\n",
       "        vertical-align: top;\n",
       "    }\n",
       "\n",
       "    .dataframe thead th {\n",
       "        text-align: right;\n",
       "    }\n",
       "</style>\n",
       "<table border=\"1\" class=\"dataframe\">\n",
       "  <thead>\n",
       "    <tr style=\"text-align: right;\">\n",
       "      <th></th>\n",
       "      <th>Claim_Number</th>\n",
       "      <th>Airport_Code</th>\n",
       "      <th>Airport_Name</th>\n",
       "      <th>Airline_Name</th>\n",
       "      <th>Claim_Type</th>\n",
       "      <th>Claim_Site</th>\n",
       "      <th>Item</th>\n",
       "      <th>Claim_Amount</th>\n",
       "      <th>Status</th>\n",
       "      <th>Close_Amount</th>\n",
       "      <th>Disposition</th>\n",
       "      <th>Date_Received_String</th>\n",
       "      <th>Incident_Date_String</th>\n",
       "      <th>Date_Received</th>\n",
       "      <th>Incident_Time</th>\n",
       "      <th>Incident_Date</th>\n",
       "      <th>Airport_Code_Group</th>\n",
       "      <th>Airport_Name_Group</th>\n",
       "      <th>Claim_Value</th>\n",
       "    </tr>\n",
       "  </thead>\n",
       "  <tbody>\n",
       "    <tr>\n",
       "      <th>13640</th>\n",
       "      <td>0818500M</td>\n",
       "      <td>JFK</td>\n",
       "      <td>John F. Kennedy International</td>\n",
       "      <td>AmericanAirlines</td>\n",
       "      <td>Personal Injury</td>\n",
       "      <td>Checked Baggage</td>\n",
       "      <td>Other</td>\n",
       "      <td>20000000.00</td>\n",
       "      <td>Denied</td>\n",
       "      <td>$0.00</td>\n",
       "      <td>Deny</td>\n",
       "      <td>18-Aug-03</td>\n",
       "      <td>7/14/2003 0:00</td>\n",
       "      <td>2003-08-18</td>\n",
       "      <td>0:00</td>\n",
       "      <td>2003-07-14</td>\n",
       "      <td>JFK</td>\n",
       "      <td>John F. Kennedy International</td>\n",
       "      <td>2.000000e+07</td>\n",
       "    </tr>\n",
       "    <tr>\n",
       "      <th>48857</th>\n",
       "      <td>2004122069372</td>\n",
       "      <td>OKC</td>\n",
       "      <td>Will Rogers World</td>\n",
       "      <td>AmericanAirlines</td>\n",
       "      <td>Personal Injury</td>\n",
       "      <td>Checkpoint</td>\n",
       "      <td>-</td>\n",
       "      <td>27225000.00</td>\n",
       "      <td>Denied</td>\n",
       "      <td>$0.00</td>\n",
       "      <td>Deny</td>\n",
       "      <td>2-Nov-04</td>\n",
       "      <td>9/23/2004 0:00</td>\n",
       "      <td>2004-11-02</td>\n",
       "      <td>0:00</td>\n",
       "      <td>2004-09-23</td>\n",
       "      <td>OKC</td>\n",
       "      <td>Will Rogers World</td>\n",
       "      <td>2.722500e+07</td>\n",
       "    </tr>\n",
       "    <tr>\n",
       "      <th>50567</th>\n",
       "      <td>2004121669173</td>\n",
       "      <td>-</td>\n",
       "      <td>-</td>\n",
       "      <td>-</td>\n",
       "      <td>Passenger Property Loss</td>\n",
       "      <td>Other</td>\n",
       "      <td>Other</td>\n",
       "      <td>2500000000.00</td>\n",
       "      <td>Denied</td>\n",
       "      <td>$0.00</td>\n",
       "      <td>Deny</td>\n",
       "      <td>23-Nov-04</td>\n",
       "      <td>5/23/2004 0:00</td>\n",
       "      <td>2004-11-23</td>\n",
       "      <td>0:00</td>\n",
       "      <td>2004-05-23</td>\n",
       "      <td>-</td>\n",
       "      <td>-</td>\n",
       "      <td>2.500000e+09</td>\n",
       "    </tr>\n",
       "    <tr>\n",
       "      <th>69190</th>\n",
       "      <td>2005080990257</td>\n",
       "      <td>PHX</td>\n",
       "      <td>Phoenix Sky Harbor International</td>\n",
       "      <td>SunCountryAirlinesInc</td>\n",
       "      <td>Personal Injury</td>\n",
       "      <td>Checkpoint</td>\n",
       "      <td>Medicines</td>\n",
       "      <td>125000000.00</td>\n",
       "      <td>Denied</td>\n",
       "      <td>$0.00</td>\n",
       "      <td>Deny</td>\n",
       "      <td>1-Aug-05</td>\n",
       "      <td>6/13/2005 0:00</td>\n",
       "      <td>2005-08-01</td>\n",
       "      <td>0:00</td>\n",
       "      <td>2005-06-13</td>\n",
       "      <td>PHX</td>\n",
       "      <td>Phoenix Sky Harbor International</td>\n",
       "      <td>1.250000e+08</td>\n",
       "    </tr>\n",
       "    <tr>\n",
       "      <th>86400</th>\n",
       "      <td>2006060907675</td>\n",
       "      <td>LAX</td>\n",
       "      <td>Los Angeles International Airport</td>\n",
       "      <td>AmericaWest</td>\n",
       "      <td>Personal Injury</td>\n",
       "      <td>Checked Baggage</td>\n",
       "      <td>Currency; Locks; Other</td>\n",
       "      <td>100000000.00</td>\n",
       "      <td>Denied</td>\n",
       "      <td>$0.00</td>\n",
       "      <td>Deny</td>\n",
       "      <td>6-Jun-06</td>\n",
       "      <td>4/19/2006 0:00</td>\n",
       "      <td>2006-06-06</td>\n",
       "      <td>0:00</td>\n",
       "      <td>2006-04-19</td>\n",
       "      <td>LAX</td>\n",
       "      <td>Los Angeles International Airport</td>\n",
       "      <td>1.000000e+08</td>\n",
       "    </tr>\n",
       "    <tr>\n",
       "      <th>118207</th>\n",
       "      <td>2008012238289</td>\n",
       "      <td>JFK</td>\n",
       "      <td>John F. Kennedy International</td>\n",
       "      <td>-</td>\n",
       "      <td>Personal Injury</td>\n",
       "      <td>Checkpoint</td>\n",
       "      <td>-</td>\n",
       "      <td>3000000000000.00</td>\n",
       "      <td>Denied</td>\n",
       "      <td>$0.00</td>\n",
       "      <td>Deny</td>\n",
       "      <td>12-Feb-08</td>\n",
       "      <td>12/28/2007 0:00</td>\n",
       "      <td>2008-02-12</td>\n",
       "      <td>0:00</td>\n",
       "      <td>2007-12-28</td>\n",
       "      <td>JFK</td>\n",
       "      <td>John F. Kennedy International</td>\n",
       "      <td>3.000000e+12</td>\n",
       "    </tr>\n",
       "    <tr>\n",
       "      <th>124832</th>\n",
       "      <td>2008063046385</td>\n",
       "      <td>OAK</td>\n",
       "      <td>Metropolitan Oakland International</td>\n",
       "      <td>AmericanAirlines</td>\n",
       "      <td>Personal Injury</td>\n",
       "      <td>Checkpoint</td>\n",
       "      <td>-</td>\n",
       "      <td>1000000000.00</td>\n",
       "      <td>Denied</td>\n",
       "      <td>$0.00</td>\n",
       "      <td>Deny</td>\n",
       "      <td>30-Jun-08</td>\n",
       "      <td>4/25/2007 0:00</td>\n",
       "      <td>2008-06-30</td>\n",
       "      <td>0:00</td>\n",
       "      <td>2007-04-25</td>\n",
       "      <td>OAK</td>\n",
       "      <td>Metropolitan Oakland International</td>\n",
       "      <td>1.000000e+09</td>\n",
       "    </tr>\n",
       "  </tbody>\n",
       "</table>\n",
       "</div>"
      ],
      "text/plain": [
       "         Claim_Number Airport_Code                        Airport_Name  \\\n",
       "13640        0818500M          JFK       John F. Kennedy International   \n",
       "48857   2004122069372          OKC                   Will Rogers World   \n",
       "50567   2004121669173            -                                   -   \n",
       "69190   2005080990257          PHX    Phoenix Sky Harbor International   \n",
       "86400   2006060907675          LAX   Los Angeles International Airport   \n",
       "118207  2008012238289          JFK       John F. Kennedy International   \n",
       "124832  2008063046385          OAK  Metropolitan Oakland International   \n",
       "\n",
       "                 Airline_Name               Claim_Type       Claim_Site  \\\n",
       "13640        AmericanAirlines          Personal Injury  Checked Baggage   \n",
       "48857        AmericanAirlines          Personal Injury       Checkpoint   \n",
       "50567                       -  Passenger Property Loss            Other   \n",
       "69190   SunCountryAirlinesInc          Personal Injury       Checkpoint   \n",
       "86400             AmericaWest          Personal Injury  Checked Baggage   \n",
       "118207                      -          Personal Injury       Checkpoint   \n",
       "124832       AmericanAirlines          Personal Injury       Checkpoint   \n",
       "\n",
       "                          Item      Claim_Amount  Status Close_Amount  \\\n",
       "13640                    Other       20000000.00  Denied       $0.00    \n",
       "48857                        -       27225000.00  Denied       $0.00    \n",
       "50567                    Other     2500000000.00  Denied       $0.00    \n",
       "69190                Medicines      125000000.00  Denied       $0.00    \n",
       "86400   Currency; Locks; Other      100000000.00  Denied       $0.00    \n",
       "118207                       -  3000000000000.00  Denied       $0.00    \n",
       "124832                       -     1000000000.00  Denied       $0.00    \n",
       "\n",
       "       Disposition Date_Received_String Incident_Date_String Date_Received  \\\n",
       "13640         Deny            18-Aug-03       7/14/2003 0:00    2003-08-18   \n",
       "48857         Deny             2-Nov-04       9/23/2004 0:00    2004-11-02   \n",
       "50567         Deny            23-Nov-04       5/23/2004 0:00    2004-11-23   \n",
       "69190         Deny             1-Aug-05       6/13/2005 0:00    2005-08-01   \n",
       "86400         Deny             6-Jun-06       4/19/2006 0:00    2006-06-06   \n",
       "118207        Deny            12-Feb-08      12/28/2007 0:00    2008-02-12   \n",
       "124832        Deny            30-Jun-08       4/25/2007 0:00    2008-06-30   \n",
       "\n",
       "       Incident_Time Incident_Date Airport_Code_Group  \\\n",
       "13640           0:00    2003-07-14                JFK   \n",
       "48857           0:00    2004-09-23                OKC   \n",
       "50567           0:00    2004-05-23                  -   \n",
       "69190           0:00    2005-06-13                PHX   \n",
       "86400           0:00    2006-04-19                LAX   \n",
       "118207          0:00    2007-12-28                JFK   \n",
       "124832          0:00    2007-04-25                OAK   \n",
       "\n",
       "                        Airport_Name_Group   Claim_Value  \n",
       "13640        John F. Kennedy International  2.000000e+07  \n",
       "48857                    Will Rogers World  2.722500e+07  \n",
       "50567                                    -  2.500000e+09  \n",
       "69190     Phoenix Sky Harbor International  1.250000e+08  \n",
       "86400    Los Angeles International Airport  1.000000e+08  \n",
       "118207       John F. Kennedy International  3.000000e+12  \n",
       "124832  Metropolitan Oakland International  1.000000e+09  "
      ]
     },
     "execution_count": 26,
     "metadata": {},
     "output_type": "execute_result"
    }
   ],
   "source": [
    "df[df.Claim_Value>10000000]"
   ]
  },
  {
   "cell_type": "markdown",
   "metadata": {
    "heading_collapsed": true
   },
   "source": [
    "### Close Amount"
   ]
  },
  {
   "cell_type": "code",
   "execution_count": 27,
   "metadata": {
    "ExecuteTime": {
     "end_time": "2018-02-20T22:33:07.287560Z",
     "start_time": "2018-02-20T22:33:07.065960Z"
    },
    "hidden": true
   },
   "outputs": [
    {
     "data": {
      "text/plain": [
       "count    128542.000000\n",
       "mean        101.534805\n",
       "std         922.714278\n",
       "min           0.000000\n",
       "25%           0.000000\n",
       "50%           0.000000\n",
       "75%          75.000000\n",
       "max      250000.000000\n",
       "Name: Close_Value, dtype: float64"
      ]
     },
     "execution_count": 27,
     "metadata": {},
     "output_type": "execute_result"
    }
   ],
   "source": [
    "df[\"Close_Amount\"] = df.Close_Amount.str.strip()\n",
    "df[\"Close_Amount\"] = df.Close_Amount.str.replace(\";\",\"\").str.replace(\"$\",\"\")\n",
    "df[\"Close_Value\"] = df.Close_Amount.astype(float)\n",
    "df.Close_Value.describe()"
   ]
  },
  {
   "cell_type": "code",
   "execution_count": 28,
   "metadata": {
    "ExecuteTime": {
     "end_time": "2018-02-20T22:33:09.911430Z",
     "start_time": "2018-02-20T22:33:07.289150Z"
    },
    "hidden": true
   },
   "outputs": [
    {
     "data": {
      "image/png": "[encoded data removed]",
      "text/plain": [
       "<matplotlib.figure.Figure at 0x7fa5f5b9aef0>"
      ]
     },
     "metadata": {},
     "output_type": "display_data"
    },
    {
     "data": {
      "image/png": "[encoded data removed]",
      "text/plain": [
       "<matplotlib.figure.Figure at 0x7fa5f6495860>"
      ]
     },
     "metadata": {},
     "output_type": "display_data"
    }
   ],
   "source": [
    "plot_df = df[(df.Claim_Value < 200000) & (df.Close_Value <= 500000)]\n",
    "\n",
    "plt.scatter(plot_df.Claim_Value,plot_df.Close_Value,alpha=.2)\n",
    "plt.title(\"Combined\")\n",
    "plt.xlabel(\"Claim value\")\n",
    "plt.ylabel(\"Close value\")\n",
    "plt.show()\n",
    "\n",
    "fig,ax = plt.subplots(1,3)\n",
    "fig.set_size_inches(16,4)\n",
    "\n",
    "for i,s in enumerate(plot_df.Status.unique()):\n",
    "    ax[i].scatter(plot_df[plot_df.Status==s].Claim_Value,plot_df[plot_df.Status==s].Close_Value,alpha=.2)\n",
    "    ax[i].set_title(s)\n"
   ]
  },
  {
   "cell_type": "markdown",
   "metadata": {},
   "source": [
    "## Export Clean CSV"
   ]
  },
  {
   "cell_type": "markdown",
   "metadata": {},
   "source": [
    "### Write CSV"
   ]
  },
  {
   "cell_type": "code",
   "execution_count": 29,
   "metadata": {
    "ExecuteTime": {
     "end_time": "2018-02-20T22:33:13.122116Z",
     "start_time": "2018-02-20T22:33:09.912997Z"
    }
   },
   "outputs": [
    {
     "name": "stdout",
     "output_type": "stream",
     "text": [
      "145012\n"
     ]
    },
    {
     "data": {
      "text/html": [
       "<div>\n",
       "<style scoped>\n",
       "    .dataframe tbody tr th:only-of-type {\n",
       "        vertical-align: middle;\n",
       "    }\n",
       "\n",
       "    .dataframe tbody tr th {\n",
       "        vertical-align: top;\n",
       "    }\n",
       "\n",
       "    .dataframe thead th {\n",
       "        text-align: right;\n",
       "    }\n",
       "</style>\n",
       "<table border=\"1\" class=\"dataframe\">\n",
       "  <thead>\n",
       "    <tr style=\"text-align: right;\">\n",
       "      <th></th>\n",
       "      <th>Claim_Number</th>\n",
       "      <th>Airline_Name</th>\n",
       "      <th>Claim_Type</th>\n",
       "      <th>Claim_Site</th>\n",
       "      <th>Item</th>\n",
       "      <th>Status</th>\n",
       "      <th>Date_Received</th>\n",
       "      <th>Incident_Date</th>\n",
       "      <th>Airport_Code_Group</th>\n",
       "      <th>Airport_Name_Group</th>\n",
       "      <th>Claim_Value</th>\n",
       "      <th>Close_Value</th>\n",
       "    </tr>\n",
       "  </thead>\n",
       "  <tbody>\n",
       "    <tr>\n",
       "      <th>0</th>\n",
       "      <td>0909802M</td>\n",
       "      <td>ContinentalAirlines</td>\n",
       "      <td>Property Damage</td>\n",
       "      <td>Checkpoint</td>\n",
       "      <td>Other</td>\n",
       "      <td>Approved</td>\n",
       "      <td>2002-01-04</td>\n",
       "      <td>2002-12-12</td>\n",
       "      <td>EWR</td>\n",
       "      <td>Newark International Airport</td>\n",
       "      <td>350.00</td>\n",
       "      <td>350.00</td>\n",
       "    </tr>\n",
       "    <tr>\n",
       "      <th>1</th>\n",
       "      <td>0202417M</td>\n",
       "      <td>-</td>\n",
       "      <td>Property Damage</td>\n",
       "      <td>Checked Baggage</td>\n",
       "      <td>Luggage (all types including footlockers)</td>\n",
       "      <td>Settled</td>\n",
       "      <td>2002-02-02</td>\n",
       "      <td>2004-01-16</td>\n",
       "      <td>SEA</td>\n",
       "      <td>Seattle-Tacoma International</td>\n",
       "      <td>100.00</td>\n",
       "      <td>50.00</td>\n",
       "    </tr>\n",
       "    <tr>\n",
       "      <th>2</th>\n",
       "      <td>0202445M</td>\n",
       "      <td>AmericanAirlines</td>\n",
       "      <td>Property Damage</td>\n",
       "      <td>Checked Baggage</td>\n",
       "      <td>Cell Phones</td>\n",
       "      <td>Settled</td>\n",
       "      <td>2002-02-04</td>\n",
       "      <td>2003-11-26</td>\n",
       "      <td>STL</td>\n",
       "      <td>Lambert St. Louis International</td>\n",
       "      <td>278.88</td>\n",
       "      <td>227.92</td>\n",
       "    </tr>\n",
       "    <tr>\n",
       "      <th>3</th>\n",
       "      <td>0909816M</td>\n",
       "      <td>AmericanAirlines</td>\n",
       "      <td>Property Damage</td>\n",
       "      <td>Checkpoint</td>\n",
       "      <td>Luggage (all types including footlockers)</td>\n",
       "      <td>Approved</td>\n",
       "      <td>2002-02-07</td>\n",
       "      <td>2003-01-06</td>\n",
       "      <td>MIA</td>\n",
       "      <td>Miami International Airport</td>\n",
       "      <td>50.00</td>\n",
       "      <td>50.00</td>\n",
       "    </tr>\n",
       "    <tr>\n",
       "      <th>4</th>\n",
       "      <td>2005032379513</td>\n",
       "      <td>DeltaAirLines</td>\n",
       "      <td>Property Damage</td>\n",
       "      <td>Checkpoint</td>\n",
       "      <td>Baby - Strollers; car seats; playpen; etc.</td>\n",
       "      <td>Approved</td>\n",
       "      <td>2002-02-18</td>\n",
       "      <td>2005-02-05</td>\n",
       "      <td>MCO</td>\n",
       "      <td>Orlando International Airport</td>\n",
       "      <td>84.79</td>\n",
       "      <td>84.79</td>\n",
       "    </tr>\n",
       "  </tbody>\n",
       "</table>\n",
       "</div>"
      ],
      "text/plain": [
       "    Claim_Number         Airline_Name       Claim_Type       Claim_Site  \\\n",
       "0       0909802M  ContinentalAirlines  Property Damage       Checkpoint   \n",
       "1       0202417M                    -  Property Damage  Checked Baggage   \n",
       "2       0202445M     AmericanAirlines  Property Damage  Checked Baggage   \n",
       "3       0909816M     AmericanAirlines  Property Damage       Checkpoint   \n",
       "4  2005032379513        DeltaAirLines  Property Damage       Checkpoint   \n",
       "\n",
       "                                         Item    Status Date_Received  \\\n",
       "0                                       Other  Approved    2002-01-04   \n",
       "1   Luggage (all types including footlockers)   Settled    2002-02-02   \n",
       "2                                 Cell Phones   Settled    2002-02-04   \n",
       "3   Luggage (all types including footlockers)  Approved    2002-02-07   \n",
       "4  Baby - Strollers; car seats; playpen; etc.  Approved    2002-02-18   \n",
       "\n",
       "  Incident_Date Airport_Code_Group               Airport_Name_Group  \\\n",
       "0    2002-12-12                EWR     Newark International Airport   \n",
       "1    2004-01-16                SEA     Seattle-Tacoma International   \n",
       "2    2003-11-26                STL  Lambert St. Louis International   \n",
       "3    2003-01-06                MIA      Miami International Airport   \n",
       "4    2005-02-05                MCO    Orlando International Airport   \n",
       "\n",
       "   Claim_Value  Close_Value  \n",
       "0       350.00       350.00  \n",
       "1       100.00        50.00  \n",
       "2       278.88       227.92  \n",
       "3        50.00        50.00  \n",
       "4        84.79        84.79  "
      ]
     },
     "execution_count": 29,
     "metadata": {},
     "output_type": "execute_result"
    }
   ],
   "source": [
    "output_df = df.drop([\"Close_Amount\", \"Claim_Amount\", \"Disposition\",\n",
    "                     \"Date_Received_String\",\"Incident_Date_String\",\"Incident_Time\",\n",
    "                     \"Airport_Code\",\"Airport_Name\"],axis=1)\n",
    "\n",
    "output_df.to_csv(\"tsa_claims_clean.csv\",index=False)\n",
    "\n",
    "print(len(output_df))\n",
    "\n",
    "output_df.head(5)"
   ]
  },
  {
   "cell_type": "markdown",
   "metadata": {
    "ExecuteTime": {
     "end_time": "2018-02-20T22:28:35.790543Z",
     "start_time": "2018-02-20T22:28:35.786721Z"
    }
   },
   "source": [
    "### Count Remaining Nulls"
   ]
  },
  {
   "cell_type": "code",
   "execution_count": 30,
   "metadata": {
    "ExecuteTime": {
     "end_time": "2018-02-20T22:33:13.289578Z",
     "start_time": "2018-02-20T22:33:13.123787Z"
    },
    "scrolled": false
   },
   "outputs": [
    {
     "name": "stdout",
     "output_type": "stream",
     "text": [
      " 0:  128533  145012\n",
      " 1:       9   16479\n",
      " 2:    1337   16470\n",
      " 3:   15133   15133\n"
     ]
    }
   ],
   "source": [
    "# Check distribution of nulls per row\n",
    "temp = df.isnull().sum(axis=1).value_counts().sort_index()\n",
    "for i in range(len(temp)):\n",
    "    print (\"{:2d}: {:7d} {:7d}\".format(temp.index[i], temp[i], temp[i:].sum()))"
   ]
  },
  {
   "cell_type": "code",
   "execution_count": 31,
   "metadata": {
    "ExecuteTime": {
     "end_time": "2018-02-20T22:33:13.503630Z",
     "start_time": "2018-02-20T22:33:13.291110Z"
    },
    "scrolled": true
   },
   "outputs": [
    {
     "data": {
      "text/plain": [
       "Close_Value             16470\n",
       "Close_Amount            16470\n",
       "Disposition             15142\n",
       "Airport_Name_Group          0\n",
       "Claim_Amount                0\n",
       "Airport_Code                0\n",
       "Airport_Name                0\n",
       "Airline_Name                0\n",
       "Claim_Type                  0\n",
       "Claim_Site                  0\n",
       "Item                        0\n",
       "Status                      0\n",
       "Airport_Code_Group          0\n",
       "Claim_Value                 0\n",
       "Date_Received_String        0\n",
       "Incident_Date_String        0\n",
       "Date_Received               0\n",
       "Incident_Time               0\n",
       "Incident_Date               0\n",
       "Claim_Number                0\n",
       "dtype: int64"
      ]
     },
     "execution_count": 31,
     "metadata": {},
     "output_type": "execute_result"
    }
   ],
   "source": [
    "# Check distribution of nulls per column\n",
    "df.isnull().sum().sort_values(ascending=False)"
   ]
  },
  {
   "cell_type": "code",
   "execution_count": null,
   "metadata": {},
   "outputs": [],
   "source": []
  }
 ],
 "metadata": {
  "kernelspec": {
   "display_name": "Python 3",
   "language": "python",
   "name": "python3"
  },
  "language_info": {
   "codemirror_mode": {
    "name": "ipython",
    "version": 3
   },
   "file_extension": ".py",
   "mimetype": "text/x-python",
   "name": "python",
   "nbconvert_exporter": "python",
   "pygments_lexer": "ipython3",
   "version": "3.6.4"
  },
  "toc": {
   "nav_menu": {},
   "number_sections": false,
   "sideBar": true,
   "skip_h1_title": true,
   "title_cell": "Table of Contents",
   "title_sidebar": "Contents",
   "toc_cell": false,
   "toc_position": {
    "height": "calc(100% - 180px)",
    "left": "10px",
    "top": "150px",
    "width": "221px"
   },
   "toc_section_display": true,
   "toc_window_display": true
  },
  "varInspector": {
   "cols": {
    "lenName": 16,
    "lenType": 16,
    "lenVar": 40
   },
   "kernels_config": {
    "python": {
     "delete_cmd_postfix": "",
     "delete_cmd_prefix": "del ",
     "library": "var_list.py",
     "varRefreshCmd": "print(var_dic_list())"
    },
    "r": {
     "delete_cmd_postfix": ") ",
     "delete_cmd_prefix": "rm(",
     "library": "var_list.r",
     "varRefreshCmd": "cat(var_dic_list()) "
    }
   },
   "types_to_exclude": [
    "module",
    "function",
    "builtin_function_or_method",
    "instance",
    "_Feature"
   ],
   "window_display": false
  }
 },
 "nbformat": 4,
 "nbformat_minor": 2
}
